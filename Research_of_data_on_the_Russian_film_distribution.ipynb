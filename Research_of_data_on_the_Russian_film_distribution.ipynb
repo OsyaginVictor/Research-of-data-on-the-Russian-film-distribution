{
  "cells": [
    {
      "cell_type": "markdown",
      "metadata": {
        "id": "view-in-github",
        "colab_type": "text"
      },
      "source": [
        "<a href=\"https://colab.research.google.com/github/OsyaginVictor/Research-of-data-on-the-Russian-film-distribution/blob/main/Research_of_data_on_the_Russian_film_distribution.ipynb\" target=\"_parent\"><img src=\"https://colab.research.google.com/assets/colab-badge.svg\" alt=\"Open In Colab\"/></a>"
      ]
    },
    {
      "cell_type": "markdown",
      "metadata": {
        "id": "sIfNaMOxgFyK"
      },
      "source": [
        "## Исследование данных о российском кинопрокате\n",
        "\n"
      ]
    },
    {
      "cell_type": "markdown",
      "metadata": {
        "id": "3bSlkCsbgFyL"
      },
      "source": [
        "### Шаг 1. Откройте файлы с данными и объедините их в один датафрейм.\n",
        "\n",
        "Объедините данные таким образом, чтобы все объекты из датасета `mkrf_movies` обязательно вошли в получившийся датафрейм.\n",
        "\n",
        "<div id=\"accordion\">\n",
        "    <div class=\"card\">\n",
        "        <div class=\"card-header\" id=\"headingThree\">\n",
        "            <button class=\"btn btn-link collapsed\" data-toggle=\"collapse\" data-target=\"#collapseHint_0\" aria-expanded=\"false\" aria-controls=\"collapseHint_0\">Подсказка</button>\n",
        "        </div>\n",
        "        <div id=\"collapseHint_0\" class=\"collapse\" aria-labelledby=\"headingThree\" data-parent=\"#accordion\">\n",
        "            <div class=\"card-body\">\n",
        "Обратите внимание на тип данных столбца, по которому будете соединять датафреймы. Тип данных этих столбцов должен быть одинаковым в обоих датафреймах.\n",
        "            </div>\n",
        "        </div>\n",
        "    </div>\n",
        "</div>"
      ]
    },
    {
      "cell_type": "code",
      "execution_count": null,
      "metadata": {
        "id": "dw87FlzMgFyM"
      },
      "outputs": [],
      "source": [
        "import pandas as pd\n",
        "pd.set_option('display.float_format', '{:,.2f}'.format)"
      ]
    },
    {
      "cell_type": "code",
      "execution_count": null,
      "metadata": {
        "id": "xPqiMrz70y0C"
      },
      "outputs": [],
      "source": [
        "data = pd.read_csv('/datasets/mkrf_movies.csv') #данные о прокатных удостоверениях.\n",
        "data1 = pd.read_csv('/datasets/mkrf_shows.csv') #данные о прокате в российских кинотеатрах."
      ]
    },
    {
      "cell_type": "code",
      "execution_count": null,
      "metadata": {
        "id": "Z-gGwYh10y0C",
        "outputId": "e4ef42fc-f7e6-4927-f4b0-44a1e3a4bcad"
      },
      "outputs": [
        {
          "data": {
            "text/html": [
              "<div>\n",
              "<style scoped>\n",
              "    .dataframe tbody tr th:only-of-type {\n",
              "        vertical-align: middle;\n",
              "    }\n",
              "\n",
              "    .dataframe tbody tr th {\n",
              "        vertical-align: top;\n",
              "    }\n",
              "\n",
              "    .dataframe thead th {\n",
              "        text-align: right;\n",
              "    }\n",
              "</style>\n",
              "<table border=\"1\" class=\"dataframe\">\n",
              "  <thead>\n",
              "    <tr style=\"text-align: right;\">\n",
              "      <th></th>\n",
              "      <th>title</th>\n",
              "      <th>puNumber</th>\n",
              "      <th>show_start_date</th>\n",
              "      <th>type</th>\n",
              "      <th>film_studio</th>\n",
              "      <th>production_country</th>\n",
              "      <th>director</th>\n",
              "      <th>producer</th>\n",
              "      <th>age_restriction</th>\n",
              "      <th>refundable_support</th>\n",
              "      <th>nonrefundable_support</th>\n",
              "      <th>budget</th>\n",
              "      <th>financing_source</th>\n",
              "      <th>ratings</th>\n",
              "      <th>genres</th>\n",
              "    </tr>\n",
              "  </thead>\n",
              "  <tbody>\n",
              "    <tr>\n",
              "      <th>0</th>\n",
              "      <td>Открытый простор</td>\n",
              "      <td>221048915</td>\n",
              "      <td>2015-11-27T12:00:00.000Z</td>\n",
              "      <td>Художественный</td>\n",
              "      <td>Тачстоун Пикчерз, Кобальт Пикчерз, Бикон Пикче...</td>\n",
              "      <td>США</td>\n",
              "      <td>Кевин Костнер</td>\n",
              "      <td>Дэвид Валдес, Кевин Костнер, Джейк Эбертс</td>\n",
              "      <td>«18+» - запрещено для детей</td>\n",
              "      <td>NaN</td>\n",
              "      <td>NaN</td>\n",
              "      <td>NaN</td>\n",
              "      <td>NaN</td>\n",
              "      <td>7.2</td>\n",
              "      <td>боевик,драма,мелодрама</td>\n",
              "    </tr>\n",
              "    <tr>\n",
              "      <th>1</th>\n",
              "      <td>Особо важное задание</td>\n",
              "      <td>111013716</td>\n",
              "      <td>2016-09-13T12:00:00.000Z</td>\n",
              "      <td>Художественный</td>\n",
              "      <td>Киностудия \"Мосфильм\"</td>\n",
              "      <td>СССР</td>\n",
              "      <td>Е.Матвеев</td>\n",
              "      <td>NaN</td>\n",
              "      <td>«6+» - для детей старше 6 лет</td>\n",
              "      <td>NaN</td>\n",
              "      <td>NaN</td>\n",
              "      <td>NaN</td>\n",
              "      <td>NaN</td>\n",
              "      <td>6.6</td>\n",
              "      <td>драма,военный</td>\n",
              "    </tr>\n",
              "    <tr>\n",
              "      <th>2</th>\n",
              "      <td>Особо опасен</td>\n",
              "      <td>221038416</td>\n",
              "      <td>2016-10-10T12:00:00.000Z</td>\n",
              "      <td>Художественный</td>\n",
              "      <td>Юниверсал Пикчерз, Кикстарт Продакшнз, Марк Пл...</td>\n",
              "      <td>США</td>\n",
              "      <td>Тимур Бекмамбетов</td>\n",
              "      <td>Джим Лемли, Джейсон Нетер, Марк Е.Платт, Яйн Смит</td>\n",
              "      <td>«18+» - запрещено для детей</td>\n",
              "      <td>NaN</td>\n",
              "      <td>NaN</td>\n",
              "      <td>NaN</td>\n",
              "      <td>NaN</td>\n",
              "      <td>6.8</td>\n",
              "      <td>фантастика,боевик,триллер</td>\n",
              "    </tr>\n",
              "    <tr>\n",
              "      <th>3</th>\n",
              "      <td>Особо опасен</td>\n",
              "      <td>221026916</td>\n",
              "      <td>2016-06-10T12:00:00.000Z</td>\n",
              "      <td>Художественный</td>\n",
              "      <td>Юниверсал Пикчерз, Кикстарт Продакшнз, Марк Пл...</td>\n",
              "      <td>США</td>\n",
              "      <td>Тимур Бекмамбетов</td>\n",
              "      <td>Джим Лемли, Джейсон Нетер, Марк Е.Платт, Яйн Смит</td>\n",
              "      <td>«18+» - запрещено для детей</td>\n",
              "      <td>NaN</td>\n",
              "      <td>NaN</td>\n",
              "      <td>NaN</td>\n",
              "      <td>NaN</td>\n",
              "      <td>6.8</td>\n",
              "      <td>фантастика,боевик,триллер</td>\n",
              "    </tr>\n",
              "    <tr>\n",
              "      <th>4</th>\n",
              "      <td>Особо опасен</td>\n",
              "      <td>221030815</td>\n",
              "      <td>2015-07-29T12:00:00.000Z</td>\n",
              "      <td>Художественный</td>\n",
              "      <td>Юниверсал Пикчерз, Кикстарт Продакшнз, Марк Пл...</td>\n",
              "      <td>США</td>\n",
              "      <td>Тимур Бекмамбетов</td>\n",
              "      <td>Джим Лемли, Джейсон Нетер, Марк Е.Платт, Яйн Смит</td>\n",
              "      <td>«18+» - запрещено для детей</td>\n",
              "      <td>NaN</td>\n",
              "      <td>NaN</td>\n",
              "      <td>NaN</td>\n",
              "      <td>NaN</td>\n",
              "      <td>6.8</td>\n",
              "      <td>фантастика,боевик,триллер</td>\n",
              "    </tr>\n",
              "  </tbody>\n",
              "</table>\n",
              "</div>"
            ],
            "text/plain": [
              "                  title   puNumber           show_start_date            type  \\\n",
              "0      Открытый простор  221048915  2015-11-27T12:00:00.000Z  Художественный   \n",
              "1  Особо важное задание  111013716  2016-09-13T12:00:00.000Z  Художественный   \n",
              "2          Особо опасен  221038416  2016-10-10T12:00:00.000Z  Художественный   \n",
              "3          Особо опасен  221026916  2016-06-10T12:00:00.000Z  Художественный   \n",
              "4          Особо опасен  221030815  2015-07-29T12:00:00.000Z  Художественный   \n",
              "\n",
              "                                         film_studio production_country  \\\n",
              "0  Тачстоун Пикчерз, Кобальт Пикчерз, Бикон Пикче...                США   \n",
              "1                              Киностудия \"Мосфильм\"               СССР   \n",
              "2  Юниверсал Пикчерз, Кикстарт Продакшнз, Марк Пл...                США   \n",
              "3  Юниверсал Пикчерз, Кикстарт Продакшнз, Марк Пл...                США   \n",
              "4  Юниверсал Пикчерз, Кикстарт Продакшнз, Марк Пл...                США   \n",
              "\n",
              "            director                                           producer  \\\n",
              "0      Кевин Костнер          Дэвид Валдес, Кевин Костнер, Джейк Эбертс   \n",
              "1          Е.Матвеев                                                NaN   \n",
              "2  Тимур Бекмамбетов  Джим Лемли, Джейсон Нетер, Марк Е.Платт, Яйн Смит   \n",
              "3  Тимур Бекмамбетов  Джим Лемли, Джейсон Нетер, Марк Е.Платт, Яйн Смит   \n",
              "4  Тимур Бекмамбетов  Джим Лемли, Джейсон Нетер, Марк Е.Платт, Яйн Смит   \n",
              "\n",
              "                 age_restriction  refundable_support  nonrefundable_support  \\\n",
              "0    «18+» - запрещено для детей                 NaN                    NaN   \n",
              "1  «6+» - для детей старше 6 лет                 NaN                    NaN   \n",
              "2    «18+» - запрещено для детей                 NaN                    NaN   \n",
              "3    «18+» - запрещено для детей                 NaN                    NaN   \n",
              "4    «18+» - запрещено для детей                 NaN                    NaN   \n",
              "\n",
              "   budget financing_source ratings                     genres  \n",
              "0     NaN              NaN     7.2     боевик,драма,мелодрама  \n",
              "1     NaN              NaN     6.6              драма,военный  \n",
              "2     NaN              NaN     6.8  фантастика,боевик,триллер  \n",
              "3     NaN              NaN     6.8  фантастика,боевик,триллер  \n",
              "4     NaN              NaN     6.8  фантастика,боевик,триллер  "
            ]
          },
          "execution_count": 3,
          "metadata": {},
          "output_type": "execute_result"
        }
      ],
      "source": [
        "data.head()"
      ]
    },
    {
      "cell_type": "code",
      "execution_count": null,
      "metadata": {
        "id": "0R6IKL7d0y0C",
        "outputId": "eff1744b-288e-4f48-a858-41f63c9aeae7"
      },
      "outputs": [
        {
          "data": {
            "text/html": [
              "<div>\n",
              "<style scoped>\n",
              "    .dataframe tbody tr th:only-of-type {\n",
              "        vertical-align: middle;\n",
              "    }\n",
              "\n",
              "    .dataframe tbody tr th {\n",
              "        vertical-align: top;\n",
              "    }\n",
              "\n",
              "    .dataframe thead th {\n",
              "        text-align: right;\n",
              "    }\n",
              "</style>\n",
              "<table border=\"1\" class=\"dataframe\">\n",
              "  <thead>\n",
              "    <tr style=\"text-align: right;\">\n",
              "      <th></th>\n",
              "      <th>puNumber</th>\n",
              "      <th>box_office</th>\n",
              "    </tr>\n",
              "  </thead>\n",
              "  <tbody>\n",
              "    <tr>\n",
              "      <th>0</th>\n",
              "      <td>111000113</td>\n",
              "      <td>2,450.00</td>\n",
              "    </tr>\n",
              "    <tr>\n",
              "      <th>1</th>\n",
              "      <td>111000115</td>\n",
              "      <td>61,040.00</td>\n",
              "    </tr>\n",
              "    <tr>\n",
              "      <th>2</th>\n",
              "      <td>111000116</td>\n",
              "      <td>153,030,013.40</td>\n",
              "    </tr>\n",
              "    <tr>\n",
              "      <th>3</th>\n",
              "      <td>111000117</td>\n",
              "      <td>12,260,956.00</td>\n",
              "    </tr>\n",
              "    <tr>\n",
              "      <th>4</th>\n",
              "      <td>111000118</td>\n",
              "      <td>163,684,057.79</td>\n",
              "    </tr>\n",
              "  </tbody>\n",
              "</table>\n",
              "</div>"
            ],
            "text/plain": [
              "    puNumber     box_office\n",
              "0  111000113       2,450.00\n",
              "1  111000115      61,040.00\n",
              "2  111000116 153,030,013.40\n",
              "3  111000117  12,260,956.00\n",
              "4  111000118 163,684,057.79"
            ]
          },
          "execution_count": 4,
          "metadata": {},
          "output_type": "execute_result"
        }
      ],
      "source": [
        "data1.head()"
      ]
    },
    {
      "cell_type": "markdown",
      "metadata": {
        "id": "fXzzNXKt0y0D"
      },
      "source": [
        "Посмотрим основную информацию об обоих датафреймах."
      ]
    },
    {
      "cell_type": "code",
      "execution_count": null,
      "metadata": {
        "scrolled": true,
        "id": "tV0Gwz7D0y0D",
        "outputId": "9a969b06-17d2-469c-96c6-7054338cb205"
      },
      "outputs": [
        {
          "name": "stdout",
          "output_type": "stream",
          "text": [
            "<class 'pandas.core.frame.DataFrame'>\n",
            "RangeIndex: 7486 entries, 0 to 7485\n",
            "Data columns (total 15 columns):\n",
            " #   Column                 Non-Null Count  Dtype  \n",
            "---  ------                 --------------  -----  \n",
            " 0   title                  7486 non-null   object \n",
            " 1   puNumber               7486 non-null   object \n",
            " 2   show_start_date        7486 non-null   object \n",
            " 3   type                   7486 non-null   object \n",
            " 4   film_studio            7468 non-null   object \n",
            " 5   production_country     7484 non-null   object \n",
            " 6   director               7477 non-null   object \n",
            " 7   producer               6918 non-null   object \n",
            " 8   age_restriction        7486 non-null   object \n",
            " 9   refundable_support     332 non-null    float64\n",
            " 10  nonrefundable_support  332 non-null    float64\n",
            " 11  budget                 332 non-null    float64\n",
            " 12  financing_source       332 non-null    object \n",
            " 13  ratings                6519 non-null   object \n",
            " 14  genres                 6510 non-null   object \n",
            "dtypes: float64(3), object(12)\n",
            "memory usage: 877.4+ KB\n"
          ]
        }
      ],
      "source": [
        "data.info()"
      ]
    },
    {
      "cell_type": "code",
      "execution_count": null,
      "metadata": {
        "id": "E8dXL8GE0y0D",
        "outputId": "1f14f296-9cdb-4d00-b715-3ab980bb5c4f"
      },
      "outputs": [
        {
          "name": "stdout",
          "output_type": "stream",
          "text": [
            "<class 'pandas.core.frame.DataFrame'>\n",
            "RangeIndex: 3158 entries, 0 to 3157\n",
            "Data columns (total 2 columns):\n",
            " #   Column      Non-Null Count  Dtype  \n",
            "---  ------      --------------  -----  \n",
            " 0   puNumber    3158 non-null   int64  \n",
            " 1   box_office  3158 non-null   float64\n",
            "dtypes: float64(1), int64(1)\n",
            "memory usage: 49.5 KB\n"
          ]
        }
      ],
      "source": [
        "data1.info()"
      ]
    },
    {
      "cell_type": "markdown",
      "metadata": {
        "id": "PWMiksh90y0D"
      },
      "source": [
        "Посмотрим явные дубликаты в обоих датафреймах"
      ]
    },
    {
      "cell_type": "code",
      "execution_count": null,
      "metadata": {
        "id": "jPJCjIYv0y0D",
        "outputId": "711b1020-afd1-48af-901b-103cc1d464bf"
      },
      "outputs": [
        {
          "data": {
            "text/plain": [
              "0"
            ]
          },
          "execution_count": 7,
          "metadata": {},
          "output_type": "execute_result"
        }
      ],
      "source": [
        "data.duplicated().sum()"
      ]
    },
    {
      "cell_type": "code",
      "execution_count": null,
      "metadata": {
        "id": "3G6kkqSj0y0D",
        "outputId": "0442fc63-a67e-4cd1-e319-154d3090ce91"
      },
      "outputs": [
        {
          "data": {
            "text/plain": [
              "0"
            ]
          },
          "execution_count": 8,
          "metadata": {},
          "output_type": "execute_result"
        }
      ],
      "source": [
        "data1.duplicated().sum()"
      ]
    },
    {
      "cell_type": "markdown",
      "metadata": {
        "id": "-LMgvbVM0y0D"
      },
      "source": [
        "Теперь изучим типы данных в датафреймах"
      ]
    },
    {
      "cell_type": "code",
      "execution_count": null,
      "metadata": {
        "id": "WYWJ67lX0y0D",
        "outputId": "d7ce0ab5-c954-4ebe-bb5c-707aed2e3e7b"
      },
      "outputs": [
        {
          "data": {
            "text/plain": [
              "title                     object\n",
              "puNumber                  object\n",
              "show_start_date           object\n",
              "type                      object\n",
              "film_studio               object\n",
              "production_country        object\n",
              "director                  object\n",
              "producer                  object\n",
              "age_restriction           object\n",
              "refundable_support       float64\n",
              "nonrefundable_support    float64\n",
              "budget                   float64\n",
              "financing_source          object\n",
              "ratings                   object\n",
              "genres                    object\n",
              "dtype: object"
            ]
          },
          "execution_count": 9,
          "metadata": {},
          "output_type": "execute_result"
        }
      ],
      "source": [
        "data.dtypes"
      ]
    },
    {
      "cell_type": "code",
      "execution_count": null,
      "metadata": {
        "id": "FqpiPuaa0y0D",
        "outputId": "a15df52d-70b0-40be-a703-8cf9594f0110"
      },
      "outputs": [
        {
          "data": {
            "text/plain": [
              "puNumber        int64\n",
              "box_office    float64\n",
              "dtype: object"
            ]
          },
          "execution_count": 10,
          "metadata": {},
          "output_type": "execute_result"
        }
      ],
      "source": [
        "data1.dtypes"
      ]
    },
    {
      "cell_type": "markdown",
      "metadata": {
        "id": "x3jwn1Ql0y0E"
      },
      "source": [
        "Чтобы сджоинить 2 таблицы,нужно чтобы в столбцах присвоения был один тип данных,чтобы узнать в каких строчках не целочисленные значения написал функцию"
      ]
    },
    {
      "cell_type": "code",
      "execution_count": null,
      "metadata": {
        "id": "Spv8WoL60y0E",
        "outputId": "4492271c-f099-4d7c-f3aa-53cc5fed1e30"
      },
      "outputs": [
        {
          "data": {
            "text/html": [
              "<div>\n",
              "<style scoped>\n",
              "    .dataframe tbody tr th:only-of-type {\n",
              "        vertical-align: middle;\n",
              "    }\n",
              "\n",
              "    .dataframe tbody tr th {\n",
              "        vertical-align: top;\n",
              "    }\n",
              "\n",
              "    .dataframe thead th {\n",
              "        text-align: right;\n",
              "    }\n",
              "</style>\n",
              "<table border=\"1\" class=\"dataframe\">\n",
              "  <thead>\n",
              "    <tr style=\"text-align: right;\">\n",
              "      <th></th>\n",
              "      <th>title</th>\n",
              "      <th>puNumber</th>\n",
              "      <th>show_start_date</th>\n",
              "      <th>type</th>\n",
              "      <th>film_studio</th>\n",
              "      <th>production_country</th>\n",
              "      <th>director</th>\n",
              "      <th>producer</th>\n",
              "      <th>age_restriction</th>\n",
              "      <th>refundable_support</th>\n",
              "      <th>nonrefundable_support</th>\n",
              "      <th>budget</th>\n",
              "      <th>financing_source</th>\n",
              "      <th>ratings</th>\n",
              "      <th>genres</th>\n",
              "    </tr>\n",
              "  </thead>\n",
              "  <tbody>\n",
              "    <tr>\n",
              "      <th>804</th>\n",
              "      <td>Паранормальный Якутск</td>\n",
              "      <td>111004112</td>\n",
              "      <td>2012-08-24T12:00:00.000Z</td>\n",
              "      <td>Художественный</td>\n",
              "      <td>ИП Тимофеев К.П.</td>\n",
              "      <td>Россия</td>\n",
              "      <td>К.Тимофеев</td>\n",
              "      <td>NaN</td>\n",
              "      <td>«16+» - для детей старше 16 лет</td>\n",
              "      <td>NaN</td>\n",
              "      <td>NaN</td>\n",
              "      <td>NaN</td>\n",
              "      <td>NaN</td>\n",
              "      <td>NaN</td>\n",
              "      <td>NaN</td>\n",
              "    </tr>\n",
              "    <tr>\n",
              "      <th>1797</th>\n",
              "      <td>Курбан-роман. (История с жертвой)</td>\n",
              "      <td>нет</td>\n",
              "      <td>2014-05-15T12:00:00.000Z</td>\n",
              "      <td>Художественный</td>\n",
              "      <td>ФОНД \"ИННОВАЦИЯ\"</td>\n",
              "      <td>Россия</td>\n",
              "      <td>С.Юзеев</td>\n",
              "      <td>М.Галицкая</td>\n",
              "      <td>«12+» - для детей старше 12 лет</td>\n",
              "      <td>NaN</td>\n",
              "      <td>NaN</td>\n",
              "      <td>NaN</td>\n",
              "      <td>NaN</td>\n",
              "      <td>NaN</td>\n",
              "      <td>NaN</td>\n",
              "    </tr>\n",
              "  </tbody>\n",
              "</table>\n",
              "</div>"
            ],
            "text/plain": [
              "                                  title    puNumber           show_start_date  \\\n",
              "804               Паранормальный Якутск   111004112  2012-08-24T12:00:00.000Z   \n",
              "1797  Курбан-роман. (История с жертвой)         нет  2014-05-15T12:00:00.000Z   \n",
              "\n",
              "                type       film_studio production_country    director  \\\n",
              "804   Художественный  ИП Тимофеев К.П.             Россия  К.Тимофеев   \n",
              "1797  Художественный  ФОНД \"ИННОВАЦИЯ\"             Россия     С.Юзеев   \n",
              "\n",
              "        producer                  age_restriction  refundable_support  \\\n",
              "804          NaN  «16+» - для детей старше 16 лет                 NaN   \n",
              "1797  М.Галицкая  «12+» - для детей старше 12 лет                 NaN   \n",
              "\n",
              "      nonrefundable_support  budget financing_source ratings genres  \n",
              "804                     NaN     NaN              NaN     NaN    NaN  \n",
              "1797                    NaN     NaN              NaN     NaN    NaN  "
            ]
          },
          "execution_count": 11,
          "metadata": {},
          "output_type": "execute_result"
        }
      ],
      "source": [
        "data[~data['puNumber'].str.isdigit()]"
      ]
    },
    {
      "cell_type": "markdown",
      "metadata": {
        "id": "Cg-0btGO0y0E"
      },
      "source": [
        "Чтобы не удалять строчки, решил что приведу значение \"нет\" к нулю,т.к датафрейм и так не большой"
      ]
    },
    {
      "cell_type": "code",
      "execution_count": null,
      "metadata": {
        "id": "DVmzL_Qd0y0E",
        "outputId": "a8d128d2-c6a3-42d0-8d2a-d5237adb4640"
      },
      "outputs": [
        {
          "data": {
            "text/plain": [
              "dtype('int64')"
            ]
          },
          "execution_count": 12,
          "metadata": {},
          "output_type": "execute_result"
        }
      ],
      "source": [
        "data.loc[804, 'puNumber'] = data.loc[804, 'puNumber'].strip()\n",
        "data.loc[1797, 'puNumber'] = '0'\n",
        "\n",
        "data['puNumber'] = pd.to_numeric(data['puNumber'])\n",
        "data['puNumber'].dtype"
      ]
    },
    {
      "cell_type": "code",
      "execution_count": null,
      "metadata": {
        "id": "611UfexK0y0E"
      },
      "outputs": [],
      "source": [
        "df = data.merge(data1, how='left')"
      ]
    },
    {
      "cell_type": "code",
      "execution_count": null,
      "metadata": {
        "id": "e7cMbpEw0y0E",
        "outputId": "6875d548-0652-44ef-88b4-8ca4465a3e12"
      },
      "outputs": [
        {
          "data": {
            "text/html": [
              "<div>\n",
              "<style scoped>\n",
              "    .dataframe tbody tr th:only-of-type {\n",
              "        vertical-align: middle;\n",
              "    }\n",
              "\n",
              "    .dataframe tbody tr th {\n",
              "        vertical-align: top;\n",
              "    }\n",
              "\n",
              "    .dataframe thead th {\n",
              "        text-align: right;\n",
              "    }\n",
              "</style>\n",
              "<table border=\"1\" class=\"dataframe\">\n",
              "  <thead>\n",
              "    <tr style=\"text-align: right;\">\n",
              "      <th></th>\n",
              "      <th>title</th>\n",
              "      <th>puNumber</th>\n",
              "      <th>show_start_date</th>\n",
              "      <th>type</th>\n",
              "      <th>film_studio</th>\n",
              "      <th>production_country</th>\n",
              "      <th>director</th>\n",
              "      <th>producer</th>\n",
              "      <th>age_restriction</th>\n",
              "      <th>refundable_support</th>\n",
              "      <th>nonrefundable_support</th>\n",
              "      <th>budget</th>\n",
              "      <th>financing_source</th>\n",
              "      <th>ratings</th>\n",
              "      <th>genres</th>\n",
              "      <th>box_office</th>\n",
              "      <th>support_percentage</th>\n",
              "      <th>show_start_year</th>\n",
              "      <th>main_director</th>\n",
              "      <th>main_genres</th>\n",
              "    </tr>\n",
              "  </thead>\n",
              "  <tbody>\n",
              "    <tr>\n",
              "      <th>0</th>\n",
              "      <td>Открытый простор</td>\n",
              "      <td>221048915</td>\n",
              "      <td>2015-11-27 12:00:00</td>\n",
              "      <td>Художественный</td>\n",
              "      <td>Тачстоун Пикчерз, Кобальт Пикчерз, Бикон Пикче...</td>\n",
              "      <td>США</td>\n",
              "      <td>Кевин Костнер</td>\n",
              "      <td>Дэвид Валдес, Кевин Костнер, Джейк Эбертс</td>\n",
              "      <td>«18+» - запрещено для детей</td>\n",
              "      <td>NaN</td>\n",
              "      <td>NaN</td>\n",
              "      <td>NaN</td>\n",
              "      <td>NaN</td>\n",
              "      <td>7.2</td>\n",
              "      <td>боевик, драма, мелодрама</td>\n",
              "      <td>NaN</td>\n",
              "      <td>NaN</td>\n",
              "      <td>2015</td>\n",
              "      <td>Кевин Костнер</td>\n",
              "      <td>боевик</td>\n",
              "    </tr>\n",
              "    <tr>\n",
              "      <th>1</th>\n",
              "      <td>Особо важное задание</td>\n",
              "      <td>111013716</td>\n",
              "      <td>2016-09-13 12:00:00</td>\n",
              "      <td>Художественный</td>\n",
              "      <td>Киностудия \"Мосфильм\"</td>\n",
              "      <td>СССР</td>\n",
              "      <td>Е.Матвеев</td>\n",
              "      <td>NaN</td>\n",
              "      <td>«6+» - для детей старше 6 лет</td>\n",
              "      <td>NaN</td>\n",
              "      <td>NaN</td>\n",
              "      <td>NaN</td>\n",
              "      <td>NaN</td>\n",
              "      <td>6.6</td>\n",
              "      <td>драма, военный</td>\n",
              "      <td>NaN</td>\n",
              "      <td>NaN</td>\n",
              "      <td>2016</td>\n",
              "      <td>Е.Матвеев</td>\n",
              "      <td>драма</td>\n",
              "    </tr>\n",
              "    <tr>\n",
              "      <th>2</th>\n",
              "      <td>Особо опасен</td>\n",
              "      <td>221038416</td>\n",
              "      <td>2016-10-10 12:00:00</td>\n",
              "      <td>Художественный</td>\n",
              "      <td>Юниверсал Пикчерз, Кикстарт Продакшнз, Марк Пл...</td>\n",
              "      <td>США</td>\n",
              "      <td>Тимур Бекмамбетов</td>\n",
              "      <td>Джим Лемли, Джейсон Нетер, Марк Е.Платт, Яйн Смит</td>\n",
              "      <td>«18+» - запрещено для детей</td>\n",
              "      <td>NaN</td>\n",
              "      <td>NaN</td>\n",
              "      <td>NaN</td>\n",
              "      <td>NaN</td>\n",
              "      <td>6.8</td>\n",
              "      <td>фантастика, боевик, триллер</td>\n",
              "      <td>NaN</td>\n",
              "      <td>NaN</td>\n",
              "      <td>2016</td>\n",
              "      <td>Тимур Бекмамбетов</td>\n",
              "      <td>фантастика</td>\n",
              "    </tr>\n",
              "    <tr>\n",
              "      <th>3</th>\n",
              "      <td>Особо опасен</td>\n",
              "      <td>221026916</td>\n",
              "      <td>2016-06-10 12:00:00</td>\n",
              "      <td>Художественный</td>\n",
              "      <td>Юниверсал Пикчерз, Кикстарт Продакшнз, Марк Пл...</td>\n",
              "      <td>США</td>\n",
              "      <td>Тимур Бекмамбетов</td>\n",
              "      <td>Джим Лемли, Джейсон Нетер, Марк Е.Платт, Яйн Смит</td>\n",
              "      <td>«18+» - запрещено для детей</td>\n",
              "      <td>NaN</td>\n",
              "      <td>NaN</td>\n",
              "      <td>NaN</td>\n",
              "      <td>NaN</td>\n",
              "      <td>6.8</td>\n",
              "      <td>фантастика, боевик, триллер</td>\n",
              "      <td>NaN</td>\n",
              "      <td>NaN</td>\n",
              "      <td>2016</td>\n",
              "      <td>Тимур Бекмамбетов</td>\n",
              "      <td>фантастика</td>\n",
              "    </tr>\n",
              "    <tr>\n",
              "      <th>4</th>\n",
              "      <td>Особо опасен</td>\n",
              "      <td>221030815</td>\n",
              "      <td>2015-07-29 12:00:00</td>\n",
              "      <td>Художественный</td>\n",
              "      <td>Юниверсал Пикчерз, Кикстарт Продакшнз, Марк Пл...</td>\n",
              "      <td>США</td>\n",
              "      <td>Тимур Бекмамбетов</td>\n",
              "      <td>Джим Лемли, Джейсон Нетер, Марк Е.Платт, Яйн Смит</td>\n",
              "      <td>«18+» - запрещено для детей</td>\n",
              "      <td>NaN</td>\n",
              "      <td>NaN</td>\n",
              "      <td>NaN</td>\n",
              "      <td>NaN</td>\n",
              "      <td>6.8</td>\n",
              "      <td>фантастика, боевик, триллер</td>\n",
              "      <td>NaN</td>\n",
              "      <td>NaN</td>\n",
              "      <td>2015</td>\n",
              "      <td>Тимур Бекмамбетов</td>\n",
              "      <td>фантастика</td>\n",
              "    </tr>\n",
              "  </tbody>\n",
              "</table>\n",
              "</div>"
            ],
            "text/plain": [
              "                  title   puNumber     show_start_date            type  \\\n",
              "0      Открытый простор  221048915 2015-11-27 12:00:00  Художественный   \n",
              "1  Особо важное задание  111013716 2016-09-13 12:00:00  Художественный   \n",
              "2          Особо опасен  221038416 2016-10-10 12:00:00  Художественный   \n",
              "3          Особо опасен  221026916 2016-06-10 12:00:00  Художественный   \n",
              "4          Особо опасен  221030815 2015-07-29 12:00:00  Художественный   \n",
              "\n",
              "                                         film_studio production_country  \\\n",
              "0  Тачстоун Пикчерз, Кобальт Пикчерз, Бикон Пикче...                США   \n",
              "1                              Киностудия \"Мосфильм\"               СССР   \n",
              "2  Юниверсал Пикчерз, Кикстарт Продакшнз, Марк Пл...                США   \n",
              "3  Юниверсал Пикчерз, Кикстарт Продакшнз, Марк Пл...                США   \n",
              "4  Юниверсал Пикчерз, Кикстарт Продакшнз, Марк Пл...                США   \n",
              "\n",
              "            director                                           producer  \\\n",
              "0      Кевин Костнер          Дэвид Валдес, Кевин Костнер, Джейк Эбертс   \n",
              "1          Е.Матвеев                                                NaN   \n",
              "2  Тимур Бекмамбетов  Джим Лемли, Джейсон Нетер, Марк Е.Платт, Яйн Смит   \n",
              "3  Тимур Бекмамбетов  Джим Лемли, Джейсон Нетер, Марк Е.Платт, Яйн Смит   \n",
              "4  Тимур Бекмамбетов  Джим Лемли, Джейсон Нетер, Марк Е.Платт, Яйн Смит   \n",
              "\n",
              "                 age_restriction  refundable_support  nonrefundable_support  \\\n",
              "0    «18+» - запрещено для детей                 NaN                    NaN   \n",
              "1  «6+» - для детей старше 6 лет                 NaN                    NaN   \n",
              "2    «18+» - запрещено для детей                 NaN                    NaN   \n",
              "3    «18+» - запрещено для детей                 NaN                    NaN   \n",
              "4    «18+» - запрещено для детей                 NaN                    NaN   \n",
              "\n",
              "   budget financing_source  ratings                       genres  box_office  \\\n",
              "0     NaN              NaN      7.2     боевик, драма, мелодрама         NaN   \n",
              "1     NaN              NaN      6.6               драма, военный         NaN   \n",
              "2     NaN              NaN      6.8  фантастика, боевик, триллер         NaN   \n",
              "3     NaN              NaN      6.8  фантастика, боевик, триллер         NaN   \n",
              "4     NaN              NaN      6.8  фантастика, боевик, триллер         NaN   \n",
              "\n",
              "   support_percentage  show_start_year      main_director main_genres  \n",
              "0                 NaN             2015      Кевин Костнер      боевик  \n",
              "1                 NaN             2016          Е.Матвеев       драма  \n",
              "2                 NaN             2016  Тимур Бекмамбетов  фантастика  \n",
              "3                 NaN             2016  Тимур Бекмамбетов  фантастика  \n",
              "4                 NaN             2015  Тимур Бекмамбетов  фантастика  "
            ]
          },
          "execution_count": 65,
          "metadata": {},
          "output_type": "execute_result"
        }
      ],
      "source": [
        "df.head()"
      ]
    },
    {
      "cell_type": "markdown",
      "metadata": {
        "id": "l90Wu1nD0y0E"
      },
      "source": [
        "Объединили 2 таблицы, получили одну общую в которой помимо основных данных,появились суммы сборов фильмов"
      ]
    },
    {
      "cell_type": "markdown",
      "metadata": {
        "id": "KLDGpPG0gFyM"
      },
      "source": [
        "### Шаг 2. Предобработка данных"
      ]
    },
    {
      "cell_type": "markdown",
      "metadata": {
        "id": "cUgOmE-V0y0E"
      },
      "source": [
        "#### Шаг 2.1. Проверьте типы данных\n",
        "\n",
        "- Проверьте типы данных в датафрейме и преобразуйте их там, где это необходимо."
      ]
    },
    {
      "cell_type": "markdown",
      "metadata": {
        "id": "Wt4m0B9v0y0E"
      },
      "source": [
        "Тип данных исходя из общей информации ошибочно выставлен в столбцах ratings и show_start_date"
      ]
    },
    {
      "cell_type": "code",
      "execution_count": null,
      "metadata": {
        "id": "YLPlPXIU0y0E",
        "outputId": "8bae6a36-9397-453b-f3c2-db8adba8a487"
      },
      "outputs": [
        {
          "data": {
            "text/html": [
              "<div>\n",
              "<style scoped>\n",
              "    .dataframe tbody tr th:only-of-type {\n",
              "        vertical-align: middle;\n",
              "    }\n",
              "\n",
              "    .dataframe tbody tr th {\n",
              "        vertical-align: top;\n",
              "    }\n",
              "\n",
              "    .dataframe thead th {\n",
              "        text-align: right;\n",
              "    }\n",
              "</style>\n",
              "<table border=\"1\" class=\"dataframe\">\n",
              "  <thead>\n",
              "    <tr style=\"text-align: right;\">\n",
              "      <th></th>\n",
              "      <th>title</th>\n",
              "      <th>puNumber</th>\n",
              "      <th>show_start_date</th>\n",
              "      <th>type</th>\n",
              "      <th>film_studio</th>\n",
              "      <th>production_country</th>\n",
              "      <th>director</th>\n",
              "      <th>producer</th>\n",
              "      <th>age_restriction</th>\n",
              "      <th>refundable_support</th>\n",
              "      <th>nonrefundable_support</th>\n",
              "      <th>budget</th>\n",
              "      <th>financing_source</th>\n",
              "      <th>ratings</th>\n",
              "      <th>genres</th>\n",
              "      <th>box_office</th>\n",
              "    </tr>\n",
              "  </thead>\n",
              "  <tbody>\n",
              "    <tr>\n",
              "      <th>259</th>\n",
              "      <td>Прошлое</td>\n",
              "      <td>221030715</td>\n",
              "      <td>2015-07-29T12:00:00.000Z</td>\n",
              "      <td>Художественный</td>\n",
              "      <td>20 Сенчюри Фокс де Архентина, Чемо, ЭйчБи Филм...</td>\n",
              "      <td>Аргентина - Бразилия</td>\n",
              "      <td>Эктор Бабенко</td>\n",
              "      <td>Эктор Бабенко, Оскар Крамер, Хуго Сидмэн</td>\n",
              "      <td>«16+» - для детей старше 16 лет</td>\n",
              "      <td>NaN</td>\n",
              "      <td>NaN</td>\n",
              "      <td>NaN</td>\n",
              "      <td>NaN</td>\n",
              "      <td>99%</td>\n",
              "      <td>ужасы,триллер,драма</td>\n",
              "      <td>NaN</td>\n",
              "    </tr>\n",
              "    <tr>\n",
              "      <th>811</th>\n",
              "      <td>От винта!</td>\n",
              "      <td>114000212</td>\n",
              "      <td>2012-08-06T12:00:00.000Z</td>\n",
              "      <td>Анимационный</td>\n",
              "      <td>ЗАО \"Продюсерский центр \"Парадиз\"</td>\n",
              "      <td>Россия</td>\n",
              "      <td>О.Лопато</td>\n",
              "      <td>Г.Нерсисян, А.Манасарян, А.Нерсесян</td>\n",
              "      <td>«12+» - для детей старше 12 лет</td>\n",
              "      <td>NaN</td>\n",
              "      <td>NaN</td>\n",
              "      <td>NaN</td>\n",
              "      <td>NaN</td>\n",
              "      <td>28%</td>\n",
              "      <td>детский,приключения,комедия</td>\n",
              "      <td>1.740000e+03</td>\n",
              "    </tr>\n",
              "    <tr>\n",
              "      <th>1053</th>\n",
              "      <td>Песочный человек</td>\n",
              "      <td>121029212</td>\n",
              "      <td>2012-11-29T12:00:00.000Z</td>\n",
              "      <td>Художественный</td>\n",
              "      <td>Спотлайт Медиа Продакшн</td>\n",
              "      <td>Швейцария</td>\n",
              "      <td>Питер Луизи</td>\n",
              "      <td>Дэвид Луизи, Питер Луизи</td>\n",
              "      <td>«16+» - для детей старше 16 лет</td>\n",
              "      <td>NaN</td>\n",
              "      <td>NaN</td>\n",
              "      <td>NaN</td>\n",
              "      <td>NaN</td>\n",
              "      <td>97%</td>\n",
              "      <td>ужасы,фантастика,фэнтези</td>\n",
              "      <td>NaN</td>\n",
              "    </tr>\n",
              "    <tr>\n",
              "      <th>1341</th>\n",
              "      <td>Сказка о добре и Вре</td>\n",
              "      <td>111008913</td>\n",
              "      <td>2013-11-15T12:00:00.000Z</td>\n",
              "      <td>Художественный</td>\n",
              "      <td>НП \"Студия игрового кино \"Лик\"</td>\n",
              "      <td>Россия</td>\n",
              "      <td>Е.Шиляева</td>\n",
              "      <td>К.Терещенко</td>\n",
              "      <td>«6+» - для детей старше 6 лет</td>\n",
              "      <td>NaN</td>\n",
              "      <td>NaN</td>\n",
              "      <td>NaN</td>\n",
              "      <td>NaN</td>\n",
              "      <td>99%</td>\n",
              "      <td>триллер,драма,детектив</td>\n",
              "      <td>NaN</td>\n",
              "    </tr>\n",
              "    <tr>\n",
              "      <th>1805</th>\n",
              "      <td>Спираль.</td>\n",
              "      <td>111001014</td>\n",
              "      <td>2014-01-30T12:00:00.000Z</td>\n",
              "      <td>Художественный</td>\n",
              "      <td>ООО \"Компания Питон\"</td>\n",
              "      <td>Россия</td>\n",
              "      <td>А.Волгин</td>\n",
              "      <td>Е.Ковалева</td>\n",
              "      <td>«12+» - для детей старше 12 лет</td>\n",
              "      <td>NaN</td>\n",
              "      <td>NaN</td>\n",
              "      <td>NaN</td>\n",
              "      <td>NaN</td>\n",
              "      <td>99%</td>\n",
              "      <td>аниме,мультфильм,ужасы</td>\n",
              "      <td>4.295000e+03</td>\n",
              "    </tr>\n",
              "    <tr>\n",
              "      <th>1874</th>\n",
              "      <td>Короткие истории о любви 2</td>\n",
              "      <td>121002615</td>\n",
              "      <td>2015-02-13T12:00:00.000Z</td>\n",
              "      <td>Художественный</td>\n",
              "      <td>Кавиар, Курт 13, СтритЛайт Филмз, Нэйер Дойче ...</td>\n",
              "      <td>Нидерланды - США - Германия - Канада - Франция...</td>\n",
              "      <td>Мэтью Аувро, Лео Брайдл, Бен Бренд, Ден Кларк,...</td>\n",
              "      <td>Мэри Пэт Бентел, Бен Бренд, Сиара Гиллан, Джор...</td>\n",
              "      <td>«18+» - запрещено для детей</td>\n",
              "      <td>NaN</td>\n",
              "      <td>NaN</td>\n",
              "      <td>NaN</td>\n",
              "      <td>NaN</td>\n",
              "      <td>83%</td>\n",
              "      <td>NaN</td>\n",
              "      <td>1.429859e+06</td>\n",
              "    </tr>\n",
              "    <tr>\n",
              "      <th>1899</th>\n",
              "      <td>Золушка /По сказке Шарля Перро/. Холодное торж...</td>\n",
              "      <td>121003615</td>\n",
              "      <td>2015-02-27T12:00:00.000Z</td>\n",
              "      <td>Художественный</td>\n",
              "      <td>Женр Филмз, Уолт Дисней Пикчерз</td>\n",
              "      <td>США</td>\n",
              "      <td>Кеннет Брана</td>\n",
              "      <td>Дэвид Бэррон, Саймон Кинберг, Эллисон Ширмур</td>\n",
              "      <td>«6+» - для детей старше 6 лет</td>\n",
              "      <td>NaN</td>\n",
              "      <td>NaN</td>\n",
              "      <td>NaN</td>\n",
              "      <td>NaN</td>\n",
              "      <td>64%</td>\n",
              "      <td>мюзикл,фэнтези,мелодрама</td>\n",
              "      <td>5.287326e+08</td>\n",
              "    </tr>\n",
              "    <tr>\n",
              "      <th>2126</th>\n",
              "      <td>Поездка к матери</td>\n",
              "      <td>111002015</td>\n",
              "      <td>2015-03-02T12:00:00.000Z</td>\n",
              "      <td>Художественный</td>\n",
              "      <td>ЗАО \"Киностудия \"М\"-Фильм\"</td>\n",
              "      <td>Россия</td>\n",
              "      <td>М.Косырев-Нестеров</td>\n",
              "      <td>М.Косырев-Нестеров</td>\n",
              "      <td>«16+» - для детей старше 16 лет</td>\n",
              "      <td>NaN</td>\n",
              "      <td>NaN</td>\n",
              "      <td>NaN</td>\n",
              "      <td>NaN</td>\n",
              "      <td>91%</td>\n",
              "      <td>драма,семейный</td>\n",
              "      <td>0.000000e+00</td>\n",
              "    </tr>\n",
              "    <tr>\n",
              "      <th>2146</th>\n",
              "      <td>Главный</td>\n",
              "      <td>111003415</td>\n",
              "      <td>2015-03-27T12:00:00.000Z</td>\n",
              "      <td>Художественный</td>\n",
              "      <td>ООО \"Киностудия \"МАСТЕР\"</td>\n",
              "      <td>Россия</td>\n",
              "      <td>Ю.Кара</td>\n",
              "      <td>Ю.Кара</td>\n",
              "      <td>«6+» - для детей старше 6 лет</td>\n",
              "      <td>0.0</td>\n",
              "      <td>10000000.0</td>\n",
              "      <td>40000000.0</td>\n",
              "      <td>Министерство культуры</td>\n",
              "      <td>94%</td>\n",
              "      <td>фантастика,боевик,комедия</td>\n",
              "      <td>3.347500e+05</td>\n",
              "    </tr>\n",
              "    <tr>\n",
              "      <th>2438</th>\n",
              "      <td>Самый рыжий Лис</td>\n",
              "      <td>111012715</td>\n",
              "      <td>2015-07-30T12:00:00.000Z</td>\n",
              "      <td>Художественный</td>\n",
              "      <td>ООО \"Продюсерский центр \"Ленфильм\"</td>\n",
              "      <td>Россия</td>\n",
              "      <td>А.Стреляная</td>\n",
              "      <td>А.Котелевский, Э.Пичугин</td>\n",
              "      <td>«6+» - для детей старше 6 лет</td>\n",
              "      <td>NaN</td>\n",
              "      <td>NaN</td>\n",
              "      <td>NaN</td>\n",
              "      <td>NaN</td>\n",
              "      <td>62%</td>\n",
              "      <td>фэнтези,семейный</td>\n",
              "      <td>NaN</td>\n",
              "    </tr>\n",
              "    <tr>\n",
              "      <th>2680</th>\n",
              "      <td>Год Белого Слона</td>\n",
              "      <td>111003915</td>\n",
              "      <td>2015-04-08T12:00:00.000Z</td>\n",
              "      <td>Художественный</td>\n",
              "      <td>ООО \"Творческое объединение ЮГ\"</td>\n",
              "      <td>Россия</td>\n",
              "      <td>Ю.Грымов</td>\n",
              "      <td>П.Поляков</td>\n",
              "      <td>«6+» - для детей старше 6 лет</td>\n",
              "      <td>NaN</td>\n",
              "      <td>NaN</td>\n",
              "      <td>NaN</td>\n",
              "      <td>NaN</td>\n",
              "      <td>79%</td>\n",
              "      <td>семейный</td>\n",
              "      <td>NaN</td>\n",
              "    </tr>\n",
              "    <tr>\n",
              "      <th>3139</th>\n",
              "      <td>Я умею вязать</td>\n",
              "      <td>111019615</td>\n",
              "      <td>2015-11-27T12:00:00.000Z</td>\n",
              "      <td>Художественный</td>\n",
              "      <td>ООО \"Белое Зеркало\"</td>\n",
              "      <td>Россия</td>\n",
              "      <td>Н.Степанова при участии С.Иванова</td>\n",
              "      <td>С.Кикнавелидзе, Д.Улюкаев</td>\n",
              "      <td>«16+» - для детей старше 16 лет</td>\n",
              "      <td>0.0</td>\n",
              "      <td>4700000.0</td>\n",
              "      <td>14462464.0</td>\n",
              "      <td>Министерство культуры</td>\n",
              "      <td>90%</td>\n",
              "      <td>драма</td>\n",
              "      <td>8.013700e+05</td>\n",
              "    </tr>\n",
              "    <tr>\n",
              "      <th>3431</th>\n",
              "      <td>Наурыз</td>\n",
              "      <td>131000217</td>\n",
              "      <td>2017-03-09T12:00:00.000Z</td>\n",
              "      <td>Художественный</td>\n",
              "      <td>Эс Джи</td>\n",
              "      <td>Республика Казахстан</td>\n",
              "      <td>Аскар Бисембин</td>\n",
              "      <td>Олег Головашкин, Алмас Султангазин</td>\n",
              "      <td>«12+» - для детей старше 12 лет</td>\n",
              "      <td>NaN</td>\n",
              "      <td>NaN</td>\n",
              "      <td>NaN</td>\n",
              "      <td>NaN</td>\n",
              "      <td>19%</td>\n",
              "      <td>комедия</td>\n",
              "      <td>3.796000e+04</td>\n",
              "    </tr>\n",
              "    <tr>\n",
              "      <th>3439</th>\n",
              "      <td>Семь диких историй</td>\n",
              "      <td>126005916</td>\n",
              "      <td>2016-11-28T12:00:00.000Z</td>\n",
              "      <td>Прочие</td>\n",
              "      <td>Макс Бэйкер, Джон Е.Брайан, Пьер-Луи Гарнон,  ...</td>\n",
              "      <td>США - Пуэрто-Рико - Франция</td>\n",
              "      <td>М.Бэйкер, Д.Е.Брайант, Д.Рондот, Я.Серсар, Д.С...</td>\n",
              "      <td>М.Бэйкер, Д.Е.Брайан, П.-Л.Гарнон, М.Х.Дельгад...</td>\n",
              "      <td>«18+» - запрещено для детей</td>\n",
              "      <td>NaN</td>\n",
              "      <td>NaN</td>\n",
              "      <td>NaN</td>\n",
              "      <td>NaN</td>\n",
              "      <td>88%</td>\n",
              "      <td>NaN</td>\n",
              "      <td>1.025937e+06</td>\n",
              "    </tr>\n",
              "    <tr>\n",
              "      <th>3446</th>\n",
              "      <td>Короткие истории о любви - 4</td>\n",
              "      <td>126006316</td>\n",
              "      <td>2016-12-30T12:00:00.000Z</td>\n",
              "      <td>Прочие</td>\n",
              "      <td>Нетворг Айлэнд Телевижн, Магнетфильм, Шорткатс...</td>\n",
              "      <td>Великобритания - Аргентина - США - Франция - Р...</td>\n",
              "      <td>Д.Адар, П.Антохин, М.Биасин, А.Бурунова, К.Кол...</td>\n",
              "      <td>Д.Адар, Д.Амсон, П.Антохин, А.Армстронг, С.Бил...</td>\n",
              "      <td>«18+» - запрещено для детей</td>\n",
              "      <td>NaN</td>\n",
              "      <td>NaN</td>\n",
              "      <td>NaN</td>\n",
              "      <td>NaN</td>\n",
              "      <td>83%</td>\n",
              "      <td>NaN</td>\n",
              "      <td>2.266408e+06</td>\n",
              "    </tr>\n",
              "    <tr>\n",
              "      <th>3514</th>\n",
              "      <td>Чужой дом</td>\n",
              "      <td>111015516</td>\n",
              "      <td>2016-09-14T12:00:00.000Z</td>\n",
              "      <td>Художественный</td>\n",
              "      <td>ООО \"Лига Продакшн\"</td>\n",
              "      <td>Россия, Грузия, Хорватия, Испания</td>\n",
              "      <td>Р.Глурджидзе</td>\n",
              "      <td>З.Магалашвили, К.Гечмен-Вальдек, Н.Горшкова</td>\n",
              "      <td>«12+» - для детей старше 12 лет</td>\n",
              "      <td>NaN</td>\n",
              "      <td>NaN</td>\n",
              "      <td>NaN</td>\n",
              "      <td>NaN</td>\n",
              "      <td>91%</td>\n",
              "      <td>драма</td>\n",
              "      <td>NaN</td>\n",
              "    </tr>\n",
              "    <tr>\n",
              "      <th>3585</th>\n",
              "      <td>Машины Страшилки. Серия \"Жутчайшая повесть о п...</td>\n",
              "      <td>114003916</td>\n",
              "      <td>2016-12-09T12:00:00.000Z</td>\n",
              "      <td>Анимационный</td>\n",
              "      <td>ООО Студия \"АНИМАККОРД\", АНИМАККОРД ЛТД.</td>\n",
              "      <td>Россия, Республика Кипр</td>\n",
              "      <td>Д.Червяцов</td>\n",
              "      <td>Д.Ловейко, О.Кузовков</td>\n",
              "      <td>«0+» - для любой зрительской аудитории</td>\n",
              "      <td>NaN</td>\n",
              "      <td>NaN</td>\n",
              "      <td>NaN</td>\n",
              "      <td>NaN</td>\n",
              "      <td>97%</td>\n",
              "      <td>мультфильм,ужасы,фэнтези</td>\n",
              "      <td>NaN</td>\n",
              "    </tr>\n",
              "    <tr>\n",
              "      <th>3786</th>\n",
              "      <td>Охотники</td>\n",
              "      <td>111017816</td>\n",
              "      <td>2016-02-06T12:00:00.000Z</td>\n",
              "      <td>Художественный</td>\n",
              "      <td>Селиверстов Александр Александрович</td>\n",
              "      <td>Россия</td>\n",
              "      <td>А.Селиверстов</td>\n",
              "      <td>Е.Тарковская, Т.Лагода, Д.Степанян</td>\n",
              "      <td>«16+» - для детей старше 16 лет</td>\n",
              "      <td>NaN</td>\n",
              "      <td>NaN</td>\n",
              "      <td>NaN</td>\n",
              "      <td>NaN</td>\n",
              "      <td>89%</td>\n",
              "      <td>фантастика,комедия,боевик</td>\n",
              "      <td>8.284000e+04</td>\n",
              "    </tr>\n",
              "    <tr>\n",
              "      <th>3948</th>\n",
              "      <td>Круиз.</td>\n",
              "      <td>211038210</td>\n",
              "      <td>2010-09-03T12:00:00.000Z</td>\n",
              "      <td>Художественный</td>\n",
              "      <td>ООО \"ЮНАЙТЕД МУЛЬТИМЕДИА ПРОДЖЕКТС\"</td>\n",
              "      <td>Россия</td>\n",
              "      <td>И.Ромащенко</td>\n",
              "      <td>Р.Атамалибеков</td>\n",
              "      <td>«16+» - для детей старше 16 лет</td>\n",
              "      <td>NaN</td>\n",
              "      <td>NaN</td>\n",
              "      <td>NaN</td>\n",
              "      <td>NaN</td>\n",
              "      <td>97%</td>\n",
              "      <td>приключения,комедия,фэнтези</td>\n",
              "      <td>NaN</td>\n",
              "    </tr>\n",
              "    <tr>\n",
              "      <th>5332</th>\n",
              "      <td>Добыча.</td>\n",
              "      <td>121009411</td>\n",
              "      <td>2011-06-15T12:00:00.000Z</td>\n",
              "      <td>Художественный</td>\n",
              "      <td>Афтер Дарк Филмз</td>\n",
              "      <td>США</td>\n",
              "      <td>Патрик Сиверсен</td>\n",
              "      <td>Закари Ти Брайан, Кристофер</td>\n",
              "      <td>«18+» - запрещено для детей</td>\n",
              "      <td>NaN</td>\n",
              "      <td>NaN</td>\n",
              "      <td>NaN</td>\n",
              "      <td>NaN</td>\n",
              "      <td>88%</td>\n",
              "      <td>фантастика,боевик,триллер</td>\n",
              "      <td>NaN</td>\n",
              "    </tr>\n",
              "    <tr>\n",
              "      <th>5455</th>\n",
              "      <td>Вечный холод</td>\n",
              "      <td>111006417</td>\n",
              "      <td>2017-08-28T12:00:00.000Z</td>\n",
              "      <td>Художественный</td>\n",
              "      <td>ЗАО \"Производственный комплекс \"ГЛАВКИНО\", ООО...</td>\n",
              "      <td>Россия</td>\n",
              "      <td>А.Мигачев</td>\n",
              "      <td>И.Бачурин</td>\n",
              "      <td>«18+» - запрещено для детей</td>\n",
              "      <td>NaN</td>\n",
              "      <td>NaN</td>\n",
              "      <td>NaN</td>\n",
              "      <td>NaN</td>\n",
              "      <td>83%</td>\n",
              "      <td>фэнтези,боевик,триллер</td>\n",
              "      <td>NaN</td>\n",
              "    </tr>\n",
              "    <tr>\n",
              "      <th>5821</th>\n",
              "      <td>Свинья</td>\n",
              "      <td>121007018</td>\n",
              "      <td>2018-04-11T12:00:00.000Z</td>\n",
              "      <td>Художественный</td>\n",
              "      <td>Дарк Прекёрсор Продакшен, Филмиран, Хедейт Филм</td>\n",
              "      <td>Иран</td>\n",
              "      <td>Мани Хагиги</td>\n",
              "      <td>Мани Хагиги</td>\n",
              "      <td>«18+» - запрещено для детей</td>\n",
              "      <td>NaN</td>\n",
              "      <td>NaN</td>\n",
              "      <td>NaN</td>\n",
              "      <td>NaN</td>\n",
              "      <td>94%</td>\n",
              "      <td>триллер,драма</td>\n",
              "      <td>1.587222e+06</td>\n",
              "    </tr>\n",
              "    <tr>\n",
              "      <th>5910</th>\n",
              "      <td>Мира</td>\n",
              "      <td>112000118</td>\n",
              "      <td>2018-06-04T12:00:00.000Z</td>\n",
              "      <td>Документальный</td>\n",
              "      <td>ООО \"Компания \"Новые люди\"</td>\n",
              "      <td>Россия</td>\n",
              "      <td>Д.Шабаев</td>\n",
              "      <td>Н.Мокрицкая</td>\n",
              "      <td>«18+» - запрещено для детей</td>\n",
              "      <td>NaN</td>\n",
              "      <td>NaN</td>\n",
              "      <td>NaN</td>\n",
              "      <td>NaN</td>\n",
              "      <td>94%</td>\n",
              "      <td>драма</td>\n",
              "      <td>NaN</td>\n",
              "    </tr>\n",
              "    <tr>\n",
              "      <th>6426</th>\n",
              "      <td>Памятные даты России. Партизаны и подпольщики</td>\n",
              "      <td>112013018</td>\n",
              "      <td>2018-11-28T12:00:00.000Z</td>\n",
              "      <td>Документальный</td>\n",
              "      <td>ООО Кинокомпания \"Вектор\"</td>\n",
              "      <td>Россия</td>\n",
              "      <td>Н.Иванова, А.Кузнецова</td>\n",
              "      <td>В.Коханович</td>\n",
              "      <td>«12+» - для детей старше 12 лет</td>\n",
              "      <td>NaN</td>\n",
              "      <td>NaN</td>\n",
              "      <td>NaN</td>\n",
              "      <td>NaN</td>\n",
              "      <td>91%</td>\n",
              "      <td>драма,биография</td>\n",
              "      <td>NaN</td>\n",
              "    </tr>\n",
              "    <tr>\n",
              "      <th>6616</th>\n",
              "      <td>ОТ ВОЙНЫ ДО НАШИХ ДНЕЙ</td>\n",
              "      <td>111026518</td>\n",
              "      <td>2019-01-21T12:00:00.000Z</td>\n",
              "      <td>Художественный</td>\n",
              "      <td>ИП Вайсман Анатолий Александрович</td>\n",
              "      <td>Россия</td>\n",
              "      <td>А.Сазонов, Е.Климович, А.Коломеец, С.Черникова...</td>\n",
              "      <td>Д.Руюежин, Л.Пятницкая, Д.Колеров, Э.Ким, А.Хомич</td>\n",
              "      <td>«12+» - для детей старше 12 лет</td>\n",
              "      <td>NaN</td>\n",
              "      <td>NaN</td>\n",
              "      <td>NaN</td>\n",
              "      <td>NaN</td>\n",
              "      <td>98%</td>\n",
              "      <td>фантастика,боевик</td>\n",
              "      <td>NaN</td>\n",
              "    </tr>\n",
              "    <tr>\n",
              "      <th>6737</th>\n",
              "      <td>Колесо времени</td>\n",
              "      <td>111003219</td>\n",
              "      <td>2019-03-01T12:00:00.000Z</td>\n",
              "      <td>Художественный</td>\n",
              "      <td>ООО \"БестМедиа\"</td>\n",
              "      <td>Россия</td>\n",
              "      <td>Б.Куломзин</td>\n",
              "      <td>Б.Куломзин</td>\n",
              "      <td>«6+» - для детей старше 6 лет</td>\n",
              "      <td>NaN</td>\n",
              "      <td>NaN</td>\n",
              "      <td>NaN</td>\n",
              "      <td>NaN</td>\n",
              "      <td>98%</td>\n",
              "      <td>фэнтези,приключения</td>\n",
              "      <td>3.499200e+04</td>\n",
              "    </tr>\n",
              "    <tr>\n",
              "      <th>6882</th>\n",
              "      <td>Животные рядом со Святыми</td>\n",
              "      <td>112003719</td>\n",
              "      <td>2019-05-03T12:00:00.000Z</td>\n",
              "      <td>Документальный</td>\n",
              "      <td>ООО \"Кинопрограмма \"XXI век\"</td>\n",
              "      <td>Россия</td>\n",
              "      <td>Т.Мирошник</td>\n",
              "      <td>В.Есинов, Е.Калинина</td>\n",
              "      <td>«0+» - для любой зрительской аудитории</td>\n",
              "      <td>NaN</td>\n",
              "      <td>NaN</td>\n",
              "      <td>NaN</td>\n",
              "      <td>NaN</td>\n",
              "      <td>99%</td>\n",
              "      <td>криминал,драма</td>\n",
              "      <td>NaN</td>\n",
              "    </tr>\n",
              "    <tr>\n",
              "      <th>7159</th>\n",
              "      <td>Анна Каренина. Интимный дневник</td>\n",
              "      <td>111013919</td>\n",
              "      <td>2019-10-23T12:00:00.000Z</td>\n",
              "      <td>Художественный</td>\n",
              "      <td>ООО \"РТВ\"</td>\n",
              "      <td>Россия</td>\n",
              "      <td>Ю.Грымов</td>\n",
              "      <td>Ю.Грымов</td>\n",
              "      <td>«16+» - для детей старше 16 лет</td>\n",
              "      <td>NaN</td>\n",
              "      <td>NaN</td>\n",
              "      <td>NaN</td>\n",
              "      <td>NaN</td>\n",
              "      <td>79%</td>\n",
              "      <td>драма</td>\n",
              "      <td>1.828825e+05</td>\n",
              "    </tr>\n",
              "    <tr>\n",
              "      <th>7277</th>\n",
              "      <td>Добыча</td>\n",
              "      <td>121028319</td>\n",
              "      <td>2019-10-03T12:00:00.000Z</td>\n",
              "      <td>Художественный</td>\n",
              "      <td>Блумхаус Продакшнз, Хайд Парк Интертейнмент, Т...</td>\n",
              "      <td>США</td>\n",
              "      <td>Франк Халфун</td>\n",
              "      <td>Ашок Амритрадж, Джейсон Блум, Трэвис Клафф</td>\n",
              "      <td>«16+» - для детей старше 16 лет</td>\n",
              "      <td>NaN</td>\n",
              "      <td>NaN</td>\n",
              "      <td>NaN</td>\n",
              "      <td>NaN</td>\n",
              "      <td>88%</td>\n",
              "      <td>фантастика,боевик,триллер</td>\n",
              "      <td>4.416590e+06</td>\n",
              "    </tr>\n",
              "  </tbody>\n",
              "</table>\n",
              "</div>"
            ],
            "text/plain": [
              "                                                  title   puNumber  \\\n",
              "259                                             Прошлое  221030715   \n",
              "811                                           От винта!  114000212   \n",
              "1053                                   Песочный человек  121029212   \n",
              "1341                               Сказка о добре и Вре  111008913   \n",
              "1805                                           Спираль.  111001014   \n",
              "1874                         Короткие истории о любви 2  121002615   \n",
              "1899  Золушка /По сказке Шарля Перро/. Холодное торж...  121003615   \n",
              "2126                                   Поездка к матери  111002015   \n",
              "2146                                            Главный  111003415   \n",
              "2438                                    Самый рыжий Лис  111012715   \n",
              "2680                                   Год Белого Слона  111003915   \n",
              "3139                                      Я умею вязать  111019615   \n",
              "3431                                             Наурыз  131000217   \n",
              "3439                                 Семь диких историй  126005916   \n",
              "3446                       Короткие истории о любви - 4  126006316   \n",
              "3514                                          Чужой дом  111015516   \n",
              "3585  Машины Страшилки. Серия \"Жутчайшая повесть о п...  114003916   \n",
              "3786                                           Охотники  111017816   \n",
              "3948                                             Круиз.  211038210   \n",
              "5332                                            Добыча.  121009411   \n",
              "5455                                       Вечный холод  111006417   \n",
              "5821                                             Свинья  121007018   \n",
              "5910                                               Мира  112000118   \n",
              "6426      Памятные даты России. Партизаны и подпольщики  112013018   \n",
              "6616                             ОТ ВОЙНЫ ДО НАШИХ ДНЕЙ  111026518   \n",
              "6737                                     Колесо времени  111003219   \n",
              "6882                          Животные рядом со Святыми  112003719   \n",
              "7159                    Анна Каренина. Интимный дневник  111013919   \n",
              "7277                                             Добыча  121028319   \n",
              "\n",
              "               show_start_date             type  \\\n",
              "259   2015-07-29T12:00:00.000Z   Художественный   \n",
              "811   2012-08-06T12:00:00.000Z     Анимационный   \n",
              "1053  2012-11-29T12:00:00.000Z   Художественный   \n",
              "1341  2013-11-15T12:00:00.000Z   Художественный   \n",
              "1805  2014-01-30T12:00:00.000Z   Художественный   \n",
              "1874  2015-02-13T12:00:00.000Z   Художественный   \n",
              "1899  2015-02-27T12:00:00.000Z   Художественный   \n",
              "2126  2015-03-02T12:00:00.000Z   Художественный   \n",
              "2146  2015-03-27T12:00:00.000Z   Художественный   \n",
              "2438  2015-07-30T12:00:00.000Z   Художественный   \n",
              "2680  2015-04-08T12:00:00.000Z   Художественный   \n",
              "3139  2015-11-27T12:00:00.000Z   Художественный   \n",
              "3431  2017-03-09T12:00:00.000Z   Художественный   \n",
              "3439  2016-11-28T12:00:00.000Z           Прочие   \n",
              "3446  2016-12-30T12:00:00.000Z           Прочие   \n",
              "3514  2016-09-14T12:00:00.000Z   Художественный   \n",
              "3585  2016-12-09T12:00:00.000Z     Анимационный   \n",
              "3786  2016-02-06T12:00:00.000Z   Художественный   \n",
              "3948  2010-09-03T12:00:00.000Z   Художественный   \n",
              "5332  2011-06-15T12:00:00.000Z   Художественный   \n",
              "5455  2017-08-28T12:00:00.000Z   Художественный   \n",
              "5821  2018-04-11T12:00:00.000Z   Художественный   \n",
              "5910  2018-06-04T12:00:00.000Z   Документальный   \n",
              "6426  2018-11-28T12:00:00.000Z   Документальный   \n",
              "6616  2019-01-21T12:00:00.000Z   Художественный   \n",
              "6737  2019-03-01T12:00:00.000Z   Художественный   \n",
              "6882  2019-05-03T12:00:00.000Z   Документальный   \n",
              "7159  2019-10-23T12:00:00.000Z   Художественный   \n",
              "7277  2019-10-03T12:00:00.000Z   Художественный   \n",
              "\n",
              "                                            film_studio  \\\n",
              "259   20 Сенчюри Фокс де Архентина, Чемо, ЭйчБи Филм...   \n",
              "811                   ЗАО \"Продюсерский центр \"Парадиз\"   \n",
              "1053                            Спотлайт Медиа Продакшн   \n",
              "1341                     НП \"Студия игрового кино \"Лик\"   \n",
              "1805                               ООО \"Компания Питон\"   \n",
              "1874  Кавиар, Курт 13, СтритЛайт Филмз, Нэйер Дойче ...   \n",
              "1899                    Женр Филмз, Уолт Дисней Пикчерз   \n",
              "2126                         ЗАО \"Киностудия \"М\"-Фильм\"   \n",
              "2146                           ООО \"Киностудия \"МАСТЕР\"   \n",
              "2438                 ООО \"Продюсерский центр \"Ленфильм\"   \n",
              "2680                    ООО \"Творческое объединение ЮГ\"   \n",
              "3139                                ООО \"Белое Зеркало\"   \n",
              "3431                                             Эс Джи   \n",
              "3439  Макс Бэйкер, Джон Е.Брайан, Пьер-Луи Гарнон,  ...   \n",
              "3446  Нетворг Айлэнд Телевижн, Магнетфильм, Шорткатс...   \n",
              "3514                                ООО \"Лига Продакшн\"   \n",
              "3585           ООО Студия \"АНИМАККОРД\", АНИМАККОРД ЛТД.   \n",
              "3786                Селиверстов Александр Александрович   \n",
              "3948                ООО \"ЮНАЙТЕД МУЛЬТИМЕДИА ПРОДЖЕКТС\"   \n",
              "5332                                   Афтер Дарк Филмз   \n",
              "5455  ЗАО \"Производственный комплекс \"ГЛАВКИНО\", ООО...   \n",
              "5821    Дарк Прекёрсор Продакшен, Филмиран, Хедейт Филм   \n",
              "5910                         ООО \"Компания \"Новые люди\"   \n",
              "6426                          ООО Кинокомпания \"Вектор\"   \n",
              "6616                  ИП Вайсман Анатолий Александрович   \n",
              "6737                                    ООО \"БестМедиа\"   \n",
              "6882                       ООО \"Кинопрограмма \"XXI век\"   \n",
              "7159                                          ООО \"РТВ\"   \n",
              "7277  Блумхаус Продакшнз, Хайд Парк Интертейнмент, Т...   \n",
              "\n",
              "                                     production_country  \\\n",
              "259                                Аргентина - Бразилия   \n",
              "811                                              Россия   \n",
              "1053                                          Швейцария   \n",
              "1341                                             Россия   \n",
              "1805                                             Россия   \n",
              "1874  Нидерланды - США - Германия - Канада - Франция...   \n",
              "1899                                                США   \n",
              "2126                                             Россия   \n",
              "2146                                             Россия   \n",
              "2438                                             Россия   \n",
              "2680                                             Россия   \n",
              "3139                                             Россия   \n",
              "3431                               Республика Казахстан   \n",
              "3439                       США - Пуэрто-Рико - Франция    \n",
              "3446  Великобритания - Аргентина - США - Франция - Р...   \n",
              "3514                  Россия, Грузия, Хорватия, Испания   \n",
              "3585                            Россия, Республика Кипр   \n",
              "3786                                             Россия   \n",
              "3948                                             Россия   \n",
              "5332                                                США   \n",
              "5455                                             Россия   \n",
              "5821                                               Иран   \n",
              "5910                                             Россия   \n",
              "6426                                             Россия   \n",
              "6616                                             Россия   \n",
              "6737                                             Россия   \n",
              "6882                                             Россия   \n",
              "7159                                             Россия   \n",
              "7277                                                США   \n",
              "\n",
              "                                               director  \\\n",
              "259                                       Эктор Бабенко   \n",
              "811                                            О.Лопато   \n",
              "1053                                        Питер Луизи   \n",
              "1341                                          Е.Шиляева   \n",
              "1805                                           А.Волгин   \n",
              "1874  Мэтью Аувро, Лео Брайдл, Бен Бренд, Ден Кларк,...   \n",
              "1899                                       Кеннет Брана   \n",
              "2126                                 М.Косырев-Нестеров   \n",
              "2146                                             Ю.Кара   \n",
              "2438                                        А.Стреляная   \n",
              "2680                                           Ю.Грымов   \n",
              "3139                  Н.Степанова при участии С.Иванова   \n",
              "3431                                     Аскар Бисембин   \n",
              "3439  М.Бэйкер, Д.Е.Брайант, Д.Рондот, Я.Серсар, Д.С...   \n",
              "3446  Д.Адар, П.Антохин, М.Биасин, А.Бурунова, К.Кол...   \n",
              "3514                                       Р.Глурджидзе   \n",
              "3585                                         Д.Червяцов   \n",
              "3786                                      А.Селиверстов   \n",
              "3948                                        И.Ромащенко   \n",
              "5332                                    Патрик Сиверсен   \n",
              "5455                                          А.Мигачев   \n",
              "5821                                        Мани Хагиги   \n",
              "5910                                           Д.Шабаев   \n",
              "6426                             Н.Иванова, А.Кузнецова   \n",
              "6616  А.Сазонов, Е.Климович, А.Коломеец, С.Черникова...   \n",
              "6737                                         Б.Куломзин   \n",
              "6882                                         Т.Мирошник   \n",
              "7159                                           Ю.Грымов   \n",
              "7277                                       Франк Халфун   \n",
              "\n",
              "                                               producer  \\\n",
              "259            Эктор Бабенко, Оскар Крамер, Хуго Сидмэн   \n",
              "811                 Г.Нерсисян, А.Манасарян, А.Нерсесян   \n",
              "1053                           Дэвид Луизи, Питер Луизи   \n",
              "1341                                        К.Терещенко   \n",
              "1805                                         Е.Ковалева   \n",
              "1874  Мэри Пэт Бентел, Бен Бренд, Сиара Гиллан, Джор...   \n",
              "1899       Дэвид Бэррон, Саймон Кинберг, Эллисон Ширмур   \n",
              "2126                                 М.Косырев-Нестеров   \n",
              "2146                                             Ю.Кара   \n",
              "2438                           А.Котелевский, Э.Пичугин   \n",
              "2680                                          П.Поляков   \n",
              "3139                          С.Кикнавелидзе, Д.Улюкаев   \n",
              "3431                 Олег Головашкин, Алмас Султангазин   \n",
              "3439  М.Бэйкер, Д.Е.Брайан, П.-Л.Гарнон, М.Х.Дельгад...   \n",
              "3446  Д.Адар, Д.Амсон, П.Антохин, А.Армстронг, С.Бил...   \n",
              "3514        З.Магалашвили, К.Гечмен-Вальдек, Н.Горшкова   \n",
              "3585                              Д.Ловейко, О.Кузовков   \n",
              "3786                 Е.Тарковская, Т.Лагода, Д.Степанян   \n",
              "3948                                     Р.Атамалибеков   \n",
              "5332                        Закари Ти Брайан, Кристофер   \n",
              "5455                                          И.Бачурин   \n",
              "5821                                        Мани Хагиги   \n",
              "5910                                        Н.Мокрицкая   \n",
              "6426                                        В.Коханович   \n",
              "6616  Д.Руюежин, Л.Пятницкая, Д.Колеров, Э.Ким, А.Хомич   \n",
              "6737                                         Б.Куломзин   \n",
              "6882                               В.Есинов, Е.Калинина   \n",
              "7159                                           Ю.Грымов   \n",
              "7277         Ашок Амритрадж, Джейсон Блум, Трэвис Клафф   \n",
              "\n",
              "                             age_restriction  refundable_support  \\\n",
              "259          «16+» - для детей старше 16 лет                 NaN   \n",
              "811          «12+» - для детей старше 12 лет                 NaN   \n",
              "1053         «16+» - для детей старше 16 лет                 NaN   \n",
              "1341           «6+» - для детей старше 6 лет                 NaN   \n",
              "1805         «12+» - для детей старше 12 лет                 NaN   \n",
              "1874             «18+» - запрещено для детей                 NaN   \n",
              "1899           «6+» - для детей старше 6 лет                 NaN   \n",
              "2126         «16+» - для детей старше 16 лет                 NaN   \n",
              "2146           «6+» - для детей старше 6 лет                 0.0   \n",
              "2438           «6+» - для детей старше 6 лет                 NaN   \n",
              "2680           «6+» - для детей старше 6 лет                 NaN   \n",
              "3139         «16+» - для детей старше 16 лет                 0.0   \n",
              "3431         «12+» - для детей старше 12 лет                 NaN   \n",
              "3439             «18+» - запрещено для детей                 NaN   \n",
              "3446             «18+» - запрещено для детей                 NaN   \n",
              "3514         «12+» - для детей старше 12 лет                 NaN   \n",
              "3585  «0+» - для любой зрительской аудитории                 NaN   \n",
              "3786         «16+» - для детей старше 16 лет                 NaN   \n",
              "3948         «16+» - для детей старше 16 лет                 NaN   \n",
              "5332             «18+» - запрещено для детей                 NaN   \n",
              "5455             «18+» - запрещено для детей                 NaN   \n",
              "5821             «18+» - запрещено для детей                 NaN   \n",
              "5910             «18+» - запрещено для детей                 NaN   \n",
              "6426         «12+» - для детей старше 12 лет                 NaN   \n",
              "6616         «12+» - для детей старше 12 лет                 NaN   \n",
              "6737           «6+» - для детей старше 6 лет                 NaN   \n",
              "6882  «0+» - для любой зрительской аудитории                 NaN   \n",
              "7159         «16+» - для детей старше 16 лет                 NaN   \n",
              "7277         «16+» - для детей старше 16 лет                 NaN   \n",
              "\n",
              "      nonrefundable_support      budget       financing_source ratings  \\\n",
              "259                     NaN         NaN                    NaN     99%   \n",
              "811                     NaN         NaN                    NaN     28%   \n",
              "1053                    NaN         NaN                    NaN     97%   \n",
              "1341                    NaN         NaN                    NaN     99%   \n",
              "1805                    NaN         NaN                    NaN     99%   \n",
              "1874                    NaN         NaN                    NaN     83%   \n",
              "1899                    NaN         NaN                    NaN     64%   \n",
              "2126                    NaN         NaN                    NaN     91%   \n",
              "2146             10000000.0  40000000.0  Министерство культуры     94%   \n",
              "2438                    NaN         NaN                    NaN     62%   \n",
              "2680                    NaN         NaN                    NaN     79%   \n",
              "3139              4700000.0  14462464.0  Министерство культуры     90%   \n",
              "3431                    NaN         NaN                    NaN     19%   \n",
              "3439                    NaN         NaN                    NaN     88%   \n",
              "3446                    NaN         NaN                    NaN     83%   \n",
              "3514                    NaN         NaN                    NaN     91%   \n",
              "3585                    NaN         NaN                    NaN     97%   \n",
              "3786                    NaN         NaN                    NaN     89%   \n",
              "3948                    NaN         NaN                    NaN     97%   \n",
              "5332                    NaN         NaN                    NaN     88%   \n",
              "5455                    NaN         NaN                    NaN     83%   \n",
              "5821                    NaN         NaN                    NaN     94%   \n",
              "5910                    NaN         NaN                    NaN     94%   \n",
              "6426                    NaN         NaN                    NaN     91%   \n",
              "6616                    NaN         NaN                    NaN     98%   \n",
              "6737                    NaN         NaN                    NaN     98%   \n",
              "6882                    NaN         NaN                    NaN     99%   \n",
              "7159                    NaN         NaN                    NaN     79%   \n",
              "7277                    NaN         NaN                    NaN     88%   \n",
              "\n",
              "                           genres    box_office  \n",
              "259           ужасы,триллер,драма           NaN  \n",
              "811   детский,приключения,комедия  1.740000e+03  \n",
              "1053     ужасы,фантастика,фэнтези           NaN  \n",
              "1341       триллер,драма,детектив           NaN  \n",
              "1805       аниме,мультфильм,ужасы  4.295000e+03  \n",
              "1874                          NaN  1.429859e+06  \n",
              "1899     мюзикл,фэнтези,мелодрама  5.287326e+08  \n",
              "2126               драма,семейный  0.000000e+00  \n",
              "2146    фантастика,боевик,комедия  3.347500e+05  \n",
              "2438             фэнтези,семейный           NaN  \n",
              "2680                     семейный           NaN  \n",
              "3139                        драма  8.013700e+05  \n",
              "3431                      комедия  3.796000e+04  \n",
              "3439                          NaN  1.025937e+06  \n",
              "3446                          NaN  2.266408e+06  \n",
              "3514                        драма           NaN  \n",
              "3585     мультфильм,ужасы,фэнтези           NaN  \n",
              "3786    фантастика,комедия,боевик  8.284000e+04  \n",
              "3948  приключения,комедия,фэнтези           NaN  \n",
              "5332    фантастика,боевик,триллер           NaN  \n",
              "5455       фэнтези,боевик,триллер           NaN  \n",
              "5821                триллер,драма  1.587222e+06  \n",
              "5910                        драма           NaN  \n",
              "6426              драма,биография           NaN  \n",
              "6616            фантастика,боевик           NaN  \n",
              "6737          фэнтези,приключения  3.499200e+04  \n",
              "6882               криминал,драма           NaN  \n",
              "7159                        драма  1.828825e+05  \n",
              "7277    фантастика,боевик,триллер  4.416590e+06  "
            ]
          },
          "execution_count": 14,
          "metadata": {},
          "output_type": "execute_result"
        }
      ],
      "source": [
        "raitings1 = df[df['ratings'].str.contains('[^0-9.]').fillna(False)]\n",
        "raitings1"
      ]
    },
    {
      "cell_type": "markdown",
      "metadata": {
        "id": "h6a-RMf80y0F"
      },
      "source": [
        "По своднику видно,что рейтинг выставлен в процентном соотношении,исправим это"
      ]
    },
    {
      "cell_type": "code",
      "execution_count": null,
      "metadata": {
        "id": "cF45p1XB0y0F",
        "outputId": "167c1db9-c40e-4810-8308-60a39db88794"
      },
      "outputs": [
        {
          "data": {
            "text/plain": [
              "min    1.0\n",
              "max    9.9\n",
              "Name: ratings, dtype: float64"
            ]
          },
          "execution_count": 15,
          "metadata": {},
          "output_type": "execute_result"
        }
      ],
      "source": [
        "df.loc[raitings1.index, 'ratings'] = raitings1['ratings'].str[0] + '.' + raitings1['ratings'].str[1]\n",
        "\n",
        "df['ratings'] = pd.to_numeric(df['ratings'])\n",
        "\n",
        "df['ratings'].describe()[['min', 'max']]"
      ]
    },
    {
      "cell_type": "markdown",
      "metadata": {
        "id": "wRLHKBuH0y0F"
      },
      "source": [
        "Ну и приведём столбец show_start_date к дате"
      ]
    },
    {
      "cell_type": "code",
      "execution_count": null,
      "metadata": {
        "id": "OSQATVUw0y0F",
        "outputId": "48ceb218-0f66-4ce6-e421-677d1dd9bcb9"
      },
      "outputs": [
        {
          "data": {
            "text/plain": [
              "dtype('<M8[ns]')"
            ]
          },
          "execution_count": 16,
          "metadata": {},
          "output_type": "execute_result"
        }
      ],
      "source": [
        "df['show_start_date'] = pd.to_datetime(df['show_start_date'], format='%Y-%m-%dT%H:%M:%S.%fZ')\n",
        "df['show_start_date'].dtype"
      ]
    },
    {
      "cell_type": "markdown",
      "metadata": {
        "id": "Sx9uCT8v0y0F"
      },
      "source": [
        "### Шаг 2.2. Изучите пропуски в датафрейме\n",
        "Объясните, почему заполнили пропуски определённым образом или почему не стали этого делать."
      ]
    },
    {
      "cell_type": "markdown",
      "metadata": {
        "id": "41-8ioe00y0F"
      },
      "source": [
        "Узнаем кол-во пропусков в столбцах"
      ]
    },
    {
      "cell_type": "code",
      "execution_count": null,
      "metadata": {
        "id": "inXMRbnL0y0F",
        "outputId": "d9d12227-6cdc-445c-f2e6-05a47c0adbec"
      },
      "outputs": [
        {
          "data": {
            "text/plain": [
              "title                       0\n",
              "puNumber                    0\n",
              "show_start_date             0\n",
              "type                        0\n",
              "film_studio                18\n",
              "production_country          2\n",
              "director                    9\n",
              "producer                  568\n",
              "age_restriction             0\n",
              "refundable_support       7154\n",
              "nonrefundable_support    7154\n",
              "budget                   7154\n",
              "financing_source         7154\n",
              "ratings                   967\n",
              "genres                    976\n",
              "box_office               4328\n",
              "dtype: int64"
            ]
          },
          "execution_count": 17,
          "metadata": {},
          "output_type": "execute_result"
        }
      ],
      "source": [
        "df_nan = df.isna()\n",
        "df_nan.sum()"
      ]
    },
    {
      "cell_type": "code",
      "execution_count": null,
      "metadata": {
        "id": "d86qd_JE0y0K",
        "outputId": "5e01b406-0b40-4b35-a1c2-f8f9ea02895e"
      },
      "outputs": [
        {
          "data": {
            "text/html": [
              "<div>\n",
              "<style scoped>\n",
              "    .dataframe tbody tr th:only-of-type {\n",
              "        vertical-align: middle;\n",
              "    }\n",
              "\n",
              "    .dataframe tbody tr th {\n",
              "        vertical-align: top;\n",
              "    }\n",
              "\n",
              "    .dataframe thead th {\n",
              "        text-align: right;\n",
              "    }\n",
              "</style>\n",
              "<table border=\"1\" class=\"dataframe\">\n",
              "  <thead>\n",
              "    <tr style=\"text-align: right;\">\n",
              "      <th>year</th>\n",
              "      <th>2010</th>\n",
              "      <th>2011</th>\n",
              "      <th>2012</th>\n",
              "      <th>2013</th>\n",
              "      <th>2014</th>\n",
              "      <th>2015</th>\n",
              "      <th>2016</th>\n",
              "      <th>2017</th>\n",
              "      <th>2018</th>\n",
              "      <th>2019</th>\n",
              "    </tr>\n",
              "  </thead>\n",
              "  <tbody>\n",
              "    <tr>\n",
              "      <th>title</th>\n",
              "      <td>0</td>\n",
              "      <td>0</td>\n",
              "      <td>0</td>\n",
              "      <td>0</td>\n",
              "      <td>0</td>\n",
              "      <td>0</td>\n",
              "      <td>0</td>\n",
              "      <td>0</td>\n",
              "      <td>0</td>\n",
              "      <td>0</td>\n",
              "    </tr>\n",
              "    <tr>\n",
              "      <th>puNumber</th>\n",
              "      <td>0</td>\n",
              "      <td>0</td>\n",
              "      <td>0</td>\n",
              "      <td>0</td>\n",
              "      <td>0</td>\n",
              "      <td>0</td>\n",
              "      <td>0</td>\n",
              "      <td>0</td>\n",
              "      <td>0</td>\n",
              "      <td>0</td>\n",
              "    </tr>\n",
              "    <tr>\n",
              "      <th>show_start_date</th>\n",
              "      <td>0</td>\n",
              "      <td>0</td>\n",
              "      <td>0</td>\n",
              "      <td>0</td>\n",
              "      <td>0</td>\n",
              "      <td>0</td>\n",
              "      <td>0</td>\n",
              "      <td>0</td>\n",
              "      <td>0</td>\n",
              "      <td>0</td>\n",
              "    </tr>\n",
              "    <tr>\n",
              "      <th>type</th>\n",
              "      <td>0</td>\n",
              "      <td>0</td>\n",
              "      <td>0</td>\n",
              "      <td>0</td>\n",
              "      <td>0</td>\n",
              "      <td>0</td>\n",
              "      <td>0</td>\n",
              "      <td>0</td>\n",
              "      <td>0</td>\n",
              "      <td>0</td>\n",
              "    </tr>\n",
              "    <tr>\n",
              "      <th>film_studio</th>\n",
              "      <td>1</td>\n",
              "      <td>0</td>\n",
              "      <td>0</td>\n",
              "      <td>0</td>\n",
              "      <td>1</td>\n",
              "      <td>0</td>\n",
              "      <td>0</td>\n",
              "      <td>0</td>\n",
              "      <td>12</td>\n",
              "      <td>4</td>\n",
              "    </tr>\n",
              "    <tr>\n",
              "      <th>production_country</th>\n",
              "      <td>1</td>\n",
              "      <td>0</td>\n",
              "      <td>0</td>\n",
              "      <td>0</td>\n",
              "      <td>0</td>\n",
              "      <td>0</td>\n",
              "      <td>1</td>\n",
              "      <td>0</td>\n",
              "      <td>0</td>\n",
              "      <td>0</td>\n",
              "    </tr>\n",
              "    <tr>\n",
              "      <th>director</th>\n",
              "      <td>5</td>\n",
              "      <td>2</td>\n",
              "      <td>1</td>\n",
              "      <td>1</td>\n",
              "      <td>0</td>\n",
              "      <td>0</td>\n",
              "      <td>0</td>\n",
              "      <td>0</td>\n",
              "      <td>0</td>\n",
              "      <td>0</td>\n",
              "    </tr>\n",
              "    <tr>\n",
              "      <th>producer</th>\n",
              "      <td>40</td>\n",
              "      <td>15</td>\n",
              "      <td>26</td>\n",
              "      <td>89</td>\n",
              "      <td>189</td>\n",
              "      <td>77</td>\n",
              "      <td>54</td>\n",
              "      <td>34</td>\n",
              "      <td>14</td>\n",
              "      <td>30</td>\n",
              "    </tr>\n",
              "    <tr>\n",
              "      <th>age_restriction</th>\n",
              "      <td>0</td>\n",
              "      <td>0</td>\n",
              "      <td>0</td>\n",
              "      <td>0</td>\n",
              "      <td>0</td>\n",
              "      <td>0</td>\n",
              "      <td>0</td>\n",
              "      <td>0</td>\n",
              "      <td>0</td>\n",
              "      <td>0</td>\n",
              "    </tr>\n",
              "    <tr>\n",
              "      <th>refundable_support</th>\n",
              "      <td>985</td>\n",
              "      <td>622</td>\n",
              "      <td>593</td>\n",
              "      <td>628</td>\n",
              "      <td>791</td>\n",
              "      <td>619</td>\n",
              "      <td>757</td>\n",
              "      <td>464</td>\n",
              "      <td>835</td>\n",
              "      <td>860</td>\n",
              "    </tr>\n",
              "    <tr>\n",
              "      <th>nonrefundable_support</th>\n",
              "      <td>985</td>\n",
              "      <td>622</td>\n",
              "      <td>593</td>\n",
              "      <td>628</td>\n",
              "      <td>791</td>\n",
              "      <td>619</td>\n",
              "      <td>757</td>\n",
              "      <td>464</td>\n",
              "      <td>835</td>\n",
              "      <td>860</td>\n",
              "    </tr>\n",
              "    <tr>\n",
              "      <th>budget</th>\n",
              "      <td>985</td>\n",
              "      <td>622</td>\n",
              "      <td>593</td>\n",
              "      <td>628</td>\n",
              "      <td>791</td>\n",
              "      <td>619</td>\n",
              "      <td>757</td>\n",
              "      <td>464</td>\n",
              "      <td>835</td>\n",
              "      <td>860</td>\n",
              "    </tr>\n",
              "    <tr>\n",
              "      <th>financing_source</th>\n",
              "      <td>985</td>\n",
              "      <td>622</td>\n",
              "      <td>593</td>\n",
              "      <td>628</td>\n",
              "      <td>791</td>\n",
              "      <td>619</td>\n",
              "      <td>757</td>\n",
              "      <td>464</td>\n",
              "      <td>835</td>\n",
              "      <td>860</td>\n",
              "    </tr>\n",
              "    <tr>\n",
              "      <th>ratings</th>\n",
              "      <td>73</td>\n",
              "      <td>46</td>\n",
              "      <td>46</td>\n",
              "      <td>47</td>\n",
              "      <td>67</td>\n",
              "      <td>82</td>\n",
              "      <td>102</td>\n",
              "      <td>69</td>\n",
              "      <td>232</td>\n",
              "      <td>203</td>\n",
              "    </tr>\n",
              "    <tr>\n",
              "      <th>genres</th>\n",
              "      <td>73</td>\n",
              "      <td>46</td>\n",
              "      <td>46</td>\n",
              "      <td>47</td>\n",
              "      <td>67</td>\n",
              "      <td>83</td>\n",
              "      <td>106</td>\n",
              "      <td>70</td>\n",
              "      <td>232</td>\n",
              "      <td>206</td>\n",
              "    </tr>\n",
              "    <tr>\n",
              "      <th>box_office</th>\n",
              "      <td>880</td>\n",
              "      <td>513</td>\n",
              "      <td>465</td>\n",
              "      <td>446</td>\n",
              "      <td>528</td>\n",
              "      <td>240</td>\n",
              "      <td>292</td>\n",
              "      <td>148</td>\n",
              "      <td>416</td>\n",
              "      <td>400</td>\n",
              "    </tr>\n",
              "    <tr>\n",
              "      <th>total_records</th>\n",
              "      <td>985</td>\n",
              "      <td>622</td>\n",
              "      <td>593</td>\n",
              "      <td>630</td>\n",
              "      <td>807</td>\n",
              "      <td>705</td>\n",
              "      <td>818</td>\n",
              "      <td>505</td>\n",
              "      <td>891</td>\n",
              "      <td>930</td>\n",
              "    </tr>\n",
              "  </tbody>\n",
              "</table>\n",
              "</div>"
            ],
            "text/plain": [
              "year                   2010  2011  2012  2013  2014  2015  2016  2017  2018  \\\n",
              "title                     0     0     0     0     0     0     0     0     0   \n",
              "puNumber                  0     0     0     0     0     0     0     0     0   \n",
              "show_start_date           0     0     0     0     0     0     0     0     0   \n",
              "type                      0     0     0     0     0     0     0     0     0   \n",
              "film_studio               1     0     0     0     1     0     0     0    12   \n",
              "production_country        1     0     0     0     0     0     1     0     0   \n",
              "director                  5     2     1     1     0     0     0     0     0   \n",
              "producer                 40    15    26    89   189    77    54    34    14   \n",
              "age_restriction           0     0     0     0     0     0     0     0     0   \n",
              "refundable_support      985   622   593   628   791   619   757   464   835   \n",
              "nonrefundable_support   985   622   593   628   791   619   757   464   835   \n",
              "budget                  985   622   593   628   791   619   757   464   835   \n",
              "financing_source        985   622   593   628   791   619   757   464   835   \n",
              "ratings                  73    46    46    47    67    82   102    69   232   \n",
              "genres                   73    46    46    47    67    83   106    70   232   \n",
              "box_office              880   513   465   446   528   240   292   148   416   \n",
              "total_records           985   622   593   630   807   705   818   505   891   \n",
              "\n",
              "year                   2019  \n",
              "title                     0  \n",
              "puNumber                  0  \n",
              "show_start_date           0  \n",
              "type                      0  \n",
              "film_studio               4  \n",
              "production_country        0  \n",
              "director                  0  \n",
              "producer                 30  \n",
              "age_restriction           0  \n",
              "refundable_support      860  \n",
              "nonrefundable_support   860  \n",
              "budget                  860  \n",
              "financing_source        860  \n",
              "ratings                 203  \n",
              "genres                  206  \n",
              "box_office              400  \n",
              "total_records           930  "
            ]
          },
          "execution_count": 18,
          "metadata": {},
          "output_type": "execute_result"
        }
      ],
      "source": [
        "df_nan['year'] = df['show_start_date'].dt.year\n",
        "\n",
        "\n",
        "df_nan['total_records'] = True\n",
        "\n",
        "df_nan.groupby(by='year').agg(sum).transpose()"
      ]
    },
    {
      "cell_type": "markdown",
      "metadata": {
        "id": "PhXGcT8i0y0K"
      },
      "source": [
        "Эта таблица говорит о том,что пропуски с толбцах буджета и гос.помощи находится на одних и тех же местах, поэтому скорей всего дело в стране"
      ]
    },
    {
      "cell_type": "code",
      "execution_count": null,
      "metadata": {
        "id": "ssWwKXsxgFyO",
        "outputId": "ccf4090c-5735-4f79-c373-c809278c71fc"
      },
      "outputs": [
        {
          "data": {
            "text/html": [
              "<div>\n",
              "<style scoped>\n",
              "    .dataframe tbody tr th:only-of-type {\n",
              "        vertical-align: middle;\n",
              "    }\n",
              "\n",
              "    .dataframe tbody tr th {\n",
              "        vertical-align: top;\n",
              "    }\n",
              "\n",
              "    .dataframe thead th {\n",
              "        text-align: right;\n",
              "    }\n",
              "</style>\n",
              "<table border=\"1\" class=\"dataframe\">\n",
              "  <thead>\n",
              "    <tr style=\"text-align: right;\">\n",
              "      <th></th>\n",
              "      <th>Россия</th>\n",
              "      <th>Всего</th>\n",
              "    </tr>\n",
              "    <tr>\n",
              "      <th>is_na</th>\n",
              "      <th></th>\n",
              "      <th></th>\n",
              "    </tr>\n",
              "  </thead>\n",
              "  <tbody>\n",
              "    <tr>\n",
              "      <th>False</th>\n",
              "      <td>332</td>\n",
              "      <td>332</td>\n",
              "    </tr>\n",
              "    <tr>\n",
              "      <th>True</th>\n",
              "      <td>1653</td>\n",
              "      <td>7152</td>\n",
              "    </tr>\n",
              "  </tbody>\n",
              "</table>\n",
              "</div>"
            ],
            "text/plain": [
              "       Россия  Всего\n",
              "is_na               \n",
              "False     332    332\n",
              "True     1653   7152"
            ]
          },
          "metadata": {},
          "output_type": "display_data"
        }
      ],
      "source": [
        "tmp = df.budget.isna().rename('is_na').to_frame()\n",
        "\n",
        "tmp['is_rus'] = df.production_country.str.contains('Россия')\n",
        "\n",
        "display(tmp.groupby(['is_na']).agg(['sum', 'count']).set_axis(['Россия', 'Всего'], axis=1))\n",
        "\n",
        "del tmp"
      ]
    },
    {
      "cell_type": "markdown",
      "metadata": {
        "id": "6k4uX2iy0y0L"
      },
      "source": [
        "Информация по государственной поддержке есть только по российским фильмам, но у большинства российских фильмов нет информации о господдержке. Возможно большинство российских фильмов снималось без господдержки.\n",
        "Посмотрим, можем ли мы заполнить пропуски в категориальных данных о фильмах, взяв недостающую информацию в повторах фильмов (по названию)."
      ]
    },
    {
      "cell_type": "code",
      "execution_count": null,
      "metadata": {
        "id": "kMOjY5us0y0L"
      },
      "outputs": [],
      "source": [
        "def get_other_records(df: pd.DataFrame, column_name: str) -> pd.DataFrame:\n",
        "\n",
        "    na_in_movies = df.loc[df[column_name].isna(), 'title']\n",
        "\n",
        "    return df[df['title'].isin(na_in_movies)].sort_values(by='title')"
      ]
    },
    {
      "cell_type": "markdown",
      "metadata": {
        "id": "2Pvg_e7b0y0L"
      },
      "source": [
        "Посмотрим на пропуске в столбце director"
      ]
    },
    {
      "cell_type": "code",
      "execution_count": null,
      "metadata": {
        "id": "979-pVqr0y0L",
        "outputId": "95512cf8-5bdd-414c-f268-e1abfdaabc58"
      },
      "outputs": [
        {
          "data": {
            "text/html": [
              "<div>\n",
              "<style scoped>\n",
              "    .dataframe tbody tr th:only-of-type {\n",
              "        vertical-align: middle;\n",
              "    }\n",
              "\n",
              "    .dataframe tbody tr th {\n",
              "        vertical-align: top;\n",
              "    }\n",
              "\n",
              "    .dataframe thead th {\n",
              "        text-align: right;\n",
              "    }\n",
              "</style>\n",
              "<table border=\"1\" class=\"dataframe\">\n",
              "  <thead>\n",
              "    <tr style=\"text-align: right;\">\n",
              "      <th></th>\n",
              "      <th>title</th>\n",
              "      <th>puNumber</th>\n",
              "      <th>show_start_date</th>\n",
              "      <th>type</th>\n",
              "      <th>film_studio</th>\n",
              "      <th>production_country</th>\n",
              "      <th>director</th>\n",
              "      <th>producer</th>\n",
              "      <th>age_restriction</th>\n",
              "      <th>refundable_support</th>\n",
              "      <th>nonrefundable_support</th>\n",
              "      <th>budget</th>\n",
              "      <th>financing_source</th>\n",
              "      <th>ratings</th>\n",
              "      <th>genres</th>\n",
              "      <th>box_office</th>\n",
              "    </tr>\n",
              "  </thead>\n",
              "  <tbody>\n",
              "    <tr>\n",
              "      <th>4415</th>\n",
              "      <td>Bon Jovi. The Circle Tour</td>\n",
              "      <td>126001710</td>\n",
              "      <td>2010-11-11 12:00:00</td>\n",
              "      <td>Прочие</td>\n",
              "      <td>Эншутц Интертейнмент Груп</td>\n",
              "      <td>США</td>\n",
              "      <td>NaN</td>\n",
              "      <td>Эншутц Интертейнмент Груп</td>\n",
              "      <td>«0+» - для любой зрительской аудитории</td>\n",
              "      <td>NaN</td>\n",
              "      <td>NaN</td>\n",
              "      <td>NaN</td>\n",
              "      <td>NaN</td>\n",
              "      <td>7.9</td>\n",
              "      <td>концерт,музыка</td>\n",
              "      <td>NaN</td>\n",
              "    </tr>\n",
              "    <tr>\n",
              "      <th>4052</th>\n",
              "      <td>Ганс Сэйфуллин \"Авылым чишмэлэре. Ганс Сэйфулл...</td>\n",
              "      <td>217017310</td>\n",
              "      <td>2010-04-22 12:00:00</td>\n",
              "      <td>Художественный</td>\n",
              "      <td>ООО \"Барс-Рекордс\"</td>\n",
              "      <td>Россия</td>\n",
              "      <td>NaN</td>\n",
              "      <td>NaN</td>\n",
              "      <td>«0+» - для любой зрительской аудитории</td>\n",
              "      <td>NaN</td>\n",
              "      <td>NaN</td>\n",
              "      <td>NaN</td>\n",
              "      <td>NaN</td>\n",
              "      <td>NaN</td>\n",
              "      <td>NaN</td>\n",
              "      <td>NaN</td>\n",
              "    </tr>\n",
              "    <tr>\n",
              "      <th>4923</th>\n",
              "      <td>Георг Фридрих Гендель. Мессия. Оратория. Корол...</td>\n",
              "      <td>126001111</td>\n",
              "      <td>2011-04-25 12:00:00</td>\n",
              "      <td>Прочие</td>\n",
              "      <td>Опус Арт</td>\n",
              "      <td>Великобритания</td>\n",
              "      <td>NaN</td>\n",
              "      <td>Короевский колледж Кембриджа</td>\n",
              "      <td>«0+» - для любой зрительской аудитории</td>\n",
              "      <td>NaN</td>\n",
              "      <td>NaN</td>\n",
              "      <td>NaN</td>\n",
              "      <td>NaN</td>\n",
              "      <td>NaN</td>\n",
              "      <td>NaN</td>\n",
              "      <td>NaN</td>\n",
              "    </tr>\n",
              "    <tr>\n",
              "      <th>3840</th>\n",
              "      <td>Зур концерт (Большой концерт).</td>\n",
              "      <td>217027010</td>\n",
              "      <td>2010-06-24 12:00:00</td>\n",
              "      <td>Художественный</td>\n",
              "      <td>ООО \"Барс Рекордс\"</td>\n",
              "      <td>Россия</td>\n",
              "      <td>NaN</td>\n",
              "      <td>NaN</td>\n",
              "      <td>«12+» - для детей старше 12 лет</td>\n",
              "      <td>NaN</td>\n",
              "      <td>NaN</td>\n",
              "      <td>NaN</td>\n",
              "      <td>NaN</td>\n",
              "      <td>NaN</td>\n",
              "      <td>NaN</td>\n",
              "      <td>NaN</td>\n",
              "    </tr>\n",
              "    <tr>\n",
              "      <th>4298</th>\n",
              "      <td>Изге Вэли (Святой Валентин)</td>\n",
              "      <td>217020610</td>\n",
              "      <td>2010-05-20 12:00:00</td>\n",
              "      <td>Художественный</td>\n",
              "      <td>ООО \"Барс Рекордс\"</td>\n",
              "      <td>Россия</td>\n",
              "      <td>NaN</td>\n",
              "      <td>NaN</td>\n",
              "      <td>«12+» - для детей старше 12 лет</td>\n",
              "      <td>NaN</td>\n",
              "      <td>NaN</td>\n",
              "      <td>NaN</td>\n",
              "      <td>NaN</td>\n",
              "      <td>NaN</td>\n",
              "      <td>NaN</td>\n",
              "      <td>NaN</td>\n",
              "    </tr>\n",
              "    <tr>\n",
              "      <th>4441</th>\n",
              "      <td>Мульт личности. Выпуск 5</td>\n",
              "      <td>214000410</td>\n",
              "      <td>2010-01-25 12:00:00</td>\n",
              "      <td>Художественный</td>\n",
              "      <td>NaN</td>\n",
              "      <td>NaN</td>\n",
              "      <td>NaN</td>\n",
              "      <td>NaN</td>\n",
              "      <td>«0+» - для любой зрительской аудитории</td>\n",
              "      <td>NaN</td>\n",
              "      <td>NaN</td>\n",
              "      <td>NaN</td>\n",
              "      <td>NaN</td>\n",
              "      <td>4.0</td>\n",
              "      <td>мультфильм,комедия</td>\n",
              "      <td>NaN</td>\n",
              "    </tr>\n",
              "    <tr>\n",
              "      <th>4942</th>\n",
              "      <td>Питер Гэбриэл и New Blood Orchestra 3D</td>\n",
              "      <td>126002711</td>\n",
              "      <td>2011-11-11 12:00:00</td>\n",
              "      <td>Прочие</td>\n",
              "      <td>Омниверс Визион</td>\n",
              "      <td>Великобритания</td>\n",
              "      <td>NaN</td>\n",
              "      <td>Омниверс Визион</td>\n",
              "      <td>«0+» - для любой зрительской аудитории</td>\n",
              "      <td>NaN</td>\n",
              "      <td>NaN</td>\n",
              "      <td>NaN</td>\n",
              "      <td>NaN</td>\n",
              "      <td>6.7</td>\n",
              "      <td>концерт,музыка</td>\n",
              "      <td>NaN</td>\n",
              "    </tr>\n",
              "    <tr>\n",
              "      <th>1735</th>\n",
              "      <td>Помпеи. Британский музей</td>\n",
              "      <td>126003413</td>\n",
              "      <td>2013-09-11 12:00:00</td>\n",
              "      <td>Прочие</td>\n",
              "      <td>МортуСкрин, Британский музей</td>\n",
              "      <td>Великобритания</td>\n",
              "      <td>NaN</td>\n",
              "      <td>Британский музей</td>\n",
              "      <td>«0+» - для любой зрительской аудитории</td>\n",
              "      <td>NaN</td>\n",
              "      <td>NaN</td>\n",
              "      <td>NaN</td>\n",
              "      <td>NaN</td>\n",
              "      <td>NaN</td>\n",
              "      <td>NaN</td>\n",
              "      <td>NaN</td>\n",
              "    </tr>\n",
              "    <tr>\n",
              "      <th>764</th>\n",
              "      <td>Три звезды. Концерт в Waldbuhne Theater, Берли...</td>\n",
              "      <td>126003512</td>\n",
              "      <td>2012-12-04 12:00:00</td>\n",
              "      <td>Прочие</td>\n",
              "      <td>Райзинг Алтернатив</td>\n",
              "      <td>Великобритания</td>\n",
              "      <td>NaN</td>\n",
              "      <td>Вальдбюне Театр</td>\n",
              "      <td>«0+» - для любой зрительской аудитории</td>\n",
              "      <td>NaN</td>\n",
              "      <td>NaN</td>\n",
              "      <td>NaN</td>\n",
              "      <td>NaN</td>\n",
              "      <td>NaN</td>\n",
              "      <td>NaN</td>\n",
              "      <td>44350.0</td>\n",
              "    </tr>\n",
              "  </tbody>\n",
              "</table>\n",
              "</div>"
            ],
            "text/plain": [
              "                                                  title   puNumber  \\\n",
              "4415                          Bon Jovi. The Circle Tour  126001710   \n",
              "4052  Ганс Сэйфуллин \"Авылым чишмэлэре. Ганс Сэйфулл...  217017310   \n",
              "4923  Георг Фридрих Гендель. Мессия. Оратория. Корол...  126001111   \n",
              "3840                     Зур концерт (Большой концерт).  217027010   \n",
              "4298                        Изге Вэли (Святой Валентин)  217020610   \n",
              "4441                           Мульт личности. Выпуск 5  214000410   \n",
              "4942             Питер Гэбриэл и New Blood Orchestra 3D  126002711   \n",
              "1735                           Помпеи. Британский музей  126003413   \n",
              "764   Три звезды. Концерт в Waldbuhne Theater, Берли...  126003512   \n",
              "\n",
              "         show_start_date            type                   film_studio  \\\n",
              "4415 2010-11-11 12:00:00          Прочие     Эншутц Интертейнмент Груп   \n",
              "4052 2010-04-22 12:00:00  Художественный            ООО \"Барс-Рекордс\"   \n",
              "4923 2011-04-25 12:00:00          Прочие                      Опус Арт   \n",
              "3840 2010-06-24 12:00:00  Художественный            ООО \"Барс Рекордс\"   \n",
              "4298 2010-05-20 12:00:00  Художественный            ООО \"Барс Рекордс\"   \n",
              "4441 2010-01-25 12:00:00  Художественный                           NaN   \n",
              "4942 2011-11-11 12:00:00          Прочие               Омниверс Визион   \n",
              "1735 2013-09-11 12:00:00          Прочие  МортуСкрин, Британский музей   \n",
              "764  2012-12-04 12:00:00          Прочие            Райзинг Алтернатив   \n",
              "\n",
              "     production_country director                      producer  \\\n",
              "4415                США      NaN     Эншутц Интертейнмент Груп   \n",
              "4052             Россия      NaN                           NaN   \n",
              "4923     Великобритания      NaN  Короевский колледж Кембриджа   \n",
              "3840             Россия      NaN                           NaN   \n",
              "4298             Россия      NaN                           NaN   \n",
              "4441                NaN      NaN                           NaN   \n",
              "4942     Великобритания      NaN               Омниверс Визион   \n",
              "1735     Великобритания      NaN              Британский музей   \n",
              "764      Великобритания      NaN               Вальдбюне Театр   \n",
              "\n",
              "                             age_restriction  refundable_support  \\\n",
              "4415  «0+» - для любой зрительской аудитории                 NaN   \n",
              "4052  «0+» - для любой зрительской аудитории                 NaN   \n",
              "4923  «0+» - для любой зрительской аудитории                 NaN   \n",
              "3840         «12+» - для детей старше 12 лет                 NaN   \n",
              "4298         «12+» - для детей старше 12 лет                 NaN   \n",
              "4441  «0+» - для любой зрительской аудитории                 NaN   \n",
              "4942  «0+» - для любой зрительской аудитории                 NaN   \n",
              "1735  «0+» - для любой зрительской аудитории                 NaN   \n",
              "764   «0+» - для любой зрительской аудитории                 NaN   \n",
              "\n",
              "      nonrefundable_support  budget financing_source  ratings  \\\n",
              "4415                    NaN     NaN              NaN      7.9   \n",
              "4052                    NaN     NaN              NaN      NaN   \n",
              "4923                    NaN     NaN              NaN      NaN   \n",
              "3840                    NaN     NaN              NaN      NaN   \n",
              "4298                    NaN     NaN              NaN      NaN   \n",
              "4441                    NaN     NaN              NaN      4.0   \n",
              "4942                    NaN     NaN              NaN      6.7   \n",
              "1735                    NaN     NaN              NaN      NaN   \n",
              "764                     NaN     NaN              NaN      NaN   \n",
              "\n",
              "                  genres  box_office  \n",
              "4415      концерт,музыка         NaN  \n",
              "4052                 NaN         NaN  \n",
              "4923                 NaN         NaN  \n",
              "3840                 NaN         NaN  \n",
              "4298                 NaN         NaN  \n",
              "4441  мультфильм,комедия         NaN  \n",
              "4942      концерт,музыка         NaN  \n",
              "1735                 NaN         NaN  \n",
              "764                  NaN     44350.0  "
            ]
          },
          "execution_count": 21,
          "metadata": {},
          "output_type": "execute_result"
        }
      ],
      "source": [
        "get_other_records(df, 'director')"
      ]
    },
    {
      "cell_type": "markdown",
      "metadata": {
        "id": "ksrJTBxf0y0L"
      },
      "source": [
        "К сожелению по этому столбцу не получится заболнить пропуски. Напишем функцию, которую мы сможем применить для заполнения пропусков в других категориальных столбцах. Группировать фильмы будем по названию и режисёру."
      ]
    },
    {
      "cell_type": "code",
      "execution_count": null,
      "metadata": {
        "id": "ZmQPp8Q20y0L"
      },
      "outputs": [],
      "source": [
        "def fill_by_group(df, columns):\n",
        "    for column in columns:\n",
        "        return get_other_records(df, column).groupby(['title', 'director'])[column].transform('first')"
      ]
    },
    {
      "cell_type": "markdown",
      "metadata": {
        "id": "IkG_yBh20y0L"
      },
      "source": [
        "Оценим эффективность такого подхода с помощью функции для подсчёта пропусков до обработки и после."
      ]
    },
    {
      "cell_type": "code",
      "execution_count": null,
      "metadata": {
        "id": "e5ldpEXH0y0L"
      },
      "outputs": [],
      "source": [
        "def fill_by_group_effective(df, columns):\n",
        "    for column in columns:\n",
        "        print('Пропусков в', column)\n",
        "        print('до:', df[column].isna().sum())\n",
        "        print('после:', fill_by_group(df, [column]).isna().sum())"
      ]
    },
    {
      "cell_type": "code",
      "execution_count": null,
      "metadata": {
        "id": "mNTXRDFt0y0L",
        "outputId": "b9795517-ef23-417d-8f88-6894feae8556"
      },
      "outputs": [
        {
          "name": "stdout",
          "output_type": "stream",
          "text": [
            "Пропусков в film_studio\n",
            "до: 18\n",
            "после: 18\n",
            "Пропусков в production_country\n",
            "до: 2\n",
            "после: 2\n",
            "Пропусков в producer\n",
            "до: 568\n",
            "после: 568\n",
            "Пропусков в ratings\n",
            "до: 967\n",
            "после: 967\n",
            "Пропусков в genres\n",
            "до: 976\n",
            "после: 976\n"
          ]
        }
      ],
      "source": [
        "fill_by_group_effective(df, ['film_studio', 'production_country', 'producer', 'ratings', 'genres'])"
      ]
    },
    {
      "cell_type": "markdown",
      "metadata": {
        "id": "uypR1g0w0y0M"
      },
      "source": [
        "К сожалению этот метод заполнения пропусков не эффективен для этого набора данных."
      ]
    },
    {
      "cell_type": "markdown",
      "metadata": {
        "id": "4c6k1t9ygFyQ"
      },
      "source": [
        "#### Шаг 2.3. Изучите дубликаты в датафрейме\n",
        "- Проверьте, есть ли в данных дубликаты. Опишите причины, которые могли повлиять на появление дублей."
      ]
    },
    {
      "cell_type": "code",
      "execution_count": null,
      "metadata": {
        "id": "vcaJuQ2N0y0M",
        "outputId": "12ab9c79-71b0-46e6-9018-8b9f65853f5c"
      },
      "outputs": [
        {
          "data": {
            "text/plain": [
              "title                    6772\n",
              "puNumber                 7484\n",
              "show_start_date          1965\n",
              "type                        8\n",
              "film_studio              5490\n",
              "production_country        950\n",
              "director                 4811\n",
              "producer                 5349\n",
              "age_restriction             5\n",
              "refundable_support         34\n",
              "nonrefundable_support      75\n",
              "budget                    290\n",
              "financing_source            3\n",
              "ratings                    84\n",
              "genres                    742\n",
              "box_office               2938\n",
              "dtype: int64"
            ]
          },
          "execution_count": 25,
          "metadata": {},
          "output_type": "execute_result"
        }
      ],
      "source": [
        "df.nunique()"
      ]
    },
    {
      "cell_type": "markdown",
      "metadata": {
        "id": "2Whltdf90y0M"
      },
      "source": [
        "Повторы в title объясняются тем, что один и тот же фильм могут начать показывать в разное время под разной лицензией и/или разными прокатчиками."
      ]
    },
    {
      "cell_type": "code",
      "execution_count": null,
      "metadata": {
        "id": "HNz_PqQY0y0M",
        "outputId": "a40f95f8-01c7-426d-a81c-214919aed673"
      },
      "outputs": [
        {
          "data": {
            "text/html": [
              "<div>\n",
              "<style scoped>\n",
              "    .dataframe tbody tr th:only-of-type {\n",
              "        vertical-align: middle;\n",
              "    }\n",
              "\n",
              "    .dataframe tbody tr th {\n",
              "        vertical-align: top;\n",
              "    }\n",
              "\n",
              "    .dataframe thead th {\n",
              "        text-align: right;\n",
              "    }\n",
              "</style>\n",
              "<table border=\"1\" class=\"dataframe\">\n",
              "  <thead>\n",
              "    <tr style=\"text-align: right;\">\n",
              "      <th></th>\n",
              "      <th>title</th>\n",
              "      <th>puNumber</th>\n",
              "      <th>show_start_date</th>\n",
              "      <th>type</th>\n",
              "      <th>film_studio</th>\n",
              "      <th>production_country</th>\n",
              "      <th>director</th>\n",
              "      <th>producer</th>\n",
              "      <th>age_restriction</th>\n",
              "      <th>refundable_support</th>\n",
              "      <th>nonrefundable_support</th>\n",
              "      <th>budget</th>\n",
              "      <th>financing_source</th>\n",
              "      <th>ratings</th>\n",
              "      <th>genres</th>\n",
              "      <th>box_office</th>\n",
              "    </tr>\n",
              "  </thead>\n",
              "  <tbody>\n",
              "    <tr>\n",
              "      <th>4505</th>\n",
              "      <td>Я ненавижу день святого Валентина</td>\n",
              "      <td>221139210</td>\n",
              "      <td>2010-12-03 12:00:00</td>\n",
              "      <td>Художественный</td>\n",
              "      <td>Блю Стар Пикчерз, Ай Хэйт Вдэй Продакшнз, Ай С...</td>\n",
              "      <td>США</td>\n",
              "      <td>Ниа Вардалос</td>\n",
              "      <td>Доминик Йанно, Мэдлейн Шерак, Уильям Шерак</td>\n",
              "      <td>«16+» - для детей старше 16 лет</td>\n",
              "      <td>NaN</td>\n",
              "      <td>NaN</td>\n",
              "      <td>NaN</td>\n",
              "      <td>NaN</td>\n",
              "      <td>5.0</td>\n",
              "      <td>мелодрама,комедия</td>\n",
              "      <td>NaN</td>\n",
              "    </tr>\n",
              "    <tr>\n",
              "      <th>1704</th>\n",
              "      <td>Я, снова я и мама</td>\n",
              "      <td>121030213</td>\n",
              "      <td>2013-11-21 12:00:00</td>\n",
              "      <td>Художественный</td>\n",
              "      <td>Гомон, Эль Джи Эм Продакшнз, Ректанль Продюксь...</td>\n",
              "      <td>Франция - Бельгия</td>\n",
              "      <td>Гийом Гальенн</td>\n",
              "      <td>Жан-Батист Дюпон, Алис Жирар, Сирил Кольбо-Жюстен</td>\n",
              "      <td>«16+» - для детей старше 16 лет</td>\n",
              "      <td>NaN</td>\n",
              "      <td>NaN</td>\n",
              "      <td>NaN</td>\n",
              "      <td>NaN</td>\n",
              "      <td>6.3</td>\n",
              "      <td>комедия,мелодрама,драма</td>\n",
              "      <td>NaN</td>\n",
              "    </tr>\n",
              "    <tr>\n",
              "      <th>1703</th>\n",
              "      <td>Я, снова я и мама</td>\n",
              "      <td>121013116</td>\n",
              "      <td>2016-05-23 12:00:00</td>\n",
              "      <td>Художественный</td>\n",
              "      <td>Гомон, Эль Джи Эм Продакшнз, Ректанль Продюксь...</td>\n",
              "      <td>Франция - Бельгия</td>\n",
              "      <td>Гийом Гальенн</td>\n",
              "      <td>Жан-Батист Дюпон, Алис Жирар, Сирил Кольбо-Жюстен</td>\n",
              "      <td>«16+» - для детей старше 16 лет</td>\n",
              "      <td>NaN</td>\n",
              "      <td>NaN</td>\n",
              "      <td>NaN</td>\n",
              "      <td>NaN</td>\n",
              "      <td>6.3</td>\n",
              "      <td>комедия,мелодрама,драма</td>\n",
              "      <td>NaN</td>\n",
              "    </tr>\n",
              "    <tr>\n",
              "      <th>6379</th>\n",
              "      <td>Ян Антонышев</td>\n",
              "      <td>112011818</td>\n",
              "      <td>2018-11-15 12:00:00</td>\n",
              "      <td>Документальный</td>\n",
              "      <td>NaN</td>\n",
              "      <td>Россия</td>\n",
              "      <td>Е.Окопная</td>\n",
              "      <td>Е.Герасимов</td>\n",
              "      <td>«12+» - для детей старше 12 лет</td>\n",
              "      <td>NaN</td>\n",
              "      <td>NaN</td>\n",
              "      <td>NaN</td>\n",
              "      <td>NaN</td>\n",
              "      <td>NaN</td>\n",
              "      <td>NaN</td>\n",
              "      <td>NaN</td>\n",
              "    </tr>\n",
              "    <tr>\n",
              "      <th>6380</th>\n",
              "      <td>Ян Антонышев</td>\n",
              "      <td>112011918</td>\n",
              "      <td>2018-11-15 12:00:00</td>\n",
              "      <td>Документальный</td>\n",
              "      <td>NaN</td>\n",
              "      <td>Россия</td>\n",
              "      <td>Е.Окопная</td>\n",
              "      <td>Е.Герасимов</td>\n",
              "      <td>«12+» - для детей старше 12 лет</td>\n",
              "      <td>NaN</td>\n",
              "      <td>NaN</td>\n",
              "      <td>NaN</td>\n",
              "      <td>NaN</td>\n",
              "      <td>NaN</td>\n",
              "      <td>NaN</td>\n",
              "      <td>NaN</td>\n",
              "    </tr>\n",
              "  </tbody>\n",
              "</table>\n",
              "</div>"
            ],
            "text/plain": [
              "                                  title   puNumber     show_start_date  \\\n",
              "4505  Я ненавижу день святого Валентина  221139210 2010-12-03 12:00:00   \n",
              "1704                  Я, снова я и мама  121030213 2013-11-21 12:00:00   \n",
              "1703                  Я, снова я и мама  121013116 2016-05-23 12:00:00   \n",
              "6379                       Ян Антонышев  112011818 2018-11-15 12:00:00   \n",
              "6380                       Ян Антонышев  112011918 2018-11-15 12:00:00   \n",
              "\n",
              "                type                                        film_studio  \\\n",
              "4505  Художественный  Блю Стар Пикчерз, Ай Хэйт Вдэй Продакшнз, Ай С...   \n",
              "1704  Художественный  Гомон, Эль Джи Эм Продакшнз, Ректанль Продюксь...   \n",
              "1703  Художественный  Гомон, Эль Джи Эм Продакшнз, Ректанль Продюксь...   \n",
              "6379  Документальный                                                NaN   \n",
              "6380  Документальный                                                NaN   \n",
              "\n",
              "     production_country       director  \\\n",
              "4505                США   Ниа Вардалос   \n",
              "1704  Франция - Бельгия  Гийом Гальенн   \n",
              "1703  Франция - Бельгия  Гийом Гальенн   \n",
              "6379             Россия      Е.Окопная   \n",
              "6380             Россия      Е.Окопная   \n",
              "\n",
              "                                               producer  \\\n",
              "4505         Доминик Йанно, Мэдлейн Шерак, Уильям Шерак   \n",
              "1704  Жан-Батист Дюпон, Алис Жирар, Сирил Кольбо-Жюстен   \n",
              "1703  Жан-Батист Дюпон, Алис Жирар, Сирил Кольбо-Жюстен   \n",
              "6379                                        Е.Герасимов   \n",
              "6380                                        Е.Герасимов   \n",
              "\n",
              "                      age_restriction  refundable_support  \\\n",
              "4505  «16+» - для детей старше 16 лет                 NaN   \n",
              "1704  «16+» - для детей старше 16 лет                 NaN   \n",
              "1703  «16+» - для детей старше 16 лет                 NaN   \n",
              "6379  «12+» - для детей старше 12 лет                 NaN   \n",
              "6380  «12+» - для детей старше 12 лет                 NaN   \n",
              "\n",
              "      nonrefundable_support  budget financing_source  ratings  \\\n",
              "4505                    NaN     NaN              NaN      5.0   \n",
              "1704                    NaN     NaN              NaN      6.3   \n",
              "1703                    NaN     NaN              NaN      6.3   \n",
              "6379                    NaN     NaN              NaN      NaN   \n",
              "6380                    NaN     NaN              NaN      NaN   \n",
              "\n",
              "                       genres  box_office  \n",
              "4505        мелодрама,комедия         NaN  \n",
              "1704  комедия,мелодрама,драма         NaN  \n",
              "1703  комедия,мелодрама,драма         NaN  \n",
              "6379                      NaN         NaN  \n",
              "6380                      NaN         NaN  "
            ]
          },
          "execution_count": 26,
          "metadata": {},
          "output_type": "execute_result"
        }
      ],
      "source": [
        "df.loc[df['title'].duplicated(keep=False)].sort_values(by='title').tail()"
      ]
    },
    {
      "cell_type": "markdown",
      "metadata": {
        "id": "eZxiOxUN0y0M"
      },
      "source": [
        "puNumber наверное должен быть уникальным. Под одним номером прокатного удостоверения числятся два разных фильма с одной датой премьеры. Возможно сыграл человеческий фактор при заполнении какой-нибудь формы. Этот номер не имеет принципиального значения, оставлю как есть."
      ]
    },
    {
      "cell_type": "code",
      "execution_count": null,
      "metadata": {
        "id": "l8z387fp0y0M",
        "outputId": "78919f60-6adc-478b-8db9-283a8efe7c8f"
      },
      "outputs": [
        {
          "data": {
            "text/html": [
              "<div>\n",
              "<style scoped>\n",
              "    .dataframe tbody tr th:only-of-type {\n",
              "        vertical-align: middle;\n",
              "    }\n",
              "\n",
              "    .dataframe tbody tr th {\n",
              "        vertical-align: top;\n",
              "    }\n",
              "\n",
              "    .dataframe thead th {\n",
              "        text-align: right;\n",
              "    }\n",
              "</style>\n",
              "<table border=\"1\" class=\"dataframe\">\n",
              "  <thead>\n",
              "    <tr style=\"text-align: right;\">\n",
              "      <th></th>\n",
              "      <th>title</th>\n",
              "      <th>puNumber</th>\n",
              "      <th>show_start_date</th>\n",
              "      <th>type</th>\n",
              "      <th>film_studio</th>\n",
              "      <th>production_country</th>\n",
              "      <th>director</th>\n",
              "      <th>producer</th>\n",
              "      <th>age_restriction</th>\n",
              "      <th>refundable_support</th>\n",
              "      <th>nonrefundable_support</th>\n",
              "      <th>budget</th>\n",
              "      <th>financing_source</th>\n",
              "      <th>ratings</th>\n",
              "      <th>genres</th>\n",
              "      <th>box_office</th>\n",
              "    </tr>\n",
              "  </thead>\n",
              "  <tbody>\n",
              "    <tr>\n",
              "      <th>4638</th>\n",
              "      <td>Как жениться и остаться холостым</td>\n",
              "      <td>221154310</td>\n",
              "      <td>2010-12-17 12:00:00</td>\n",
              "      <td>Художественный</td>\n",
              "      <td>Ше Вам, Скрипт Ассосье, Тэ Фэ 1 Фильм Продюксь...</td>\n",
              "      <td>Франция</td>\n",
              "      <td>Эрик Лартиго</td>\n",
              "      <td>Амандин Било, Алан Шаба</td>\n",
              "      <td>«16+» - для детей старше 16 лет</td>\n",
              "      <td>NaN</td>\n",
              "      <td>NaN</td>\n",
              "      <td>NaN</td>\n",
              "      <td>NaN</td>\n",
              "      <td>7.0</td>\n",
              "      <td>мелодрама,комедия</td>\n",
              "      <td>NaN</td>\n",
              "    </tr>\n",
              "    <tr>\n",
              "      <th>4639</th>\n",
              "      <td>Иоанна - женщина на папском престоле /По роман...</td>\n",
              "      <td>221154310</td>\n",
              "      <td>2010-12-17 12:00:00</td>\n",
              "      <td>Художественный</td>\n",
              "      <td>Константин Фильм, А Эр Ди Дегето Фильм, Дюне ...</td>\n",
              "      <td>Германия - Великобритания - Италия - Испания</td>\n",
              "      <td>Зенке Вортманн</td>\n",
              "      <td>Оливер Бербен, Дорис Д.Хайнце, Фарук Элтан</td>\n",
              "      <td>«16+» - для детей старше 16 лет</td>\n",
              "      <td>NaN</td>\n",
              "      <td>NaN</td>\n",
              "      <td>NaN</td>\n",
              "      <td>NaN</td>\n",
              "      <td>7.6</td>\n",
              "      <td>драма,мелодрама,история</td>\n",
              "      <td>NaN</td>\n",
              "    </tr>\n",
              "    <tr>\n",
              "      <th>5067</th>\n",
              "      <td>Анализируй это!</td>\n",
              "      <td>221054410</td>\n",
              "      <td>2010-05-25 12:00:00</td>\n",
              "      <td>Художественный</td>\n",
              "      <td>Уорнер Бразерс, Вилладж Роудшоу Филмз ЛТД</td>\n",
              "      <td>США-Австралия</td>\n",
              "      <td>ХЭрольд Рэмис</td>\n",
              "      <td>Джейн Розенталь, Пола Уейнстейн</td>\n",
              "      <td>«16+» - для детей старше 16 лет</td>\n",
              "      <td>NaN</td>\n",
              "      <td>NaN</td>\n",
              "      <td>NaN</td>\n",
              "      <td>NaN</td>\n",
              "      <td>7.4</td>\n",
              "      <td>комедия,криминал</td>\n",
              "      <td>NaN</td>\n",
              "    </tr>\n",
              "    <tr>\n",
              "      <th>5068</th>\n",
              "      <td>Анализируй то!</td>\n",
              "      <td>221054410</td>\n",
              "      <td>2010-05-25 12:00:00</td>\n",
              "      <td>Художественный</td>\n",
              "      <td>Уорнер Бразерс, Виллидж Роадшоу Пикчерз, Эн-Пи...</td>\n",
              "      <td>США</td>\n",
              "      <td>Гарольд Реймис</td>\n",
              "      <td>Джейн Розенталь, Паул Уэйнстейн</td>\n",
              "      <td>«12+» - для детей старше 12 лет</td>\n",
              "      <td>NaN</td>\n",
              "      <td>NaN</td>\n",
              "      <td>NaN</td>\n",
              "      <td>NaN</td>\n",
              "      <td>6.8</td>\n",
              "      <td>комедия,криминал</td>\n",
              "      <td>NaN</td>\n",
              "    </tr>\n",
              "  </tbody>\n",
              "</table>\n",
              "</div>"
            ],
            "text/plain": [
              "                                                  title   puNumber  \\\n",
              "4638                   Как жениться и остаться холостым  221154310   \n",
              "4639  Иоанна - женщина на папском престоле /По роман...  221154310   \n",
              "5067                                    Анализируй это!  221054410   \n",
              "5068                                     Анализируй то!  221054410   \n",
              "\n",
              "         show_start_date            type  \\\n",
              "4638 2010-12-17 12:00:00  Художественный   \n",
              "4639 2010-12-17 12:00:00  Художественный   \n",
              "5067 2010-05-25 12:00:00  Художественный   \n",
              "5068 2010-05-25 12:00:00  Художественный   \n",
              "\n",
              "                                            film_studio  \\\n",
              "4638  Ше Вам, Скрипт Ассосье, Тэ Фэ 1 Фильм Продюксь...   \n",
              "4639   Константин Фильм, А Эр Ди Дегето Фильм, Дюне ...   \n",
              "5067          Уорнер Бразерс, Вилладж Роудшоу Филмз ЛТД   \n",
              "5068  Уорнер Бразерс, Виллидж Роадшоу Пикчерз, Эн-Пи...   \n",
              "\n",
              "                                production_country        director  \\\n",
              "4638                                       Франция    Эрик Лартиго   \n",
              "4639  Германия - Великобритания - Италия - Испания  Зенке Вортманн   \n",
              "5067                                 США-Австралия   ХЭрольд Рэмис   \n",
              "5068                                           США  Гарольд Реймис   \n",
              "\n",
              "                                        producer  \\\n",
              "4638                     Амандин Било, Алан Шаба   \n",
              "4639  Оливер Бербен, Дорис Д.Хайнце, Фарук Элтан   \n",
              "5067             Джейн Розенталь, Пола Уейнстейн   \n",
              "5068             Джейн Розенталь, Паул Уэйнстейн   \n",
              "\n",
              "                      age_restriction  refundable_support  \\\n",
              "4638  «16+» - для детей старше 16 лет                 NaN   \n",
              "4639  «16+» - для детей старше 16 лет                 NaN   \n",
              "5067  «16+» - для детей старше 16 лет                 NaN   \n",
              "5068  «12+» - для детей старше 12 лет                 NaN   \n",
              "\n",
              "      nonrefundable_support  budget financing_source  ratings  \\\n",
              "4638                    NaN     NaN              NaN      7.0   \n",
              "4639                    NaN     NaN              NaN      7.6   \n",
              "5067                    NaN     NaN              NaN      7.4   \n",
              "5068                    NaN     NaN              NaN      6.8   \n",
              "\n",
              "                       genres  box_office  \n",
              "4638        мелодрама,комедия         NaN  \n",
              "4639  драма,мелодрама,история         NaN  \n",
              "5067         комедия,криминал         NaN  \n",
              "5068         комедия,криминал         NaN  "
            ]
          },
          "execution_count": 27,
          "metadata": {},
          "output_type": "execute_result"
        }
      ],
      "source": [
        "df.loc[df['puNumber'].duplicated(keep=False)]"
      ]
    },
    {
      "cell_type": "markdown",
      "metadata": {
        "id": "wPLy0PAb0y0M"
      },
      "source": [
        "show_start_date. Вполне реально начать показ нескольких фильмов в одну и ту же дату."
      ]
    },
    {
      "cell_type": "code",
      "execution_count": null,
      "metadata": {
        "id": "yqeu9bma0y0N",
        "outputId": "0dc65679-fe8e-43e8-daa2-6f31b397db83"
      },
      "outputs": [
        {
          "data": {
            "text/plain": [
              "7481             Великобритания\n",
              "7482                        США\n",
              "7483               США - Канада\n",
              "7484    Республика Кипр, Россия\n",
              "7485    Республика Кипр, Россия\n",
              "Name: production_country, dtype: object"
            ]
          },
          "execution_count": 28,
          "metadata": {},
          "output_type": "execute_result"
        }
      ],
      "source": [
        "df['production_country'].tail()"
      ]
    },
    {
      "cell_type": "markdown",
      "metadata": {
        "id": "VTLaDVS30y0P"
      },
      "source": [
        "Уберем возможно лишние пробелы между списками внутри ячейки. Есть возможность отсортировать lambda x: ', '.join(sorted([x.strip() for x in x.split(',')])), тогда бы мы избавились от неявных дубликатов, связанных с порядком значений. Однако, я не уверен на 100%, что порядок не имеет значение."
      ]
    },
    {
      "cell_type": "code",
      "execution_count": null,
      "metadata": {
        "id": "cBMHssFQ0y0P",
        "outputId": "1b0c0c79-cbe6-4b33-c6ec-b3064609becc"
      },
      "outputs": [
        {
          "data": {
            "text/plain": [
              "7481             Великобритания\n",
              "7482                        США\n",
              "7483                США, Канада\n",
              "7484    Республика Кипр, Россия\n",
              "7485    Республика Кипр, Россия\n",
              "Name: production_country, dtype: object"
            ]
          },
          "execution_count": 29,
          "metadata": {},
          "output_type": "execute_result"
        }
      ],
      "source": [
        "df['production_country'] = df['production_country'].dropna().apply(lambda x: ', '.join([x.strip() for x in x.split('-')]))\n",
        "df['production_country'].tail()"
      ]
    },
    {
      "cell_type": "code",
      "execution_count": null,
      "metadata": {
        "id": "D0WGZXpG0y0P",
        "outputId": "656c4dcc-9120-4a4c-d59d-9d11cdd7a7ee"
      },
      "outputs": [
        {
          "name": "stdout",
          "output_type": "stream",
          "text": [
            "уникальные значения в director\n",
            "было 4811\n",
            "стало 4800\n",
            "\n",
            "уникальные значения в producer\n",
            "было 5349\n",
            "стало 5333\n",
            "\n",
            "уникальные значения в film_studio\n",
            "было 5490\n",
            "стало 5461\n",
            "\n",
            "уникальные значения в production_country\n",
            "было 813\n",
            "стало 812\n",
            "\n",
            "уникальные значения в genres\n",
            "было 742\n",
            "стало 742\n",
            "\n"
          ]
        }
      ],
      "source": [
        "for column in ['director', 'producer', 'film_studio', 'production_country', 'genres']:\n",
        "\n",
        "    print('уникальные значения в', column)\n",
        "    print('было', df[column].nunique())\n",
        "\n",
        "    df[column] = df[column].dropna().apply(lambda x: ', '.join([x.strip() for x in x.split(',')]))\n",
        "\n",
        "    print('стало', df[column].nunique())\n",
        "    print()"
      ]
    },
    {
      "cell_type": "code",
      "execution_count": null,
      "metadata": {
        "id": "vgWXgL2f0y0P",
        "outputId": "cf87351a-c5f5-4575-df3a-818a6fc7294b"
      },
      "outputs": [
        {
          "data": {
            "text/plain": [
              "array(['«18+» - запрещено для детей', '«6+» - для детей старше 6 лет',\n",
              "       '«12+» - для детей старше 12 лет',\n",
              "       '«16+» - для детей старше 16 лет',\n",
              "       '«0+» - для любой зрительской аудитории'], dtype=object)"
            ]
          },
          "execution_count": 31,
          "metadata": {},
          "output_type": "execute_result"
        }
      ],
      "source": [
        "df['age_restriction'].unique()"
      ]
    },
    {
      "cell_type": "code",
      "execution_count": null,
      "metadata": {
        "id": "6l9-5QL40y0P",
        "outputId": "c219d6b9-f6a9-4e4c-c8c2-5573636094de"
      },
      "outputs": [
        {
          "data": {
            "text/plain": [
              "array([nan, 'Министерство культуры', 'Фонд кино',\n",
              "       'Министерство культуры, Фонд кино'], dtype=object)"
            ]
          },
          "execution_count": 32,
          "metadata": {},
          "output_type": "execute_result"
        }
      ],
      "source": [
        "df['financing_source'].unique()"
      ]
    },
    {
      "cell_type": "markdown",
      "metadata": {
        "id": "bn6zdqXi0y0P"
      },
      "source": [
        "### Шаг 2.4. Изучите категориальные значения\n",
        "Посмотрите, какая общая проблема встречается почти во всех категориальных столбцах;\n",
        "Исправьте проблемные значения в поле type."
      ]
    },
    {
      "cell_type": "code",
      "execution_count": null,
      "metadata": {
        "id": "4DtCvEfb0y0P",
        "outputId": "b5566182-a52e-4d14-b37f-0b84207ec619"
      },
      "outputs": [
        {
          "data": {
            "text/plain": [
              "array(['Художественный', 'Анимационный', 'Прочие', 'Документальный',\n",
              "       'Научно-популярный', ' Художественный', ' Анимационный',\n",
              "       'Музыкально-развлекательный'], dtype=object)"
            ]
          },
          "execution_count": 33,
          "metadata": {},
          "output_type": "execute_result"
        }
      ],
      "source": [
        "df['type'].unique()"
      ]
    },
    {
      "cell_type": "code",
      "execution_count": null,
      "metadata": {
        "id": "iSKYv4ch0y0P",
        "outputId": "c2763213-d007-4f69-978d-8767f7211273"
      },
      "outputs": [
        {
          "data": {
            "text/plain": [
              "array(['Художественный', 'Анимационный', 'Прочие', 'Документальный',\n",
              "       'Научно-популярный', 'Музыкально-развлекательный'], dtype=object)"
            ]
          },
          "execution_count": 34,
          "metadata": {},
          "output_type": "execute_result"
        }
      ],
      "source": [
        "df['type'] = df['type'].str.strip()\n",
        "df['type'].unique()"
      ]
    },
    {
      "cell_type": "markdown",
      "metadata": {
        "id": "XFSN5lrEgFyR"
      },
      "source": [
        "#### Шаг 2.5. Проверьте количественные значения\n",
        "\n",
        "- Проверьте, обнаружились ли в таких столбцах подозрительные данные. Как с такими данными лучше поступить?\n",
        "\n",
        "<div id=\"accordion\">\n",
        "    <div class=\"card\">\n",
        "        <div class=\"card-header\" id=\"headingThree\">\n",
        "            <button class=\"btn btn-link collapsed\" data-toggle=\"collapse\" data-target=\"#collapseHint_budget\" aria-expanded=\"false\" aria-controls=\"collapseHint_budget\">Подсказка</button>\n",
        "        </div>\n",
        "        <div id=\"collapseHint_budget\" class=\"collapse\" aria-labelledby=\"headingThree\" data-parent=\"#accordion\">\n",
        "            <div class=\"card-body\">\n",
        "Обратите внимание на описание столбца <code>budget</code>. Как этот столбец соотносится с двумя другими: <code>refundable_support</code> и <code>nonrefundable_support</code>?\n",
        "            </div>\n",
        "        </div>\n",
        "    </div>\n",
        "</div>"
      ]
    },
    {
      "cell_type": "markdown",
      "metadata": {
        "id": "ygaQpYKs0y0Q"
      },
      "source": [
        "Есть ряд фильмов, которые получали господдержку, но в бюджете стоит 0."
      ]
    },
    {
      "cell_type": "code",
      "execution_count": null,
      "metadata": {
        "id": "Bm1F2aan0y0Q",
        "outputId": "ab8bbf41-5181-4908-b5bd-01e236ca27e5"
      },
      "outputs": [
        {
          "name": "stdout",
          "output_type": "stream",
          "text": [
            "Чаще всего доля участия государства в бюджете составляет 0.6140376284219444\n",
            "\n"
          ]
        },
        {
          "data": {
            "image/png": "[encoded data removed]",
            "text/plain": [
              "<Figure size 432x288 with 1 Axes>"
            ]
          },
          "metadata": {
            "needs_background": "light"
          },
          "output_type": "display_data"
        }
      ],
      "source": [
        "ax = df.plot.scatter(\n",
        "    title='Зависимость размера бюджета от объёма господдержки',\n",
        "    label='объём возвратных средств',\n",
        "    x='budget',\n",
        "    y='refundable_support',\n",
        "    color='blue',\n",
        "    alpha=0.3\n",
        ")\n",
        "\n",
        "df.plot.scatter(\n",
        "    label='объём невозвратных средств',\n",
        "    x='budget', y='nonrefundable_support',\n",
        "    color='green',\n",
        "    alpha=0.3,\n",
        "    ax=ax)\n",
        "\n",
        "df['support_percentage'] = (df['refundable_support'] + df['nonrefundable_support']) / df['budget']\n",
        "\n",
        "support_percentage = df['support_percentage'].median()\n",
        "\n",
        "print('Чаще всего доля участия государства в бюджете составляет', support_percentage)\n",
        "print()"
      ]
    },
    {
      "cell_type": "code",
      "execution_count": null,
      "metadata": {
        "id": "CWmLhQf50y0Q",
        "outputId": "c7465209-bbde-47d3-9a20-c04df531a32c"
      },
      "outputs": [
        {
          "data": {
            "text/html": [
              "<div>\n",
              "<style scoped>\n",
              "    .dataframe tbody tr th:only-of-type {\n",
              "        vertical-align: middle;\n",
              "    }\n",
              "\n",
              "    .dataframe tbody tr th {\n",
              "        vertical-align: top;\n",
              "    }\n",
              "\n",
              "    .dataframe thead th {\n",
              "        text-align: right;\n",
              "    }\n",
              "</style>\n",
              "<table border=\"1\" class=\"dataframe\">\n",
              "  <thead>\n",
              "    <tr style=\"text-align: right;\">\n",
              "      <th></th>\n",
              "      <th>title</th>\n",
              "      <th>puNumber</th>\n",
              "      <th>show_start_date</th>\n",
              "      <th>type</th>\n",
              "      <th>film_studio</th>\n",
              "      <th>production_country</th>\n",
              "      <th>director</th>\n",
              "      <th>producer</th>\n",
              "      <th>age_restriction</th>\n",
              "      <th>refundable_support</th>\n",
              "      <th>nonrefundable_support</th>\n",
              "      <th>budget</th>\n",
              "      <th>financing_source</th>\n",
              "      <th>ratings</th>\n",
              "      <th>genres</th>\n",
              "      <th>box_office</th>\n",
              "      <th>support_percentage</th>\n",
              "    </tr>\n",
              "  </thead>\n",
              "  <tbody>\n",
              "    <tr>\n",
              "      <th>2053</th>\n",
              "      <td>14+</td>\n",
              "      <td>111023614</td>\n",
              "      <td>2014-12-19 12:00:00</td>\n",
              "      <td>Художественный</td>\n",
              "      <td>ООО Киностудия  \"Сентябрь\"</td>\n",
              "      <td>Россия</td>\n",
              "      <td>А.Зайцев</td>\n",
              "      <td>О.Гранина, А.Зайцев</td>\n",
              "      <td>«16+» - для детей старше 16 лет</td>\n",
              "      <td>0.0</td>\n",
              "      <td>23000000.0</td>\n",
              "      <td>3.745699e+07</td>\n",
              "      <td>Министерство культуры, Фонд кино</td>\n",
              "      <td>6.6</td>\n",
              "      <td>мелодрама</td>\n",
              "      <td>1.023402e+07</td>\n",
              "      <td>inf</td>\n",
              "    </tr>\n",
              "    <tr>\n",
              "      <th>2058</th>\n",
              "      <td>Дуxless 2</td>\n",
              "      <td>111000415</td>\n",
              "      <td>2015-01-26 12:00:00</td>\n",
              "      <td>Художественный</td>\n",
              "      <td>ООО \"Киностудия \"Слово\", ООО \"Арт Пикчерс Студия\"</td>\n",
              "      <td>Россия</td>\n",
              "      <td>Р.Прыгунов</td>\n",
              "      <td>П.Ануров, Ф.Бондарчук, Д.Рудовский</td>\n",
              "      <td>«16+» - для детей старше 16 лет</td>\n",
              "      <td>0.0</td>\n",
              "      <td>75000000.0</td>\n",
              "      <td>1.221424e+08</td>\n",
              "      <td>Фонд кино</td>\n",
              "      <td>6.6</td>\n",
              "      <td>драма</td>\n",
              "      <td>4.461635e+08</td>\n",
              "      <td>inf</td>\n",
              "    </tr>\n",
              "    <tr>\n",
              "      <th>2472</th>\n",
              "      <td>Воин (2015)</td>\n",
              "      <td>111017315</td>\n",
              "      <td>2015-09-28 12:00:00</td>\n",
              "      <td>Художественный</td>\n",
              "      <td>ООО \"Форпост Продакшн\", ООО \"Арт Пикчерс Студия\"</td>\n",
              "      <td>Россия</td>\n",
              "      <td>А.Андрианов</td>\n",
              "      <td>ООО \"Арт Пикчерс Студия\"</td>\n",
              "      <td>«12+» - для детей старше 12 лет</td>\n",
              "      <td>10000000.0</td>\n",
              "      <td>70000000.0</td>\n",
              "      <td>1.302852e+08</td>\n",
              "      <td>Фонд кино</td>\n",
              "      <td>7.8</td>\n",
              "      <td>боевик, драма, криминал</td>\n",
              "      <td>1.965724e+08</td>\n",
              "      <td>inf</td>\n",
              "    </tr>\n",
              "    <tr>\n",
              "      <th>2532</th>\n",
              "      <td>Бармен.</td>\n",
              "      <td>111009615</td>\n",
              "      <td>2015-05-26 12:00:00</td>\n",
              "      <td>Художественный</td>\n",
              "      <td>АО \"ВайТ Медиа\", ООО \"Арт Пикчерс Студия\"</td>\n",
              "      <td>Россия</td>\n",
              "      <td>Д.Штурманова</td>\n",
              "      <td>Т.Вайнштейн</td>\n",
              "      <td>«16+» - для детей старше 16 лет</td>\n",
              "      <td>20000000.0</td>\n",
              "      <td>0.0</td>\n",
              "      <td>3.257129e+07</td>\n",
              "      <td>Фонд кино</td>\n",
              "      <td>6.2</td>\n",
              "      <td>комедия, фэнтези</td>\n",
              "      <td>6.741897e+07</td>\n",
              "      <td>inf</td>\n",
              "    </tr>\n",
              "    <tr>\n",
              "      <th>2615</th>\n",
              "      <td>Савва. Сердце воина</td>\n",
              "      <td>114001715</td>\n",
              "      <td>2015-07-21 12:00:00</td>\n",
              "      <td>Анимационный</td>\n",
              "      <td>ООО \"Глюкоза Продакшн\", ООО \"Арт Пикчерс Студия\"</td>\n",
              "      <td>Россия</td>\n",
              "      <td>М.Фадеев</td>\n",
              "      <td>А.Чистяков</td>\n",
              "      <td>«6+» - для детей старше 6 лет</td>\n",
              "      <td>60000000.0</td>\n",
              "      <td>100000000.0</td>\n",
              "      <td>2.605704e+08</td>\n",
              "      <td>Фонд кино</td>\n",
              "      <td>4.6</td>\n",
              "      <td>мультфильм, приключения, фэнтези</td>\n",
              "      <td>1.844876e+08</td>\n",
              "      <td>inf</td>\n",
              "    </tr>\n",
              "    <tr>\n",
              "      <th>2684</th>\n",
              "      <td>Тряпичный союз</td>\n",
              "      <td>111010215</td>\n",
              "      <td>2015-06-08 12:00:00</td>\n",
              "      <td>Художественный</td>\n",
              "      <td>ООО \"Кинокомпания \"КОКТЕБЕЛЬ\"</td>\n",
              "      <td>Россия</td>\n",
              "      <td>М.Местецкий</td>\n",
              "      <td>Р.Борисевич, А.Кушаев</td>\n",
              "      <td>«18+» - запрещено для детей</td>\n",
              "      <td>0.0</td>\n",
              "      <td>59000000.0</td>\n",
              "      <td>9.608532e+07</td>\n",
              "      <td>Фонд кино</td>\n",
              "      <td>6.3</td>\n",
              "      <td>комедия, драма</td>\n",
              "      <td>1.957739e+06</td>\n",
              "      <td>inf</td>\n",
              "    </tr>\n",
              "    <tr>\n",
              "      <th>2788</th>\n",
              "      <td>Срочно выйду замуж</td>\n",
              "      <td>111017115</td>\n",
              "      <td>2015-09-30 12:00:00</td>\n",
              "      <td>Художественный</td>\n",
              "      <td>АО \"ВайТ Медиа\", ООО \"Арт Пикчерс Студия\"</td>\n",
              "      <td>Россия</td>\n",
              "      <td>С Чекалов</td>\n",
              "      <td>Ф.Бондарчук, Т.Вайнштейн, Д.Рудовский</td>\n",
              "      <td>«16+» - для детей старше 16 лет</td>\n",
              "      <td>0.0</td>\n",
              "      <td>35000000.0</td>\n",
              "      <td>5.699976e+07</td>\n",
              "      <td>Фонд кино</td>\n",
              "      <td>5.1</td>\n",
              "      <td>комедия, мелодрама</td>\n",
              "      <td>7.293778e+07</td>\n",
              "      <td>inf</td>\n",
              "    </tr>\n",
              "    <tr>\n",
              "      <th>2874</th>\n",
              "      <td>Помню - не помню!</td>\n",
              "      <td>111004916</td>\n",
              "      <td>2016-03-01 12:00:00</td>\n",
              "      <td>Художественный</td>\n",
              "      <td>ООО \"КиноФирма\"</td>\n",
              "      <td>Россия</td>\n",
              "      <td>В.Ровенский</td>\n",
              "      <td>ООО \"КиноФирма\"</td>\n",
              "      <td>«12+» - для детей старше 12 лет</td>\n",
              "      <td>0.0</td>\n",
              "      <td>6000000.0</td>\n",
              "      <td>9.771388e+06</td>\n",
              "      <td>Министерство культуры</td>\n",
              "      <td>4.3</td>\n",
              "      <td>комедия</td>\n",
              "      <td>1.536293e+07</td>\n",
              "      <td>inf</td>\n",
              "    </tr>\n",
              "    <tr>\n",
              "      <th>3047</th>\n",
              "      <td>Любовь с ограничениями</td>\n",
              "      <td>111008216</td>\n",
              "      <td>2016-04-29 12:00:00</td>\n",
              "      <td>Художественный</td>\n",
              "      <td>АО \"ВайТ Медиа\", ООО \"Арт Пикчерс Студия\"</td>\n",
              "      <td>Россия</td>\n",
              "      <td>Д.Тюрин</td>\n",
              "      <td>Ф.Бондарчук, Т.Вайнштейн, Д.Рудовский</td>\n",
              "      <td>«16+» - для детей старше 16 лет</td>\n",
              "      <td>19000000.0</td>\n",
              "      <td>51000000.0</td>\n",
              "      <td>1.139995e+08</td>\n",
              "      <td>Фонд кино</td>\n",
              "      <td>6.3</td>\n",
              "      <td>комедия, мелодрама</td>\n",
              "      <td>7.029905e+07</td>\n",
              "      <td>inf</td>\n",
              "    </tr>\n",
              "    <tr>\n",
              "      <th>3565</th>\n",
              "      <td>Притяжение (2016)</td>\n",
              "      <td>111018116</td>\n",
              "      <td>2016-12-16 12:00:00</td>\n",
              "      <td>Художественный</td>\n",
              "      <td>ООО \"Водород 2011\", ООО \"Арт Пикчерс Студия\"</td>\n",
              "      <td>Россия</td>\n",
              "      <td>Ф.Бондарчук</td>\n",
              "      <td>ООО \"Арт Пикчерс Студия\"</td>\n",
              "      <td>«12+» - для детей старше 12 лет</td>\n",
              "      <td>0.0</td>\n",
              "      <td>250000000.0</td>\n",
              "      <td>4.071412e+08</td>\n",
              "      <td>Фонд кино</td>\n",
              "      <td>5.6</td>\n",
              "      <td>фантастика</td>\n",
              "      <td>1.038321e+09</td>\n",
              "      <td>inf</td>\n",
              "    </tr>\n",
              "    <tr>\n",
              "      <th>3675</th>\n",
              "      <td>Чудо-юдо</td>\n",
              "      <td>114001817</td>\n",
              "      <td>2017-06-27 12:00:00</td>\n",
              "      <td>Анимационный</td>\n",
              "      <td>ООО \"КиноФирма\"</td>\n",
              "      <td>Россия</td>\n",
              "      <td>А.Лукичев</td>\n",
              "      <td>ООО \"КиноФирма\"</td>\n",
              "      <td>«6+» - для детей старше 6 лет</td>\n",
              "      <td>20000000.0</td>\n",
              "      <td>20000000.0</td>\n",
              "      <td>6.514259e+07</td>\n",
              "      <td>Фонд кино</td>\n",
              "      <td>5.2</td>\n",
              "      <td>мультфильм, фэнтези, семейный</td>\n",
              "      <td>5.510801e+07</td>\n",
              "      <td>inf</td>\n",
              "    </tr>\n",
              "    <tr>\n",
              "      <th>3739</th>\n",
              "      <td>Мифы</td>\n",
              "      <td>111004317</td>\n",
              "      <td>2017-06-07 12:00:00</td>\n",
              "      <td>Художественный</td>\n",
              "      <td>ООО \"ХАЙПФИЛМ\", ООО \"Арт Пикчерс Студия\"</td>\n",
              "      <td>Россия</td>\n",
              "      <td>А.Молочников</td>\n",
              "      <td>Ф.Бондарчук, Д.Рудовский, И.Стюарт, М.Османн, ...</td>\n",
              "      <td>«16+» - для детей старше 16 лет</td>\n",
              "      <td>25000000.0</td>\n",
              "      <td>20000000.0</td>\n",
              "      <td>7.328541e+07</td>\n",
              "      <td>Фонд кино</td>\n",
              "      <td>4.8</td>\n",
              "      <td>комедия</td>\n",
              "      <td>5.045195e+07</td>\n",
              "      <td>inf</td>\n",
              "    </tr>\n",
              "    <tr>\n",
              "      <th>5673</th>\n",
              "      <td>Селфи</td>\n",
              "      <td>111012117</td>\n",
              "      <td>2018-02-01 12:00:00</td>\n",
              "      <td>Художественный</td>\n",
              "      <td>ООО \"Киностудия \"Слово\", ООО \"Арт Пикчерс Студия\"</td>\n",
              "      <td>Россия</td>\n",
              "      <td>Н.Хомерики</td>\n",
              "      <td>П.Ануров, Ф.Бондарчук, Д.Рудовский</td>\n",
              "      <td>«16+» - для детей старше 16 лет</td>\n",
              "      <td>20000000.0</td>\n",
              "      <td>40000000.0</td>\n",
              "      <td>9.771388e+07</td>\n",
              "      <td>Фонд кино</td>\n",
              "      <td>5.8</td>\n",
              "      <td>триллер, драма</td>\n",
              "      <td>2.251964e+08</td>\n",
              "      <td>inf</td>\n",
              "    </tr>\n",
              "    <tr>\n",
              "      <th>5806</th>\n",
              "      <td>Два хвоста</td>\n",
              "      <td>114001018</td>\n",
              "      <td>2018-05-31 12:00:00</td>\n",
              "      <td>Анимационный</td>\n",
              "      <td>ООО \"ЛИЦЕНЗИОННЫЕ БРЕНДЫ\"</td>\n",
              "      <td>Россия</td>\n",
              "      <td>В.Ровенский, Н.Лопато, В.Азеев</td>\n",
              "      <td>ООО \"ЛИЦЕНЗИОННЫЕ БРЕНДЫ\"</td>\n",
              "      <td>«6+» - для детей старше 6 лет</td>\n",
              "      <td>10000000.0</td>\n",
              "      <td>60000000.0</td>\n",
              "      <td>1.139995e+08</td>\n",
              "      <td>Фонд кино</td>\n",
              "      <td>5.0</td>\n",
              "      <td>мультфильм, детский</td>\n",
              "      <td>1.065143e+08</td>\n",
              "      <td>inf</td>\n",
              "    </tr>\n",
              "    <tr>\n",
              "      <th>6008</th>\n",
              "      <td>Принцесса и дракон</td>\n",
              "      <td>114003018</td>\n",
              "      <td>2018-08-23 12:00:00</td>\n",
              "      <td>Анимационный</td>\n",
              "      <td>ООО \"ЛИЦЕНЗИОННЫЕ БРЕНДЫ\"</td>\n",
              "      <td>Россия</td>\n",
              "      <td>М.Нефедова</td>\n",
              "      <td>ООО \"ЛИЦЕНЗИОННЫЕ БРЕНДЫ\"</td>\n",
              "      <td>«6+» - для детей старше 6 лет</td>\n",
              "      <td>40000000.0</td>\n",
              "      <td>40000000.0</td>\n",
              "      <td>1.302852e+08</td>\n",
              "      <td>Фонд кино</td>\n",
              "      <td>5.2</td>\n",
              "      <td>мультфильм, фэнтези, детский</td>\n",
              "      <td>8.336633e+07</td>\n",
              "      <td>inf</td>\n",
              "    </tr>\n",
              "    <tr>\n",
              "      <th>6323</th>\n",
              "      <td>Баба Яга</td>\n",
              "      <td>114006518</td>\n",
              "      <td>2018-11-08 12:00:00</td>\n",
              "      <td>Анимационный</td>\n",
              "      <td>ООО \"Арт Пикчерс Студия\"</td>\n",
              "      <td>Россия</td>\n",
              "      <td>В.Саков</td>\n",
              "      <td>ООО \"Арт Пикчерс Студия\", ООО \"КРИЭЙТИВ АНИМЭЙ...</td>\n",
              "      <td>«6+» - для детей старше 6 лет</td>\n",
              "      <td>0.0</td>\n",
              "      <td>138969465.0</td>\n",
              "      <td>2.263208e+08</td>\n",
              "      <td>Фонд кино</td>\n",
              "      <td>NaN</td>\n",
              "      <td>NaN</td>\n",
              "      <td>1.334699e+06</td>\n",
              "      <td>inf</td>\n",
              "    </tr>\n",
              "    <tr>\n",
              "      <th>6823</th>\n",
              "      <td>Большое путешествие</td>\n",
              "      <td>114002419</td>\n",
              "      <td>2019-04-20 12:00:00</td>\n",
              "      <td>Анимационный</td>\n",
              "      <td>ООО \"ЛИЦЕНЗИОННЫЕ БРЕНДЫ\"</td>\n",
              "      <td>Россия</td>\n",
              "      <td>Н.Лопато, В.Ровенский</td>\n",
              "      <td>ООО \"ЛИЦЕНЗИОННЫЕ БРЕНДЫ\"</td>\n",
              "      <td>«6+» - для детей старше 6 лет</td>\n",
              "      <td>60000000.0</td>\n",
              "      <td>120000000.0</td>\n",
              "      <td>2.931416e+08</td>\n",
              "      <td>Фонд кино</td>\n",
              "      <td>6.2</td>\n",
              "      <td>мультфильм, комедия, приключения</td>\n",
              "      <td>1.476068e+08</td>\n",
              "      <td>inf</td>\n",
              "    </tr>\n",
              "  </tbody>\n",
              "</table>\n",
              "</div>"
            ],
            "text/plain": [
              "                       title   puNumber     show_start_date            type  \\\n",
              "2053                     14+  111023614 2014-12-19 12:00:00  Художественный   \n",
              "2058               Дуxless 2  111000415 2015-01-26 12:00:00  Художественный   \n",
              "2472             Воин (2015)  111017315 2015-09-28 12:00:00  Художественный   \n",
              "2532                 Бармен.  111009615 2015-05-26 12:00:00  Художественный   \n",
              "2615     Савва. Сердце воина  114001715 2015-07-21 12:00:00    Анимационный   \n",
              "2684          Тряпичный союз  111010215 2015-06-08 12:00:00  Художественный   \n",
              "2788      Срочно выйду замуж  111017115 2015-09-30 12:00:00  Художественный   \n",
              "2874       Помню - не помню!  111004916 2016-03-01 12:00:00  Художественный   \n",
              "3047  Любовь с ограничениями  111008216 2016-04-29 12:00:00  Художественный   \n",
              "3565       Притяжение (2016)  111018116 2016-12-16 12:00:00  Художественный   \n",
              "3675                Чудо-юдо  114001817 2017-06-27 12:00:00    Анимационный   \n",
              "3739                    Мифы  111004317 2017-06-07 12:00:00  Художественный   \n",
              "5673                   Селфи  111012117 2018-02-01 12:00:00  Художественный   \n",
              "5806              Два хвоста  114001018 2018-05-31 12:00:00    Анимационный   \n",
              "6008      Принцесса и дракон  114003018 2018-08-23 12:00:00    Анимационный   \n",
              "6323                Баба Яга  114006518 2018-11-08 12:00:00    Анимационный   \n",
              "6823     Большое путешествие  114002419 2019-04-20 12:00:00    Анимационный   \n",
              "\n",
              "                                            film_studio production_country  \\\n",
              "2053                         ООО Киностудия  \"Сентябрь\"             Россия   \n",
              "2058  ООО \"Киностудия \"Слово\", ООО \"Арт Пикчерс Студия\"             Россия   \n",
              "2472   ООО \"Форпост Продакшн\", ООО \"Арт Пикчерс Студия\"             Россия   \n",
              "2532          АО \"ВайТ Медиа\", ООО \"Арт Пикчерс Студия\"             Россия   \n",
              "2615   ООО \"Глюкоза Продакшн\", ООО \"Арт Пикчерс Студия\"             Россия   \n",
              "2684                      ООО \"Кинокомпания \"КОКТЕБЕЛЬ\"             Россия   \n",
              "2788          АО \"ВайТ Медиа\", ООО \"Арт Пикчерс Студия\"             Россия   \n",
              "2874                                    ООО \"КиноФирма\"             Россия   \n",
              "3047          АО \"ВайТ Медиа\", ООО \"Арт Пикчерс Студия\"             Россия   \n",
              "3565       ООО \"Водород 2011\", ООО \"Арт Пикчерс Студия\"             Россия   \n",
              "3675                                    ООО \"КиноФирма\"             Россия   \n",
              "3739           ООО \"ХАЙПФИЛМ\", ООО \"Арт Пикчерс Студия\"             Россия   \n",
              "5673  ООО \"Киностудия \"Слово\", ООО \"Арт Пикчерс Студия\"             Россия   \n",
              "5806                          ООО \"ЛИЦЕНЗИОННЫЕ БРЕНДЫ\"             Россия   \n",
              "6008                          ООО \"ЛИЦЕНЗИОННЫЕ БРЕНДЫ\"             Россия   \n",
              "6323                           ООО \"Арт Пикчерс Студия\"             Россия   \n",
              "6823                          ООО \"ЛИЦЕНЗИОННЫЕ БРЕНДЫ\"             Россия   \n",
              "\n",
              "                            director  \\\n",
              "2053                        А.Зайцев   \n",
              "2058                      Р.Прыгунов   \n",
              "2472                     А.Андрианов   \n",
              "2532                    Д.Штурманова   \n",
              "2615                        М.Фадеев   \n",
              "2684                     М.Местецкий   \n",
              "2788                       С Чекалов   \n",
              "2874                     В.Ровенский   \n",
              "3047                         Д.Тюрин   \n",
              "3565                     Ф.Бондарчук   \n",
              "3675                       А.Лукичев   \n",
              "3739                    А.Молочников   \n",
              "5673                      Н.Хомерики   \n",
              "5806  В.Ровенский, Н.Лопато, В.Азеев   \n",
              "6008                      М.Нефедова   \n",
              "6323                         В.Саков   \n",
              "6823           Н.Лопато, В.Ровенский   \n",
              "\n",
              "                                               producer  \\\n",
              "2053                                О.Гранина, А.Зайцев   \n",
              "2058                 П.Ануров, Ф.Бондарчук, Д.Рудовский   \n",
              "2472                           ООО \"Арт Пикчерс Студия\"   \n",
              "2532                                        Т.Вайнштейн   \n",
              "2615                                         А.Чистяков   \n",
              "2684                              Р.Борисевич, А.Кушаев   \n",
              "2788              Ф.Бондарчук, Т.Вайнштейн, Д.Рудовский   \n",
              "2874                                    ООО \"КиноФирма\"   \n",
              "3047              Ф.Бондарчук, Т.Вайнштейн, Д.Рудовский   \n",
              "3565                           ООО \"Арт Пикчерс Студия\"   \n",
              "3675                                    ООО \"КиноФирма\"   \n",
              "3739  Ф.Бондарчук, Д.Рудовский, И.Стюарт, М.Османн, ...   \n",
              "5673                 П.Ануров, Ф.Бондарчук, Д.Рудовский   \n",
              "5806                          ООО \"ЛИЦЕНЗИОННЫЕ БРЕНДЫ\"   \n",
              "6008                          ООО \"ЛИЦЕНЗИОННЫЕ БРЕНДЫ\"   \n",
              "6323  ООО \"Арт Пикчерс Студия\", ООО \"КРИЭЙТИВ АНИМЭЙ...   \n",
              "6823                          ООО \"ЛИЦЕНЗИОННЫЕ БРЕНДЫ\"   \n",
              "\n",
              "                      age_restriction  refundable_support  \\\n",
              "2053  «16+» - для детей старше 16 лет                 0.0   \n",
              "2058  «16+» - для детей старше 16 лет                 0.0   \n",
              "2472  «12+» - для детей старше 12 лет          10000000.0   \n",
              "2532  «16+» - для детей старше 16 лет          20000000.0   \n",
              "2615    «6+» - для детей старше 6 лет          60000000.0   \n",
              "2684      «18+» - запрещено для детей                 0.0   \n",
              "2788  «16+» - для детей старше 16 лет                 0.0   \n",
              "2874  «12+» - для детей старше 12 лет                 0.0   \n",
              "3047  «16+» - для детей старше 16 лет          19000000.0   \n",
              "3565  «12+» - для детей старше 12 лет                 0.0   \n",
              "3675    «6+» - для детей старше 6 лет          20000000.0   \n",
              "3739  «16+» - для детей старше 16 лет          25000000.0   \n",
              "5673  «16+» - для детей старше 16 лет          20000000.0   \n",
              "5806    «6+» - для детей старше 6 лет          10000000.0   \n",
              "6008    «6+» - для детей старше 6 лет          40000000.0   \n",
              "6323    «6+» - для детей старше 6 лет                 0.0   \n",
              "6823    «6+» - для детей старше 6 лет          60000000.0   \n",
              "\n",
              "      nonrefundable_support        budget                  financing_source  \\\n",
              "2053             23000000.0  3.745699e+07  Министерство культуры, Фонд кино   \n",
              "2058             75000000.0  1.221424e+08                         Фонд кино   \n",
              "2472             70000000.0  1.302852e+08                         Фонд кино   \n",
              "2532                    0.0  3.257129e+07                         Фонд кино   \n",
              "2615            100000000.0  2.605704e+08                         Фонд кино   \n",
              "2684             59000000.0  9.608532e+07                         Фонд кино   \n",
              "2788             35000000.0  5.699976e+07                         Фонд кино   \n",
              "2874              6000000.0  9.771388e+06             Министерство культуры   \n",
              "3047             51000000.0  1.139995e+08                         Фонд кино   \n",
              "3565            250000000.0  4.071412e+08                         Фонд кино   \n",
              "3675             20000000.0  6.514259e+07                         Фонд кино   \n",
              "3739             20000000.0  7.328541e+07                         Фонд кино   \n",
              "5673             40000000.0  9.771388e+07                         Фонд кино   \n",
              "5806             60000000.0  1.139995e+08                         Фонд кино   \n",
              "6008             40000000.0  1.302852e+08                         Фонд кино   \n",
              "6323            138969465.0  2.263208e+08                         Фонд кино   \n",
              "6823            120000000.0  2.931416e+08                         Фонд кино   \n",
              "\n",
              "      ratings                            genres    box_office  \\\n",
              "2053      6.6                         мелодрама  1.023402e+07   \n",
              "2058      6.6                             драма  4.461635e+08   \n",
              "2472      7.8           боевик, драма, криминал  1.965724e+08   \n",
              "2532      6.2                  комедия, фэнтези  6.741897e+07   \n",
              "2615      4.6  мультфильм, приключения, фэнтези  1.844876e+08   \n",
              "2684      6.3                    комедия, драма  1.957739e+06   \n",
              "2788      5.1                комедия, мелодрама  7.293778e+07   \n",
              "2874      4.3                           комедия  1.536293e+07   \n",
              "3047      6.3                комедия, мелодрама  7.029905e+07   \n",
              "3565      5.6                        фантастика  1.038321e+09   \n",
              "3675      5.2     мультфильм, фэнтези, семейный  5.510801e+07   \n",
              "3739      4.8                           комедия  5.045195e+07   \n",
              "5673      5.8                    триллер, драма  2.251964e+08   \n",
              "5806      5.0               мультфильм, детский  1.065143e+08   \n",
              "6008      5.2      мультфильм, фэнтези, детский  8.336633e+07   \n",
              "6323      NaN                               NaN  1.334699e+06   \n",
              "6823      6.2  мультфильм, комедия, приключения  1.476068e+08   \n",
              "\n",
              "      support_percentage  \n",
              "2053                 inf  \n",
              "2058                 inf  \n",
              "2472                 inf  \n",
              "2532                 inf  \n",
              "2615                 inf  \n",
              "2684                 inf  \n",
              "2788                 inf  \n",
              "2874                 inf  \n",
              "3047                 inf  \n",
              "3565                 inf  \n",
              "3675                 inf  \n",
              "3739                 inf  \n",
              "5673                 inf  \n",
              "5806                 inf  \n",
              "6008                 inf  \n",
              "6323                 inf  \n",
              "6823                 inf  "
            ]
          },
          "execution_count": 37,
          "metadata": {},
          "output_type": "execute_result"
        }
      ],
      "source": [
        "df.loc[budget1.index, 'budget'] = (df.loc[budget1.index, 'refundable_support'] + df.loc[budget1.index, 'nonrefundable_support']) / support_percentage\n",
        "\n",
        "df.loc[budget1.index]"
      ]
    },
    {
      "cell_type": "markdown",
      "metadata": {
        "id": "Eu6oWp2CgFyS"
      },
      "source": [
        "#### Шаг 2.6. Добавьте новые столбцы\n",
        "\n",
        "\n",
        "\n"
      ]
    },
    {
      "cell_type": "markdown",
      "metadata": {
        "id": "7GgW-UpAgFyS"
      },
      "source": [
        "- Создайте столбец с информацией о годе проката. Выделите год из даты премьеры фильма."
      ]
    },
    {
      "cell_type": "code",
      "execution_count": null,
      "metadata": {
        "id": "I-yd1DkWgFyT"
      },
      "outputs": [],
      "source": [
        "df['show_start_year'] = df.show_start_date.dt.year"
      ]
    },
    {
      "cell_type": "code",
      "execution_count": null,
      "metadata": {
        "id": "2rhwsixa0y0R",
        "outputId": "8a601dee-9b8b-4ef5-ea64-73e631acb123"
      },
      "outputs": [
        {
          "data": {
            "text/html": [
              "<div>\n",
              "<style scoped>\n",
              "    .dataframe tbody tr th:only-of-type {\n",
              "        vertical-align: middle;\n",
              "    }\n",
              "\n",
              "    .dataframe tbody tr th {\n",
              "        vertical-align: top;\n",
              "    }\n",
              "\n",
              "    .dataframe thead th {\n",
              "        text-align: right;\n",
              "    }\n",
              "</style>\n",
              "<table border=\"1\" class=\"dataframe\">\n",
              "  <thead>\n",
              "    <tr style=\"text-align: right;\">\n",
              "      <th></th>\n",
              "      <th>title</th>\n",
              "      <th>puNumber</th>\n",
              "      <th>show_start_date</th>\n",
              "      <th>type</th>\n",
              "      <th>film_studio</th>\n",
              "      <th>production_country</th>\n",
              "      <th>director</th>\n",
              "      <th>producer</th>\n",
              "      <th>age_restriction</th>\n",
              "      <th>refundable_support</th>\n",
              "      <th>nonrefundable_support</th>\n",
              "      <th>budget</th>\n",
              "      <th>financing_source</th>\n",
              "      <th>ratings</th>\n",
              "      <th>genres</th>\n",
              "      <th>box_office</th>\n",
              "      <th>support_percentage</th>\n",
              "      <th>show_start_year</th>\n",
              "    </tr>\n",
              "  </thead>\n",
              "  <tbody>\n",
              "    <tr>\n",
              "      <th>0</th>\n",
              "      <td>Открытый простор</td>\n",
              "      <td>221048915</td>\n",
              "      <td>2015-11-27 12:00:00</td>\n",
              "      <td>Художественный</td>\n",
              "      <td>Тачстоун Пикчерз, Кобальт Пикчерз, Бикон Пикче...</td>\n",
              "      <td>США</td>\n",
              "      <td>Кевин Костнер</td>\n",
              "      <td>Дэвид Валдес, Кевин Костнер, Джейк Эбертс</td>\n",
              "      <td>«18+» - запрещено для детей</td>\n",
              "      <td>NaN</td>\n",
              "      <td>NaN</td>\n",
              "      <td>NaN</td>\n",
              "      <td>NaN</td>\n",
              "      <td>7.2</td>\n",
              "      <td>боевик, драма, мелодрама</td>\n",
              "      <td>NaN</td>\n",
              "      <td>NaN</td>\n",
              "      <td>2015</td>\n",
              "    </tr>\n",
              "    <tr>\n",
              "      <th>1</th>\n",
              "      <td>Особо важное задание</td>\n",
              "      <td>111013716</td>\n",
              "      <td>2016-09-13 12:00:00</td>\n",
              "      <td>Художественный</td>\n",
              "      <td>Киностудия \"Мосфильм\"</td>\n",
              "      <td>СССР</td>\n",
              "      <td>Е.Матвеев</td>\n",
              "      <td>NaN</td>\n",
              "      <td>«6+» - для детей старше 6 лет</td>\n",
              "      <td>NaN</td>\n",
              "      <td>NaN</td>\n",
              "      <td>NaN</td>\n",
              "      <td>NaN</td>\n",
              "      <td>6.6</td>\n",
              "      <td>драма, военный</td>\n",
              "      <td>NaN</td>\n",
              "      <td>NaN</td>\n",
              "      <td>2016</td>\n",
              "    </tr>\n",
              "    <tr>\n",
              "      <th>2</th>\n",
              "      <td>Особо опасен</td>\n",
              "      <td>221038416</td>\n",
              "      <td>2016-10-10 12:00:00</td>\n",
              "      <td>Художественный</td>\n",
              "      <td>Юниверсал Пикчерз, Кикстарт Продакшнз, Марк Пл...</td>\n",
              "      <td>США</td>\n",
              "      <td>Тимур Бекмамбетов</td>\n",
              "      <td>Джим Лемли, Джейсон Нетер, Марк Е.Платт, Яйн Смит</td>\n",
              "      <td>«18+» - запрещено для детей</td>\n",
              "      <td>NaN</td>\n",
              "      <td>NaN</td>\n",
              "      <td>NaN</td>\n",
              "      <td>NaN</td>\n",
              "      <td>6.8</td>\n",
              "      <td>фантастика, боевик, триллер</td>\n",
              "      <td>NaN</td>\n",
              "      <td>NaN</td>\n",
              "      <td>2016</td>\n",
              "    </tr>\n",
              "    <tr>\n",
              "      <th>3</th>\n",
              "      <td>Особо опасен</td>\n",
              "      <td>221026916</td>\n",
              "      <td>2016-06-10 12:00:00</td>\n",
              "      <td>Художественный</td>\n",
              "      <td>Юниверсал Пикчерз, Кикстарт Продакшнз, Марк Пл...</td>\n",
              "      <td>США</td>\n",
              "      <td>Тимур Бекмамбетов</td>\n",
              "      <td>Джим Лемли, Джейсон Нетер, Марк Е.Платт, Яйн Смит</td>\n",
              "      <td>«18+» - запрещено для детей</td>\n",
              "      <td>NaN</td>\n",
              "      <td>NaN</td>\n",
              "      <td>NaN</td>\n",
              "      <td>NaN</td>\n",
              "      <td>6.8</td>\n",
              "      <td>фантастика, боевик, триллер</td>\n",
              "      <td>NaN</td>\n",
              "      <td>NaN</td>\n",
              "      <td>2016</td>\n",
              "    </tr>\n",
              "    <tr>\n",
              "      <th>4</th>\n",
              "      <td>Особо опасен</td>\n",
              "      <td>221030815</td>\n",
              "      <td>2015-07-29 12:00:00</td>\n",
              "      <td>Художественный</td>\n",
              "      <td>Юниверсал Пикчерз, Кикстарт Продакшнз, Марк Пл...</td>\n",
              "      <td>США</td>\n",
              "      <td>Тимур Бекмамбетов</td>\n",
              "      <td>Джим Лемли, Джейсон Нетер, Марк Е.Платт, Яйн Смит</td>\n",
              "      <td>«18+» - запрещено для детей</td>\n",
              "      <td>NaN</td>\n",
              "      <td>NaN</td>\n",
              "      <td>NaN</td>\n",
              "      <td>NaN</td>\n",
              "      <td>6.8</td>\n",
              "      <td>фантастика, боевик, триллер</td>\n",
              "      <td>NaN</td>\n",
              "      <td>NaN</td>\n",
              "      <td>2015</td>\n",
              "    </tr>\n",
              "    <tr>\n",
              "      <th>...</th>\n",
              "      <td>...</td>\n",
              "      <td>...</td>\n",
              "      <td>...</td>\n",
              "      <td>...</td>\n",
              "      <td>...</td>\n",
              "      <td>...</td>\n",
              "      <td>...</td>\n",
              "      <td>...</td>\n",
              "      <td>...</td>\n",
              "      <td>...</td>\n",
              "      <td>...</td>\n",
              "      <td>...</td>\n",
              "      <td>...</td>\n",
              "      <td>...</td>\n",
              "      <td>...</td>\n",
              "      <td>...</td>\n",
              "      <td>...</td>\n",
              "      <td>...</td>\n",
              "    </tr>\n",
              "    <tr>\n",
              "      <th>7481</th>\n",
              "      <td>Сад художника: Американский импрессионизм</td>\n",
              "      <td>126008019</td>\n",
              "      <td>2019-12-23 12:00:00</td>\n",
              "      <td>Прочие</td>\n",
              "      <td>Севен Артс Продакшнз</td>\n",
              "      <td>Великобритания</td>\n",
              "      <td>Фил Грабски</td>\n",
              "      <td>Фил Грабски</td>\n",
              "      <td>«12+» - для детей старше 12 лет</td>\n",
              "      <td>NaN</td>\n",
              "      <td>NaN</td>\n",
              "      <td>NaN</td>\n",
              "      <td>NaN</td>\n",
              "      <td>NaN</td>\n",
              "      <td>NaN</td>\n",
              "      <td>NaN</td>\n",
              "      <td>NaN</td>\n",
              "      <td>2019</td>\n",
              "    </tr>\n",
              "    <tr>\n",
              "      <th>7482</th>\n",
              "      <td>Звериная ярость</td>\n",
              "      <td>121037819</td>\n",
              "      <td>2019-12-24 12:00:00</td>\n",
              "      <td>Художественный</td>\n",
              "      <td>Дэниел Гродник Продакшнз, Вандерфилм Медиа Кор...</td>\n",
              "      <td>США</td>\n",
              "      <td>Ник Пауэлл</td>\n",
              "      <td>Джефф Боулер, Дэниэл Гродник, Луильо Руис, Брэ...</td>\n",
              "      <td>«16+» - для детей старше 16 лет</td>\n",
              "      <td>NaN</td>\n",
              "      <td>NaN</td>\n",
              "      <td>NaN</td>\n",
              "      <td>NaN</td>\n",
              "      <td>5.4</td>\n",
              "      <td>боевик, триллер</td>\n",
              "      <td>NaN</td>\n",
              "      <td>NaN</td>\n",
              "      <td>2019</td>\n",
              "    </tr>\n",
              "    <tr>\n",
              "      <th>7483</th>\n",
              "      <td>Щенячий патруль: Скорей спешим на помощь!</td>\n",
              "      <td>124010819</td>\n",
              "      <td>2019-12-28 12:00:00</td>\n",
              "      <td>Художественный</td>\n",
              "      <td>Никелодеон Анимейшн Студиос, Спин Мастер</td>\n",
              "      <td>США, Канада</td>\n",
              "      <td>Чарльз Е.Бастьен</td>\n",
              "      <td>Дженнифер Додж</td>\n",
              "      <td>«0+» - для любой зрительской аудитории</td>\n",
              "      <td>NaN</td>\n",
              "      <td>NaN</td>\n",
              "      <td>NaN</td>\n",
              "      <td>NaN</td>\n",
              "      <td>NaN</td>\n",
              "      <td>NaN</td>\n",
              "      <td>NaN</td>\n",
              "      <td>NaN</td>\n",
              "      <td>2019</td>\n",
              "    </tr>\n",
              "    <tr>\n",
              "      <th>7484</th>\n",
              "      <td>Машины песенки. Серия \"Испанские мотивы\"</td>\n",
              "      <td>124010619</td>\n",
              "      <td>2019-12-30 12:00:00</td>\n",
              "      <td>Анимационный</td>\n",
              "      <td>Анимаккорд Лтд., ООО Студия \"АНИМАККОРД\"</td>\n",
              "      <td>Республика Кипр, Россия</td>\n",
              "      <td>А.Беляев</td>\n",
              "      <td>Д.Ловейко</td>\n",
              "      <td>«0+» - для любой зрительской аудитории</td>\n",
              "      <td>NaN</td>\n",
              "      <td>NaN</td>\n",
              "      <td>NaN</td>\n",
              "      <td>NaN</td>\n",
              "      <td>NaN</td>\n",
              "      <td>NaN</td>\n",
              "      <td>NaN</td>\n",
              "      <td>NaN</td>\n",
              "      <td>2019</td>\n",
              "    </tr>\n",
              "    <tr>\n",
              "      <th>7485</th>\n",
              "      <td>Машины песенки. Серия \"Когда цветут кактусы\"</td>\n",
              "      <td>124010719</td>\n",
              "      <td>2019-12-30 12:00:00</td>\n",
              "      <td>Анимационный</td>\n",
              "      <td>Анимаккорд Лтд., ООО Студия \"АНИМАККОРД\"</td>\n",
              "      <td>Республика Кипр, Россия</td>\n",
              "      <td>И.Трусов</td>\n",
              "      <td>Д.Ловейко</td>\n",
              "      <td>«0+» - для любой зрительской аудитории</td>\n",
              "      <td>NaN</td>\n",
              "      <td>NaN</td>\n",
              "      <td>NaN</td>\n",
              "      <td>NaN</td>\n",
              "      <td>6.3</td>\n",
              "      <td>комедия, вестерн</td>\n",
              "      <td>NaN</td>\n",
              "      <td>NaN</td>\n",
              "      <td>2019</td>\n",
              "    </tr>\n",
              "  </tbody>\n",
              "</table>\n",
              "<p>7486 rows × 18 columns</p>\n",
              "</div>"
            ],
            "text/plain": [
              "                                             title   puNumber  \\\n",
              "0                                 Открытый простор  221048915   \n",
              "1                             Особо важное задание  111013716   \n",
              "2                                     Особо опасен  221038416   \n",
              "3                                     Особо опасен  221026916   \n",
              "4                                     Особо опасен  221030815   \n",
              "...                                            ...        ...   \n",
              "7481     Сад художника: Американский импрессионизм  126008019   \n",
              "7482                               Звериная ярость  121037819   \n",
              "7483     Щенячий патруль: Скорей спешим на помощь!  124010819   \n",
              "7484      Машины песенки. Серия \"Испанские мотивы\"  124010619   \n",
              "7485  Машины песенки. Серия \"Когда цветут кактусы\"  124010719   \n",
              "\n",
              "         show_start_date            type  \\\n",
              "0    2015-11-27 12:00:00  Художественный   \n",
              "1    2016-09-13 12:00:00  Художественный   \n",
              "2    2016-10-10 12:00:00  Художественный   \n",
              "3    2016-06-10 12:00:00  Художественный   \n",
              "4    2015-07-29 12:00:00  Художественный   \n",
              "...                  ...             ...   \n",
              "7481 2019-12-23 12:00:00          Прочие   \n",
              "7482 2019-12-24 12:00:00  Художественный   \n",
              "7483 2019-12-28 12:00:00  Художественный   \n",
              "7484 2019-12-30 12:00:00    Анимационный   \n",
              "7485 2019-12-30 12:00:00    Анимационный   \n",
              "\n",
              "                                            film_studio  \\\n",
              "0     Тачстоун Пикчерз, Кобальт Пикчерз, Бикон Пикче...   \n",
              "1                                 Киностудия \"Мосфильм\"   \n",
              "2     Юниверсал Пикчерз, Кикстарт Продакшнз, Марк Пл...   \n",
              "3     Юниверсал Пикчерз, Кикстарт Продакшнз, Марк Пл...   \n",
              "4     Юниверсал Пикчерз, Кикстарт Продакшнз, Марк Пл...   \n",
              "...                                                 ...   \n",
              "7481                               Севен Артс Продакшнз   \n",
              "7482  Дэниел Гродник Продакшнз, Вандерфилм Медиа Кор...   \n",
              "7483           Никелодеон Анимейшн Студиос, Спин Мастер   \n",
              "7484           Анимаккорд Лтд., ООО Студия \"АНИМАККОРД\"   \n",
              "7485           Анимаккорд Лтд., ООО Студия \"АНИМАККОРД\"   \n",
              "\n",
              "           production_country           director  \\\n",
              "0                         США      Кевин Костнер   \n",
              "1                        СССР          Е.Матвеев   \n",
              "2                         США  Тимур Бекмамбетов   \n",
              "3                         США  Тимур Бекмамбетов   \n",
              "4                         США  Тимур Бекмамбетов   \n",
              "...                       ...                ...   \n",
              "7481           Великобритания        Фил Грабски   \n",
              "7482                      США         Ник Пауэлл   \n",
              "7483              США, Канада   Чарльз Е.Бастьен   \n",
              "7484  Республика Кипр, Россия           А.Беляев   \n",
              "7485  Республика Кипр, Россия           И.Трусов   \n",
              "\n",
              "                                               producer  \\\n",
              "0             Дэвид Валдес, Кевин Костнер, Джейк Эбертс   \n",
              "1                                                   NaN   \n",
              "2     Джим Лемли, Джейсон Нетер, Марк Е.Платт, Яйн Смит   \n",
              "3     Джим Лемли, Джейсон Нетер, Марк Е.Платт, Яйн Смит   \n",
              "4     Джим Лемли, Джейсон Нетер, Марк Е.Платт, Яйн Смит   \n",
              "...                                                 ...   \n",
              "7481                                        Фил Грабски   \n",
              "7482  Джефф Боулер, Дэниэл Гродник, Луильо Руис, Брэ...   \n",
              "7483                                     Дженнифер Додж   \n",
              "7484                                          Д.Ловейко   \n",
              "7485                                          Д.Ловейко   \n",
              "\n",
              "                             age_restriction  refundable_support  \\\n",
              "0                «18+» - запрещено для детей                 NaN   \n",
              "1              «6+» - для детей старше 6 лет                 NaN   \n",
              "2                «18+» - запрещено для детей                 NaN   \n",
              "3                «18+» - запрещено для детей                 NaN   \n",
              "4                «18+» - запрещено для детей                 NaN   \n",
              "...                                      ...                 ...   \n",
              "7481         «12+» - для детей старше 12 лет                 NaN   \n",
              "7482         «16+» - для детей старше 16 лет                 NaN   \n",
              "7483  «0+» - для любой зрительской аудитории                 NaN   \n",
              "7484  «0+» - для любой зрительской аудитории                 NaN   \n",
              "7485  «0+» - для любой зрительской аудитории                 NaN   \n",
              "\n",
              "      nonrefundable_support  budget financing_source  ratings  \\\n",
              "0                       NaN     NaN              NaN      7.2   \n",
              "1                       NaN     NaN              NaN      6.6   \n",
              "2                       NaN     NaN              NaN      6.8   \n",
              "3                       NaN     NaN              NaN      6.8   \n",
              "4                       NaN     NaN              NaN      6.8   \n",
              "...                     ...     ...              ...      ...   \n",
              "7481                    NaN     NaN              NaN      NaN   \n",
              "7482                    NaN     NaN              NaN      5.4   \n",
              "7483                    NaN     NaN              NaN      NaN   \n",
              "7484                    NaN     NaN              NaN      NaN   \n",
              "7485                    NaN     NaN              NaN      6.3   \n",
              "\n",
              "                           genres  box_office  support_percentage  \\\n",
              "0        боевик, драма, мелодрама         NaN                 NaN   \n",
              "1                  драма, военный         NaN                 NaN   \n",
              "2     фантастика, боевик, триллер         NaN                 NaN   \n",
              "3     фантастика, боевик, триллер         NaN                 NaN   \n",
              "4     фантастика, боевик, триллер         NaN                 NaN   \n",
              "...                           ...         ...                 ...   \n",
              "7481                          NaN         NaN                 NaN   \n",
              "7482              боевик, триллер         NaN                 NaN   \n",
              "7483                          NaN         NaN                 NaN   \n",
              "7484                          NaN         NaN                 NaN   \n",
              "7485             комедия, вестерн         NaN                 NaN   \n",
              "\n",
              "      show_start_year  \n",
              "0                2015  \n",
              "1                2016  \n",
              "2                2016  \n",
              "3                2016  \n",
              "4                2015  \n",
              "...               ...  \n",
              "7481             2019  \n",
              "7482             2019  \n",
              "7483             2019  \n",
              "7484             2019  \n",
              "7485             2019  \n",
              "\n",
              "[7486 rows x 18 columns]"
            ]
          },
          "execution_count": 39,
          "metadata": {},
          "output_type": "execute_result"
        }
      ],
      "source": [
        "df"
      ]
    },
    {
      "cell_type": "markdown",
      "metadata": {
        "id": "nFTDLDYOgFyT"
      },
      "source": [
        "- Создайте два столбца: с именем и фамилией главного режиссёра и основным жанром фильма. В столбцы войдут первые значения из списка режиссёров и жанров соответственно.\n",
        "\n",
        "<div id=\"accordion\">\n",
        "    <div class=\"card\">\n",
        "        <div class=\"card-header\" id=\"headingThree\">\n",
        "            <button class=\"btn btn-link collapsed\" data-toggle=\"collapse\" data-target=\"#collapseHint_2\" aria-expanded=\"false\" aria-controls=\"collapseHint_2\">Подсказка</button>\n",
        "        </div>\n",
        "        <div id=\"collapseHint_2\" class=\"collapse\" aria-labelledby=\"headingThree\" data-parent=\"#accordion\">\n",
        "            <div class=\"card-body\">\n",
        "Чтобы создать такие столбцы, лучше всего использовать собственную функцию. Эту функцию можно применить к двум столбцам сразу.\n",
        "            </div>\n",
        "        </div>\n",
        "    </div>\n",
        "</div>"
      ]
    },
    {
      "cell_type": "code",
      "execution_count": null,
      "metadata": {
        "id": "0CqcIHIn0y0R"
      },
      "outputs": [],
      "source": [
        "def add_main(df, columns):\n",
        "    for column in columns:\n",
        "        df[f'main_{column}'] = df[column].dropna().apply(lambda x: x.split(', ')[0])\n",
        "    return df"
      ]
    },
    {
      "cell_type": "code",
      "execution_count": null,
      "metadata": {
        "id": "N-FxX57q0y0R"
      },
      "outputs": [],
      "source": [
        "df = add_main(df, ['director', 'genres'])"
      ]
    },
    {
      "cell_type": "code",
      "execution_count": null,
      "metadata": {
        "id": "0LjV5Ljc0y0R",
        "outputId": "c242b40b-336f-474f-cdbe-27b46aa3bd64"
      },
      "outputs": [
        {
          "data": {
            "text/html": [
              "<div>\n",
              "<style scoped>\n",
              "    .dataframe tbody tr th:only-of-type {\n",
              "        vertical-align: middle;\n",
              "    }\n",
              "\n",
              "    .dataframe tbody tr th {\n",
              "        vertical-align: top;\n",
              "    }\n",
              "\n",
              "    .dataframe thead th {\n",
              "        text-align: right;\n",
              "    }\n",
              "</style>\n",
              "<table border=\"1\" class=\"dataframe\">\n",
              "  <thead>\n",
              "    <tr style=\"text-align: right;\">\n",
              "      <th></th>\n",
              "      <th>title</th>\n",
              "      <th>puNumber</th>\n",
              "      <th>show_start_date</th>\n",
              "      <th>type</th>\n",
              "      <th>film_studio</th>\n",
              "      <th>production_country</th>\n",
              "      <th>director</th>\n",
              "      <th>producer</th>\n",
              "      <th>age_restriction</th>\n",
              "      <th>refundable_support</th>\n",
              "      <th>nonrefundable_support</th>\n",
              "      <th>budget</th>\n",
              "      <th>financing_source</th>\n",
              "      <th>ratings</th>\n",
              "      <th>genres</th>\n",
              "      <th>box_office</th>\n",
              "      <th>support_percentage</th>\n",
              "      <th>show_start_year</th>\n",
              "      <th>main_director</th>\n",
              "      <th>main_genres</th>\n",
              "    </tr>\n",
              "  </thead>\n",
              "  <tbody>\n",
              "    <tr>\n",
              "      <th>0</th>\n",
              "      <td>Открытый простор</td>\n",
              "      <td>221048915</td>\n",
              "      <td>2015-11-27 12:00:00</td>\n",
              "      <td>Художественный</td>\n",
              "      <td>Тачстоун Пикчерз, Кобальт Пикчерз, Бикон Пикче...</td>\n",
              "      <td>США</td>\n",
              "      <td>Кевин Костнер</td>\n",
              "      <td>Дэвид Валдес, Кевин Костнер, Джейк Эбертс</td>\n",
              "      <td>«18+» - запрещено для детей</td>\n",
              "      <td>NaN</td>\n",
              "      <td>NaN</td>\n",
              "      <td>NaN</td>\n",
              "      <td>NaN</td>\n",
              "      <td>7.2</td>\n",
              "      <td>боевик, драма, мелодрама</td>\n",
              "      <td>NaN</td>\n",
              "      <td>NaN</td>\n",
              "      <td>2015</td>\n",
              "      <td>Кевин Костнер</td>\n",
              "      <td>боевик</td>\n",
              "    </tr>\n",
              "    <tr>\n",
              "      <th>1</th>\n",
              "      <td>Особо важное задание</td>\n",
              "      <td>111013716</td>\n",
              "      <td>2016-09-13 12:00:00</td>\n",
              "      <td>Художественный</td>\n",
              "      <td>Киностудия \"Мосфильм\"</td>\n",
              "      <td>СССР</td>\n",
              "      <td>Е.Матвеев</td>\n",
              "      <td>NaN</td>\n",
              "      <td>«6+» - для детей старше 6 лет</td>\n",
              "      <td>NaN</td>\n",
              "      <td>NaN</td>\n",
              "      <td>NaN</td>\n",
              "      <td>NaN</td>\n",
              "      <td>6.6</td>\n",
              "      <td>драма, военный</td>\n",
              "      <td>NaN</td>\n",
              "      <td>NaN</td>\n",
              "      <td>2016</td>\n",
              "      <td>Е.Матвеев</td>\n",
              "      <td>драма</td>\n",
              "    </tr>\n",
              "    <tr>\n",
              "      <th>2</th>\n",
              "      <td>Особо опасен</td>\n",
              "      <td>221038416</td>\n",
              "      <td>2016-10-10 12:00:00</td>\n",
              "      <td>Художественный</td>\n",
              "      <td>Юниверсал Пикчерз, Кикстарт Продакшнз, Марк Пл...</td>\n",
              "      <td>США</td>\n",
              "      <td>Тимур Бекмамбетов</td>\n",
              "      <td>Джим Лемли, Джейсон Нетер, Марк Е.Платт, Яйн Смит</td>\n",
              "      <td>«18+» - запрещено для детей</td>\n",
              "      <td>NaN</td>\n",
              "      <td>NaN</td>\n",
              "      <td>NaN</td>\n",
              "      <td>NaN</td>\n",
              "      <td>6.8</td>\n",
              "      <td>фантастика, боевик, триллер</td>\n",
              "      <td>NaN</td>\n",
              "      <td>NaN</td>\n",
              "      <td>2016</td>\n",
              "      <td>Тимур Бекмамбетов</td>\n",
              "      <td>фантастика</td>\n",
              "    </tr>\n",
              "    <tr>\n",
              "      <th>3</th>\n",
              "      <td>Особо опасен</td>\n",
              "      <td>221026916</td>\n",
              "      <td>2016-06-10 12:00:00</td>\n",
              "      <td>Художественный</td>\n",
              "      <td>Юниверсал Пикчерз, Кикстарт Продакшнз, Марк Пл...</td>\n",
              "      <td>США</td>\n",
              "      <td>Тимур Бекмамбетов</td>\n",
              "      <td>Джим Лемли, Джейсон Нетер, Марк Е.Платт, Яйн Смит</td>\n",
              "      <td>«18+» - запрещено для детей</td>\n",
              "      <td>NaN</td>\n",
              "      <td>NaN</td>\n",
              "      <td>NaN</td>\n",
              "      <td>NaN</td>\n",
              "      <td>6.8</td>\n",
              "      <td>фантастика, боевик, триллер</td>\n",
              "      <td>NaN</td>\n",
              "      <td>NaN</td>\n",
              "      <td>2016</td>\n",
              "      <td>Тимур Бекмамбетов</td>\n",
              "      <td>фантастика</td>\n",
              "    </tr>\n",
              "    <tr>\n",
              "      <th>4</th>\n",
              "      <td>Особо опасен</td>\n",
              "      <td>221030815</td>\n",
              "      <td>2015-07-29 12:00:00</td>\n",
              "      <td>Художественный</td>\n",
              "      <td>Юниверсал Пикчерз, Кикстарт Продакшнз, Марк Пл...</td>\n",
              "      <td>США</td>\n",
              "      <td>Тимур Бекмамбетов</td>\n",
              "      <td>Джим Лемли, Джейсон Нетер, Марк Е.Платт, Яйн Смит</td>\n",
              "      <td>«18+» - запрещено для детей</td>\n",
              "      <td>NaN</td>\n",
              "      <td>NaN</td>\n",
              "      <td>NaN</td>\n",
              "      <td>NaN</td>\n",
              "      <td>6.8</td>\n",
              "      <td>фантастика, боевик, триллер</td>\n",
              "      <td>NaN</td>\n",
              "      <td>NaN</td>\n",
              "      <td>2015</td>\n",
              "      <td>Тимур Бекмамбетов</td>\n",
              "      <td>фантастика</td>\n",
              "    </tr>\n",
              "  </tbody>\n",
              "</table>\n",
              "</div>"
            ],
            "text/plain": [
              "                  title   puNumber     show_start_date            type  \\\n",
              "0      Открытый простор  221048915 2015-11-27 12:00:00  Художественный   \n",
              "1  Особо важное задание  111013716 2016-09-13 12:00:00  Художественный   \n",
              "2          Особо опасен  221038416 2016-10-10 12:00:00  Художественный   \n",
              "3          Особо опасен  221026916 2016-06-10 12:00:00  Художественный   \n",
              "4          Особо опасен  221030815 2015-07-29 12:00:00  Художественный   \n",
              "\n",
              "                                         film_studio production_country  \\\n",
              "0  Тачстоун Пикчерз, Кобальт Пикчерз, Бикон Пикче...                США   \n",
              "1                              Киностудия \"Мосфильм\"               СССР   \n",
              "2  Юниверсал Пикчерз, Кикстарт Продакшнз, Марк Пл...                США   \n",
              "3  Юниверсал Пикчерз, Кикстарт Продакшнз, Марк Пл...                США   \n",
              "4  Юниверсал Пикчерз, Кикстарт Продакшнз, Марк Пл...                США   \n",
              "\n",
              "            director                                           producer  \\\n",
              "0      Кевин Костнер          Дэвид Валдес, Кевин Костнер, Джейк Эбертс   \n",
              "1          Е.Матвеев                                                NaN   \n",
              "2  Тимур Бекмамбетов  Джим Лемли, Джейсон Нетер, Марк Е.Платт, Яйн Смит   \n",
              "3  Тимур Бекмамбетов  Джим Лемли, Джейсон Нетер, Марк Е.Платт, Яйн Смит   \n",
              "4  Тимур Бекмамбетов  Джим Лемли, Джейсон Нетер, Марк Е.Платт, Яйн Смит   \n",
              "\n",
              "                 age_restriction  refundable_support  nonrefundable_support  \\\n",
              "0    «18+» - запрещено для детей                 NaN                    NaN   \n",
              "1  «6+» - для детей старше 6 лет                 NaN                    NaN   \n",
              "2    «18+» - запрещено для детей                 NaN                    NaN   \n",
              "3    «18+» - запрещено для детей                 NaN                    NaN   \n",
              "4    «18+» - запрещено для детей                 NaN                    NaN   \n",
              "\n",
              "   budget financing_source  ratings                       genres  box_office  \\\n",
              "0     NaN              NaN      7.2     боевик, драма, мелодрама         NaN   \n",
              "1     NaN              NaN      6.6               драма, военный         NaN   \n",
              "2     NaN              NaN      6.8  фантастика, боевик, триллер         NaN   \n",
              "3     NaN              NaN      6.8  фантастика, боевик, триллер         NaN   \n",
              "4     NaN              NaN      6.8  фантастика, боевик, триллер         NaN   \n",
              "\n",
              "   support_percentage  show_start_year      main_director main_genres  \n",
              "0                 NaN             2015      Кевин Костнер      боевик  \n",
              "1                 NaN             2016          Е.Матвеев       драма  \n",
              "2                 NaN             2016  Тимур Бекмамбетов  фантастика  \n",
              "3                 NaN             2016  Тимур Бекмамбетов  фантастика  \n",
              "4                 NaN             2015  Тимур Бекмамбетов  фантастика  "
            ]
          },
          "execution_count": 69,
          "metadata": {},
          "output_type": "execute_result"
        }
      ],
      "source": [
        "df.head()"
      ]
    },
    {
      "cell_type": "code",
      "execution_count": null,
      "metadata": {
        "id": "Z_BGN6pz0y0R",
        "outputId": "256d7f45-f28b-4d52-ad82-c5334a8b897c"
      },
      "outputs": [
        {
          "name": "stdout",
          "output_type": "stream",
          "text": [
            "<class 'pandas.core.frame.DataFrame'>\n",
            "Int64Index: 7486 entries, 0 to 7485\n",
            "Data columns (total 20 columns):\n",
            " #   Column                 Non-Null Count  Dtype         \n",
            "---  ------                 --------------  -----         \n",
            " 0   title                  7486 non-null   object        \n",
            " 1   puNumber               7486 non-null   int64         \n",
            " 2   show_start_date        7486 non-null   datetime64[ns]\n",
            " 3   type                   7486 non-null   object        \n",
            " 4   film_studio            7468 non-null   object        \n",
            " 5   production_country     7484 non-null   object        \n",
            " 6   director               7477 non-null   object        \n",
            " 7   producer               6918 non-null   object        \n",
            " 8   age_restriction        7486 non-null   object        \n",
            " 9   refundable_support     332 non-null    float64       \n",
            " 10  nonrefundable_support  332 non-null    float64       \n",
            " 11  budget                 332 non-null    float64       \n",
            " 12  financing_source       332 non-null    object        \n",
            " 13  ratings                6519 non-null   float64       \n",
            " 14  genres                 6510 non-null   object        \n",
            " 15  box_office             3158 non-null   float64       \n",
            " 16  support_percentage     332 non-null    float64       \n",
            " 17  show_start_year        7486 non-null   int64         \n",
            " 18  main_director          7477 non-null   object        \n",
            " 19  main_genres            6510 non-null   object        \n",
            "dtypes: datetime64[ns](1), float64(6), int64(2), object(11)\n",
            "memory usage: 1.5+ MB\n"
          ]
        }
      ],
      "source": [
        "df.info()"
      ]
    },
    {
      "cell_type": "markdown",
      "metadata": {
        "id": "1FsCXHwdgFyU"
      },
      "source": [
        "- Посчитайте, какую долю от общего бюджета фильма составляет государственная поддержка."
      ]
    },
    {
      "cell_type": "markdown",
      "metadata": {
        "id": "LV6qFuZLgFyV"
      },
      "source": [
        "Уже сделано:Чаще всего доля участия государства в бюджете составляет 0.6140376284219444"
      ]
    },
    {
      "cell_type": "code",
      "execution_count": null,
      "metadata": {
        "id": "dPIe5XJB0y0R",
        "outputId": "8a44312f-a29b-40d7-90f9-a2a8d32c253f"
      },
      "outputs": [
        {
          "data": {
            "text/html": [
              "<div>\n",
              "<style scoped>\n",
              "    .dataframe tbody tr th:only-of-type {\n",
              "        vertical-align: middle;\n",
              "    }\n",
              "\n",
              "    .dataframe tbody tr th {\n",
              "        vertical-align: top;\n",
              "    }\n",
              "\n",
              "    .dataframe thead th {\n",
              "        text-align: right;\n",
              "    }\n",
              "</style>\n",
              "<table border=\"1\" class=\"dataframe\">\n",
              "  <thead>\n",
              "    <tr style=\"text-align: right;\">\n",
              "      <th></th>\n",
              "      <th>title</th>\n",
              "      <th>puNumber</th>\n",
              "      <th>show_start_date</th>\n",
              "      <th>type</th>\n",
              "      <th>film_studio</th>\n",
              "      <th>production_country</th>\n",
              "      <th>director</th>\n",
              "      <th>producer</th>\n",
              "      <th>age_restriction</th>\n",
              "      <th>refundable_support</th>\n",
              "      <th>nonrefundable_support</th>\n",
              "      <th>budget</th>\n",
              "      <th>financing_source</th>\n",
              "      <th>ratings</th>\n",
              "      <th>genres</th>\n",
              "      <th>box_office</th>\n",
              "      <th>support_percentage</th>\n",
              "      <th>show_start_year</th>\n",
              "      <th>main_director</th>\n",
              "      <th>main_genres</th>\n",
              "    </tr>\n",
              "  </thead>\n",
              "  <tbody>\n",
              "    <tr>\n",
              "      <th>1281</th>\n",
              "      <td>Пока еще жива</td>\n",
              "      <td>111005313</td>\n",
              "      <td>2013-10-11 12:00:00</td>\n",
              "      <td>Художественный</td>\n",
              "      <td>АНО содействия развитию кинематографии \"Ангел-...</td>\n",
              "      <td>Россия</td>\n",
              "      <td>А.Атанесян</td>\n",
              "      <td>А.Атанесян, М.Бабаханов, Р.Бутко</td>\n",
              "      <td>«16+» - для детей старше 16 лет</td>\n",
              "      <td>0.0</td>\n",
              "      <td>26500000.0</td>\n",
              "      <td>79411900.0</td>\n",
              "      <td>Министерство культуры</td>\n",
              "      <td>8.1</td>\n",
              "      <td>драма, мелодрама</td>\n",
              "      <td>3.653536e+05</td>\n",
              "      <td>0.333703</td>\n",
              "      <td>2013</td>\n",
              "      <td>А.Атанесян</td>\n",
              "      <td>драма</td>\n",
              "    </tr>\n",
              "    <tr>\n",
              "      <th>1448</th>\n",
              "      <td>Бесславные придурки</td>\n",
              "      <td>111003314</td>\n",
              "      <td>2014-03-28 12:00:00</td>\n",
              "      <td>Художественный</td>\n",
              "      <td>ООО \"Компания \"АТК-Студио\"</td>\n",
              "      <td>Россия</td>\n",
              "      <td>А.Якимчук</td>\n",
              "      <td>А.Тютрюмов</td>\n",
              "      <td>«12+» - для детей старше 12 лет</td>\n",
              "      <td>0.0</td>\n",
              "      <td>26000000.0</td>\n",
              "      <td>37142857.0</td>\n",
              "      <td>Министерство культуры</td>\n",
              "      <td>NaN</td>\n",
              "      <td>NaN</td>\n",
              "      <td>2.814000e+04</td>\n",
              "      <td>0.700000</td>\n",
              "      <td>2014</td>\n",
              "      <td>А.Якимчук</td>\n",
              "      <td>NaN</td>\n",
              "    </tr>\n",
              "    <tr>\n",
              "      <th>1498</th>\n",
              "      <td>Невидимки</td>\n",
              "      <td>111004213</td>\n",
              "      <td>2013-09-10 12:00:00</td>\n",
              "      <td>Художественный</td>\n",
              "      <td>ООО \"Компания \"РЕАЛ-ДАКОТА\"</td>\n",
              "      <td>Россия</td>\n",
              "      <td>Р.Давлетьяров, С.Комаров</td>\n",
              "      <td>Р.Давлетьяров, А.Котелевский, А.Олейников</td>\n",
              "      <td>«12+» - для детей старше 12 лет</td>\n",
              "      <td>0.0</td>\n",
              "      <td>107847945.0</td>\n",
              "      <td>176023490.0</td>\n",
              "      <td>Фонд кино</td>\n",
              "      <td>5.3</td>\n",
              "      <td>комедия, фантастика</td>\n",
              "      <td>1.995703e+07</td>\n",
              "      <td>0.612691</td>\n",
              "      <td>2013</td>\n",
              "      <td>Р.Давлетьяров</td>\n",
              "      <td>комедия</td>\n",
              "    </tr>\n",
              "    <tr>\n",
              "      <th>1524</th>\n",
              "      <td>БЕРЦЫ</td>\n",
              "      <td>111004314</td>\n",
              "      <td>2014-05-05 12:00:00</td>\n",
              "      <td>Художественный</td>\n",
              "      <td>ООО \"Студия \"Пассажир\"</td>\n",
              "      <td>Россия</td>\n",
              "      <td>Е.Миндадзе (псевдоним Катя Шагалова)</td>\n",
              "      <td>Л.Антонова</td>\n",
              "      <td>«16+» - для детей старше 16 лет</td>\n",
              "      <td>0.0</td>\n",
              "      <td>28000000.0</td>\n",
              "      <td>40574140.0</td>\n",
              "      <td>Министерство культуры</td>\n",
              "      <td>4.2</td>\n",
              "      <td>драма</td>\n",
              "      <td>5.591750e+04</td>\n",
              "      <td>0.690095</td>\n",
              "      <td>2014</td>\n",
              "      <td>Е.Миндадзе (псевдоним Катя Шагалова)</td>\n",
              "      <td>драма</td>\n",
              "    </tr>\n",
              "    <tr>\n",
              "      <th>1792</th>\n",
              "      <td>Братья Ч</td>\n",
              "      <td>111004414</td>\n",
              "      <td>2014-04-23 12:00:00</td>\n",
              "      <td>Художественный</td>\n",
              "      <td>ООО \"Студия \"Пассажир\"</td>\n",
              "      <td>Россия</td>\n",
              "      <td>М.Угаров</td>\n",
              "      <td>А.Миндадзе, Л.Антонова</td>\n",
              "      <td>«16+» - для детей старше 16 лет</td>\n",
              "      <td>0.0</td>\n",
              "      <td>25000000.0</td>\n",
              "      <td>40015122.0</td>\n",
              "      <td>Министерство культуры</td>\n",
              "      <td>6.4</td>\n",
              "      <td>драма</td>\n",
              "      <td>2.321000e+05</td>\n",
              "      <td>0.624764</td>\n",
              "      <td>2014</td>\n",
              "      <td>М.Угаров</td>\n",
              "      <td>драма</td>\n",
              "    </tr>\n",
              "    <tr>\n",
              "      <th>...</th>\n",
              "      <td>...</td>\n",
              "      <td>...</td>\n",
              "      <td>...</td>\n",
              "      <td>...</td>\n",
              "      <td>...</td>\n",
              "      <td>...</td>\n",
              "      <td>...</td>\n",
              "      <td>...</td>\n",
              "      <td>...</td>\n",
              "      <td>...</td>\n",
              "      <td>...</td>\n",
              "      <td>...</td>\n",
              "      <td>...</td>\n",
              "      <td>...</td>\n",
              "      <td>...</td>\n",
              "      <td>...</td>\n",
              "      <td>...</td>\n",
              "      <td>...</td>\n",
              "      <td>...</td>\n",
              "      <td>...</td>\n",
              "    </tr>\n",
              "    <tr>\n",
              "      <th>7464</th>\n",
              "      <td>Союз спасения</td>\n",
              "      <td>111022019</td>\n",
              "      <td>2019-12-26 12:00:00</td>\n",
              "      <td>Художественный</td>\n",
              "      <td>ЗАО \"Дирекция кино\"</td>\n",
              "      <td>Россия</td>\n",
              "      <td>А.Кравчук</td>\n",
              "      <td>А.Максимов, К.Эрнст</td>\n",
              "      <td>«12+» - для детей старше 12 лет</td>\n",
              "      <td>100000000.0</td>\n",
              "      <td>400000000.0</td>\n",
              "      <td>980000000.0</td>\n",
              "      <td>Фонд кино</td>\n",
              "      <td>6.0</td>\n",
              "      <td>история, биография, драма</td>\n",
              "      <td>7.177032e+08</td>\n",
              "      <td>0.510204</td>\n",
              "      <td>2019</td>\n",
              "      <td>А.Кравчук</td>\n",
              "      <td>история</td>\n",
              "    </tr>\n",
              "    <tr>\n",
              "      <th>7466</th>\n",
              "      <td>Иван Царевич и Серый Волк 4</td>\n",
              "      <td>114005019</td>\n",
              "      <td>2019-12-20 12:00:00</td>\n",
              "      <td>Анимационный</td>\n",
              "      <td>ООО \"Студия анимационного кино \"Мельница\"</td>\n",
              "      <td>Россия</td>\n",
              "      <td>Д.Шмидт, К.Феоктистов</td>\n",
              "      <td>С.Сельянов, А.Боярский</td>\n",
              "      <td>«6+» - для детей старше 6 лет</td>\n",
              "      <td>100000000.0</td>\n",
              "      <td>0.0</td>\n",
              "      <td>190000000.0</td>\n",
              "      <td>Фонд кино</td>\n",
              "      <td>6.7</td>\n",
              "      <td>мультфильм, приключения, семейный</td>\n",
              "      <td>5.010692e+08</td>\n",
              "      <td>0.526316</td>\n",
              "      <td>2019</td>\n",
              "      <td>Д.Шмидт</td>\n",
              "      <td>мультфильм</td>\n",
              "    </tr>\n",
              "    <tr>\n",
              "      <th>7474</th>\n",
              "      <td>Вторжение</td>\n",
              "      <td>111022519</td>\n",
              "      <td>2019-12-23 12:00:00</td>\n",
              "      <td>Художественный</td>\n",
              "      <td>ООО \"Арт Пикчерс Студия\", ООО \"Водород 2011\"</td>\n",
              "      <td>Россия</td>\n",
              "      <td>Ф.Бондарчук</td>\n",
              "      <td>Ф.Бондарчук, М.Врубель, А.Андрющенко, Д.Рудовский</td>\n",
              "      <td>«12+» - для детей старше 12 лет</td>\n",
              "      <td>100000000.0</td>\n",
              "      <td>400000000.0</td>\n",
              "      <td>944000000.0</td>\n",
              "      <td>Фонд кино</td>\n",
              "      <td>5.7</td>\n",
              "      <td>фантастика, боевик</td>\n",
              "      <td>NaN</td>\n",
              "      <td>0.529661</td>\n",
              "      <td>2019</td>\n",
              "      <td>Ф.Бондарчук</td>\n",
              "      <td>фантастика</td>\n",
              "    </tr>\n",
              "    <tr>\n",
              "      <th>7476</th>\n",
              "      <td>Я свободен</td>\n",
              "      <td>111023019</td>\n",
              "      <td>2019-12-26 12:00:00</td>\n",
              "      <td>Художественный</td>\n",
              "      <td>АО \"ТПО \"Киностудия им. М.Горького\"</td>\n",
              "      <td>Россия</td>\n",
              "      <td>И.Северов</td>\n",
              "      <td>С.Зернов</td>\n",
              "      <td>«12+» - для детей старше 12 лет</td>\n",
              "      <td>0.0</td>\n",
              "      <td>30000000.0</td>\n",
              "      <td>46154000.0</td>\n",
              "      <td>Министерство культуры</td>\n",
              "      <td>5.9</td>\n",
              "      <td>драма</td>\n",
              "      <td>NaN</td>\n",
              "      <td>0.649998</td>\n",
              "      <td>2019</td>\n",
              "      <td>И.Северов</td>\n",
              "      <td>драма</td>\n",
              "    </tr>\n",
              "    <tr>\n",
              "      <th>7478</th>\n",
              "      <td>(Не)идеальный мужчина</td>\n",
              "      <td>111023119</td>\n",
              "      <td>2019-12-24 12:00:00</td>\n",
              "      <td>Художественный</td>\n",
              "      <td>ООО \"Нон-Стоп Продакшн\"</td>\n",
              "      <td>Россия</td>\n",
              "      <td>М.Бальчюнас (псевдоним М.Вайсберг)</td>\n",
              "      <td>С.Мелькумов, А.Роднянский, М.Вайсберг, Р.Минас...</td>\n",
              "      <td>«12+» - для детей старше 12 лет</td>\n",
              "      <td>40000000.0</td>\n",
              "      <td>60000000.0</td>\n",
              "      <td>150147502.0</td>\n",
              "      <td>Фонд кино</td>\n",
              "      <td>4.5</td>\n",
              "      <td>комедия, фантастика, мелодрама</td>\n",
              "      <td>NaN</td>\n",
              "      <td>0.666012</td>\n",
              "      <td>2019</td>\n",
              "      <td>М.Бальчюнас (псевдоним М.Вайсберг)</td>\n",
              "      <td>комедия</td>\n",
              "    </tr>\n",
              "  </tbody>\n",
              "</table>\n",
              "<p>332 rows × 20 columns</p>\n",
              "</div>"
            ],
            "text/plain": [
              "                            title   puNumber     show_start_date  \\\n",
              "1281                Пока еще жива  111005313 2013-10-11 12:00:00   \n",
              "1448          Бесславные придурки  111003314 2014-03-28 12:00:00   \n",
              "1498                    Невидимки  111004213 2013-09-10 12:00:00   \n",
              "1524                        БЕРЦЫ  111004314 2014-05-05 12:00:00   \n",
              "1792                     Братья Ч  111004414 2014-04-23 12:00:00   \n",
              "...                           ...        ...                 ...   \n",
              "7464                Союз спасения  111022019 2019-12-26 12:00:00   \n",
              "7466  Иван Царевич и Серый Волк 4  114005019 2019-12-20 12:00:00   \n",
              "7474                    Вторжение  111022519 2019-12-23 12:00:00   \n",
              "7476                   Я свободен  111023019 2019-12-26 12:00:00   \n",
              "7478        (Не)идеальный мужчина  111023119 2019-12-24 12:00:00   \n",
              "\n",
              "                type                                        film_studio  \\\n",
              "1281  Художественный  АНО содействия развитию кинематографии \"Ангел-...   \n",
              "1448  Художественный                         ООО \"Компания \"АТК-Студио\"   \n",
              "1498  Художественный                        ООО \"Компания \"РЕАЛ-ДАКОТА\"   \n",
              "1524  Художественный                             ООО \"Студия \"Пассажир\"   \n",
              "1792  Художественный                             ООО \"Студия \"Пассажир\"   \n",
              "...              ...                                                ...   \n",
              "7464  Художественный                                ЗАО \"Дирекция кино\"   \n",
              "7466    Анимационный          ООО \"Студия анимационного кино \"Мельница\"   \n",
              "7474  Художественный       ООО \"Арт Пикчерс Студия\", ООО \"Водород 2011\"   \n",
              "7476  Художественный                АО \"ТПО \"Киностудия им. М.Горького\"   \n",
              "7478  Художественный                            ООО \"Нон-Стоп Продакшн\"   \n",
              "\n",
              "     production_country                              director  \\\n",
              "1281             Россия                            А.Атанесян   \n",
              "1448             Россия                             А.Якимчук   \n",
              "1498             Россия              Р.Давлетьяров, С.Комаров   \n",
              "1524             Россия  Е.Миндадзе (псевдоним Катя Шагалова)   \n",
              "1792             Россия                              М.Угаров   \n",
              "...                 ...                                   ...   \n",
              "7464             Россия                             А.Кравчук   \n",
              "7466             Россия                 Д.Шмидт, К.Феоктистов   \n",
              "7474             Россия                           Ф.Бондарчук   \n",
              "7476             Россия                             И.Северов   \n",
              "7478             Россия    М.Бальчюнас (псевдоним М.Вайсберг)   \n",
              "\n",
              "                                               producer  \\\n",
              "1281                   А.Атанесян, М.Бабаханов, Р.Бутко   \n",
              "1448                                         А.Тютрюмов   \n",
              "1498          Р.Давлетьяров, А.Котелевский, А.Олейников   \n",
              "1524                                         Л.Антонова   \n",
              "1792                             А.Миндадзе, Л.Антонова   \n",
              "...                                                 ...   \n",
              "7464                                А.Максимов, К.Эрнст   \n",
              "7466                             С.Сельянов, А.Боярский   \n",
              "7474  Ф.Бондарчук, М.Врубель, А.Андрющенко, Д.Рудовский   \n",
              "7476                                           С.Зернов   \n",
              "7478  С.Мелькумов, А.Роднянский, М.Вайсберг, Р.Минас...   \n",
              "\n",
              "                      age_restriction  refundable_support  \\\n",
              "1281  «16+» - для детей старше 16 лет                 0.0   \n",
              "1448  «12+» - для детей старше 12 лет                 0.0   \n",
              "1498  «12+» - для детей старше 12 лет                 0.0   \n",
              "1524  «16+» - для детей старше 16 лет                 0.0   \n",
              "1792  «16+» - для детей старше 16 лет                 0.0   \n",
              "...                               ...                 ...   \n",
              "7464  «12+» - для детей старше 12 лет         100000000.0   \n",
              "7466    «6+» - для детей старше 6 лет         100000000.0   \n",
              "7474  «12+» - для детей старше 12 лет         100000000.0   \n",
              "7476  «12+» - для детей старше 12 лет                 0.0   \n",
              "7478  «12+» - для детей старше 12 лет          40000000.0   \n",
              "\n",
              "      nonrefundable_support       budget       financing_source  ratings  \\\n",
              "1281             26500000.0   79411900.0  Министерство культуры      8.1   \n",
              "1448             26000000.0   37142857.0  Министерство культуры      NaN   \n",
              "1498            107847945.0  176023490.0              Фонд кино      5.3   \n",
              "1524             28000000.0   40574140.0  Министерство культуры      4.2   \n",
              "1792             25000000.0   40015122.0  Министерство культуры      6.4   \n",
              "...                     ...          ...                    ...      ...   \n",
              "7464            400000000.0  980000000.0              Фонд кино      6.0   \n",
              "7466                    0.0  190000000.0              Фонд кино      6.7   \n",
              "7474            400000000.0  944000000.0              Фонд кино      5.7   \n",
              "7476             30000000.0   46154000.0  Министерство культуры      5.9   \n",
              "7478             60000000.0  150147502.0              Фонд кино      4.5   \n",
              "\n",
              "                                 genres    box_office  support_percentage  \\\n",
              "1281                   драма, мелодрама  3.653536e+05            0.333703   \n",
              "1448                                NaN  2.814000e+04            0.700000   \n",
              "1498                комедия, фантастика  1.995703e+07            0.612691   \n",
              "1524                              драма  5.591750e+04            0.690095   \n",
              "1792                              драма  2.321000e+05            0.624764   \n",
              "...                                 ...           ...                 ...   \n",
              "7464          история, биография, драма  7.177032e+08            0.510204   \n",
              "7466  мультфильм, приключения, семейный  5.010692e+08            0.526316   \n",
              "7474                 фантастика, боевик           NaN            0.529661   \n",
              "7476                              драма           NaN            0.649998   \n",
              "7478     комедия, фантастика, мелодрама           NaN            0.666012   \n",
              "\n",
              "      show_start_year                         main_director main_genres  \n",
              "1281             2013                            А.Атанесян       драма  \n",
              "1448             2014                             А.Якимчук         NaN  \n",
              "1498             2013                         Р.Давлетьяров     комедия  \n",
              "1524             2014  Е.Миндадзе (псевдоним Катя Шагалова)       драма  \n",
              "1792             2014                              М.Угаров       драма  \n",
              "...               ...                                   ...         ...  \n",
              "7464             2019                             А.Кравчук     история  \n",
              "7466             2019                               Д.Шмидт  мультфильм  \n",
              "7474             2019                           Ф.Бондарчук  фантастика  \n",
              "7476             2019                             И.Северов       драма  \n",
              "7478             2019    М.Бальчюнас (псевдоним М.Вайсберг)     комедия  \n",
              "\n",
              "[332 rows x 20 columns]"
            ]
          },
          "execution_count": 74,
          "metadata": {},
          "output_type": "execute_result"
        }
      ],
      "source": [
        "df[df['support_percentage'].notna()]"
      ]
    },
    {
      "cell_type": "markdown",
      "metadata": {
        "id": "gGkzTyZG0y0S"
      },
      "source": [
        "Было выяснено,что чаще всего доля участия государства в бюджете составляет 0.6140376284219444\n",
        "И в некоторых строках был пропущен общий бюджет фильмов,которые получали гос. поддержку,поэтому заменил нулевые значения на сумму гос.поддерки делёную на долю.\n"
      ]
    },
    {
      "cell_type": "markdown",
      "metadata": {
        "id": "6t4EukPLgFyV"
      },
      "source": [
        "### Шаг 3. Проведите исследовательский анализ данных\n"
      ]
    },
    {
      "cell_type": "markdown",
      "metadata": {
        "id": "vAH8WCzugFyV"
      },
      "source": [
        "- Посмотрите, сколько фильмов выходило в прокат каждый год. Обратите внимание, что данные о прокате в кинотеатрах известны не для всех фильмов. Посчитайте, какую долю составляют фильмы с указанной информацией о прокате в кинотеатрах."
      ]
    },
    {
      "cell_type": "code",
      "execution_count": null,
      "metadata": {
        "id": "ABeV47y7gFyW"
      },
      "outputs": [],
      "source": [
        "df_pivot = df.loc[df['box_office'].notna(), ['show_start_year', 'box_office']] \\\n",
        "                .groupby('show_start_year') \\\n",
        "                .agg(['count', 'sum', 'mean', 'median'])\n",
        "\n",
        "df_pivot.columns = df_pivot.columns.get_level_values(1)"
      ]
    },
    {
      "cell_type": "code",
      "execution_count": null,
      "metadata": {
        "id": "TtQBOM7n0y0S",
        "outputId": "78baaa64-3521-42e1-8a83-7b68e2d60138"
      },
      "outputs": [
        {
          "name": "stdout",
          "output_type": "stream",
          "text": [
            "Доля фильмов, для которых есть информация о сборах: 0.42\n"
          ]
        },
        {
          "data": {
            "image/png": "[encoded data removed]",
            "text/plain": [
              "<Figure size 432x288 with 1 Axes>"
            ]
          },
          "metadata": {
            "needs_background": "light"
          },
          "output_type": "display_data"
        }
      ],
      "source": [
        "df_pivot.plot(title='количество фильмов в прокате по годам', kind='bar', y='count',rot = 0)\n",
        "print(f'Доля фильмов, для которых есть информация о сборах: {df.box_office.notna().mean():.2f}')"
      ]
    },
    {
      "cell_type": "code",
      "execution_count": null,
      "metadata": {
        "id": "oqn09euq0y0S",
        "outputId": "104b0175-02e0-40e1-90d5-f9a2c3582fc4"
      },
      "outputs": [
        {
          "data": {
            "text/html": [
              "<div>\n",
              "<style scoped>\n",
              "    .dataframe tbody tr th:only-of-type {\n",
              "        vertical-align: middle;\n",
              "    }\n",
              "\n",
              "    .dataframe tbody tr th {\n",
              "        vertical-align: top;\n",
              "    }\n",
              "\n",
              "    .dataframe thead th {\n",
              "        text-align: right;\n",
              "    }\n",
              "</style>\n",
              "<table border=\"1\" class=\"dataframe\">\n",
              "  <thead>\n",
              "    <tr style=\"text-align: right;\">\n",
              "      <th></th>\n",
              "      <th>count</th>\n",
              "      <th>sum</th>\n",
              "      <th>mean</th>\n",
              "      <th>median</th>\n",
              "    </tr>\n",
              "    <tr>\n",
              "      <th>show_start_year</th>\n",
              "      <th></th>\n",
              "      <th></th>\n",
              "      <th></th>\n",
              "      <th></th>\n",
              "    </tr>\n",
              "  </thead>\n",
              "  <tbody>\n",
              "    <tr>\n",
              "      <th>2010</th>\n",
              "      <td>105</td>\n",
              "      <td>2.428654e+06</td>\n",
              "      <td>2.313004e+04</td>\n",
              "      <td>1700.000</td>\n",
              "    </tr>\n",
              "    <tr>\n",
              "      <th>2011</th>\n",
              "      <td>109</td>\n",
              "      <td>1.410276e+07</td>\n",
              "      <td>1.293832e+05</td>\n",
              "      <td>3000.000</td>\n",
              "    </tr>\n",
              "    <tr>\n",
              "      <th>2012</th>\n",
              "      <td>128</td>\n",
              "      <td>6.955423e+06</td>\n",
              "      <td>5.433924e+04</td>\n",
              "      <td>5660.000</td>\n",
              "    </tr>\n",
              "    <tr>\n",
              "      <th>2013</th>\n",
              "      <td>184</td>\n",
              "      <td>2.979971e+07</td>\n",
              "      <td>1.619549e+05</td>\n",
              "      <td>3522.500</td>\n",
              "    </tr>\n",
              "    <tr>\n",
              "      <th>2014</th>\n",
              "      <td>279</td>\n",
              "      <td>7.444952e+09</td>\n",
              "      <td>2.668442e+07</td>\n",
              "      <td>18160.000</td>\n",
              "    </tr>\n",
              "    <tr>\n",
              "      <th>2015</th>\n",
              "      <td>465</td>\n",
              "      <td>3.949737e+10</td>\n",
              "      <td>8.494057e+07</td>\n",
              "      <td>4920933.000</td>\n",
              "    </tr>\n",
              "    <tr>\n",
              "      <th>2016</th>\n",
              "      <td>526</td>\n",
              "      <td>4.786630e+10</td>\n",
              "      <td>9.100057e+07</td>\n",
              "      <td>3846679.410</td>\n",
              "    </tr>\n",
              "    <tr>\n",
              "      <th>2017</th>\n",
              "      <td>357</td>\n",
              "      <td>4.856371e+10</td>\n",
              "      <td>1.360328e+08</td>\n",
              "      <td>9968340.000</td>\n",
              "    </tr>\n",
              "    <tr>\n",
              "      <th>2018</th>\n",
              "      <td>475</td>\n",
              "      <td>4.966840e+10</td>\n",
              "      <td>1.045651e+08</td>\n",
              "      <td>8891102.210</td>\n",
              "    </tr>\n",
              "    <tr>\n",
              "      <th>2019</th>\n",
              "      <td>530</td>\n",
              "      <td>4.842571e+10</td>\n",
              "      <td>9.136926e+07</td>\n",
              "      <td>4627798.345</td>\n",
              "    </tr>\n",
              "  </tbody>\n",
              "</table>\n",
              "</div>"
            ],
            "text/plain": [
              "                 count           sum          mean       median\n",
              "show_start_year                                                \n",
              "2010               105  2.428654e+06  2.313004e+04     1700.000\n",
              "2011               109  1.410276e+07  1.293832e+05     3000.000\n",
              "2012               128  6.955423e+06  5.433924e+04     5660.000\n",
              "2013               184  2.979971e+07  1.619549e+05     3522.500\n",
              "2014               279  7.444952e+09  2.668442e+07    18160.000\n",
              "2015               465  3.949737e+10  8.494057e+07  4920933.000\n",
              "2016               526  4.786630e+10  9.100057e+07  3846679.410\n",
              "2017               357  4.856371e+10  1.360328e+08  9968340.000\n",
              "2018               475  4.966840e+10  1.045651e+08  8891102.210\n",
              "2019               530  4.842571e+10  9.136926e+07  4627798.345"
            ]
          },
          "execution_count": 71,
          "metadata": {},
          "output_type": "execute_result"
        }
      ],
      "source": [
        "df_pivot"
      ]
    },
    {
      "cell_type": "code",
      "execution_count": null,
      "metadata": {
        "id": "9KImmrVu0y0S",
        "outputId": "a50b2009-b91a-4b87-e4d5-7313ecd728e4"
      },
      "outputs": [
        {
          "data": {
            "text/html": [
              "<div>\n",
              "<style scoped>\n",
              "    .dataframe tbody tr th:only-of-type {\n",
              "        vertical-align: middle;\n",
              "    }\n",
              "\n",
              "    .dataframe tbody tr th {\n",
              "        vertical-align: top;\n",
              "    }\n",
              "\n",
              "    .dataframe thead th {\n",
              "        text-align: right;\n",
              "    }\n",
              "</style>\n",
              "<table border=\"1\" class=\"dataframe\">\n",
              "  <thead>\n",
              "    <tr style=\"text-align: right;\">\n",
              "      <th></th>\n",
              "      <th>count</th>\n",
              "    </tr>\n",
              "    <tr>\n",
              "      <th>show_start_year</th>\n",
              "      <th></th>\n",
              "    </tr>\n",
              "  </thead>\n",
              "  <tbody>\n",
              "    <tr>\n",
              "      <th>2010</th>\n",
              "      <td>985</td>\n",
              "    </tr>\n",
              "    <tr>\n",
              "      <th>2011</th>\n",
              "      <td>622</td>\n",
              "    </tr>\n",
              "    <tr>\n",
              "      <th>2012</th>\n",
              "      <td>593</td>\n",
              "    </tr>\n",
              "    <tr>\n",
              "      <th>2013</th>\n",
              "      <td>630</td>\n",
              "    </tr>\n",
              "    <tr>\n",
              "      <th>2014</th>\n",
              "      <td>807</td>\n",
              "    </tr>\n",
              "    <tr>\n",
              "      <th>2015</th>\n",
              "      <td>705</td>\n",
              "    </tr>\n",
              "    <tr>\n",
              "      <th>2016</th>\n",
              "      <td>818</td>\n",
              "    </tr>\n",
              "    <tr>\n",
              "      <th>2017</th>\n",
              "      <td>505</td>\n",
              "    </tr>\n",
              "    <tr>\n",
              "      <th>2018</th>\n",
              "      <td>891</td>\n",
              "    </tr>\n",
              "    <tr>\n",
              "      <th>2019</th>\n",
              "      <td>930</td>\n",
              "    </tr>\n",
              "  </tbody>\n",
              "</table>\n",
              "</div>"
            ],
            "text/plain": [
              "                 count\n",
              "show_start_year       \n",
              "2010               985\n",
              "2011               622\n",
              "2012               593\n",
              "2013               630\n",
              "2014               807\n",
              "2015               705\n",
              "2016               818\n",
              "2017               505\n",
              "2018               891\n",
              "2019               930"
            ]
          },
          "metadata": {},
          "output_type": "display_data"
        },
        {
          "data": {
            "image/png": "[encoded data removed]",
            "text/plain": [
              "<Figure size 432x288 with 1 Axes>"
            ]
          },
          "metadata": {
            "needs_background": "light"
          },
          "output_type": "display_data"
        }
      ],
      "source": [
        "pivot = df.pivot_table(index='show_start_year', values='title', aggfunc='count')\n",
        "pivot.columns = ['count']\n",
        "display(pivot)\n",
        "pivot.plot(kind='bar');"
      ]
    },
    {
      "cell_type": "code",
      "execution_count": null,
      "metadata": {
        "id": "EhZMUIVU0y0T",
        "outputId": "20f6d172-ab0c-4015-ca82-f646eaece04d"
      },
      "outputs": [
        {
          "data": {
            "text/plain": [
              "0.42185412770504943"
            ]
          },
          "execution_count": 79,
          "metadata": {},
          "output_type": "execute_result"
        }
      ],
      "source": [
        "df['box_office'].notna().mean()"
      ]
    },
    {
      "cell_type": "markdown",
      "metadata": {
        "id": "ltidmsvR0y0T"
      },
      "source": [
        "Только 42% фильмов содержат сведения о кассовых сборах.\n",
        "\n",
        "Исследуем наполняемость данных о кассовых сборах по годам."
      ]
    },
    {
      "cell_type": "code",
      "execution_count": null,
      "metadata": {
        "id": "0uNgpwcJ0y0T",
        "outputId": "2bc28174-02ff-4286-c2f3-6be8ff1a883a"
      },
      "outputs": [
        {
          "data": {
            "text/html": [
              "<div>\n",
              "<style scoped>\n",
              "    .dataframe tbody tr th:only-of-type {\n",
              "        vertical-align: middle;\n",
              "    }\n",
              "\n",
              "    .dataframe tbody tr th {\n",
              "        vertical-align: top;\n",
              "    }\n",
              "\n",
              "    .dataframe thead th {\n",
              "        text-align: right;\n",
              "    }\n",
              "</style>\n",
              "<table border=\"1\" class=\"dataframe\">\n",
              "  <thead>\n",
              "    <tr style=\"text-align: right;\">\n",
              "      <th></th>\n",
              "      <th>box_office</th>\n",
              "    </tr>\n",
              "    <tr>\n",
              "      <th>show_start_year</th>\n",
              "      <th></th>\n",
              "    </tr>\n",
              "  </thead>\n",
              "  <tbody>\n",
              "    <tr>\n",
              "      <th>2010</th>\n",
              "      <td>0.106599</td>\n",
              "    </tr>\n",
              "    <tr>\n",
              "      <th>2011</th>\n",
              "      <td>0.175241</td>\n",
              "    </tr>\n",
              "    <tr>\n",
              "      <th>2012</th>\n",
              "      <td>0.215852</td>\n",
              "    </tr>\n",
              "    <tr>\n",
              "      <th>2013</th>\n",
              "      <td>0.292063</td>\n",
              "    </tr>\n",
              "    <tr>\n",
              "      <th>2014</th>\n",
              "      <td>0.345725</td>\n",
              "    </tr>\n",
              "    <tr>\n",
              "      <th>2015</th>\n",
              "      <td>0.659574</td>\n",
              "    </tr>\n",
              "    <tr>\n",
              "      <th>2016</th>\n",
              "      <td>0.643032</td>\n",
              "    </tr>\n",
              "    <tr>\n",
              "      <th>2017</th>\n",
              "      <td>0.706931</td>\n",
              "    </tr>\n",
              "    <tr>\n",
              "      <th>2018</th>\n",
              "      <td>0.533109</td>\n",
              "    </tr>\n",
              "    <tr>\n",
              "      <th>2019</th>\n",
              "      <td>0.569892</td>\n",
              "    </tr>\n",
              "  </tbody>\n",
              "</table>\n",
              "</div>"
            ],
            "text/plain": [
              "                 box_office\n",
              "show_start_year            \n",
              "2010               0.106599\n",
              "2011               0.175241\n",
              "2012               0.215852\n",
              "2013               0.292063\n",
              "2014               0.345725\n",
              "2015               0.659574\n",
              "2016               0.643032\n",
              "2017               0.706931\n",
              "2018               0.533109\n",
              "2019               0.569892"
            ]
          },
          "metadata": {},
          "output_type": "display_data"
        },
        {
          "data": {
            "image/png": "[encoded data removed]",
            "text/plain": [
              "<Figure size 864x288 with 1 Axes>"
            ]
          },
          "metadata": {
            "needs_background": "light"
          },
          "output_type": "display_data"
        }
      ],
      "source": [
        "pivot = df.pivot_table(index='show_start_year', values='box_office', aggfunc=lambda x: x.notna().mean())\n",
        "display (pivot)\n",
        "pivot.plot(kind='bar', figsize=(12, 4));"
      ]
    },
    {
      "cell_type": "markdown",
      "metadata": {
        "id": "fX9mYLpp0y0T"
      },
      "source": [
        "Из этих данных следует что в 2010 году наполнение данных о кассовых сборах было минимальным и составляло 11%. Максимальное же наполнение данными о кассовых сборах зафиксировано в 2017 году.\n",
        "\n",
        "С 2010 по 2014 год наполнение данными о кассовых сборах плавно и последовательно возрастало, в 2015 году произошел резкий рост наполненности данными о кассовых сборах почти в два раза. После этого наполняемость данными о кассовых сборах больше не росла, превысив этот показатель лишь в 2017 году и немного откатившись после этого."
      ]
    },
    {
      "cell_type": "markdown",
      "metadata": {
        "id": "BEOdcIrIgFyW"
      },
      "source": [
        "- Изучите, как менялась динамика проката по годам. В каком году сумма сборов была минимальной? А максимальной?"
      ]
    },
    {
      "cell_type": "code",
      "execution_count": null,
      "metadata": {
        "id": "tfEhofYvgFyX",
        "outputId": "dc7e9eb2-e355-4c00-e690-b837dada5568"
      },
      "outputs": [
        {
          "name": "stdout",
          "output_type": "stream",
          "text": [
            "В 2010 году сумма сборов была минимальной, в 2018 максимальной.\n"
          ]
        },
        {
          "data": {
            "image/png": "[encoded data removed]",
            "text/plain": [
              "<Figure size 432x288 with 1 Axes>"
            ]
          },
          "metadata": {
            "needs_background": "light"
          },
          "output_type": "display_data"
        }
      ],
      "source": [
        "df_pivot.plot(title='сборы фильмов в прокате по годам', kind='line', y='sum')\n",
        "print(f\"В {df_pivot['sum'].idxmin()} году сумма сборов была минимальной, в {df_pivot['sum'].idxmax()} максимальной.\")"
      ]
    },
    {
      "cell_type": "code",
      "execution_count": null,
      "metadata": {
        "id": "2JjRsMFi0y0T",
        "outputId": "6de2eccd-8ec7-45c6-fcb0-d1ba9775531d"
      },
      "outputs": [
        {
          "data": {
            "text/html": [
              "<div>\n",
              "<style scoped>\n",
              "    .dataframe tbody tr th:only-of-type {\n",
              "        vertical-align: middle;\n",
              "    }\n",
              "\n",
              "    .dataframe tbody tr th {\n",
              "        vertical-align: top;\n",
              "    }\n",
              "\n",
              "    .dataframe thead th {\n",
              "        text-align: right;\n",
              "    }\n",
              "</style>\n",
              "<table border=\"1\" class=\"dataframe\">\n",
              "  <thead>\n",
              "    <tr style=\"text-align: right;\">\n",
              "      <th></th>\n",
              "      <th>count</th>\n",
              "      <th>sum</th>\n",
              "      <th>mean</th>\n",
              "      <th>median</th>\n",
              "    </tr>\n",
              "    <tr>\n",
              "      <th>show_start_year</th>\n",
              "      <th></th>\n",
              "      <th></th>\n",
              "      <th></th>\n",
              "      <th></th>\n",
              "    </tr>\n",
              "  </thead>\n",
              "  <tbody>\n",
              "    <tr>\n",
              "      <th>2010</th>\n",
              "      <td>105</td>\n",
              "      <td>2.428654e+06</td>\n",
              "      <td>2.313004e+04</td>\n",
              "      <td>1700.000</td>\n",
              "    </tr>\n",
              "    <tr>\n",
              "      <th>2011</th>\n",
              "      <td>109</td>\n",
              "      <td>1.410276e+07</td>\n",
              "      <td>1.293832e+05</td>\n",
              "      <td>3000.000</td>\n",
              "    </tr>\n",
              "    <tr>\n",
              "      <th>2012</th>\n",
              "      <td>128</td>\n",
              "      <td>6.955423e+06</td>\n",
              "      <td>5.433924e+04</td>\n",
              "      <td>5660.000</td>\n",
              "    </tr>\n",
              "    <tr>\n",
              "      <th>2013</th>\n",
              "      <td>184</td>\n",
              "      <td>2.979971e+07</td>\n",
              "      <td>1.619549e+05</td>\n",
              "      <td>3522.500</td>\n",
              "    </tr>\n",
              "    <tr>\n",
              "      <th>2014</th>\n",
              "      <td>279</td>\n",
              "      <td>7.444952e+09</td>\n",
              "      <td>2.668442e+07</td>\n",
              "      <td>18160.000</td>\n",
              "    </tr>\n",
              "    <tr>\n",
              "      <th>2015</th>\n",
              "      <td>465</td>\n",
              "      <td>3.949737e+10</td>\n",
              "      <td>8.494057e+07</td>\n",
              "      <td>4920933.000</td>\n",
              "    </tr>\n",
              "    <tr>\n",
              "      <th>2016</th>\n",
              "      <td>526</td>\n",
              "      <td>4.786630e+10</td>\n",
              "      <td>9.100057e+07</td>\n",
              "      <td>3846679.410</td>\n",
              "    </tr>\n",
              "    <tr>\n",
              "      <th>2017</th>\n",
              "      <td>357</td>\n",
              "      <td>4.856371e+10</td>\n",
              "      <td>1.360328e+08</td>\n",
              "      <td>9968340.000</td>\n",
              "    </tr>\n",
              "    <tr>\n",
              "      <th>2018</th>\n",
              "      <td>475</td>\n",
              "      <td>4.966840e+10</td>\n",
              "      <td>1.045651e+08</td>\n",
              "      <td>8891102.210</td>\n",
              "    </tr>\n",
              "    <tr>\n",
              "      <th>2019</th>\n",
              "      <td>530</td>\n",
              "      <td>4.842571e+10</td>\n",
              "      <td>9.136926e+07</td>\n",
              "      <td>4627798.345</td>\n",
              "    </tr>\n",
              "  </tbody>\n",
              "</table>\n",
              "</div>"
            ],
            "text/plain": [
              "                 count           sum          mean       median\n",
              "show_start_year                                                \n",
              "2010               105  2.428654e+06  2.313004e+04     1700.000\n",
              "2011               109  1.410276e+07  1.293832e+05     3000.000\n",
              "2012               128  6.955423e+06  5.433924e+04     5660.000\n",
              "2013               184  2.979971e+07  1.619549e+05     3522.500\n",
              "2014               279  7.444952e+09  2.668442e+07    18160.000\n",
              "2015               465  3.949737e+10  8.494057e+07  4920933.000\n",
              "2016               526  4.786630e+10  9.100057e+07  3846679.410\n",
              "2017               357  4.856371e+10  1.360328e+08  9968340.000\n",
              "2018               475  4.966840e+10  1.045651e+08  8891102.210\n",
              "2019               530  4.842571e+10  9.136926e+07  4627798.345"
            ]
          },
          "execution_count": 61,
          "metadata": {},
          "output_type": "execute_result"
        }
      ],
      "source": [
        "df_pivot"
      ]
    },
    {
      "cell_type": "markdown",
      "metadata": {
        "id": "G-7qS-N-gFyY"
      },
      "source": [
        "- С помощью сводной таблицы посчитайте среднюю и медианную сумму сборов для каждого года."
      ]
    },
    {
      "cell_type": "code",
      "execution_count": null,
      "metadata": {
        "id": "jmp-rgg9gFyY",
        "outputId": "b3e25b03-9fb7-49b6-e934-dd260dee2b2e"
      },
      "outputs": [
        {
          "name": "stdout",
          "output_type": "stream",
          "text": [
            "\n"
          ]
        },
        {
          "data": {
            "image/png": "[encoded data removed]",
            "text/plain": [
              "<Figure size 432x288 with 1 Axes>"
            ]
          },
          "metadata": {
            "needs_background": "light"
          },
          "output_type": "display_data"
        }
      ],
      "source": [
        "df_pivot.plot(title='средняя и медианная сумма сборов по годам', kind='line', y=['median', 'mean'])\n",
        "print()"
      ]
    },
    {
      "cell_type": "code",
      "execution_count": null,
      "metadata": {
        "id": "rPpPTNHt0y0U",
        "outputId": "cc19ff31-98cd-41fd-8e8f-ff4204017b40"
      },
      "outputs": [
        {
          "data": {
            "text/html": [
              "<div>\n",
              "<style scoped>\n",
              "    .dataframe tbody tr th:only-of-type {\n",
              "        vertical-align: middle;\n",
              "    }\n",
              "\n",
              "    .dataframe tbody tr th {\n",
              "        vertical-align: top;\n",
              "    }\n",
              "\n",
              "    .dataframe thead th {\n",
              "        text-align: right;\n",
              "    }\n",
              "</style>\n",
              "<table border=\"1\" class=\"dataframe\">\n",
              "  <thead>\n",
              "    <tr style=\"text-align: right;\">\n",
              "      <th></th>\n",
              "      <th>count</th>\n",
              "      <th>sum</th>\n",
              "      <th>mean</th>\n",
              "      <th>median</th>\n",
              "    </tr>\n",
              "    <tr>\n",
              "      <th>show_start_year</th>\n",
              "      <th></th>\n",
              "      <th></th>\n",
              "      <th></th>\n",
              "      <th></th>\n",
              "    </tr>\n",
              "  </thead>\n",
              "  <tbody>\n",
              "    <tr>\n",
              "      <th>2010</th>\n",
              "      <td>105</td>\n",
              "      <td>2.428654e+06</td>\n",
              "      <td>2.313004e+04</td>\n",
              "      <td>1700.000</td>\n",
              "    </tr>\n",
              "    <tr>\n",
              "      <th>2011</th>\n",
              "      <td>109</td>\n",
              "      <td>1.410276e+07</td>\n",
              "      <td>1.293832e+05</td>\n",
              "      <td>3000.000</td>\n",
              "    </tr>\n",
              "    <tr>\n",
              "      <th>2012</th>\n",
              "      <td>128</td>\n",
              "      <td>6.955423e+06</td>\n",
              "      <td>5.433924e+04</td>\n",
              "      <td>5660.000</td>\n",
              "    </tr>\n",
              "    <tr>\n",
              "      <th>2013</th>\n",
              "      <td>184</td>\n",
              "      <td>2.979971e+07</td>\n",
              "      <td>1.619549e+05</td>\n",
              "      <td>3522.500</td>\n",
              "    </tr>\n",
              "    <tr>\n",
              "      <th>2014</th>\n",
              "      <td>279</td>\n",
              "      <td>7.444952e+09</td>\n",
              "      <td>2.668442e+07</td>\n",
              "      <td>18160.000</td>\n",
              "    </tr>\n",
              "    <tr>\n",
              "      <th>2015</th>\n",
              "      <td>465</td>\n",
              "      <td>3.949737e+10</td>\n",
              "      <td>8.494057e+07</td>\n",
              "      <td>4920933.000</td>\n",
              "    </tr>\n",
              "    <tr>\n",
              "      <th>2016</th>\n",
              "      <td>526</td>\n",
              "      <td>4.786630e+10</td>\n",
              "      <td>9.100057e+07</td>\n",
              "      <td>3846679.410</td>\n",
              "    </tr>\n",
              "    <tr>\n",
              "      <th>2017</th>\n",
              "      <td>357</td>\n",
              "      <td>4.856371e+10</td>\n",
              "      <td>1.360328e+08</td>\n",
              "      <td>9968340.000</td>\n",
              "    </tr>\n",
              "    <tr>\n",
              "      <th>2018</th>\n",
              "      <td>475</td>\n",
              "      <td>4.966840e+10</td>\n",
              "      <td>1.045651e+08</td>\n",
              "      <td>8891102.210</td>\n",
              "    </tr>\n",
              "    <tr>\n",
              "      <th>2019</th>\n",
              "      <td>530</td>\n",
              "      <td>4.842571e+10</td>\n",
              "      <td>9.136926e+07</td>\n",
              "      <td>4627798.345</td>\n",
              "    </tr>\n",
              "  </tbody>\n",
              "</table>\n",
              "</div>"
            ],
            "text/plain": [
              "                 count           sum          mean       median\n",
              "show_start_year                                                \n",
              "2010               105  2.428654e+06  2.313004e+04     1700.000\n",
              "2011               109  1.410276e+07  1.293832e+05     3000.000\n",
              "2012               128  6.955423e+06  5.433924e+04     5660.000\n",
              "2013               184  2.979971e+07  1.619549e+05     3522.500\n",
              "2014               279  7.444952e+09  2.668442e+07    18160.000\n",
              "2015               465  3.949737e+10  8.494057e+07  4920933.000\n",
              "2016               526  4.786630e+10  9.100057e+07  3846679.410\n",
              "2017               357  4.856371e+10  1.360328e+08  9968340.000\n",
              "2018               475  4.966840e+10  1.045651e+08  8891102.210\n",
              "2019               530  4.842571e+10  9.136926e+07  4627798.345"
            ]
          },
          "execution_count": 46,
          "metadata": {},
          "output_type": "execute_result"
        }
      ],
      "source": [
        "df_pivot"
      ]
    },
    {
      "cell_type": "markdown",
      "metadata": {
        "id": "wF_QI-Y90y0U"
      },
      "source": [
        "Максимальная средняя сумма кассовых сборов и медиана зафиксирована в 2017 году, и в двух последующих года она последовательно уменьшалась, возвратившись в 2019 году к уровню 2016 года.\n",
        "\n",
        "При этом отметим значительное превышение среднего над медианой, что говорит о наличии в данных некоторого количества крайне высоких значений. Об этом также упоминалось на этапе предобработки данных. При этом также возможно, что данные просто \"захламлены\" низкими значениями, которых судя по гистограмме очень много. Это косвенно может также указывать на ошибки в данных колонки box_office (но уже и в диапазоне 2015 - 2019 года). Данные требуют дополнительной проверки."
      ]
    },
    {
      "cell_type": "markdown",
      "metadata": {
        "id": "Ok89WFwJgFyZ"
      },
      "source": [
        "- Определите, влияет ли возрастное ограничение аудитории («6+», «12+», «16+», «18+» и т. д.) на сборы фильма в прокате в период с 2015 по 2019 год? Фильмы с каким возрастным ограничением собрали больше всего денег в прокате? Меняется ли картина в зависимости от года? Если да, предположите, с чем это может быть связано."
      ]
    },
    {
      "cell_type": "code",
      "execution_count": null,
      "metadata": {
        "id": "jsSbEqfjgFya",
        "outputId": "a5ce8062-8e07-471e-a89d-73ecd7b0fe59"
      },
      "outputs": [
        {
          "name": "stdout",
          "output_type": "stream",
          "text": [
            "\n"
          ]
        },
        {
          "data": {
            "image/png": "[encoded data removed]",
            "text/plain": [
              "<Figure size 720x432 with 1 Axes>"
            ]
          },
          "metadata": {
            "needs_background": "light"
          },
          "output_type": "display_data"
        }
      ],
      "source": [
        "df[df['box_office'].notna()] \\\n",
        "    .pivot_table(index='show_start_year',\n",
        "                columns='age_restriction',\n",
        "                values='box_office',\n",
        "                aggfunc='sum') \\\n",
        "    .plot(title='сумма сборов по годам с разбивкой по возрастным категориям', kind='line', xlim=[2015, 2019],figsize =(10,6))\n",
        "print()"
      ]
    },
    {
      "cell_type": "markdown",
      "metadata": {
        "id": "ekYsEJk_0y0U"
      },
      "source": [
        "Исходя из графика \"сумма сборов по годам с разбивкой по возрастным категориям\" больше всего сумма сборов преобладает у категории 16+,суммы меняются с каждым годом,скорей всего это происходит из-за того,что в разные года выходит разное кол-во фильмов определённой категории, и когда фильмов какой-то категории становится больше по сравнению с другими,сумма сборов увеличивается"
      ]
    },
    {
      "cell_type": "markdown",
      "metadata": {
        "id": "l_Kg6Ku4gFya"
      },
      "source": [
        "### Шаг 4. Исследуйте фильмы, которые получили государственную поддержку\n",
        "\n",
        "На этом этапе нет конкретных инструкций и заданий — поищите интересные закономерности в данных. Посмотрите, сколько выделяют средств на поддержку кино. Проверьте, хорошо ли окупаются такие фильмы, какой у них рейтинг."
      ]
    },
    {
      "cell_type": "code",
      "execution_count": null,
      "metadata": {
        "id": "W9QKpjUdgFyb"
      },
      "outputs": [],
      "source": [
        "df_supported = df[df['refundable_support'].notna() | df['nonrefundable_support'].notna()].copy()\n",
        "\n",
        "df_supported['full_support'] = df_supported['nonrefundable_support'] + df_supported['refundable_support']\n",
        "\n",
        "df_supported['profitability'] = df_supported['box_office'] / df_supported['full_support'] - 1\n",
        "\n",
        "df_supported['is_paid_off'] = df_supported['profitability'] > 0\n",
        "\n",
        "df_supported['is_not_paid_off'] = ~df_supported['is_paid_off']"
      ]
    },
    {
      "cell_type": "code",
      "execution_count": null,
      "metadata": {
        "id": "jsFHLcVv0y0V",
        "outputId": "35d94984-2312-425f-b8b4-6ad5e97b6e64"
      },
      "outputs": [
        {
          "data": {
            "text/plain": [
              "<AxesSubplot:title={'center':'средняя оценка фильмов по жанрам'}, xlabel='main_genres'>"
            ]
          },
          "execution_count": 49,
          "metadata": {},
          "output_type": "execute_result"
        },
        {
          "data": {
            "image/png": "[encoded data removed]",
            "text/plain": [
              "<Figure size 432x288 with 1 Axes>"
            ]
          },
          "metadata": {
            "needs_background": "light"
          },
          "output_type": "display_data"
        }
      ],
      "source": [
        "df_supported[['main_genres', 'ratings']].groupby('main_genres') \\\n",
        "                                        .agg('mean') \\\n",
        "                                        .sort_values(by='ratings', ascending=False) \\\n",
        "                                        .plot(title='средняя оценка фильмов по жанрам', kind='bar')"
      ]
    },
    {
      "cell_type": "code",
      "execution_count": null,
      "metadata": {
        "id": "3SFMaVRy0y0V",
        "outputId": "61bb2fcd-ac51-4f3c-ce9c-fc7730427286"
      },
      "outputs": [
        {
          "data": {
            "text/plain": [
              "<AxesSubplot:title={'center':'количество фильмов, получивших господдержку (по жанрам)'}>"
            ]
          },
          "execution_count": 50,
          "metadata": {},
          "output_type": "execute_result"
        },
        {
          "data": {
            "image/png": "[encoded data removed]",
            "text/plain": [
              "<Figure size 432x288 with 1 Axes>"
            ]
          },
          "metadata": {
            "needs_background": "light"
          },
          "output_type": "display_data"
        }
      ],
      "source": [
        "df_supported['main_genres'].value_counts().plot(title='количество фильмов, получивших господдержку (по жанрам)', kind='bar')"
      ]
    },
    {
      "cell_type": "code",
      "execution_count": null,
      "metadata": {
        "id": "9tTThaA_0y0V",
        "outputId": "a3ef4a9d-986a-4d6f-c5cd-567b99e2efe2"
      },
      "outputs": [
        {
          "data": {
            "text/plain": [
              "<AxesSubplot:title={'center':'количество окупившихся и не окупившихся фильмов'}, xlabel='main_genres'>"
            ]
          },
          "execution_count": 51,
          "metadata": {},
          "output_type": "execute_result"
        },
        {
          "data": {
            "image/png": "[encoded data removed]",
            "text/plain": [
              "<Figure size 432x288 with 1 Axes>"
            ]
          },
          "metadata": {
            "needs_background": "light"
          },
          "output_type": "display_data"
        }
      ],
      "source": [
        "df_supported.groupby('main_genres') \\\n",
        "            .agg({'title': 'count',\n",
        "                  'is_paid_off': 'sum',\n",
        "                  'is_not_paid_off': lambda x: 0 - x.sum()}) \\\n",
        "            .sort_values(by='title',\n",
        "                         ascending=False) \\\n",
        "            .plot(title='количество окупившихся и не окупившихся фильмов',\n",
        "                  kind='bar',\n",
        "                  stacked=True,\n",
        "                  y=['is_paid_off', 'is_not_paid_off'])"
      ]
    },
    {
      "cell_type": "code",
      "execution_count": null,
      "metadata": {
        "id": "q1ceG_XO0y0V",
        "outputId": "f2f7d866-d7f1-48d3-9a66-ffe5e60bbb88"
      },
      "outputs": [
        {
          "data": {
            "text/plain": [
              "<AxesSubplot:title={'center':'объём государственной поддержки'}, xlabel='main_genres'>"
            ]
          },
          "execution_count": 52,
          "metadata": {},
          "output_type": "execute_result"
        },
        {
          "data": {
            "image/png": "[encoded data removed]",
            "text/plain": [
              "<Figure size 432x288 with 1 Axes>"
            ]
          },
          "metadata": {
            "needs_background": "light"
          },
          "output_type": "display_data"
        }
      ],
      "source": [
        "df_supported.groupby('main_genres') \\\n",
        "            .agg('sum') \\\n",
        "            .sort_values(by='full_support',\n",
        "                         ascending=False) \\\n",
        "            .plot(title='объём государственной поддержки',\n",
        "                  kind='bar',\n",
        "                  stacked=True,\n",
        "                  y=['refundable_support', 'nonrefundable_support'])"
      ]
    },
    {
      "cell_type": "code",
      "execution_count": null,
      "metadata": {
        "id": "Bi88cLvH0y0V",
        "outputId": "66b08401-d334-4eb5-d6f5-9a92d6bdbec2"
      },
      "outputs": [
        {
          "data": {
            "text/plain": [
              "<AxesSubplot:title={'center':'общая рентабельность жанра'}, xlabel='main_genres'>"
            ]
          },
          "execution_count": 53,
          "metadata": {},
          "output_type": "execute_result"
        },
        {
          "data": {
            "image/png": "[encoded data removed]",
            "text/plain": [
              "<Figure size 432x288 with 1 Axes>"
            ]
          },
          "metadata": {
            "needs_background": "light"
          },
          "output_type": "display_data"
        }
      ],
      "source": [
        "df_supported.groupby('main_genres') \\\n",
        "            .agg('sum') \\\n",
        "            .sort_values(by='full_support',\n",
        "                         ascending=False) \\\n",
        "            .plot(title='общая рентабельность жанра',\n",
        "                  kind='bar',\n",
        "                  stacked=True,\n",
        "                  y='profitability')"
      ]
    },
    {
      "cell_type": "code",
      "execution_count": null,
      "metadata": {
        "id": "z0YkhGt20y0W",
        "outputId": "f8483faa-b8f8-4ebf-eafe-14fa67874e36"
      },
      "outputs": [
        {
          "data": {
            "text/plain": [
              "<AxesSubplot:title={'center':'средняя рентабельность фильма (по жанрам)'}, xlabel='main_genres'>"
            ]
          },
          "execution_count": 54,
          "metadata": {},
          "output_type": "execute_result"
        },
        {
          "data": {
            "image/png": "[encoded data removed]",
            "text/plain": [
              "<Figure size 432x288 with 1 Axes>"
            ]
          },
          "metadata": {
            "needs_background": "light"
          },
          "output_type": "display_data"
        }
      ],
      "source": [
        "df_supported.groupby('main_genres') \\\n",
        "            .agg('mean') \\\n",
        "            .sort_values(by='profitability',\n",
        "                         ascending=False) \\\n",
        "            .plot(title='средняя рентабельность фильма (по жанрам)',\n",
        "                  kind='bar',\n",
        "                  stacked=True,\n",
        "                  y='profitability')"
      ]
    },
    {
      "cell_type": "markdown",
      "metadata": {
        "id": "V2gYwMcPgFyd"
      },
      "source": [
        "### Шаг 5. Напишите общий вывод"
      ]
    },
    {
      "cell_type": "markdown",
      "metadata": {
        "id": "jOxvRJNS0y0W"
      },
      "source": [
        "D результате предобработки в таблице были изменены типы данных на более подходящие.\n",
        "\n",
        "Пропуски в датафрейме заполнить не удалось, за исключением единичных значений.\n",
        "\n",
        "Полных дубликатов данных также не было обнаружено. При этом было устранено достаточное количество неявных дубликатов в различных колонках, а также ошибки в названиях стран в колонке production_country.\n",
        "\n",
        "В результате анализа колонок содержащих количественные значения были обнаружены ошибочные значения в колонке budget. Быоло проведено вычислени доли гос.боджета от полного бюджета,таким образом были заполнены пропуски в этом столбце.\n",
        "\n",
        "В таблицу были добавлены новые колонки с данными о годе премьеры фильма, главном режиссере и главном жанре фильма, а также об уровне госфинансирования фильма.\n",
        "\n",
        "Исследовательский анализ данных выявил что максимальное количество фильмов вышло в прокат в 2010 году, минимальное в 2017 году. После 2010 года последовал резкий спад с последующим неравномерным но в целом планым ростом (исключая провал в 2017 году). Максимальное значение после 2010 года было достигнуто в 2019 году.\n",
        "\n",
        "Установлено, что только 42% фильмов содержат сведения о кассовых сборах, а если смотреть в разрезе лет, то до 2014 года наполнение данных о кассовых сборах было крайне низким, и только начиная с 2015 года оно достигло уровней 55-70 процентов в среднем.\n",
        "\n",
        "Выявлено, что до 2015 года суммы сборов очень малы, но после последовал крайне резкий рост.\n",
        "\n",
        "Если посмотреть на медианы кассовых сборов с 2010 по 2014 год, то они составляют неправдоподобно низкие суммы от 1700 до 5560 руб., в 2014 году 18137 рублей. А начиная с 2015 года порядок цифр уже меняется и медиана в 2015 году уже составляет величину равную 4 784 782 руб.\n",
        "\n",
        "Такой резкий рост практически невозможен. Были сделаны предположения о причинах такого роста:\n",
        "\n",
        "- изменилась система учета данных;\n",
        "- кинотеатры подавали некорректные сведения до 2015 года (например избегая налогообложения);\n",
        "- данные могли быть утеряны в результате технологических сбоев;\n",
        "- данные некорректно собирались в базу;\n",
        "\n",
        "\n",
        "Наибольшие кассовые сборы зафиксированы для группы фильмов «16+», наименьшие кассовые сборы у фильмов из группы «0+».\n",
        "\n",
        "Вероятно киноленты из данной категории нацелены на самого юного зрителя и не пользовались популярностью в прокате (дети этого возраста еще слишком малы чтобы ходить в кинотеатр даже в сопровождении взрослых, и такой контент в основном потребляется ими дома), поэтому кинотеатры вывели такие фильмы из своего репертуара.\n",
        "\n",
        "Кассовые сборы фильмов категории '«18+» - запрещено для детей' последовательно росли, лишь немного упав в 2018 году. Остальные группы фильмов показали разнонаправленную динамику кассовых сборов.\n",
        "\n",
        "Лидером по сумме кассовых сборов в 2016, 2017 и 2018 годах, как и общим лидером за период с 2015 по 2019 год являются фильмы категории '«16+» - для детей старше 16 лет'.\n",
        "\n",
        "\n",
        "Среди фильмов, спонсируемых источниками выделяется жанр \"драма\", на фильмы этого жанра выделено больше всего денег. На втором месте по количеству вложенных бюджетных средств фильмы жанра \"комедия\". У Фонда кино можно выделить еще киноленты жанра \"мультфильм\".\n",
        "\n",
        "При этом кассовые сборы по фильмам практически всех жанров меньше чем их бюджеты. То есть фильмы большинства жанров не окупаются в прокате. На этом фоне выделяются кинокартины жанров спорт и комедия. Фильмы этоих жанров заработали в прокате 4.18 руб. и 2.06 руб. соответственно на каждый вложенный в их создание рубль. Также \"вышли в плюс\" фильмы жанра \"ужасы\". Фильмы всех остальных жанров не окупились в прокате.\n",
        "\n",
        "В разрезе по типам фильмов выявлено что кинокартины всех типов не окупают затрат на свое производство.\n",
        "\n",
        "\n",
        "При этом стоит отметить что в отдельных жанрах наблюдается и превосходство фильмов российского производства. Так например в жанрах \"криминал\" и \"детский\" наиболее высокие рейтинги у кинокартин российского производства с государственной поддержкой, а в жанре \"мьюзикл\" безоговорочно лидируют фильмы российского производства, но без господдержки.\n",
        "\n",
        "В разделе документальное кино в рейтингах зрителей также уверенно лидируют фильмы российского производства с господдержкой.\n",
        "\n",
        "Среди возрастных ограничений в категории «6+» российским фильмам без господдержки удалось вырваться на первое место, а в категориях «0+» и «18+» фильмы с господдержкой имеют более высокие рейтинги чем российские фильмы, не получавшие господдержку и лишь немного отстают от своих иностранных \"конкурентов\".\n",
        "\n",
        "В целом исходя из анализа динамики рейтингов в разрезе лет можно сделать вывод что интерес зрителя к российскому кино возрос в последние 2 года, в большей части к фильмам, не получавшим госфинансирование. Интерес к фильмам, получавшим госфинансирование вырос незначительно.\n",
        "\n",
        "Наибольший интерес среди фильмов с господдежкой у зрителей вызывает документальное кино и фильмы жанров \"криминал\" и \"детский\"."
      ]
    },
    {
      "cell_type": "code",
      "execution_count": null,
      "metadata": {
        "id": "a4pNGmit0y0W"
      },
      "outputs": [],
      "source": []
    }
  ],
  "metadata": {
    "ExecuteTimeLog": [
      {
        "duration": 537,
        "start_time": "2021-07-07T10:12:08.634Z"
      },
      {
        "duration": 206,
        "start_time": "2021-07-07T10:12:30.191Z"
      },
      {
        "duration": 227,
        "start_time": "2021-07-07T10:12:33.078Z"
      },
      {
        "duration": 153,
        "start_time": "2021-07-07T10:13:42.146Z"
      },
      {
        "duration": 233,
        "start_time": "2021-07-07T10:30:09.252Z"
      },
      {
        "duration": 19,
        "start_time": "2021-07-07T10:30:15.577Z"
      },
      {
        "duration": 18,
        "start_time": "2021-07-07T10:30:57.348Z"
      },
      {
        "duration": 19,
        "start_time": "2021-07-07T10:31:17.452Z"
      },
      {
        "duration": 21,
        "start_time": "2021-07-07T10:31:32.227Z"
      },
      {
        "duration": 27,
        "start_time": "2021-07-07T10:32:06.588Z"
      },
      {
        "duration": 23,
        "start_time": "2021-07-07T10:32:43.645Z"
      },
      {
        "duration": 24,
        "start_time": "2021-07-07T10:33:06.948Z"
      },
      {
        "duration": 7,
        "start_time": "2021-07-07T10:33:28.558Z"
      },
      {
        "duration": 23,
        "start_time": "2021-07-07T10:33:43.761Z"
      },
      {
        "duration": 28,
        "start_time": "2021-07-07T10:34:13.466Z"
      },
      {
        "duration": 23,
        "start_time": "2021-07-07T10:35:56.187Z"
      },
      {
        "duration": 6,
        "start_time": "2021-07-07T10:36:48.182Z"
      },
      {
        "duration": 14,
        "start_time": "2021-07-07T10:37:49.641Z"
      },
      {
        "duration": 6,
        "start_time": "2021-07-07T10:38:06.694Z"
      },
      {
        "duration": 6,
        "start_time": "2021-07-07T10:38:13.493Z"
      },
      {
        "duration": 19,
        "start_time": "2021-07-07T10:38:44.056Z"
      },
      {
        "duration": 186,
        "start_time": "2021-07-07T10:48:35.618Z"
      },
      {
        "duration": 24,
        "start_time": "2021-07-07T10:48:51.498Z"
      },
      {
        "duration": 20,
        "start_time": "2021-07-07T10:48:59.415Z"
      },
      {
        "duration": 20,
        "start_time": "2021-07-07T10:53:02.195Z"
      },
      {
        "duration": 188,
        "start_time": "2021-07-07T10:54:40.486Z"
      },
      {
        "duration": 115,
        "start_time": "2021-07-07T10:54:52.552Z"
      },
      {
        "duration": 214,
        "start_time": "2021-07-07T10:54:56.354Z"
      },
      {
        "duration": 47,
        "start_time": "2021-07-07T10:54:58.282Z"
      },
      {
        "duration": 217,
        "start_time": "2021-07-07T10:59:16.075Z"
      },
      {
        "duration": 51,
        "start_time": "2021-07-07T10:59:16.243Z"
      },
      {
        "duration": 578,
        "start_time": "2021-07-07T10:59:18.774Z"
      },
      {
        "duration": 161,
        "start_time": "2021-07-07T10:59:21.238Z"
      },
      {
        "duration": 59,
        "start_time": "2021-07-07T10:59:21.453Z"
      },
      {
        "duration": 3,
        "start_time": "2021-07-07T11:02:10.786Z"
      },
      {
        "duration": 13,
        "start_time": "2021-07-07T11:07:07.722Z"
      },
      {
        "duration": 26,
        "start_time": "2021-07-07T11:07:17.958Z"
      },
      {
        "duration": 22,
        "start_time": "2021-07-07T11:08:17.939Z"
      },
      {
        "duration": 212,
        "start_time": "2021-07-07T11:08:19.665Z"
      },
      {
        "duration": 21,
        "start_time": "2021-07-07T11:08:29.945Z"
      },
      {
        "duration": 31,
        "start_time": "2021-07-07T11:08:38.899Z"
      },
      {
        "duration": 23,
        "start_time": "2021-07-07T11:08:54.527Z"
      },
      {
        "duration": 8,
        "start_time": "2021-07-07T11:18:55.974Z"
      },
      {
        "duration": 7,
        "start_time": "2021-07-07T11:19:03.639Z"
      },
      {
        "duration": 7,
        "start_time": "2021-07-07T11:19:06.444Z"
      },
      {
        "duration": 578,
        "start_time": "2021-07-07T12:09:59.576Z"
      },
      {
        "duration": 195,
        "start_time": "2021-07-07T12:10:00.156Z"
      },
      {
        "duration": 115,
        "start_time": "2021-07-07T12:10:00.353Z"
      },
      {
        "duration": 3,
        "start_time": "2021-07-07T12:10:00.470Z"
      },
      {
        "duration": 32,
        "start_time": "2021-07-07T12:10:00.474Z"
      },
      {
        "duration": 23,
        "start_time": "2021-07-07T12:10:00.508Z"
      },
      {
        "duration": 19,
        "start_time": "2021-07-07T12:10:00.533Z"
      },
      {
        "duration": 44,
        "start_time": "2021-07-07T12:10:00.553Z"
      },
      {
        "duration": 7,
        "start_time": "2021-07-07T12:10:00.600Z"
      },
      {
        "duration": 7,
        "start_time": "2021-07-07T12:19:45.761Z"
      },
      {
        "duration": 21,
        "start_time": "2021-07-07T12:21:35.482Z"
      },
      {
        "duration": 21,
        "start_time": "2021-07-07T12:29:23.569Z"
      },
      {
        "duration": 525,
        "start_time": "2021-07-07T12:29:44.542Z"
      },
      {
        "duration": 214,
        "start_time": "2021-07-07T12:29:45.069Z"
      },
      {
        "duration": 92,
        "start_time": "2021-07-07T12:29:45.285Z"
      },
      {
        "duration": 3,
        "start_time": "2021-07-07T12:29:45.379Z"
      },
      {
        "duration": 28,
        "start_time": "2021-07-07T12:29:45.384Z"
      },
      {
        "duration": 23,
        "start_time": "2021-07-07T12:29:45.413Z"
      },
      {
        "duration": 21,
        "start_time": "2021-07-07T12:29:45.437Z"
      },
      {
        "duration": 41,
        "start_time": "2021-07-07T12:29:45.460Z"
      },
      {
        "duration": 7,
        "start_time": "2021-07-07T12:29:45.502Z"
      },
      {
        "duration": 20,
        "start_time": "2021-07-07T12:29:45.511Z"
      },
      {
        "duration": 12,
        "start_time": "2021-07-07T12:34:02.800Z"
      },
      {
        "duration": 7,
        "start_time": "2021-07-07T12:35:10.479Z"
      },
      {
        "duration": 8,
        "start_time": "2021-07-07T12:35:22.440Z"
      },
      {
        "duration": 6,
        "start_time": "2021-07-07T12:35:35.649Z"
      },
      {
        "duration": 6,
        "start_time": "2021-07-07T12:35:43.107Z"
      },
      {
        "duration": 22,
        "start_time": "2021-07-07T12:38:03.029Z"
      },
      {
        "duration": 10,
        "start_time": "2021-07-07T12:38:06.592Z"
      },
      {
        "duration": 563,
        "start_time": "2021-07-07T12:38:46.493Z"
      },
      {
        "duration": 265,
        "start_time": "2021-07-07T12:38:47.058Z"
      },
      {
        "duration": 94,
        "start_time": "2021-07-07T12:38:47.325Z"
      },
      {
        "duration": 3,
        "start_time": "2021-07-07T12:38:47.422Z"
      },
      {
        "duration": 30,
        "start_time": "2021-07-07T12:38:47.427Z"
      },
      {
        "duration": 16,
        "start_time": "2021-07-07T12:38:53.305Z"
      },
      {
        "duration": 10,
        "start_time": "2021-07-07T12:38:53.499Z"
      },
      {
        "duration": 8,
        "start_time": "2021-07-07T12:39:48.161Z"
      },
      {
        "duration": 27,
        "start_time": "2021-07-07T12:41:17.629Z"
      },
      {
        "duration": 17,
        "start_time": "2021-07-07T12:41:17.867Z"
      },
      {
        "duration": 21,
        "start_time": "2021-07-07T12:41:19.310Z"
      },
      {
        "duration": 7,
        "start_time": "2021-07-07T12:41:19.544Z"
      },
      {
        "duration": 20,
        "start_time": "2021-07-07T12:41:20.504Z"
      },
      {
        "duration": 554,
        "start_time": "2021-07-07T12:56:23.696Z"
      },
      {
        "duration": 200,
        "start_time": "2021-07-07T12:56:25.234Z"
      },
      {
        "duration": 119,
        "start_time": "2021-07-07T12:56:25.480Z"
      },
      {
        "duration": 4,
        "start_time": "2021-07-07T12:56:25.762Z"
      },
      {
        "duration": 26,
        "start_time": "2021-07-07T12:56:27.172Z"
      },
      {
        "duration": 12,
        "start_time": "2021-07-07T12:56:29.051Z"
      },
      {
        "duration": 10,
        "start_time": "2021-07-07T12:56:29.291Z"
      },
      {
        "duration": 8,
        "start_time": "2021-07-07T12:56:29.623Z"
      },
      {
        "duration": 28,
        "start_time": "2021-07-07T12:56:32.137Z"
      },
      {
        "duration": 19,
        "start_time": "2021-07-07T12:56:39.785Z"
      },
      {
        "duration": 20,
        "start_time": "2021-07-07T12:56:44.297Z"
      },
      {
        "duration": 7,
        "start_time": "2021-07-07T12:56:45.392Z"
      },
      {
        "duration": 23,
        "start_time": "2021-07-07T12:56:46.615Z"
      },
      {
        "duration": 4,
        "start_time": "2021-07-07T12:57:06.625Z"
      },
      {
        "duration": 32,
        "start_time": "2021-07-07T12:57:36.690Z"
      },
      {
        "duration": 18,
        "start_time": "2021-07-07T12:58:00.149Z"
      },
      {
        "duration": 15,
        "start_time": "2021-07-07T12:59:16.793Z"
      },
      {
        "duration": 7,
        "start_time": "2021-07-07T13:19:22.624Z"
      },
      {
        "duration": 6,
        "start_time": "2021-07-07T14:17:33.527Z"
      },
      {
        "duration": 9,
        "start_time": "2021-07-07T14:17:48.409Z"
      },
      {
        "duration": 8,
        "start_time": "2021-07-07T14:20:13.060Z"
      },
      {
        "duration": 8,
        "start_time": "2021-07-07T14:20:37.957Z"
      },
      {
        "duration": 8,
        "start_time": "2021-07-07T14:20:47.470Z"
      },
      {
        "duration": 9,
        "start_time": "2021-07-07T14:20:54.503Z"
      },
      {
        "duration": 10,
        "start_time": "2021-07-07T14:28:57.763Z"
      },
      {
        "duration": 3,
        "start_time": "2021-07-07T14:30:23.377Z"
      },
      {
        "duration": 3,
        "start_time": "2021-07-07T14:30:36.489Z"
      },
      {
        "duration": 103,
        "start_time": "2021-07-07T14:30:52.351Z"
      },
      {
        "duration": 8,
        "start_time": "2021-07-07T14:30:54.763Z"
      },
      {
        "duration": 8,
        "start_time": "2021-07-07T14:31:29.301Z"
      },
      {
        "duration": 13,
        "start_time": "2021-07-07T14:31:44.516Z"
      },
      {
        "duration": 7,
        "start_time": "2021-07-07T14:33:10.972Z"
      },
      {
        "duration": 11,
        "start_time": "2021-07-07T14:33:27.780Z"
      },
      {
        "duration": 8,
        "start_time": "2021-07-07T14:34:44.588Z"
      },
      {
        "duration": 57,
        "start_time": "2021-07-07T14:35:59.042Z"
      },
      {
        "duration": 3,
        "start_time": "2021-07-07T14:36:28.168Z"
      },
      {
        "duration": 5,
        "start_time": "2021-07-07T14:36:46.254Z"
      },
      {
        "duration": 4,
        "start_time": "2021-07-07T14:36:52.714Z"
      },
      {
        "duration": 3,
        "start_time": "2021-07-07T14:36:56.612Z"
      },
      {
        "duration": 4,
        "start_time": "2021-07-07T14:36:57.049Z"
      },
      {
        "duration": 3,
        "start_time": "2021-07-07T14:39:21.214Z"
      },
      {
        "duration": 7,
        "start_time": "2021-07-07T14:39:52.406Z"
      },
      {
        "duration": 11,
        "start_time": "2021-07-07T14:39:58.576Z"
      },
      {
        "duration": 9,
        "start_time": "2021-07-07T14:40:26.301Z"
      },
      {
        "duration": 10,
        "start_time": "2021-07-07T14:40:31.704Z"
      },
      {
        "duration": 11,
        "start_time": "2021-07-07T14:40:36.249Z"
      },
      {
        "duration": 10,
        "start_time": "2021-07-07T14:40:39.783Z"
      },
      {
        "duration": 9,
        "start_time": "2021-07-07T14:40:48.558Z"
      },
      {
        "duration": 10,
        "start_time": "2021-07-07T14:40:57.143Z"
      },
      {
        "duration": 9,
        "start_time": "2021-07-07T14:41:06.074Z"
      },
      {
        "duration": 4324,
        "start_time": "2021-07-07T14:41:22.004Z"
      },
      {
        "duration": 11,
        "start_time": "2021-07-07T14:41:33.392Z"
      },
      {
        "duration": 9,
        "start_time": "2021-07-07T14:41:39.288Z"
      },
      {
        "duration": 569,
        "start_time": "2021-07-07T14:42:14.387Z"
      },
      {
        "duration": 197,
        "start_time": "2021-07-07T14:42:14.959Z"
      },
      {
        "duration": 84,
        "start_time": "2021-07-07T14:42:16.052Z"
      },
      {
        "duration": 4,
        "start_time": "2021-07-07T14:42:16.900Z"
      },
      {
        "duration": 27,
        "start_time": "2021-07-07T14:42:19.898Z"
      },
      {
        "duration": 12,
        "start_time": "2021-07-07T14:42:21.577Z"
      },
      {
        "duration": 9,
        "start_time": "2021-07-07T14:42:21.813Z"
      },
      {
        "duration": 9,
        "start_time": "2021-07-07T14:42:22.569Z"
      },
      {
        "duration": 29,
        "start_time": "2021-07-07T14:42:25.837Z"
      },
      {
        "duration": 20,
        "start_time": "2021-07-07T14:42:27.003Z"
      },
      {
        "duration": 21,
        "start_time": "2021-07-07T14:42:28.767Z"
      },
      {
        "duration": 7,
        "start_time": "2021-07-07T14:42:29.838Z"
      },
      {
        "duration": 4,
        "start_time": "2021-07-07T14:43:25.493Z"
      },
      {
        "duration": 7,
        "start_time": "2021-07-07T14:43:26.573Z"
      },
      {
        "duration": 10,
        "start_time": "2021-07-07T14:43:31.639Z"
      },
      {
        "duration": 9,
        "start_time": "2021-07-07T14:43:32.046Z"
      },
      {
        "duration": 10,
        "start_time": "2021-07-07T14:43:33.301Z"
      },
      {
        "duration": 12,
        "start_time": "2021-07-07T14:43:33.658Z"
      },
      {
        "duration": 8,
        "start_time": "2021-07-07T14:43:34.552Z"
      },
      {
        "duration": 9,
        "start_time": "2021-07-07T14:43:35.058Z"
      },
      {
        "duration": 12,
        "start_time": "2021-07-07T14:43:35.914Z"
      },
      {
        "duration": 17,
        "start_time": "2021-07-07T14:45:34.368Z"
      },
      {
        "duration": 512,
        "start_time": "2021-07-07T14:51:58.236Z"
      },
      {
        "duration": 223,
        "start_time": "2021-07-07T14:51:58.750Z"
      },
      {
        "duration": 93,
        "start_time": "2021-07-07T14:51:58.977Z"
      },
      {
        "duration": 4,
        "start_time": "2021-07-07T14:51:59.071Z"
      },
      {
        "duration": 37,
        "start_time": "2021-07-07T14:51:59.077Z"
      },
      {
        "duration": 18,
        "start_time": "2021-07-07T14:51:59.116Z"
      },
      {
        "duration": 10,
        "start_time": "2021-07-07T14:51:59.137Z"
      },
      {
        "duration": 8,
        "start_time": "2021-07-07T14:51:59.149Z"
      },
      {
        "duration": 54,
        "start_time": "2021-07-07T14:51:59.158Z"
      },
      {
        "duration": 18,
        "start_time": "2021-07-07T14:51:59.213Z"
      },
      {
        "duration": 22,
        "start_time": "2021-07-07T14:51:59.232Z"
      },
      {
        "duration": 36,
        "start_time": "2021-07-07T14:51:59.255Z"
      },
      {
        "duration": 7,
        "start_time": "2021-07-07T14:51:59.293Z"
      },
      {
        "duration": 10,
        "start_time": "2021-07-07T14:51:59.302Z"
      },
      {
        "duration": 9,
        "start_time": "2021-07-07T14:51:59.313Z"
      },
      {
        "duration": 11,
        "start_time": "2021-07-07T14:51:59.324Z"
      },
      {
        "duration": 8,
        "start_time": "2021-07-07T14:51:59.337Z"
      },
      {
        "duration": 46,
        "start_time": "2021-07-07T14:51:59.347Z"
      },
      {
        "duration": 22,
        "start_time": "2021-07-07T14:51:59.395Z"
      },
      {
        "duration": 24,
        "start_time": "2021-07-07T14:57:32.911Z"
      },
      {
        "duration": 7,
        "start_time": "2021-07-07T14:58:22.070Z"
      },
      {
        "duration": 4,
        "start_time": "2021-07-07T14:59:11.239Z"
      },
      {
        "duration": 25,
        "start_time": "2021-07-07T15:07:22.208Z"
      },
      {
        "duration": 16,
        "start_time": "2021-07-07T15:08:25.560Z"
      },
      {
        "duration": 15,
        "start_time": "2021-07-07T15:08:40.647Z"
      },
      {
        "duration": 14,
        "start_time": "2021-07-07T15:08:46.669Z"
      },
      {
        "duration": 533,
        "start_time": "2021-07-07T15:18:07.440Z"
      },
      {
        "duration": 173,
        "start_time": "2021-07-07T15:18:07.974Z"
      },
      {
        "duration": 84,
        "start_time": "2021-07-07T15:18:08.149Z"
      },
      {
        "duration": 3,
        "start_time": "2021-07-07T15:18:08.235Z"
      },
      {
        "duration": 30,
        "start_time": "2021-07-07T15:18:08.240Z"
      },
      {
        "duration": 22,
        "start_time": "2021-07-07T15:18:08.272Z"
      },
      {
        "duration": 11,
        "start_time": "2021-07-07T15:18:08.295Z"
      },
      {
        "duration": 11,
        "start_time": "2021-07-07T15:18:08.309Z"
      },
      {
        "duration": 40,
        "start_time": "2021-07-07T15:18:08.322Z"
      },
      {
        "duration": 42,
        "start_time": "2021-07-07T15:18:08.364Z"
      },
      {
        "duration": 22,
        "start_time": "2021-07-07T15:18:08.408Z"
      },
      {
        "duration": 5,
        "start_time": "2021-07-07T15:18:08.432Z"
      },
      {
        "duration": 13,
        "start_time": "2021-07-07T15:18:08.439Z"
      },
      {
        "duration": 9,
        "start_time": "2021-07-07T15:18:08.454Z"
      },
      {
        "duration": 32,
        "start_time": "2021-07-07T15:18:08.465Z"
      },
      {
        "duration": 10,
        "start_time": "2021-07-07T15:18:08.501Z"
      },
      {
        "duration": 7,
        "start_time": "2021-07-07T15:18:08.513Z"
      },
      {
        "duration": 11,
        "start_time": "2021-07-07T15:18:08.521Z"
      },
      {
        "duration": 17,
        "start_time": "2021-07-07T15:18:08.534Z"
      },
      {
        "duration": 44,
        "start_time": "2021-07-07T15:18:08.553Z"
      },
      {
        "duration": 22,
        "start_time": "2021-07-07T15:18:08.599Z"
      },
      {
        "duration": 61,
        "start_time": "2021-07-07T15:18:08.622Z"
      },
      {
        "duration": 7,
        "start_time": "2021-07-07T15:18:39.457Z"
      },
      {
        "duration": 5,
        "start_time": "2021-07-07T16:05:17.020Z"
      },
      {
        "duration": 5,
        "start_time": "2021-07-07T16:51:28.794Z"
      },
      {
        "duration": 546,
        "start_time": "2021-07-07T16:52:26.306Z"
      },
      {
        "duration": 203,
        "start_time": "2021-07-07T16:52:27.523Z"
      },
      {
        "duration": 85,
        "start_time": "2021-07-07T16:52:27.736Z"
      },
      {
        "duration": 4,
        "start_time": "2021-07-07T16:52:27.899Z"
      },
      {
        "duration": 25,
        "start_time": "2021-07-07T16:52:28.674Z"
      },
      {
        "duration": 8,
        "start_time": "2021-07-07T16:52:32.956Z"
      },
      {
        "duration": 18,
        "start_time": "2021-07-07T16:52:35.616Z"
      },
      {
        "duration": 6,
        "start_time": "2021-07-07T16:52:36.913Z"
      },
      {
        "duration": 11,
        "start_time": "2021-07-07T16:52:40.258Z"
      },
      {
        "duration": 10,
        "start_time": "2021-07-07T16:52:46.251Z"
      },
      {
        "duration": 8,
        "start_time": "2021-07-07T16:52:47.182Z"
      },
      {
        "duration": 27,
        "start_time": "2021-07-07T16:53:20.391Z"
      },
      {
        "duration": 20,
        "start_time": "2021-07-07T16:53:22.022Z"
      },
      {
        "duration": 23,
        "start_time": "2021-07-07T16:53:23.690Z"
      },
      {
        "duration": 8,
        "start_time": "2021-07-07T16:53:24.261Z"
      },
      {
        "duration": 4,
        "start_time": "2021-07-07T16:53:38.733Z"
      },
      {
        "duration": 7,
        "start_time": "2021-07-07T16:53:40.445Z"
      },
      {
        "duration": 11,
        "start_time": "2021-07-07T16:53:41.348Z"
      },
      {
        "duration": 13,
        "start_time": "2021-07-07T16:53:45.250Z"
      },
      {
        "duration": 12,
        "start_time": "2021-07-07T16:53:45.467Z"
      },
      {
        "duration": 4,
        "start_time": "2021-07-07T16:55:32.704Z"
      },
      {
        "duration": 12,
        "start_time": "2021-07-07T16:55:49.012Z"
      },
      {
        "duration": 18,
        "start_time": "2021-07-07T16:55:49.547Z"
      },
      {
        "duration": 611,
        "start_time": "2021-07-07T16:58:35.156Z"
      },
      {
        "duration": 200,
        "start_time": "2021-07-07T16:58:35.770Z"
      },
      {
        "duration": 86,
        "start_time": "2021-07-07T16:58:35.972Z"
      },
      {
        "duration": 3,
        "start_time": "2021-07-07T16:58:36.060Z"
      },
      {
        "duration": 27,
        "start_time": "2021-07-07T16:58:36.065Z"
      },
      {
        "duration": 8,
        "start_time": "2021-07-07T16:58:36.094Z"
      },
      {
        "duration": 17,
        "start_time": "2021-07-07T16:58:36.103Z"
      },
      {
        "duration": 5,
        "start_time": "2021-07-07T16:58:36.123Z"
      },
      {
        "duration": 11,
        "start_time": "2021-07-07T16:58:36.130Z"
      },
      {
        "duration": 7,
        "start_time": "2021-07-07T16:58:36.143Z"
      },
      {
        "duration": 37,
        "start_time": "2021-07-07T16:58:36.152Z"
      },
      {
        "duration": 27,
        "start_time": "2021-07-07T16:58:36.191Z"
      },
      {
        "duration": 19,
        "start_time": "2021-07-07T16:58:36.219Z"
      },
      {
        "duration": 49,
        "start_time": "2021-07-07T16:58:36.240Z"
      },
      {
        "duration": 6,
        "start_time": "2021-07-07T16:58:36.291Z"
      },
      {
        "duration": 3,
        "start_time": "2021-07-07T16:58:36.299Z"
      },
      {
        "duration": 13,
        "start_time": "2021-07-07T16:58:36.304Z"
      },
      {
        "duration": 10,
        "start_time": "2021-07-07T16:58:36.319Z"
      },
      {
        "duration": 10,
        "start_time": "2021-07-07T16:58:36.331Z"
      },
      {
        "duration": 44,
        "start_time": "2021-07-07T16:58:36.343Z"
      },
      {
        "duration": 4,
        "start_time": "2021-07-07T16:58:36.388Z"
      },
      {
        "duration": 13,
        "start_time": "2021-07-07T16:58:36.394Z"
      },
      {
        "duration": 16,
        "start_time": "2021-07-07T16:58:36.410Z"
      },
      {
        "duration": 8,
        "start_time": "2021-07-07T17:02:31.629Z"
      },
      {
        "duration": 8,
        "start_time": "2021-07-07T17:02:34.308Z"
      },
      {
        "duration": 6,
        "start_time": "2021-07-07T17:05:13.483Z"
      },
      {
        "duration": 17,
        "start_time": "2021-07-07T17:05:20.606Z"
      },
      {
        "duration": 7,
        "start_time": "2021-07-07T17:05:34.638Z"
      },
      {
        "duration": 3,
        "start_time": "2021-07-07T17:06:31.883Z"
      },
      {
        "duration": 570,
        "start_time": "2021-07-07T17:06:37.165Z"
      },
      {
        "duration": 174,
        "start_time": "2021-07-07T17:06:37.737Z"
      },
      {
        "duration": 47,
        "start_time": "2021-07-07T17:06:37.913Z"
      },
      {
        "duration": 3,
        "start_time": "2021-07-07T17:06:37.962Z"
      },
      {
        "duration": 27,
        "start_time": "2021-07-07T17:06:37.967Z"
      },
      {
        "duration": 7,
        "start_time": "2021-07-07T17:06:37.996Z"
      },
      {
        "duration": 16,
        "start_time": "2021-07-07T17:06:38.005Z"
      },
      {
        "duration": 6,
        "start_time": "2021-07-07T17:06:38.024Z"
      },
      {
        "duration": 12,
        "start_time": "2021-07-07T17:06:38.031Z"
      },
      {
        "duration": 41,
        "start_time": "2021-07-07T17:06:38.045Z"
      },
      {
        "duration": 8,
        "start_time": "2021-07-07T17:06:38.088Z"
      },
      {
        "duration": 26,
        "start_time": "2021-07-07T17:06:38.098Z"
      },
      {
        "duration": 17,
        "start_time": "2021-07-07T17:06:38.126Z"
      },
      {
        "duration": 43,
        "start_time": "2021-07-07T17:06:38.144Z"
      },
      {
        "duration": 6,
        "start_time": "2021-07-07T17:06:38.188Z"
      },
      {
        "duration": 5,
        "start_time": "2021-07-07T17:06:38.195Z"
      },
      {
        "duration": 9,
        "start_time": "2021-07-07T17:06:38.201Z"
      },
      {
        "duration": 12,
        "start_time": "2021-07-07T17:06:38.212Z"
      },
      {
        "duration": 11,
        "start_time": "2021-07-07T17:06:38.226Z"
      },
      {
        "duration": 47,
        "start_time": "2021-07-07T17:06:38.239Z"
      },
      {
        "duration": 4,
        "start_time": "2021-07-07T17:06:38.288Z"
      },
      {
        "duration": 13,
        "start_time": "2021-07-07T17:06:38.293Z"
      },
      {
        "duration": 5,
        "start_time": "2021-07-07T17:06:38.309Z"
      },
      {
        "duration": 18,
        "start_time": "2021-07-07T17:06:38.325Z"
      },
      {
        "duration": 20,
        "start_time": "2021-07-07T17:07:02.805Z"
      },
      {
        "duration": 19,
        "start_time": "2021-07-07T17:07:08.527Z"
      },
      {
        "duration": 19,
        "start_time": "2021-07-07T17:07:12.758Z"
      },
      {
        "duration": 22,
        "start_time": "2021-07-07T17:07:17.497Z"
      },
      {
        "duration": 19,
        "start_time": "2021-07-07T17:07:19.645Z"
      },
      {
        "duration": 10,
        "start_time": "2021-07-07T17:07:34.239Z"
      },
      {
        "duration": 17,
        "start_time": "2021-07-07T17:07:54.144Z"
      },
      {
        "duration": 14,
        "start_time": "2021-07-07T17:08:14.357Z"
      },
      {
        "duration": 616,
        "start_time": "2021-07-07T17:08:45.254Z"
      },
      {
        "duration": 178,
        "start_time": "2021-07-07T17:08:45.872Z"
      },
      {
        "duration": 60,
        "start_time": "2021-07-07T17:08:46.054Z"
      },
      {
        "duration": 3,
        "start_time": "2021-07-07T17:08:46.116Z"
      },
      {
        "duration": 26,
        "start_time": "2021-07-07T17:08:46.121Z"
      },
      {
        "duration": 7,
        "start_time": "2021-07-07T17:08:46.149Z"
      },
      {
        "duration": 17,
        "start_time": "2021-07-07T17:08:46.158Z"
      },
      {
        "duration": 14,
        "start_time": "2021-07-07T17:08:46.176Z"
      },
      {
        "duration": 17,
        "start_time": "2021-07-07T17:08:46.193Z"
      },
      {
        "duration": 9,
        "start_time": "2021-07-07T17:08:46.211Z"
      },
      {
        "duration": 21,
        "start_time": "2021-07-07T17:08:46.221Z"
      },
      {
        "duration": 49,
        "start_time": "2021-07-07T17:08:46.244Z"
      },
      {
        "duration": 24,
        "start_time": "2021-07-07T17:08:46.295Z"
      },
      {
        "duration": 22,
        "start_time": "2021-07-07T17:08:46.321Z"
      },
      {
        "duration": 6,
        "start_time": "2021-07-07T17:08:46.345Z"
      },
      {
        "duration": 5,
        "start_time": "2021-07-07T17:08:46.353Z"
      },
      {
        "duration": 13,
        "start_time": "2021-07-07T17:08:46.386Z"
      },
      {
        "duration": 12,
        "start_time": "2021-07-07T17:08:46.402Z"
      },
      {
        "duration": 10,
        "start_time": "2021-07-07T17:08:46.415Z"
      },
      {
        "duration": 7,
        "start_time": "2021-07-07T17:08:46.427Z"
      },
      {
        "duration": 8,
        "start_time": "2021-07-07T17:08:46.435Z"
      },
      {
        "duration": 68,
        "start_time": "2021-07-07T17:08:46.446Z"
      },
      {
        "duration": 13,
        "start_time": "2021-07-07T17:08:46.516Z"
      },
      {
        "duration": 78,
        "start_time": "2021-07-07T17:08:46.530Z"
      },
      {
        "duration": 40,
        "start_time": "2021-07-07T17:09:08.185Z"
      },
      {
        "duration": 16,
        "start_time": "2021-07-07T17:09:19.324Z"
      },
      {
        "duration": 21,
        "start_time": "2021-07-07T17:09:23.290Z"
      },
      {
        "duration": 13,
        "start_time": "2021-07-07T17:09:54.812Z"
      },
      {
        "duration": 13,
        "start_time": "2021-07-07T17:10:02.039Z"
      },
      {
        "duration": 10,
        "start_time": "2021-07-07T17:10:29.632Z"
      },
      {
        "duration": 13,
        "start_time": "2021-07-07T17:10:52.372Z"
      },
      {
        "duration": 13,
        "start_time": "2021-07-07T17:11:17.270Z"
      },
      {
        "duration": 13,
        "start_time": "2021-07-07T17:14:59.284Z"
      },
      {
        "duration": 547,
        "start_time": "2021-07-07T17:18:52.403Z"
      },
      {
        "duration": 163,
        "start_time": "2021-07-07T17:18:52.952Z"
      },
      {
        "duration": 44,
        "start_time": "2021-07-07T17:18:53.117Z"
      },
      {
        "duration": 3,
        "start_time": "2021-07-07T17:18:53.162Z"
      },
      {
        "duration": 26,
        "start_time": "2021-07-07T17:18:53.167Z"
      },
      {
        "duration": 6,
        "start_time": "2021-07-07T17:18:53.195Z"
      },
      {
        "duration": 15,
        "start_time": "2021-07-07T17:18:53.203Z"
      },
      {
        "duration": 5,
        "start_time": "2021-07-07T17:18:53.220Z"
      },
      {
        "duration": 11,
        "start_time": "2021-07-07T17:18:53.228Z"
      },
      {
        "duration": 9,
        "start_time": "2021-07-07T17:18:53.241Z"
      },
      {
        "duration": 41,
        "start_time": "2021-07-07T17:18:53.252Z"
      },
      {
        "duration": 33,
        "start_time": "2021-07-07T17:18:53.295Z"
      },
      {
        "duration": 19,
        "start_time": "2021-07-07T17:18:53.330Z"
      },
      {
        "duration": 49,
        "start_time": "2021-07-07T17:18:53.350Z"
      },
      {
        "duration": 5,
        "start_time": "2021-07-07T17:18:53.401Z"
      },
      {
        "duration": 5,
        "start_time": "2021-07-07T17:18:53.408Z"
      },
      {
        "duration": 11,
        "start_time": "2021-07-07T17:18:53.414Z"
      },
      {
        "duration": 9,
        "start_time": "2021-07-07T17:18:53.427Z"
      },
      {
        "duration": 10,
        "start_time": "2021-07-07T17:18:53.437Z"
      },
      {
        "duration": 39,
        "start_time": "2021-07-07T17:18:53.448Z"
      },
      {
        "duration": 26,
        "start_time": "2021-07-07T17:18:55.799Z"
      },
      {
        "duration": 598,
        "start_time": "2021-07-07T17:20:17.862Z"
      },
      {
        "duration": 161,
        "start_time": "2021-07-07T17:20:18.462Z"
      },
      {
        "duration": 45,
        "start_time": "2021-07-07T17:20:18.626Z"
      },
      {
        "duration": 4,
        "start_time": "2021-07-07T17:20:18.673Z"
      },
      {
        "duration": 38,
        "start_time": "2021-07-07T17:20:26.877Z"
      },
      {
        "duration": 7,
        "start_time": "2021-07-07T17:20:37.405Z"
      },
      {
        "duration": 19,
        "start_time": "2021-07-07T17:20:51.534Z"
      },
      {
        "duration": 5,
        "start_time": "2021-07-07T17:20:57.228Z"
      },
      {
        "duration": 7,
        "start_time": "2021-07-07T17:21:08.235Z"
      },
      {
        "duration": 19,
        "start_time": "2021-07-07T17:21:42.158Z"
      },
      {
        "duration": 14,
        "start_time": "2021-07-07T17:21:50.225Z"
      },
      {
        "duration": 22,
        "start_time": "2021-07-07T17:22:54.104Z"
      },
      {
        "duration": 5,
        "start_time": "2021-07-07T17:22:56.371Z"
      },
      {
        "duration": 14,
        "start_time": "2021-07-07T17:22:58.316Z"
      },
      {
        "duration": 5,
        "start_time": "2021-07-07T17:22:58.493Z"
      },
      {
        "duration": 35,
        "start_time": "2021-07-07T17:22:59.666Z"
      },
      {
        "duration": 6,
        "start_time": "2021-07-07T17:23:02.410Z"
      },
      {
        "duration": 611,
        "start_time": "2021-07-07T17:24:59.664Z"
      },
      {
        "duration": 178,
        "start_time": "2021-07-07T17:25:01.945Z"
      },
      {
        "duration": 47,
        "start_time": "2021-07-07T17:25:02.125Z"
      },
      {
        "duration": 2,
        "start_time": "2021-07-07T17:25:07.903Z"
      },
      {
        "duration": 254,
        "start_time": "2021-07-07T17:25:08.232Z"
      },
      {
        "duration": 182,
        "start_time": "2021-07-07T17:25:08.671Z"
      },
      {
        "duration": 6,
        "start_time": "2021-07-07T17:25:13.104Z"
      },
      {
        "duration": 36,
        "start_time": "2021-07-07T17:25:13.662Z"
      },
      {
        "duration": 7,
        "start_time": "2021-07-07T17:25:14.528Z"
      },
      {
        "duration": 24,
        "start_time": "2021-07-07T17:25:27.982Z"
      },
      {
        "duration": 3,
        "start_time": "2021-07-07T17:25:48.982Z"
      },
      {
        "duration": 165,
        "start_time": "2021-07-07T17:25:48.987Z"
      },
      {
        "duration": 50,
        "start_time": "2021-07-07T17:25:49.154Z"
      },
      {
        "duration": 4,
        "start_time": "2021-07-07T17:25:49.206Z"
      },
      {
        "duration": 26,
        "start_time": "2021-07-07T17:25:49.212Z"
      },
      {
        "duration": 7,
        "start_time": "2021-07-07T17:25:49.240Z"
      },
      {
        "duration": 16,
        "start_time": "2021-07-07T17:25:49.249Z"
      },
      {
        "duration": 22,
        "start_time": "2021-07-07T17:25:49.266Z"
      },
      {
        "duration": 16,
        "start_time": "2021-07-07T17:25:49.291Z"
      },
      {
        "duration": 9,
        "start_time": "2021-07-07T17:25:49.309Z"
      },
      {
        "duration": 7,
        "start_time": "2021-07-07T17:25:49.319Z"
      },
      {
        "duration": 28,
        "start_time": "2021-07-07T17:25:49.328Z"
      },
      {
        "duration": 44,
        "start_time": "2021-07-07T17:25:49.357Z"
      },
      {
        "duration": 22,
        "start_time": "2021-07-07T17:25:49.403Z"
      },
      {
        "duration": 7,
        "start_time": "2021-07-07T17:25:49.427Z"
      },
      {
        "duration": 3,
        "start_time": "2021-07-07T17:25:49.436Z"
      },
      {
        "duration": 44,
        "start_time": "2021-07-07T17:25:49.441Z"
      },
      {
        "duration": 12,
        "start_time": "2021-07-07T17:25:49.488Z"
      },
      {
        "duration": 13,
        "start_time": "2021-07-07T17:25:49.502Z"
      },
      {
        "duration": 10,
        "start_time": "2021-07-07T17:25:49.516Z"
      },
      {
        "duration": 62,
        "start_time": "2021-07-07T17:25:49.527Z"
      },
      {
        "duration": 26,
        "start_time": "2021-07-07T17:26:51.809Z"
      },
      {
        "duration": 26,
        "start_time": "2021-07-07T17:26:55.759Z"
      },
      {
        "duration": 26,
        "start_time": "2021-07-07T17:27:04.501Z"
      },
      {
        "duration": 25,
        "start_time": "2021-07-07T17:28:24.859Z"
      },
      {
        "duration": 21,
        "start_time": "2021-07-07T17:28:55.250Z"
      },
      {
        "duration": 21,
        "start_time": "2021-07-07T17:28:58.885Z"
      },
      {
        "duration": 7,
        "start_time": "2021-07-07T17:45:40.972Z"
      },
      {
        "duration": 13,
        "start_time": "2021-07-07T17:45:42.529Z"
      },
      {
        "duration": 27,
        "start_time": "2021-07-07T17:45:51.026Z"
      },
      {
        "duration": 518,
        "start_time": "2021-07-07T17:46:15.532Z"
      },
      {
        "duration": 235,
        "start_time": "2021-07-07T17:46:16.053Z"
      },
      {
        "duration": 80,
        "start_time": "2021-07-07T17:46:16.292Z"
      },
      {
        "duration": 5,
        "start_time": "2021-07-07T17:46:16.373Z"
      },
      {
        "duration": 26,
        "start_time": "2021-07-07T17:46:16.380Z"
      },
      {
        "duration": 7,
        "start_time": "2021-07-07T17:46:16.408Z"
      },
      {
        "duration": 16,
        "start_time": "2021-07-07T17:46:16.418Z"
      },
      {
        "duration": 5,
        "start_time": "2021-07-07T17:46:16.436Z"
      },
      {
        "duration": 13,
        "start_time": "2021-07-07T17:46:16.442Z"
      },
      {
        "duration": 35,
        "start_time": "2021-07-07T17:46:16.456Z"
      },
      {
        "duration": 8,
        "start_time": "2021-07-07T17:46:16.493Z"
      },
      {
        "duration": 28,
        "start_time": "2021-07-07T17:46:16.502Z"
      },
      {
        "duration": 17,
        "start_time": "2021-07-07T17:46:16.532Z"
      },
      {
        "duration": 44,
        "start_time": "2021-07-07T17:46:16.551Z"
      },
      {
        "duration": 6,
        "start_time": "2021-07-07T17:46:16.597Z"
      },
      {
        "duration": 4,
        "start_time": "2021-07-07T17:46:16.605Z"
      },
      {
        "duration": 9,
        "start_time": "2021-07-07T17:46:16.610Z"
      },
      {
        "duration": 9,
        "start_time": "2021-07-07T17:46:16.621Z"
      },
      {
        "duration": 10,
        "start_time": "2021-07-07T17:46:16.632Z"
      },
      {
        "duration": 43,
        "start_time": "2021-07-07T17:46:16.644Z"
      },
      {
        "duration": 26,
        "start_time": "2021-07-07T17:46:16.689Z"
      },
      {
        "duration": 19,
        "start_time": "2021-07-07T17:46:16.718Z"
      },
      {
        "duration": 8,
        "start_time": "2021-07-07T17:46:16.738Z"
      },
      {
        "duration": 43,
        "start_time": "2021-07-07T17:46:16.747Z"
      },
      {
        "duration": 19,
        "start_time": "2021-07-07T17:46:16.791Z"
      },
      {
        "duration": 9,
        "start_time": "2021-07-07T17:46:16.812Z"
      },
      {
        "duration": 60,
        "start_time": "2021-07-07T17:46:16.822Z"
      },
      {
        "duration": -8,
        "start_time": "2021-07-07T17:46:16.892Z"
      },
      {
        "duration": 12,
        "start_time": "2021-07-07T17:48:47.707Z"
      },
      {
        "duration": 553,
        "start_time": "2021-07-07T18:10:09.350Z"
      },
      {
        "duration": 230,
        "start_time": "2021-07-07T18:10:09.905Z"
      },
      {
        "duration": 97,
        "start_time": "2021-07-07T18:10:10.137Z"
      },
      {
        "duration": 5,
        "start_time": "2021-07-07T18:10:10.236Z"
      },
      {
        "duration": 29,
        "start_time": "2021-07-07T18:10:10.242Z"
      },
      {
        "duration": 7,
        "start_time": "2021-07-07T18:10:10.272Z"
      },
      {
        "duration": 15,
        "start_time": "2021-07-07T18:10:10.281Z"
      },
      {
        "duration": 4,
        "start_time": "2021-07-07T18:10:10.299Z"
      },
      {
        "duration": 14,
        "start_time": "2021-07-07T18:10:10.305Z"
      },
      {
        "duration": 8,
        "start_time": "2021-07-07T18:10:10.321Z"
      },
      {
        "duration": 8,
        "start_time": "2021-07-07T18:10:10.331Z"
      },
      {
        "duration": 56,
        "start_time": "2021-07-07T18:10:10.341Z"
      },
      {
        "duration": 19,
        "start_time": "2021-07-07T18:10:10.399Z"
      },
      {
        "duration": 23,
        "start_time": "2021-07-07T18:10:10.419Z"
      },
      {
        "duration": 6,
        "start_time": "2021-07-07T18:10:10.444Z"
      },
      {
        "duration": 9,
        "start_time": "2021-07-07T18:10:10.451Z"
      },
      {
        "duration": 30,
        "start_time": "2021-07-07T18:10:10.462Z"
      },
      {
        "duration": 9,
        "start_time": "2021-07-07T18:10:10.494Z"
      },
      {
        "duration": 14,
        "start_time": "2021-07-07T18:10:10.505Z"
      },
      {
        "duration": 7,
        "start_time": "2021-07-07T18:10:10.521Z"
      },
      {
        "duration": 26,
        "start_time": "2021-07-07T18:10:10.530Z"
      },
      {
        "duration": 44,
        "start_time": "2021-07-07T18:10:10.558Z"
      },
      {
        "duration": 7,
        "start_time": "2021-07-07T18:10:10.605Z"
      },
      {
        "duration": 11,
        "start_time": "2021-07-07T18:10:10.614Z"
      },
      {
        "duration": 19,
        "start_time": "2021-07-07T18:10:10.626Z"
      },
      {
        "duration": 44,
        "start_time": "2021-07-07T18:10:10.646Z"
      },
      {
        "duration": 516,
        "start_time": "2021-07-07T18:14:00.826Z"
      },
      {
        "duration": 230,
        "start_time": "2021-07-07T18:14:01.344Z"
      },
      {
        "duration": 105,
        "start_time": "2021-07-07T18:14:01.576Z"
      },
      {
        "duration": 5,
        "start_time": "2021-07-07T18:14:01.683Z"
      },
      {
        "duration": 46,
        "start_time": "2021-07-07T18:14:01.690Z"
      },
      {
        "duration": 7,
        "start_time": "2021-07-07T18:14:01.738Z"
      },
      {
        "duration": 20,
        "start_time": "2021-07-07T18:14:01.747Z"
      },
      {
        "duration": 16,
        "start_time": "2021-07-07T18:14:01.769Z"
      },
      {
        "duration": 14,
        "start_time": "2021-07-07T18:14:01.787Z"
      },
      {
        "duration": 15,
        "start_time": "2021-07-07T18:14:01.803Z"
      },
      {
        "duration": 12,
        "start_time": "2021-07-07T18:14:01.820Z"
      },
      {
        "duration": 35,
        "start_time": "2021-07-07T18:14:01.833Z"
      },
      {
        "duration": 31,
        "start_time": "2021-07-07T18:14:01.869Z"
      },
      {
        "duration": 37,
        "start_time": "2021-07-07T18:14:01.902Z"
      },
      {
        "duration": 8,
        "start_time": "2021-07-07T18:14:01.942Z"
      },
      {
        "duration": 16,
        "start_time": "2021-07-07T18:14:01.952Z"
      },
      {
        "duration": 13,
        "start_time": "2021-07-07T18:14:01.970Z"
      },
      {
        "duration": 32,
        "start_time": "2021-07-07T18:14:01.985Z"
      },
      {
        "duration": 11,
        "start_time": "2021-07-07T18:14:02.019Z"
      },
      {
        "duration": 22,
        "start_time": "2021-07-07T18:14:02.031Z"
      },
      {
        "duration": 27,
        "start_time": "2021-07-07T18:14:02.055Z"
      },
      {
        "duration": 18,
        "start_time": "2021-07-07T18:14:02.084Z"
      },
      {
        "duration": 18,
        "start_time": "2021-07-07T18:14:02.106Z"
      },
      {
        "duration": 11,
        "start_time": "2021-07-07T18:14:02.126Z"
      },
      {
        "duration": 21,
        "start_time": "2021-07-07T18:14:02.138Z"
      },
      {
        "duration": 32,
        "start_time": "2021-07-07T18:14:02.161Z"
      },
      {
        "duration": 28,
        "start_time": "2021-07-07T18:14:44.295Z"
      },
      {
        "duration": 6,
        "start_time": "2021-07-07T18:15:05.834Z"
      },
      {
        "duration": 511,
        "start_time": "2021-07-07T18:15:41.541Z"
      },
      {
        "duration": 183,
        "start_time": "2021-07-07T18:15:42.054Z"
      },
      {
        "duration": 50,
        "start_time": "2021-07-07T18:15:42.239Z"
      },
      {
        "duration": 5,
        "start_time": "2021-07-07T18:15:42.291Z"
      },
      {
        "duration": 48,
        "start_time": "2021-07-07T18:15:42.297Z"
      },
      {
        "duration": 8,
        "start_time": "2021-07-07T18:15:42.346Z"
      },
      {
        "duration": 17,
        "start_time": "2021-07-07T18:15:42.356Z"
      },
      {
        "duration": 15,
        "start_time": "2021-07-07T18:15:42.375Z"
      },
      {
        "duration": 12,
        "start_time": "2021-07-07T18:15:42.392Z"
      },
      {
        "duration": 7,
        "start_time": "2021-07-07T18:15:42.406Z"
      },
      {
        "duration": 7,
        "start_time": "2021-07-07T18:15:42.415Z"
      },
      {
        "duration": 29,
        "start_time": "2021-07-07T18:15:42.423Z"
      },
      {
        "duration": 43,
        "start_time": "2021-07-07T18:15:42.453Z"
      },
      {
        "duration": 18,
        "start_time": "2021-07-07T18:15:42.497Z"
      },
      {
        "duration": 6,
        "start_time": "2021-07-07T18:15:42.516Z"
      },
      {
        "duration": 3,
        "start_time": "2021-07-07T18:15:42.523Z"
      },
      {
        "duration": 18,
        "start_time": "2021-07-07T18:15:42.528Z"
      },
      {
        "duration": 10,
        "start_time": "2021-07-07T18:15:42.547Z"
      },
      {
        "duration": 36,
        "start_time": "2021-07-07T18:15:42.559Z"
      },
      {
        "duration": 8,
        "start_time": "2021-07-07T18:15:42.597Z"
      },
      {
        "duration": 28,
        "start_time": "2021-07-07T18:15:42.606Z"
      },
      {
        "duration": 52,
        "start_time": "2021-07-07T18:15:42.635Z"
      },
      {
        "duration": 7,
        "start_time": "2021-07-07T18:15:42.690Z"
      },
      {
        "duration": 10,
        "start_time": "2021-07-07T18:15:42.699Z"
      },
      {
        "duration": 19,
        "start_time": "2021-07-07T18:15:42.711Z"
      },
      {
        "duration": 9,
        "start_time": "2021-07-07T18:15:42.732Z"
      },
      {
        "duration": 5,
        "start_time": "2021-07-07T18:15:42.743Z"
      },
      {
        "duration": 1450,
        "start_time": "2021-07-07T18:15:51.984Z"
      },
      {
        "duration": 161,
        "start_time": "2021-07-07T18:15:53.435Z"
      },
      {
        "duration": 124,
        "start_time": "2021-07-07T18:15:53.598Z"
      },
      {
        "duration": 5,
        "start_time": "2021-07-07T18:15:53.724Z"
      },
      {
        "duration": 34,
        "start_time": "2021-07-07T18:15:53.730Z"
      },
      {
        "duration": 7,
        "start_time": "2021-07-07T18:15:53.765Z"
      },
      {
        "duration": 15,
        "start_time": "2021-07-07T18:15:53.773Z"
      },
      {
        "duration": 5,
        "start_time": "2021-07-07T18:15:53.791Z"
      },
      {
        "duration": 19,
        "start_time": "2021-07-07T18:15:53.798Z"
      },
      {
        "duration": 9,
        "start_time": "2021-07-07T18:15:53.818Z"
      },
      {
        "duration": 19,
        "start_time": "2021-07-07T18:15:53.828Z"
      },
      {
        "duration": 27,
        "start_time": "2021-07-07T18:15:53.848Z"
      },
      {
        "duration": 16,
        "start_time": "2021-07-07T18:15:53.884Z"
      },
      {
        "duration": 29,
        "start_time": "2021-07-07T18:15:53.901Z"
      },
      {
        "duration": 5,
        "start_time": "2021-07-07T18:15:53.932Z"
      },
      {
        "duration": 15,
        "start_time": "2021-07-07T18:15:53.939Z"
      },
      {
        "duration": 13,
        "start_time": "2021-07-07T18:15:53.956Z"
      },
      {
        "duration": 20,
        "start_time": "2021-07-07T18:15:53.971Z"
      },
      {
        "duration": 14,
        "start_time": "2021-07-07T18:15:53.992Z"
      },
      {
        "duration": 9,
        "start_time": "2021-07-07T18:15:54.009Z"
      },
      {
        "duration": 28,
        "start_time": "2021-07-07T18:15:54.020Z"
      },
      {
        "duration": 50,
        "start_time": "2021-07-07T18:15:54.051Z"
      },
      {
        "duration": 8,
        "start_time": "2021-07-07T18:15:54.105Z"
      },
      {
        "duration": 11,
        "start_time": "2021-07-07T18:15:54.115Z"
      },
      {
        "duration": 20,
        "start_time": "2021-07-07T18:15:54.128Z"
      },
      {
        "duration": 13,
        "start_time": "2021-07-07T18:15:54.184Z"
      },
      {
        "duration": 7,
        "start_time": "2021-07-07T18:15:54.199Z"
      },
      {
        "duration": 7,
        "start_time": "2021-07-07T18:17:08.042Z"
      },
      {
        "duration": 8,
        "start_time": "2021-07-07T18:17:21.008Z"
      },
      {
        "duration": 7,
        "start_time": "2021-07-07T18:17:29.003Z"
      },
      {
        "duration": 8,
        "start_time": "2021-07-07T18:17:32.492Z"
      },
      {
        "duration": 9,
        "start_time": "2021-07-07T18:17:41.758Z"
      },
      {
        "duration": 255,
        "start_time": "2021-07-07T18:20:20.897Z"
      },
      {
        "duration": 173,
        "start_time": "2021-07-07T18:20:26.636Z"
      },
      {
        "duration": 7,
        "start_time": "2021-07-07T18:21:47.164Z"
      },
      {
        "duration": 254,
        "start_time": "2021-07-07T18:23:08.703Z"
      },
      {
        "duration": 21,
        "start_time": "2021-07-07T18:23:22.506Z"
      },
      {
        "duration": 315,
        "start_time": "2021-07-07T18:25:54.801Z"
      },
      {
        "duration": 34,
        "start_time": "2021-07-07T18:26:51.817Z"
      },
      {
        "duration": 327,
        "start_time": "2021-07-07T18:26:56.147Z"
      },
      {
        "duration": 342,
        "start_time": "2021-07-07T18:27:15.887Z"
      },
      {
        "duration": 302,
        "start_time": "2021-07-07T18:28:18.569Z"
      },
      {
        "duration": 226,
        "start_time": "2021-07-07T18:29:20.879Z"
      },
      {
        "duration": 207,
        "start_time": "2021-07-07T18:29:58.114Z"
      },
      {
        "duration": 140,
        "start_time": "2021-07-07T18:32:04.372Z"
      },
      {
        "duration": 158,
        "start_time": "2021-07-07T18:32:32.508Z"
      },
      {
        "duration": 145,
        "start_time": "2021-07-07T18:32:41.365Z"
      },
      {
        "duration": 132,
        "start_time": "2021-07-07T18:32:45.199Z"
      },
      {
        "duration": 11,
        "start_time": "2021-07-07T18:35:24.679Z"
      },
      {
        "duration": 268,
        "start_time": "2021-07-07T18:36:16.145Z"
      },
      {
        "duration": 227,
        "start_time": "2021-07-07T18:37:04.918Z"
      },
      {
        "duration": 3,
        "start_time": "2021-07-07T18:37:33.012Z"
      },
      {
        "duration": 671,
        "start_time": "2021-07-07T18:37:38.295Z"
      },
      {
        "duration": 54,
        "start_time": "2021-07-07T18:37:53.406Z"
      },
      {
        "duration": 631,
        "start_time": "2021-07-07T18:37:56.463Z"
      },
      {
        "duration": 19,
        "start_time": "2021-07-07T18:39:40.535Z"
      },
      {
        "duration": 20,
        "start_time": "2021-07-07T18:40:12.236Z"
      },
      {
        "duration": 633,
        "start_time": "2021-07-07T18:42:00.398Z"
      },
      {
        "duration": 218,
        "start_time": "2021-07-07T18:42:01.033Z"
      },
      {
        "duration": 49,
        "start_time": "2021-07-07T18:42:01.253Z"
      },
      {
        "duration": 5,
        "start_time": "2021-07-07T18:42:01.303Z"
      },
      {
        "duration": 27,
        "start_time": "2021-07-07T18:42:01.310Z"
      },
      {
        "duration": 8,
        "start_time": "2021-07-07T18:42:01.339Z"
      },
      {
        "duration": 20,
        "start_time": "2021-07-07T18:42:01.348Z"
      },
      {
        "duration": 6,
        "start_time": "2021-07-07T18:42:01.386Z"
      },
      {
        "duration": 16,
        "start_time": "2021-07-07T18:42:01.394Z"
      },
      {
        "duration": 9,
        "start_time": "2021-07-07T18:42:01.411Z"
      },
      {
        "duration": 11,
        "start_time": "2021-07-07T18:42:01.421Z"
      },
      {
        "duration": 31,
        "start_time": "2021-07-07T18:42:01.434Z"
      },
      {
        "duration": 18,
        "start_time": "2021-07-07T18:42:01.485Z"
      },
      {
        "duration": 23,
        "start_time": "2021-07-07T18:42:01.505Z"
      },
      {
        "duration": 6,
        "start_time": "2021-07-07T18:42:01.530Z"
      },
      {
        "duration": 10,
        "start_time": "2021-07-07T18:42:01.538Z"
      },
      {
        "duration": 13,
        "start_time": "2021-07-07T18:42:01.550Z"
      },
      {
        "duration": 24,
        "start_time": "2021-07-07T18:42:01.564Z"
      },
      {
        "duration": 20,
        "start_time": "2021-07-07T18:42:01.590Z"
      },
      {
        "duration": 8,
        "start_time": "2021-07-07T18:42:01.611Z"
      },
      {
        "duration": 31,
        "start_time": "2021-07-07T18:42:01.620Z"
      },
      {
        "duration": 39,
        "start_time": "2021-07-07T18:42:01.653Z"
      },
      {
        "duration": 8,
        "start_time": "2021-07-07T18:42:01.696Z"
      },
      {
        "duration": 13,
        "start_time": "2021-07-07T18:42:01.705Z"
      },
      {
        "duration": 20,
        "start_time": "2021-07-07T18:42:01.720Z"
      },
      {
        "duration": 12,
        "start_time": "2021-07-07T18:42:01.741Z"
      },
      {
        "duration": 35,
        "start_time": "2021-07-07T18:42:01.755Z"
      },
      {
        "duration": 14,
        "start_time": "2021-07-07T18:42:01.792Z"
      },
      {
        "duration": 188,
        "start_time": "2021-07-07T18:42:01.808Z"
      },
      {
        "duration": 19,
        "start_time": "2021-07-07T18:42:01.998Z"
      },
      {
        "duration": 175,
        "start_time": "2021-07-07T18:42:02.019Z"
      },
      {
        "duration": 134,
        "start_time": "2021-07-07T18:42:02.196Z"
      },
      {
        "duration": 10,
        "start_time": "2021-07-07T18:42:02.331Z"
      },
      {
        "duration": 19,
        "start_time": "2021-07-07T18:42:02.343Z"
      },
      {
        "duration": 628,
        "start_time": "2021-07-07T18:46:30.701Z"
      },
      {
        "duration": 183,
        "start_time": "2021-07-07T18:46:31.331Z"
      },
      {
        "duration": 48,
        "start_time": "2021-07-07T18:46:31.516Z"
      },
      {
        "duration": 5,
        "start_time": "2021-07-07T18:46:31.566Z"
      },
      {
        "duration": 28,
        "start_time": "2021-07-07T18:46:31.572Z"
      },
      {
        "duration": 8,
        "start_time": "2021-07-07T18:46:31.602Z"
      },
      {
        "duration": 19,
        "start_time": "2021-07-07T18:46:31.611Z"
      },
      {
        "duration": 6,
        "start_time": "2021-07-07T18:46:31.633Z"
      },
      {
        "duration": 17,
        "start_time": "2021-07-07T18:46:31.642Z"
      },
      {
        "duration": 10,
        "start_time": "2021-07-07T18:46:31.684Z"
      },
      {
        "duration": 9,
        "start_time": "2021-07-07T18:46:31.695Z"
      },
      {
        "duration": 28,
        "start_time": "2021-07-07T18:46:31.705Z"
      },
      {
        "duration": 18,
        "start_time": "2021-07-07T18:46:31.735Z"
      },
      {
        "duration": 48,
        "start_time": "2021-07-07T18:46:31.755Z"
      },
      {
        "duration": 6,
        "start_time": "2021-07-07T18:46:31.804Z"
      },
      {
        "duration": 4,
        "start_time": "2021-07-07T18:46:31.812Z"
      },
      {
        "duration": 9,
        "start_time": "2021-07-07T18:46:31.817Z"
      },
      {
        "duration": 10,
        "start_time": "2021-07-07T18:46:31.827Z"
      },
      {
        "duration": 12,
        "start_time": "2021-07-07T18:46:31.838Z"
      },
      {
        "duration": 39,
        "start_time": "2021-07-07T18:46:31.851Z"
      },
      {
        "duration": 24,
        "start_time": "2021-07-07T18:46:31.892Z"
      },
      {
        "duration": 15,
        "start_time": "2021-07-07T18:46:31.918Z"
      },
      {
        "duration": 7,
        "start_time": "2021-07-07T18:46:31.936Z"
      },
      {
        "duration": 8,
        "start_time": "2021-07-07T18:46:31.944Z"
      },
      {
        "duration": 19,
        "start_time": "2021-07-07T18:46:31.984Z"
      },
      {
        "duration": 10,
        "start_time": "2021-07-07T18:46:32.004Z"
      },
      {
        "duration": 5,
        "start_time": "2021-07-07T18:46:32.016Z"
      },
      {
        "duration": 9,
        "start_time": "2021-07-07T18:46:32.023Z"
      },
      {
        "duration": 199,
        "start_time": "2021-07-07T18:46:32.033Z"
      },
      {
        "duration": 19,
        "start_time": "2021-07-07T18:46:32.234Z"
      },
      {
        "duration": 159,
        "start_time": "2021-07-07T18:46:32.255Z"
      },
      {
        "duration": 134,
        "start_time": "2021-07-07T18:46:32.416Z"
      },
      {
        "duration": 10,
        "start_time": "2021-07-07T18:46:32.552Z"
      },
      {
        "duration": 34,
        "start_time": "2021-07-07T18:46:32.563Z"
      },
      {
        "duration": 1039,
        "start_time": "2021-07-08T08:41:09.419Z"
      },
      {
        "duration": 333,
        "start_time": "2021-07-08T08:41:10.459Z"
      },
      {
        "duration": 173,
        "start_time": "2021-07-08T08:41:10.794Z"
      },
      {
        "duration": 5,
        "start_time": "2021-07-08T08:41:10.968Z"
      },
      {
        "duration": 25,
        "start_time": "2021-07-08T08:41:10.975Z"
      },
      {
        "duration": 9,
        "start_time": "2021-07-08T08:41:11.002Z"
      },
      {
        "duration": 18,
        "start_time": "2021-07-08T08:41:11.013Z"
      },
      {
        "duration": 6,
        "start_time": "2021-07-08T08:41:11.033Z"
      },
      {
        "duration": 44,
        "start_time": "2021-07-08T08:41:11.042Z"
      },
      {
        "duration": 10,
        "start_time": "2021-07-08T08:41:11.088Z"
      },
      {
        "duration": 9,
        "start_time": "2021-07-08T08:41:11.100Z"
      },
      {
        "duration": 27,
        "start_time": "2021-07-08T08:41:11.111Z"
      },
      {
        "duration": 46,
        "start_time": "2021-07-08T08:41:11.140Z"
      },
      {
        "duration": 17,
        "start_time": "2021-07-08T08:41:11.187Z"
      },
      {
        "duration": 6,
        "start_time": "2021-07-08T08:41:11.206Z"
      },
      {
        "duration": 5,
        "start_time": "2021-07-08T08:41:11.213Z"
      },
      {
        "duration": 10,
        "start_time": "2021-07-08T08:41:11.219Z"
      },
      {
        "duration": 9,
        "start_time": "2021-07-08T08:41:11.230Z"
      },
      {
        "duration": 45,
        "start_time": "2021-07-08T08:41:11.241Z"
      },
      {
        "duration": 7,
        "start_time": "2021-07-08T08:41:11.287Z"
      },
      {
        "duration": 24,
        "start_time": "2021-07-08T08:41:11.296Z"
      },
      {
        "duration": 16,
        "start_time": "2021-07-08T08:41:11.322Z"
      },
      {
        "duration": 7,
        "start_time": "2021-07-08T08:41:11.341Z"
      },
      {
        "duration": 41,
        "start_time": "2021-07-08T08:41:11.349Z"
      },
      {
        "duration": 17,
        "start_time": "2021-07-08T08:41:11.391Z"
      },
      {
        "duration": 9,
        "start_time": "2021-07-08T08:41:11.410Z"
      },
      {
        "duration": 5,
        "start_time": "2021-07-08T08:41:11.421Z"
      },
      {
        "duration": 6,
        "start_time": "2021-07-08T08:41:11.428Z"
      },
      {
        "duration": 198,
        "start_time": "2021-07-08T08:41:11.435Z"
      },
      {
        "duration": 18,
        "start_time": "2021-07-08T08:41:11.635Z"
      },
      {
        "duration": 155,
        "start_time": "2021-07-08T08:41:11.655Z"
      },
      {
        "duration": 138,
        "start_time": "2021-07-08T08:41:11.811Z"
      },
      {
        "duration": 10,
        "start_time": "2021-07-08T08:41:11.950Z"
      },
      {
        "duration": 29,
        "start_time": "2021-07-08T08:41:11.961Z"
      },
      {
        "duration": 171,
        "start_time": "2021-07-08T08:47:44.522Z"
      },
      {
        "duration": 124,
        "start_time": "2021-07-08T08:47:46.872Z"
      },
      {
        "duration": 191,
        "start_time": "2021-07-08T08:47:58.148Z"
      },
      {
        "duration": 191,
        "start_time": "2021-07-08T08:48:07.412Z"
      },
      {
        "duration": 261,
        "start_time": "2021-07-08T08:48:10.385Z"
      },
      {
        "duration": 255,
        "start_time": "2021-07-08T08:48:14.494Z"
      },
      {
        "duration": 219,
        "start_time": "2021-07-08T08:48:22.752Z"
      },
      {
        "duration": 173,
        "start_time": "2021-07-08T08:49:06.395Z"
      },
      {
        "duration": 180,
        "start_time": "2021-07-08T08:49:21.011Z"
      },
      {
        "duration": 6,
        "start_time": "2021-07-08T08:50:31.697Z"
      },
      {
        "duration": 10,
        "start_time": "2021-07-08T08:50:47.394Z"
      },
      {
        "duration": 11,
        "start_time": "2021-07-08T08:53:49.332Z"
      },
      {
        "duration": 171,
        "start_time": "2021-07-08T08:54:28.408Z"
      },
      {
        "duration": 636,
        "start_time": "2021-07-08T09:02:48.385Z"
      },
      {
        "duration": 227,
        "start_time": "2021-07-08T09:02:49.023Z"
      },
      {
        "duration": 104,
        "start_time": "2021-07-08T09:02:49.252Z"
      },
      {
        "duration": 5,
        "start_time": "2021-07-08T09:02:49.358Z"
      },
      {
        "duration": 27,
        "start_time": "2021-07-08T09:02:49.365Z"
      },
      {
        "duration": 8,
        "start_time": "2021-07-08T09:02:49.394Z"
      },
      {
        "duration": 18,
        "start_time": "2021-07-08T09:02:49.404Z"
      },
      {
        "duration": 6,
        "start_time": "2021-07-08T09:02:49.424Z"
      },
      {
        "duration": 11,
        "start_time": "2021-07-08T09:02:49.433Z"
      },
      {
        "duration": 13,
        "start_time": "2021-07-08T09:02:49.485Z"
      },
      {
        "duration": 9,
        "start_time": "2021-07-08T09:02:49.500Z"
      },
      {
        "duration": 38,
        "start_time": "2021-07-08T09:02:49.511Z"
      },
      {
        "duration": 42,
        "start_time": "2021-07-08T09:02:49.551Z"
      },
      {
        "duration": 21,
        "start_time": "2021-07-08T09:02:49.594Z"
      },
      {
        "duration": 6,
        "start_time": "2021-07-08T09:02:49.616Z"
      },
      {
        "duration": 3,
        "start_time": "2021-07-08T09:02:49.623Z"
      },
      {
        "duration": 9,
        "start_time": "2021-07-08T09:02:49.628Z"
      },
      {
        "duration": 52,
        "start_time": "2021-07-08T09:02:49.638Z"
      },
      {
        "duration": 11,
        "start_time": "2021-07-08T09:02:49.692Z"
      },
      {
        "duration": 8,
        "start_time": "2021-07-08T09:02:49.704Z"
      },
      {
        "duration": 27,
        "start_time": "2021-07-08T09:02:49.713Z"
      },
      {
        "duration": 59,
        "start_time": "2021-07-08T09:02:49.741Z"
      },
      {
        "duration": 8,
        "start_time": "2021-07-08T09:02:49.803Z"
      },
      {
        "duration": 14,
        "start_time": "2021-07-08T09:02:49.813Z"
      },
      {
        "duration": 20,
        "start_time": "2021-07-08T09:02:49.829Z"
      },
      {
        "duration": 44,
        "start_time": "2021-07-08T09:02:49.851Z"
      },
      {
        "duration": 14,
        "start_time": "2021-07-08T09:02:49.896Z"
      },
      {
        "duration": 221,
        "start_time": "2021-07-08T09:02:49.912Z"
      },
      {
        "duration": 6,
        "start_time": "2021-07-08T09:02:50.134Z"
      },
      {
        "duration": 206,
        "start_time": "2021-07-08T09:02:50.142Z"
      },
      {
        "duration": 19,
        "start_time": "2021-07-08T09:02:50.350Z"
      },
      {
        "duration": 21,
        "start_time": "2021-07-08T09:02:50.370Z"
      },
      {
        "duration": 20,
        "start_time": "2021-07-08T09:02:50.393Z"
      },
      {
        "duration": 5,
        "start_time": "2021-07-08T09:02:50.414Z"
      },
      {
        "duration": 5,
        "start_time": "2021-07-08T09:03:34.173Z"
      },
      {
        "duration": 6,
        "start_time": "2021-07-08T09:04:49.062Z"
      },
      {
        "duration": 9,
        "start_time": "2021-07-08T09:04:50.118Z"
      },
      {
        "duration": 14,
        "start_time": "2021-07-08T09:04:58.512Z"
      },
      {
        "duration": 9,
        "start_time": "2021-07-08T09:05:10.988Z"
      },
      {
        "duration": 11,
        "start_time": "2021-07-08T09:05:11.743Z"
      },
      {
        "duration": 7,
        "start_time": "2021-07-08T09:05:25.677Z"
      },
      {
        "duration": 13,
        "start_time": "2021-07-08T09:05:47.189Z"
      },
      {
        "duration": 13,
        "start_time": "2021-07-08T09:05:54.755Z"
      },
      {
        "duration": 4,
        "start_time": "2021-07-08T09:06:29.189Z"
      },
      {
        "duration": 244,
        "start_time": "2021-07-08T09:06:29.195Z"
      },
      {
        "duration": 91,
        "start_time": "2021-07-08T09:06:29.441Z"
      },
      {
        "duration": 4,
        "start_time": "2021-07-08T09:06:29.534Z"
      },
      {
        "duration": 28,
        "start_time": "2021-07-08T09:06:29.540Z"
      },
      {
        "duration": 6,
        "start_time": "2021-07-08T09:06:29.570Z"
      },
      {
        "duration": 18,
        "start_time": "2021-07-08T09:06:29.578Z"
      },
      {
        "duration": 5,
        "start_time": "2021-07-08T09:06:29.597Z"
      },
      {
        "duration": 13,
        "start_time": "2021-07-08T09:06:29.605Z"
      },
      {
        "duration": 8,
        "start_time": "2021-07-08T09:06:29.620Z"
      },
      {
        "duration": 7,
        "start_time": "2021-07-08T09:06:29.630Z"
      },
      {
        "duration": 63,
        "start_time": "2021-07-08T09:06:29.639Z"
      },
      {
        "duration": 17,
        "start_time": "2021-07-08T09:06:29.704Z"
      },
      {
        "duration": 20,
        "start_time": "2021-07-08T09:06:29.723Z"
      },
      {
        "duration": 6,
        "start_time": "2021-07-08T09:06:29.745Z"
      },
      {
        "duration": 3,
        "start_time": "2021-07-08T09:06:29.752Z"
      },
      {
        "duration": 7,
        "start_time": "2021-07-08T09:06:29.785Z"
      },
      {
        "duration": 11,
        "start_time": "2021-07-08T09:06:29.794Z"
      },
      {
        "duration": 15,
        "start_time": "2021-07-08T09:06:29.807Z"
      },
      {
        "duration": 8,
        "start_time": "2021-07-08T09:06:29.823Z"
      },
      {
        "duration": 70,
        "start_time": "2021-07-08T09:06:29.832Z"
      },
      {
        "duration": 17,
        "start_time": "2021-07-08T09:06:29.903Z"
      },
      {
        "duration": 9,
        "start_time": "2021-07-08T09:06:29.921Z"
      },
      {
        "duration": 9,
        "start_time": "2021-07-08T09:06:29.932Z"
      },
      {
        "duration": 57,
        "start_time": "2021-07-08T09:06:29.942Z"
      },
      {
        "duration": 11,
        "start_time": "2021-07-08T09:06:30.001Z"
      },
      {
        "duration": 19,
        "start_time": "2021-07-08T09:06:30.016Z"
      },
      {
        "duration": 217,
        "start_time": "2021-07-08T09:06:30.037Z"
      },
      {
        "duration": 6,
        "start_time": "2021-07-08T09:06:30.255Z"
      },
      {
        "duration": 205,
        "start_time": "2021-07-08T09:06:30.263Z"
      },
      {
        "duration": 27,
        "start_time": "2021-07-08T09:06:30.470Z"
      },
      {
        "duration": 11,
        "start_time": "2021-07-08T09:06:30.500Z"
      },
      {
        "duration": 31,
        "start_time": "2021-07-08T09:06:30.513Z"
      },
      {
        "duration": 18,
        "start_time": "2021-07-08T09:06:30.546Z"
      },
      {
        "duration": 11,
        "start_time": "2021-07-08T09:06:30.566Z"
      },
      {
        "duration": 19,
        "start_time": "2021-07-08T09:06:30.579Z"
      },
      {
        "duration": 20,
        "start_time": "2021-07-08T09:06:49.466Z"
      },
      {
        "duration": 9,
        "start_time": "2021-07-08T09:06:51.994Z"
      },
      {
        "duration": 20,
        "start_time": "2021-07-08T09:06:52.273Z"
      },
      {
        "duration": 246,
        "start_time": "2021-07-08T09:10:21.272Z"
      },
      {
        "duration": 84,
        "start_time": "2021-07-08T09:10:21.436Z"
      },
      {
        "duration": 7,
        "start_time": "2021-07-08T09:10:37.608Z"
      },
      {
        "duration": 189,
        "start_time": "2021-07-08T09:10:38.573Z"
      },
      {
        "duration": 185,
        "start_time": "2021-07-08T09:10:53.181Z"
      },
      {
        "duration": 11,
        "start_time": "2021-07-08T09:10:59.549Z"
      },
      {
        "duration": 42,
        "start_time": "2021-07-08T09:10:59.709Z"
      },
      {
        "duration": 12,
        "start_time": "2021-07-08T09:11:02.857Z"
      },
      {
        "duration": 28,
        "start_time": "2021-07-08T09:11:10.062Z"
      },
      {
        "duration": 249,
        "start_time": "2021-07-08T09:11:37.388Z"
      },
      {
        "duration": 232,
        "start_time": "2021-07-08T09:11:49.485Z"
      },
      {
        "duration": 453,
        "start_time": "2021-07-08T09:12:01.546Z"
      },
      {
        "duration": 440,
        "start_time": "2021-07-08T09:12:12.347Z"
      },
      {
        "duration": 213,
        "start_time": "2021-07-08T09:13:32.196Z"
      },
      {
        "duration": 172,
        "start_time": "2021-07-08T09:14:07.400Z"
      },
      {
        "duration": 185,
        "start_time": "2021-07-08T09:14:14.905Z"
      },
      {
        "duration": 209,
        "start_time": "2021-07-08T09:14:40.109Z"
      },
      {
        "duration": 201,
        "start_time": "2021-07-08T09:14:54.506Z"
      },
      {
        "duration": 622,
        "start_time": "2021-07-08T09:18:14.497Z"
      },
      {
        "duration": 220,
        "start_time": "2021-07-08T09:18:15.121Z"
      },
      {
        "duration": 79,
        "start_time": "2021-07-08T09:18:15.343Z"
      },
      {
        "duration": 4,
        "start_time": "2021-07-08T09:18:15.425Z"
      },
      {
        "duration": 24,
        "start_time": "2021-07-08T09:18:15.431Z"
      },
      {
        "duration": 8,
        "start_time": "2021-07-08T09:18:15.457Z"
      },
      {
        "duration": 16,
        "start_time": "2021-07-08T09:18:15.466Z"
      },
      {
        "duration": 5,
        "start_time": "2021-07-08T09:18:15.484Z"
      },
      {
        "duration": 10,
        "start_time": "2021-07-08T09:18:15.493Z"
      },
      {
        "duration": 8,
        "start_time": "2021-07-08T09:18:15.504Z"
      },
      {
        "duration": 7,
        "start_time": "2021-07-08T09:18:15.513Z"
      },
      {
        "duration": 26,
        "start_time": "2021-07-08T09:18:15.522Z"
      },
      {
        "duration": 49,
        "start_time": "2021-07-08T09:18:15.550Z"
      },
      {
        "duration": 21,
        "start_time": "2021-07-08T09:18:15.601Z"
      },
      {
        "duration": 8,
        "start_time": "2021-07-08T09:18:15.624Z"
      },
      {
        "duration": 3,
        "start_time": "2021-07-08T09:18:15.634Z"
      },
      {
        "duration": 8,
        "start_time": "2021-07-08T09:18:15.639Z"
      },
      {
        "duration": 45,
        "start_time": "2021-07-08T09:18:15.649Z"
      },
      {
        "duration": 13,
        "start_time": "2021-07-08T09:18:15.696Z"
      },
      {
        "duration": 10,
        "start_time": "2021-07-08T09:18:15.711Z"
      },
      {
        "duration": 64,
        "start_time": "2021-07-08T09:18:15.722Z"
      },
      {
        "duration": 19,
        "start_time": "2021-07-08T09:18:15.788Z"
      },
      {
        "duration": 9,
        "start_time": "2021-07-08T09:18:15.809Z"
      },
      {
        "duration": 9,
        "start_time": "2021-07-08T09:18:15.820Z"
      },
      {
        "duration": 18,
        "start_time": "2021-07-08T09:18:15.831Z"
      },
      {
        "duration": 43,
        "start_time": "2021-07-08T09:18:15.851Z"
      },
      {
        "duration": 12,
        "start_time": "2021-07-08T09:18:15.897Z"
      },
      {
        "duration": 219,
        "start_time": "2021-07-08T09:18:15.911Z"
      },
      {
        "duration": 8,
        "start_time": "2021-07-08T09:18:16.132Z"
      },
      {
        "duration": 199,
        "start_time": "2021-07-08T09:18:16.141Z"
      },
      {
        "duration": 18,
        "start_time": "2021-07-08T09:18:16.341Z"
      },
      {
        "duration": 24,
        "start_time": "2021-07-08T09:18:16.361Z"
      },
      {
        "duration": 24,
        "start_time": "2021-07-08T09:18:16.387Z"
      },
      {
        "duration": 211,
        "start_time": "2021-07-08T09:18:16.413Z"
      },
      {
        "duration": 18,
        "start_time": "2021-07-08T09:18:16.626Z"
      },
      {
        "duration": 596,
        "start_time": "2021-07-08T10:06:33.623Z"
      },
      {
        "duration": 181,
        "start_time": "2021-07-08T10:06:34.221Z"
      },
      {
        "duration": 176,
        "start_time": "2021-07-08T10:06:34.635Z"
      },
      {
        "duration": 239,
        "start_time": "2021-07-08T10:06:55.572Z"
      },
      {
        "duration": 6,
        "start_time": "2021-07-08T10:06:57.687Z"
      },
      {
        "duration": 4,
        "start_time": "2021-07-08T10:07:03.956Z"
      },
      {
        "duration": 4,
        "start_time": "2021-07-08T10:07:10.376Z"
      },
      {
        "duration": 4,
        "start_time": "2021-07-08T10:17:19.889Z"
      },
      {
        "duration": 3,
        "start_time": "2021-07-08T10:19:19.407Z"
      },
      {
        "duration": 197,
        "start_time": "2021-07-08T10:19:19.412Z"
      },
      {
        "duration": 127,
        "start_time": "2021-07-08T10:19:19.611Z"
      },
      {
        "duration": 4,
        "start_time": "2021-07-08T10:19:19.740Z"
      },
      {
        "duration": 27,
        "start_time": "2021-07-08T10:19:19.746Z"
      },
      {
        "duration": 7,
        "start_time": "2021-07-08T10:19:19.775Z"
      },
      {
        "duration": 30,
        "start_time": "2021-07-08T10:19:19.784Z"
      },
      {
        "duration": 7,
        "start_time": "2021-07-08T10:19:19.817Z"
      },
      {
        "duration": 26,
        "start_time": "2021-07-08T10:19:19.826Z"
      },
      {
        "duration": 18,
        "start_time": "2021-07-08T10:19:19.854Z"
      },
      {
        "duration": 14,
        "start_time": "2021-07-08T10:19:19.874Z"
      },
      {
        "duration": 48,
        "start_time": "2021-07-08T10:19:19.890Z"
      },
      {
        "duration": 17,
        "start_time": "2021-07-08T10:19:19.940Z"
      },
      {
        "duration": 38,
        "start_time": "2021-07-08T10:19:19.959Z"
      },
      {
        "duration": 8,
        "start_time": "2021-07-08T10:19:19.999Z"
      },
      {
        "duration": 15,
        "start_time": "2021-07-08T10:19:20.009Z"
      },
      {
        "duration": 22,
        "start_time": "2021-07-08T10:19:20.026Z"
      },
      {
        "duration": 10,
        "start_time": "2021-07-08T10:19:20.050Z"
      },
      {
        "duration": 10,
        "start_time": "2021-07-08T10:19:20.062Z"
      },
      {
        "duration": 20,
        "start_time": "2021-07-08T10:19:20.073Z"
      },
      {
        "duration": 29,
        "start_time": "2021-07-08T10:19:20.095Z"
      },
      {
        "duration": 17,
        "start_time": "2021-07-08T10:19:20.126Z"
      },
      {
        "duration": 40,
        "start_time": "2021-07-08T10:19:20.146Z"
      },
      {
        "duration": 15,
        "start_time": "2021-07-08T10:19:20.189Z"
      },
      {
        "duration": 19,
        "start_time": "2021-07-08T10:19:20.206Z"
      },
      {
        "duration": 10,
        "start_time": "2021-07-08T10:19:20.226Z"
      },
      {
        "duration": 11,
        "start_time": "2021-07-08T10:19:20.238Z"
      },
      {
        "duration": 297,
        "start_time": "2021-07-08T10:19:20.250Z"
      },
      {
        "duration": 6,
        "start_time": "2021-07-08T10:19:20.549Z"
      },
      {
        "duration": 191,
        "start_time": "2021-07-08T10:19:20.557Z"
      },
      {
        "duration": 19,
        "start_time": "2021-07-08T10:19:20.750Z"
      },
      {
        "duration": 20,
        "start_time": "2021-07-08T10:19:20.771Z"
      },
      {
        "duration": 15,
        "start_time": "2021-07-08T10:19:20.793Z"
      },
      {
        "duration": 222,
        "start_time": "2021-07-08T10:19:20.809Z"
      },
      {
        "duration": 20,
        "start_time": "2021-07-08T10:19:21.033Z"
      },
      {
        "duration": 27,
        "start_time": "2021-07-08T10:45:04.055Z"
      },
      {
        "duration": 8,
        "start_time": "2021-07-08T10:45:08.478Z"
      },
      {
        "duration": 8,
        "start_time": "2021-07-08T10:45:31.982Z"
      },
      {
        "duration": 10,
        "start_time": "2021-07-08T10:46:01.221Z"
      },
      {
        "duration": 17,
        "start_time": "2021-07-08T10:46:40.011Z"
      },
      {
        "duration": 193,
        "start_time": "2021-07-08T10:48:19.471Z"
      },
      {
        "duration": 225,
        "start_time": "2021-07-08T10:49:26.480Z"
      },
      {
        "duration": 204,
        "start_time": "2021-07-08T10:49:59.992Z"
      },
      {
        "duration": 435,
        "start_time": "2021-07-08T10:50:06.779Z"
      },
      {
        "duration": 199,
        "start_time": "2021-07-08T10:50:14.891Z"
      },
      {
        "duration": 204,
        "start_time": "2021-07-08T10:50:18.501Z"
      },
      {
        "duration": 244,
        "start_time": "2021-07-08T10:50:23.359Z"
      },
      {
        "duration": 192,
        "start_time": "2021-07-08T10:50:29.135Z"
      },
      {
        "duration": 218,
        "start_time": "2021-07-08T10:50:33.092Z"
      },
      {
        "duration": 207,
        "start_time": "2021-07-08T10:52:45.381Z"
      },
      {
        "duration": 5,
        "start_time": "2021-07-08T10:53:34.641Z"
      },
      {
        "duration": 196,
        "start_time": "2021-07-08T10:53:41.478Z"
      },
      {
        "duration": 43,
        "start_time": "2021-07-08T10:53:50.335Z"
      },
      {
        "duration": 32,
        "start_time": "2021-07-08T10:53:55.294Z"
      },
      {
        "duration": 55,
        "start_time": "2021-07-08T10:54:09.675Z"
      },
      {
        "duration": 16,
        "start_time": "2021-07-08T10:54:12.260Z"
      },
      {
        "duration": 15,
        "start_time": "2021-07-08T10:54:49.150Z"
      },
      {
        "duration": 20,
        "start_time": "2021-07-08T10:56:07.596Z"
      },
      {
        "duration": 16,
        "start_time": "2021-07-08T10:58:26.276Z"
      },
      {
        "duration": 22,
        "start_time": "2021-07-08T10:59:00.486Z"
      },
      {
        "duration": 18,
        "start_time": "2021-07-08T11:02:09.653Z"
      },
      {
        "duration": 10,
        "start_time": "2021-07-08T11:03:44.331Z"
      },
      {
        "duration": 10,
        "start_time": "2021-07-08T11:03:54.055Z"
      },
      {
        "duration": 12,
        "start_time": "2021-07-08T11:04:41.967Z"
      },
      {
        "duration": 24,
        "start_time": "2021-07-08T11:07:30.732Z"
      },
      {
        "duration": 6,
        "start_time": "2021-07-08T11:07:37.364Z"
      },
      {
        "duration": 16,
        "start_time": "2021-07-08T11:08:01.819Z"
      },
      {
        "duration": 17,
        "start_time": "2021-07-08T11:09:47.488Z"
      },
      {
        "duration": 246,
        "start_time": "2021-07-08T11:10:00.830Z"
      },
      {
        "duration": 18,
        "start_time": "2021-07-08T11:13:55.195Z"
      },
      {
        "duration": 204,
        "start_time": "2021-07-08T11:14:04.951Z"
      },
      {
        "duration": 19,
        "start_time": "2021-07-08T11:15:10.613Z"
      },
      {
        "duration": 680,
        "start_time": "2021-07-08T11:16:25.793Z"
      },
      {
        "duration": 451,
        "start_time": "2021-07-08T11:16:40.313Z"
      },
      {
        "duration": 469,
        "start_time": "2021-07-08T11:17:21.286Z"
      },
      {
        "duration": 20,
        "start_time": "2021-07-08T11:19:12.554Z"
      },
      {
        "duration": 35,
        "start_time": "2021-07-08T11:20:05.484Z"
      },
      {
        "duration": 53,
        "start_time": "2021-07-08T11:21:40.050Z"
      },
      {
        "duration": 13,
        "start_time": "2021-07-08T11:22:26.059Z"
      },
      {
        "duration": 19,
        "start_time": "2021-07-08T11:22:47.419Z"
      },
      {
        "duration": 25,
        "start_time": "2021-07-08T11:23:19.958Z"
      },
      {
        "duration": 29,
        "start_time": "2021-07-08T11:23:25.415Z"
      },
      {
        "duration": 10,
        "start_time": "2021-07-08T11:24:45.138Z"
      },
      {
        "duration": 19,
        "start_time": "2021-07-08T11:24:54.498Z"
      },
      {
        "duration": 12,
        "start_time": "2021-07-08T11:25:32.225Z"
      },
      {
        "duration": 19,
        "start_time": "2021-07-08T11:25:37.092Z"
      },
      {
        "duration": 17,
        "start_time": "2021-07-08T11:25:58.116Z"
      },
      {
        "duration": 15,
        "start_time": "2021-07-08T11:26:02.258Z"
      },
      {
        "duration": 8,
        "start_time": "2021-07-08T11:26:59.682Z"
      },
      {
        "duration": 184,
        "start_time": "2021-07-08T11:27:21.894Z"
      },
      {
        "duration": 8,
        "start_time": "2021-07-08T11:27:23.824Z"
      },
      {
        "duration": 202,
        "start_time": "2021-07-08T11:27:23.962Z"
      },
      {
        "duration": 360,
        "start_time": "2021-07-08T11:28:33.215Z"
      },
      {
        "duration": 231,
        "start_time": "2021-07-08T11:32:05.542Z"
      },
      {
        "duration": 607,
        "start_time": "2021-07-08T11:36:27.854Z"
      },
      {
        "duration": 241,
        "start_time": "2021-07-08T11:36:28.463Z"
      },
      {
        "duration": 67,
        "start_time": "2021-07-08T11:36:28.709Z"
      },
      {
        "duration": 5,
        "start_time": "2021-07-08T11:36:28.778Z"
      },
      {
        "duration": 32,
        "start_time": "2021-07-08T11:36:28.784Z"
      },
      {
        "duration": 11,
        "start_time": "2021-07-08T11:36:28.819Z"
      },
      {
        "duration": 20,
        "start_time": "2021-07-08T11:36:28.834Z"
      },
      {
        "duration": 36,
        "start_time": "2021-07-08T11:36:28.857Z"
      },
      {
        "duration": 16,
        "start_time": "2021-07-08T11:36:28.895Z"
      },
      {
        "duration": 14,
        "start_time": "2021-07-08T11:36:28.913Z"
      },
      {
        "duration": 9,
        "start_time": "2021-07-08T11:36:28.930Z"
      },
      {
        "duration": 55,
        "start_time": "2021-07-08T11:36:28.941Z"
      },
      {
        "duration": 27,
        "start_time": "2021-07-08T11:36:28.999Z"
      },
      {
        "duration": 30,
        "start_time": "2021-07-08T11:36:29.028Z"
      },
      {
        "duration": 31,
        "start_time": "2021-07-08T11:36:29.060Z"
      },
      {
        "duration": 3,
        "start_time": "2021-07-08T11:36:29.093Z"
      },
      {
        "duration": 12,
        "start_time": "2021-07-08T11:36:29.099Z"
      },
      {
        "duration": 11,
        "start_time": "2021-07-08T11:36:29.112Z"
      },
      {
        "duration": 12,
        "start_time": "2021-07-08T11:36:29.125Z"
      },
      {
        "duration": 9,
        "start_time": "2021-07-08T11:36:29.139Z"
      },
      {
        "duration": 31,
        "start_time": "2021-07-08T11:36:29.191Z"
      },
      {
        "duration": 17,
        "start_time": "2021-07-08T11:36:29.226Z"
      },
      {
        "duration": 7,
        "start_time": "2021-07-08T11:36:29.245Z"
      },
      {
        "duration": 10,
        "start_time": "2021-07-08T11:36:29.254Z"
      },
      {
        "duration": 30,
        "start_time": "2021-07-08T11:36:29.292Z"
      },
      {
        "duration": 11,
        "start_time": "2021-07-08T11:36:29.324Z"
      },
      {
        "duration": 11,
        "start_time": "2021-07-08T11:36:29.337Z"
      },
      {
        "duration": 230,
        "start_time": "2021-07-08T11:36:29.349Z"
      },
      {
        "duration": 13,
        "start_time": "2021-07-08T11:36:29.588Z"
      },
      {
        "duration": 205,
        "start_time": "2021-07-08T11:36:29.603Z"
      },
      {
        "duration": 20,
        "start_time": "2021-07-08T11:36:29.810Z"
      },
      {
        "duration": 9,
        "start_time": "2021-07-08T11:36:29.832Z"
      },
      {
        "duration": 16,
        "start_time": "2021-07-08T11:36:29.843Z"
      },
      {
        "duration": 283,
        "start_time": "2021-07-08T11:36:29.861Z"
      },
      {
        "duration": 50,
        "start_time": "2021-07-08T11:36:30.146Z"
      },
      {
        "duration": 14,
        "start_time": "2021-07-08T11:36:30.198Z"
      },
      {
        "duration": 11,
        "start_time": "2021-07-08T11:36:30.214Z"
      },
      {
        "duration": 245,
        "start_time": "2021-07-08T11:36:30.227Z"
      },
      {
        "duration": 439,
        "start_time": "2021-07-08T11:36:30.474Z"
      },
      {
        "duration": 210,
        "start_time": "2021-07-08T11:36:30.915Z"
      },
      {
        "duration": 15,
        "start_time": "2021-07-08T11:36:31.127Z"
      },
      {
        "duration": 17,
        "start_time": "2021-07-08T11:38:20.451Z"
      },
      {
        "duration": 642,
        "start_time": "2021-07-08T11:46:17.881Z"
      },
      {
        "duration": 210,
        "start_time": "2021-07-08T11:46:18.525Z"
      },
      {
        "duration": 104,
        "start_time": "2021-07-08T11:46:18.741Z"
      },
      {
        "duration": 8,
        "start_time": "2021-07-08T11:46:18.847Z"
      },
      {
        "duration": 25,
        "start_time": "2021-07-08T11:46:18.857Z"
      },
      {
        "duration": 14,
        "start_time": "2021-07-08T11:46:18.884Z"
      },
      {
        "duration": 22,
        "start_time": "2021-07-08T11:46:18.900Z"
      },
      {
        "duration": 5,
        "start_time": "2021-07-08T11:46:18.924Z"
      },
      {
        "duration": 13,
        "start_time": "2021-07-08T11:46:18.931Z"
      },
      {
        "duration": 45,
        "start_time": "2021-07-08T11:46:18.946Z"
      },
      {
        "duration": 12,
        "start_time": "2021-07-08T11:46:18.993Z"
      },
      {
        "duration": 38,
        "start_time": "2021-07-08T11:46:19.006Z"
      },
      {
        "duration": 50,
        "start_time": "2021-07-08T11:46:19.046Z"
      },
      {
        "duration": 29,
        "start_time": "2021-07-08T11:46:19.099Z"
      },
      {
        "duration": 7,
        "start_time": "2021-07-08T11:46:19.130Z"
      },
      {
        "duration": 3,
        "start_time": "2021-07-08T11:46:19.139Z"
      },
      {
        "duration": 11,
        "start_time": "2021-07-08T11:46:19.144Z"
      },
      {
        "duration": 40,
        "start_time": "2021-07-08T11:46:19.157Z"
      },
      {
        "duration": 15,
        "start_time": "2021-07-08T11:46:19.199Z"
      },
      {
        "duration": 10,
        "start_time": "2021-07-08T11:46:19.217Z"
      },
      {
        "duration": 68,
        "start_time": "2021-07-08T11:46:19.230Z"
      },
      {
        "duration": 17,
        "start_time": "2021-07-08T11:46:19.301Z"
      },
      {
        "duration": 7,
        "start_time": "2021-07-08T11:46:19.321Z"
      },
      {
        "duration": 11,
        "start_time": "2021-07-08T11:46:19.330Z"
      },
      {
        "duration": 59,
        "start_time": "2021-07-08T11:46:19.343Z"
      },
      {
        "duration": 17,
        "start_time": "2021-07-08T11:46:19.405Z"
      },
      {
        "duration": 16,
        "start_time": "2021-07-08T11:46:19.424Z"
      },
      {
        "duration": 252,
        "start_time": "2021-07-08T11:46:19.443Z"
      },
      {
        "duration": 9,
        "start_time": "2021-07-08T11:46:19.697Z"
      },
      {
        "duration": 224,
        "start_time": "2021-07-08T11:46:19.708Z"
      },
      {
        "duration": 21,
        "start_time": "2021-07-08T11:46:19.934Z"
      },
      {
        "duration": 9,
        "start_time": "2021-07-08T11:46:19.956Z"
      },
      {
        "duration": 32,
        "start_time": "2021-07-08T11:46:19.967Z"
      },
      {
        "duration": 288,
        "start_time": "2021-07-08T11:46:20.004Z"
      },
      {
        "duration": 23,
        "start_time": "2021-07-08T11:46:20.300Z"
      },
      {
        "duration": 11,
        "start_time": "2021-07-08T11:46:20.325Z"
      },
      {
        "duration": 11,
        "start_time": "2021-07-08T11:46:20.339Z"
      },
      {
        "duration": 259,
        "start_time": "2021-07-08T11:46:20.352Z"
      },
      {
        "duration": 438,
        "start_time": "2021-07-08T11:46:20.613Z"
      },
      {
        "duration": 207,
        "start_time": "2021-07-08T11:46:21.054Z"
      },
      {
        "duration": 27,
        "start_time": "2021-07-08T11:46:21.262Z"
      },
      {
        "duration": 19,
        "start_time": "2021-07-08T11:46:21.291Z"
      },
      {
        "duration": 820,
        "start_time": "2021-07-08T11:49:01.655Z"
      },
      {
        "duration": 372,
        "start_time": "2021-07-08T11:49:02.478Z"
      },
      {
        "duration": 98,
        "start_time": "2021-07-08T11:49:02.853Z"
      },
      {
        "duration": 6,
        "start_time": "2021-07-08T11:49:02.953Z"
      },
      {
        "duration": 39,
        "start_time": "2021-07-08T11:49:02.960Z"
      },
      {
        "duration": 9,
        "start_time": "2021-07-08T11:49:03.003Z"
      },
      {
        "duration": 23,
        "start_time": "2021-07-08T11:49:03.014Z"
      },
      {
        "duration": 6,
        "start_time": "2021-07-08T11:49:03.041Z"
      },
      {
        "duration": 20,
        "start_time": "2021-07-08T11:49:03.049Z"
      },
      {
        "duration": 18,
        "start_time": "2021-07-08T11:49:03.084Z"
      },
      {
        "duration": 14,
        "start_time": "2021-07-08T11:49:03.104Z"
      },
      {
        "duration": 39,
        "start_time": "2021-07-08T11:49:03.119Z"
      },
      {
        "duration": 38,
        "start_time": "2021-07-08T11:49:03.160Z"
      },
      {
        "duration": 26,
        "start_time": "2021-07-08T11:49:03.200Z"
      },
      {
        "duration": 7,
        "start_time": "2021-07-08T11:49:03.227Z"
      },
      {
        "duration": 4,
        "start_time": "2021-07-08T11:49:03.236Z"
      },
      {
        "duration": 15,
        "start_time": "2021-07-08T11:49:03.243Z"
      },
      {
        "duration": 21,
        "start_time": "2021-07-08T11:49:03.285Z"
      },
      {
        "duration": 17,
        "start_time": "2021-07-08T11:49:03.309Z"
      },
      {
        "duration": 10,
        "start_time": "2021-07-08T11:49:03.328Z"
      },
      {
        "duration": 65,
        "start_time": "2021-07-08T11:49:03.340Z"
      },
      {
        "duration": 18,
        "start_time": "2021-07-08T11:49:03.407Z"
      },
      {
        "duration": 8,
        "start_time": "2021-07-08T11:49:03.428Z"
      },
      {
        "duration": 15,
        "start_time": "2021-07-08T11:49:03.438Z"
      },
      {
        "duration": 40,
        "start_time": "2021-07-08T11:49:03.455Z"
      },
      {
        "duration": 12,
        "start_time": "2021-07-08T11:49:03.497Z"
      },
      {
        "duration": 29,
        "start_time": "2021-07-08T11:49:03.511Z"
      },
      {
        "duration": 285,
        "start_time": "2021-07-08T11:49:03.542Z"
      },
      {
        "duration": 8,
        "start_time": "2021-07-08T11:49:03.829Z"
      },
      {
        "duration": 227,
        "start_time": "2021-07-08T11:49:03.838Z"
      },
      {
        "duration": 40,
        "start_time": "2021-07-08T11:49:04.066Z"
      },
      {
        "duration": 10,
        "start_time": "2021-07-08T11:49:04.108Z"
      },
      {
        "duration": 26,
        "start_time": "2021-07-08T11:49:04.121Z"
      },
      {
        "duration": 290,
        "start_time": "2021-07-08T11:49:04.149Z"
      },
      {
        "duration": 26,
        "start_time": "2021-07-08T11:49:04.441Z"
      },
      {
        "duration": 31,
        "start_time": "2021-07-08T11:49:04.470Z"
      },
      {
        "duration": 14,
        "start_time": "2021-07-08T11:49:04.503Z"
      },
      {
        "duration": 259,
        "start_time": "2021-07-08T11:49:04.521Z"
      },
      {
        "duration": 480,
        "start_time": "2021-07-08T11:49:04.782Z"
      },
      {
        "duration": 225,
        "start_time": "2021-07-08T11:49:05.264Z"
      },
      {
        "duration": 22,
        "start_time": "2021-07-08T11:49:05.491Z"
      },
      {
        "duration": 24,
        "start_time": "2021-07-08T11:49:05.515Z"
      },
      {
        "duration": 634,
        "start_time": "2021-07-08T11:52:24.960Z"
      },
      {
        "duration": 199,
        "start_time": "2021-07-08T11:52:25.599Z"
      },
      {
        "duration": 106,
        "start_time": "2021-07-08T11:52:25.803Z"
      },
      {
        "duration": 7,
        "start_time": "2021-07-08T11:52:25.911Z"
      },
      {
        "duration": 29,
        "start_time": "2021-07-08T11:52:25.920Z"
      },
      {
        "duration": 7,
        "start_time": "2021-07-08T11:52:25.951Z"
      },
      {
        "duration": 26,
        "start_time": "2021-07-08T11:52:25.961Z"
      },
      {
        "duration": 11,
        "start_time": "2021-07-08T11:52:25.990Z"
      },
      {
        "duration": 29,
        "start_time": "2021-07-08T11:52:26.005Z"
      },
      {
        "duration": 9,
        "start_time": "2021-07-08T11:52:26.036Z"
      },
      {
        "duration": 8,
        "start_time": "2021-07-08T11:52:26.047Z"
      },
      {
        "duration": 63,
        "start_time": "2021-07-08T11:52:26.057Z"
      },
      {
        "duration": 17,
        "start_time": "2021-07-08T11:52:26.122Z"
      },
      {
        "duration": 43,
        "start_time": "2021-07-08T11:52:26.142Z"
      },
      {
        "duration": 17,
        "start_time": "2021-07-08T11:52:26.187Z"
      },
      {
        "duration": 5,
        "start_time": "2021-07-08T11:52:26.206Z"
      },
      {
        "duration": 12,
        "start_time": "2021-07-08T11:52:26.212Z"
      },
      {
        "duration": 11,
        "start_time": "2021-07-08T11:52:26.226Z"
      },
      {
        "duration": 12,
        "start_time": "2021-07-08T11:52:26.238Z"
      },
      {
        "duration": 38,
        "start_time": "2021-07-08T11:52:26.252Z"
      },
      {
        "duration": 40,
        "start_time": "2021-07-08T11:52:26.292Z"
      },
      {
        "duration": 17,
        "start_time": "2021-07-08T11:52:26.336Z"
      },
      {
        "duration": 39,
        "start_time": "2021-07-08T11:52:26.355Z"
      },
      {
        "duration": 11,
        "start_time": "2021-07-08T11:52:26.395Z"
      },
      {
        "duration": 23,
        "start_time": "2021-07-08T11:52:26.408Z"
      },
      {
        "duration": 12,
        "start_time": "2021-07-08T11:52:26.432Z"
      },
      {
        "duration": 41,
        "start_time": "2021-07-08T11:52:26.446Z"
      },
      {
        "duration": 215,
        "start_time": "2021-07-08T11:52:26.493Z"
      },
      {
        "duration": 8,
        "start_time": "2021-07-08T11:52:26.710Z"
      },
      {
        "duration": 228,
        "start_time": "2021-07-08T11:52:26.720Z"
      },
      {
        "duration": 18,
        "start_time": "2021-07-08T11:52:26.950Z"
      },
      {
        "duration": 35,
        "start_time": "2021-07-08T11:52:26.969Z"
      },
      {
        "duration": 23,
        "start_time": "2021-07-08T11:52:27.006Z"
      },
      {
        "duration": 258,
        "start_time": "2021-07-08T11:52:27.030Z"
      },
      {
        "duration": 24,
        "start_time": "2021-07-08T11:52:27.290Z"
      },
      {
        "duration": 12,
        "start_time": "2021-07-08T11:52:27.316Z"
      },
      {
        "duration": 10,
        "start_time": "2021-07-08T11:52:27.329Z"
      },
      {
        "duration": 298,
        "start_time": "2021-07-08T11:52:27.341Z"
      },
      {
        "duration": 436,
        "start_time": "2021-07-08T11:52:27.641Z"
      },
      {
        "duration": 216,
        "start_time": "2021-07-08T11:52:28.079Z"
      },
      {
        "duration": 20,
        "start_time": "2021-07-08T11:52:28.297Z"
      },
      {
        "duration": 17,
        "start_time": "2021-07-08T11:52:28.319Z"
      },
      {
        "duration": 387,
        "start_time": "2022-12-17T09:19:13.127Z"
      },
      {
        "duration": 361,
        "start_time": "2022-12-17T09:21:56.339Z"
      },
      {
        "duration": 28,
        "start_time": "2022-12-17T09:22:17.412Z"
      },
      {
        "duration": 119,
        "start_time": "2022-12-17T09:22:43.715Z"
      },
      {
        "duration": 6,
        "start_time": "2022-12-17T09:22:45.070Z"
      },
      {
        "duration": 131,
        "start_time": "2022-12-17T09:23:04.868Z"
      },
      {
        "duration": 14,
        "start_time": "2022-12-17T09:23:05.696Z"
      },
      {
        "duration": 6,
        "start_time": "2022-12-17T09:23:31.315Z"
      },
      {
        "duration": 12,
        "start_time": "2022-12-17T09:24:18.314Z"
      },
      {
        "duration": 14,
        "start_time": "2022-12-17T09:24:25.776Z"
      },
      {
        "duration": 9,
        "start_time": "2022-12-17T09:24:41.439Z"
      },
      {
        "duration": 17,
        "start_time": "2022-12-17T09:28:20.712Z"
      },
      {
        "duration": 5,
        "start_time": "2022-12-17T09:28:40.348Z"
      },
      {
        "duration": 5,
        "start_time": "2022-12-17T09:29:28.232Z"
      },
      {
        "duration": 5,
        "start_time": "2022-12-17T09:29:44.058Z"
      },
      {
        "duration": 405,
        "start_time": "2022-12-17T09:30:47.166Z"
      },
      {
        "duration": 4,
        "start_time": "2022-12-17T09:31:31.440Z"
      },
      {
        "duration": 4,
        "start_time": "2022-12-17T09:38:18.394Z"
      },
      {
        "duration": 3,
        "start_time": "2022-12-17T09:38:28.109Z"
      },
      {
        "duration": 19,
        "start_time": "2022-12-17T09:38:36.116Z"
      },
      {
        "duration": 427,
        "start_time": "2022-12-17T09:39:05.286Z"
      },
      {
        "duration": 120,
        "start_time": "2022-12-17T09:39:05.715Z"
      },
      {
        "duration": 20,
        "start_time": "2022-12-17T09:39:05.837Z"
      },
      {
        "duration": 7,
        "start_time": "2022-12-17T09:39:05.858Z"
      },
      {
        "duration": 17,
        "start_time": "2022-12-17T09:39:05.867Z"
      },
      {
        "duration": 11,
        "start_time": "2022-12-17T09:39:05.886Z"
      },
      {
        "duration": 20,
        "start_time": "2022-12-17T09:39:05.899Z"
      },
      {
        "duration": 5,
        "start_time": "2022-12-17T09:39:05.920Z"
      },
      {
        "duration": 4,
        "start_time": "2022-12-17T09:39:05.927Z"
      },
      {
        "duration": 6,
        "start_time": "2022-12-17T09:39:05.934Z"
      },
      {
        "duration": 365,
        "start_time": "2022-12-17T09:39:05.941Z"
      },
      {
        "duration": 0,
        "start_time": "2022-12-17T09:39:06.307Z"
      },
      {
        "duration": 14,
        "start_time": "2022-12-17T09:39:59.828Z"
      },
      {
        "duration": 3,
        "start_time": "2022-12-17T09:43:06.441Z"
      },
      {
        "duration": 10,
        "start_time": "2022-12-17T09:43:12.083Z"
      },
      {
        "duration": 4,
        "start_time": "2022-12-17T09:43:34.084Z"
      },
      {
        "duration": 9,
        "start_time": "2022-12-17T09:45:12.171Z"
      },
      {
        "duration": 23,
        "start_time": "2022-12-17T09:45:16.857Z"
      },
      {
        "duration": 70,
        "start_time": "2022-12-17T09:48:05.057Z"
      },
      {
        "duration": 374,
        "start_time": "2022-12-17T09:48:38.737Z"
      },
      {
        "duration": 118,
        "start_time": "2022-12-17T09:48:39.113Z"
      },
      {
        "duration": 21,
        "start_time": "2022-12-17T09:48:39.233Z"
      },
      {
        "duration": 7,
        "start_time": "2022-12-17T09:48:39.255Z"
      },
      {
        "duration": 35,
        "start_time": "2022-12-17T09:48:39.264Z"
      },
      {
        "duration": 38,
        "start_time": "2022-12-17T09:48:39.300Z"
      },
      {
        "duration": 54,
        "start_time": "2022-12-17T09:48:39.340Z"
      },
      {
        "duration": 5,
        "start_time": "2022-12-17T09:48:39.396Z"
      },
      {
        "duration": 20,
        "start_time": "2022-12-17T09:48:39.402Z"
      },
      {
        "duration": 8,
        "start_time": "2022-12-17T09:48:39.423Z"
      },
      {
        "duration": 6,
        "start_time": "2022-12-17T09:48:39.433Z"
      },
      {
        "duration": 64,
        "start_time": "2022-12-17T09:48:39.441Z"
      },
      {
        "duration": 0,
        "start_time": "2022-12-17T09:48:39.507Z"
      },
      {
        "duration": 71,
        "start_time": "2022-12-17T09:49:18.370Z"
      },
      {
        "duration": 85,
        "start_time": "2022-12-17T09:49:27.725Z"
      },
      {
        "duration": 73,
        "start_time": "2022-12-17T09:52:47.730Z"
      },
      {
        "duration": 566,
        "start_time": "2022-12-17T09:53:21.696Z"
      },
      {
        "duration": 7,
        "start_time": "2022-12-17T09:53:35.920Z"
      },
      {
        "duration": 23,
        "start_time": "2022-12-17T09:53:39.023Z"
      },
      {
        "duration": 8,
        "start_time": "2022-12-17T13:04:53.202Z"
      },
      {
        "duration": 19,
        "start_time": "2022-12-17T13:04:59.297Z"
      },
      {
        "duration": 25,
        "start_time": "2022-12-17T13:05:04.352Z"
      },
      {
        "duration": 10,
        "start_time": "2022-12-17T13:07:56.763Z"
      },
      {
        "duration": 7,
        "start_time": "2022-12-17T13:08:33.989Z"
      },
      {
        "duration": 5,
        "start_time": "2022-12-17T13:08:39.357Z"
      },
      {
        "duration": 384,
        "start_time": "2022-12-17T13:10:41.440Z"
      },
      {
        "duration": 129,
        "start_time": "2022-12-17T13:10:41.826Z"
      },
      {
        "duration": 23,
        "start_time": "2022-12-17T13:10:41.957Z"
      },
      {
        "duration": 7,
        "start_time": "2022-12-17T13:10:41.981Z"
      },
      {
        "duration": 17,
        "start_time": "2022-12-17T13:10:41.991Z"
      },
      {
        "duration": 24,
        "start_time": "2022-12-17T13:10:42.010Z"
      },
      {
        "duration": 22,
        "start_time": "2022-12-17T13:10:42.036Z"
      },
      {
        "duration": 6,
        "start_time": "2022-12-17T13:10:42.060Z"
      },
      {
        "duration": 5,
        "start_time": "2022-12-17T13:10:42.068Z"
      },
      {
        "duration": 5,
        "start_time": "2022-12-17T13:10:42.075Z"
      },
      {
        "duration": 4,
        "start_time": "2022-12-17T13:10:42.082Z"
      },
      {
        "duration": 18,
        "start_time": "2022-12-17T13:10:42.106Z"
      },
      {
        "duration": 32,
        "start_time": "2022-12-17T13:10:42.125Z"
      },
      {
        "duration": 6,
        "start_time": "2022-12-17T13:10:42.160Z"
      },
      {
        "duration": 13,
        "start_time": "2022-12-17T13:10:42.167Z"
      },
      {
        "duration": 15,
        "start_time": "2022-12-17T13:16:43.161Z"
      },
      {
        "duration": 4,
        "start_time": "2022-12-17T13:19:20.498Z"
      },
      {
        "duration": 4,
        "start_time": "2022-12-17T13:19:38.601Z"
      },
      {
        "duration": 5,
        "start_time": "2022-12-17T13:20:43.621Z"
      },
      {
        "duration": 7,
        "start_time": "2022-12-17T13:22:47.771Z"
      },
      {
        "duration": 5,
        "start_time": "2022-12-17T13:34:20.918Z"
      },
      {
        "duration": 5,
        "start_time": "2022-12-17T13:34:35.374Z"
      },
      {
        "duration": 5,
        "start_time": "2022-12-17T13:34:55.114Z"
      },
      {
        "duration": 73,
        "start_time": "2022-12-17T13:43:00.155Z"
      },
      {
        "duration": 10,
        "start_time": "2022-12-17T13:43:09.769Z"
      },
      {
        "duration": 7,
        "start_time": "2022-12-17T13:46:02.189Z"
      },
      {
        "duration": 28,
        "start_time": "2022-12-17T13:46:16.019Z"
      },
      {
        "duration": 9,
        "start_time": "2022-12-17T13:56:59.542Z"
      },
      {
        "duration": 4,
        "start_time": "2022-12-17T13:57:55.658Z"
      },
      {
        "duration": 9,
        "start_time": "2022-12-17T14:02:57.472Z"
      },
      {
        "duration": 13,
        "start_time": "2022-12-17T14:03:27.661Z"
      },
      {
        "duration": 4,
        "start_time": "2022-12-17T14:03:36.793Z"
      },
      {
        "duration": 11,
        "start_time": "2022-12-17T14:04:04.394Z"
      },
      {
        "duration": 5,
        "start_time": "2022-12-17T14:04:04.805Z"
      },
      {
        "duration": 398,
        "start_time": "2022-12-17T14:04:17.137Z"
      },
      {
        "duration": 141,
        "start_time": "2022-12-17T14:04:17.538Z"
      },
      {
        "duration": 20,
        "start_time": "2022-12-17T14:04:17.681Z"
      },
      {
        "duration": 9,
        "start_time": "2022-12-17T14:04:17.703Z"
      },
      {
        "duration": 16,
        "start_time": "2022-12-17T14:04:17.715Z"
      },
      {
        "duration": 9,
        "start_time": "2022-12-17T14:04:17.733Z"
      },
      {
        "duration": 21,
        "start_time": "2022-12-17T14:04:17.744Z"
      },
      {
        "duration": 5,
        "start_time": "2022-12-17T14:04:17.766Z"
      },
      {
        "duration": 6,
        "start_time": "2022-12-17T14:04:17.772Z"
      },
      {
        "duration": 46,
        "start_time": "2022-12-17T14:04:17.779Z"
      },
      {
        "duration": 44,
        "start_time": "2022-12-17T14:04:17.827Z"
      },
      {
        "duration": 20,
        "start_time": "2022-12-17T14:04:17.873Z"
      },
      {
        "duration": 26,
        "start_time": "2022-12-17T14:04:17.894Z"
      },
      {
        "duration": 12,
        "start_time": "2022-12-17T14:04:17.922Z"
      },
      {
        "duration": 20,
        "start_time": "2022-12-17T14:04:17.936Z"
      },
      {
        "duration": 19,
        "start_time": "2022-12-17T14:04:17.958Z"
      },
      {
        "duration": 14,
        "start_time": "2022-12-17T14:04:17.979Z"
      },
      {
        "duration": 13,
        "start_time": "2022-12-17T14:04:17.995Z"
      },
      {
        "duration": 34,
        "start_time": "2022-12-17T14:04:18.009Z"
      },
      {
        "duration": 4,
        "start_time": "2022-12-17T14:04:18.045Z"
      },
      {
        "duration": 6,
        "start_time": "2022-12-17T14:05:33.727Z"
      },
      {
        "duration": 8,
        "start_time": "2022-12-17T14:06:46.509Z"
      },
      {
        "duration": 29,
        "start_time": "2022-12-17T14:11:26.911Z"
      },
      {
        "duration": 97,
        "start_time": "2022-12-17T14:21:38.457Z"
      },
      {
        "duration": 65,
        "start_time": "2022-12-17T14:22:18.212Z"
      },
      {
        "duration": 8,
        "start_time": "2022-12-17T14:22:28.769Z"
      },
      {
        "duration": 132,
        "start_time": "2022-12-17T14:24:05.745Z"
      },
      {
        "duration": 9,
        "start_time": "2022-12-17T14:24:13.500Z"
      },
      {
        "duration": 104,
        "start_time": "2022-12-17T14:50:40.721Z"
      },
      {
        "duration": 9,
        "start_time": "2022-12-17T14:50:47.792Z"
      },
      {
        "duration": 8,
        "start_time": "2022-12-17T14:52:04.440Z"
      },
      {
        "duration": 13,
        "start_time": "2022-12-17T14:52:16.078Z"
      },
      {
        "duration": 9,
        "start_time": "2022-12-17T14:52:24.158Z"
      },
      {
        "duration": 7,
        "start_time": "2022-12-17T14:53:18.270Z"
      },
      {
        "duration": 407,
        "start_time": "2022-12-17T15:14:09.041Z"
      },
      {
        "duration": 372,
        "start_time": "2022-12-17T15:14:09.451Z"
      },
      {
        "duration": 23,
        "start_time": "2022-12-17T15:14:09.825Z"
      },
      {
        "duration": 7,
        "start_time": "2022-12-17T15:14:09.850Z"
      },
      {
        "duration": 17,
        "start_time": "2022-12-17T15:14:09.859Z"
      },
      {
        "duration": 10,
        "start_time": "2022-12-17T15:14:09.878Z"
      },
      {
        "duration": 23,
        "start_time": "2022-12-17T15:14:09.889Z"
      },
      {
        "duration": 5,
        "start_time": "2022-12-17T15:14:09.914Z"
      },
      {
        "duration": 34,
        "start_time": "2022-12-17T15:14:09.921Z"
      },
      {
        "duration": 6,
        "start_time": "2022-12-17T15:14:09.958Z"
      },
      {
        "duration": 5,
        "start_time": "2022-12-17T15:14:09.965Z"
      },
      {
        "duration": 17,
        "start_time": "2022-12-17T15:14:09.971Z"
      },
      {
        "duration": 24,
        "start_time": "2022-12-17T15:14:09.990Z"
      },
      {
        "duration": 13,
        "start_time": "2022-12-17T15:14:10.016Z"
      },
      {
        "duration": 19,
        "start_time": "2022-12-17T15:14:10.052Z"
      },
      {
        "duration": 21,
        "start_time": "2022-12-17T15:14:10.073Z"
      },
      {
        "duration": 14,
        "start_time": "2022-12-17T15:14:10.095Z"
      },
      {
        "duration": 6,
        "start_time": "2022-12-17T15:14:10.111Z"
      },
      {
        "duration": 16,
        "start_time": "2022-12-17T15:14:10.119Z"
      },
      {
        "duration": 19,
        "start_time": "2022-12-17T15:14:10.136Z"
      },
      {
        "duration": 124,
        "start_time": "2022-12-17T15:14:10.157Z"
      },
      {
        "duration": 7,
        "start_time": "2022-12-17T15:14:10.282Z"
      },
      {
        "duration": 8,
        "start_time": "2022-12-17T15:14:49.498Z"
      },
      {
        "duration": 7,
        "start_time": "2022-12-17T15:14:53.486Z"
      },
      {
        "duration": 6,
        "start_time": "2022-12-17T15:15:25.596Z"
      },
      {
        "duration": 5,
        "start_time": "2022-12-17T15:15:39.293Z"
      },
      {
        "duration": 4,
        "start_time": "2022-12-17T15:16:15.513Z"
      },
      {
        "duration": 4,
        "start_time": "2022-12-17T15:16:35.060Z"
      },
      {
        "duration": 5,
        "start_time": "2022-12-17T15:16:59.187Z"
      },
      {
        "duration": 5,
        "start_time": "2022-12-17T15:17:25.687Z"
      },
      {
        "duration": 7,
        "start_time": "2022-12-17T15:17:47.784Z"
      },
      {
        "duration": 6,
        "start_time": "2022-12-17T15:24:45.202Z"
      },
      {
        "duration": 6,
        "start_time": "2022-12-17T15:24:53.853Z"
      },
      {
        "duration": 5,
        "start_time": "2022-12-17T15:25:01.881Z"
      },
      {
        "duration": 423,
        "start_time": "2022-12-17T19:28:18.883Z"
      },
      {
        "duration": 232,
        "start_time": "2022-12-17T19:28:19.308Z"
      },
      {
        "duration": 36,
        "start_time": "2022-12-17T19:28:19.542Z"
      },
      {
        "duration": 8,
        "start_time": "2022-12-17T19:28:19.581Z"
      },
      {
        "duration": 26,
        "start_time": "2022-12-17T19:28:19.591Z"
      },
      {
        "duration": 11,
        "start_time": "2022-12-17T19:28:19.619Z"
      },
      {
        "duration": 52,
        "start_time": "2022-12-17T19:28:19.632Z"
      },
      {
        "duration": 6,
        "start_time": "2022-12-17T19:28:19.686Z"
      },
      {
        "duration": 8,
        "start_time": "2022-12-17T19:28:19.694Z"
      },
      {
        "duration": 9,
        "start_time": "2022-12-17T19:28:19.705Z"
      },
      {
        "duration": 5,
        "start_time": "2022-12-17T19:28:19.717Z"
      },
      {
        "duration": 56,
        "start_time": "2022-12-17T19:28:19.724Z"
      },
      {
        "duration": 37,
        "start_time": "2022-12-17T19:28:19.782Z"
      },
      {
        "duration": 7,
        "start_time": "2022-12-17T19:28:19.822Z"
      },
      {
        "duration": 13,
        "start_time": "2022-12-17T19:28:19.832Z"
      },
      {
        "duration": 57,
        "start_time": "2022-12-17T19:28:19.847Z"
      },
      {
        "duration": 20,
        "start_time": "2022-12-17T19:28:19.906Z"
      },
      {
        "duration": 6,
        "start_time": "2022-12-17T19:28:19.928Z"
      },
      {
        "duration": 19,
        "start_time": "2022-12-17T19:28:19.935Z"
      },
      {
        "duration": 39,
        "start_time": "2022-12-17T19:28:19.956Z"
      },
      {
        "duration": 16,
        "start_time": "2022-12-17T19:28:19.997Z"
      },
      {
        "duration": 15,
        "start_time": "2022-12-17T19:28:20.015Z"
      },
      {
        "duration": 8,
        "start_time": "2022-12-17T19:28:20.033Z"
      },
      {
        "duration": 26,
        "start_time": "2022-12-17T19:28:28.226Z"
      },
      {
        "duration": 10,
        "start_time": "2022-12-17T19:32:49.999Z"
      },
      {
        "duration": 9,
        "start_time": "2022-12-17T19:32:53.660Z"
      },
      {
        "duration": 16,
        "start_time": "2022-12-17T19:33:07.665Z"
      },
      {
        "duration": 36,
        "start_time": "2022-12-17T19:33:08.197Z"
      },
      {
        "duration": 5,
        "start_time": "2022-12-17T19:33:14.642Z"
      },
      {
        "duration": 9,
        "start_time": "2022-12-17T19:33:18.870Z"
      },
      {
        "duration": 16,
        "start_time": "2022-12-17T19:33:19.655Z"
      },
      {
        "duration": 442,
        "start_time": "2022-12-17T19:34:04.556Z"
      },
      {
        "duration": 129,
        "start_time": "2022-12-17T19:34:05.000Z"
      },
      {
        "duration": 24,
        "start_time": "2022-12-17T19:34:05.131Z"
      },
      {
        "duration": 8,
        "start_time": "2022-12-17T19:34:05.157Z"
      },
      {
        "duration": 24,
        "start_time": "2022-12-17T19:34:05.167Z"
      },
      {
        "duration": 10,
        "start_time": "2022-12-17T19:34:05.193Z"
      },
      {
        "duration": 20,
        "start_time": "2022-12-17T19:34:05.205Z"
      },
      {
        "duration": 5,
        "start_time": "2022-12-17T19:34:05.227Z"
      },
      {
        "duration": 8,
        "start_time": "2022-12-17T19:34:05.234Z"
      },
      {
        "duration": 35,
        "start_time": "2022-12-17T19:34:05.244Z"
      },
      {
        "duration": 4,
        "start_time": "2022-12-17T19:34:05.280Z"
      },
      {
        "duration": 23,
        "start_time": "2022-12-17T19:34:05.285Z"
      },
      {
        "duration": 26,
        "start_time": "2022-12-17T19:34:05.310Z"
      },
      {
        "duration": 5,
        "start_time": "2022-12-17T19:34:05.338Z"
      },
      {
        "duration": 33,
        "start_time": "2022-12-17T19:34:05.345Z"
      },
      {
        "duration": 17,
        "start_time": "2022-12-17T19:34:05.380Z"
      },
      {
        "duration": 14,
        "start_time": "2022-12-17T19:34:05.398Z"
      },
      {
        "duration": 7,
        "start_time": "2022-12-17T19:34:05.413Z"
      },
      {
        "duration": 11,
        "start_time": "2022-12-17T19:34:05.422Z"
      },
      {
        "duration": 43,
        "start_time": "2022-12-17T19:34:05.435Z"
      },
      {
        "duration": 12,
        "start_time": "2022-12-17T19:34:05.480Z"
      },
      {
        "duration": 11,
        "start_time": "2022-12-17T19:34:05.494Z"
      },
      {
        "duration": 11,
        "start_time": "2022-12-17T19:34:05.506Z"
      },
      {
        "duration": 19,
        "start_time": "2022-12-17T19:34:05.519Z"
      },
      {
        "duration": 13,
        "start_time": "2022-12-17T19:39:26.922Z"
      },
      {
        "duration": 423,
        "start_time": "2022-12-17T19:39:35.362Z"
      },
      {
        "duration": 128,
        "start_time": "2022-12-17T19:39:35.787Z"
      },
      {
        "duration": 24,
        "start_time": "2022-12-17T19:39:35.918Z"
      },
      {
        "duration": 8,
        "start_time": "2022-12-17T19:39:35.944Z"
      },
      {
        "duration": 24,
        "start_time": "2022-12-17T19:39:35.955Z"
      },
      {
        "duration": 11,
        "start_time": "2022-12-17T19:39:35.981Z"
      },
      {
        "duration": 27,
        "start_time": "2022-12-17T19:39:35.993Z"
      },
      {
        "duration": 5,
        "start_time": "2022-12-17T19:39:36.022Z"
      },
      {
        "duration": 6,
        "start_time": "2022-12-17T19:39:36.029Z"
      },
      {
        "duration": 7,
        "start_time": "2022-12-17T19:39:36.037Z"
      },
      {
        "duration": 35,
        "start_time": "2022-12-17T19:39:36.045Z"
      },
      {
        "duration": 19,
        "start_time": "2022-12-17T19:39:36.082Z"
      },
      {
        "duration": 27,
        "start_time": "2022-12-17T19:39:36.103Z"
      },
      {
        "duration": 12,
        "start_time": "2022-12-17T19:39:36.133Z"
      },
      {
        "duration": 33,
        "start_time": "2022-12-17T19:39:36.147Z"
      },
      {
        "duration": 22,
        "start_time": "2022-12-17T19:39:36.183Z"
      },
      {
        "duration": 16,
        "start_time": "2022-12-17T19:39:36.207Z"
      },
      {
        "duration": 6,
        "start_time": "2022-12-17T19:39:36.225Z"
      },
      {
        "duration": 19,
        "start_time": "2022-12-17T19:39:36.233Z"
      },
      {
        "duration": 9,
        "start_time": "2022-12-17T19:39:36.278Z"
      },
      {
        "duration": 13,
        "start_time": "2022-12-17T19:39:36.289Z"
      },
      {
        "duration": 11,
        "start_time": "2022-12-17T19:39:36.303Z"
      },
      {
        "duration": 9,
        "start_time": "2022-12-17T19:39:36.316Z"
      },
      {
        "duration": 18,
        "start_time": "2022-12-17T19:39:36.327Z"
      },
      {
        "duration": 15,
        "start_time": "2022-12-17T19:39:55.203Z"
      },
      {
        "duration": 65,
        "start_time": "2022-12-17T19:41:03.254Z"
      },
      {
        "duration": 3,
        "start_time": "2022-12-17T19:41:18.074Z"
      },
      {
        "duration": 15,
        "start_time": "2022-12-17T19:41:20.202Z"
      },
      {
        "duration": 408,
        "start_time": "2022-12-17T19:41:56.633Z"
      },
      {
        "duration": 125,
        "start_time": "2022-12-17T19:41:57.043Z"
      },
      {
        "duration": 23,
        "start_time": "2022-12-17T19:41:57.170Z"
      },
      {
        "duration": 8,
        "start_time": "2022-12-17T19:41:57.195Z"
      },
      {
        "duration": 19,
        "start_time": "2022-12-17T19:41:57.205Z"
      },
      {
        "duration": 10,
        "start_time": "2022-12-17T19:41:57.226Z"
      },
      {
        "duration": 52,
        "start_time": "2022-12-17T19:41:57.238Z"
      },
      {
        "duration": 6,
        "start_time": "2022-12-17T19:41:57.292Z"
      },
      {
        "duration": 8,
        "start_time": "2022-12-17T19:41:57.299Z"
      },
      {
        "duration": 9,
        "start_time": "2022-12-17T19:41:57.309Z"
      },
      {
        "duration": 7,
        "start_time": "2022-12-17T19:41:57.319Z"
      },
      {
        "duration": 102,
        "start_time": "2022-12-17T19:41:57.327Z"
      },
      {
        "duration": 0,
        "start_time": "2022-12-17T19:41:57.432Z"
      },
      {
        "duration": 0,
        "start_time": "2022-12-17T19:41:57.434Z"
      },
      {
        "duration": 0,
        "start_time": "2022-12-17T19:41:57.435Z"
      },
      {
        "duration": 0,
        "start_time": "2022-12-17T19:41:57.437Z"
      },
      {
        "duration": 0,
        "start_time": "2022-12-17T19:41:57.438Z"
      },
      {
        "duration": 0,
        "start_time": "2022-12-17T19:41:57.440Z"
      },
      {
        "duration": 0,
        "start_time": "2022-12-17T19:41:57.440Z"
      },
      {
        "duration": 0,
        "start_time": "2022-12-17T19:41:57.442Z"
      },
      {
        "duration": 0,
        "start_time": "2022-12-17T19:41:57.443Z"
      },
      {
        "duration": 0,
        "start_time": "2022-12-17T19:41:57.444Z"
      },
      {
        "duration": 0,
        "start_time": "2022-12-17T19:41:57.445Z"
      },
      {
        "duration": 0,
        "start_time": "2022-12-17T19:41:57.446Z"
      },
      {
        "duration": 4,
        "start_time": "2022-12-17T19:42:11.614Z"
      },
      {
        "duration": 14,
        "start_time": "2022-12-17T19:42:14.133Z"
      },
      {
        "duration": 21,
        "start_time": "2022-12-17T19:42:15.516Z"
      },
      {
        "duration": 12,
        "start_time": "2022-12-17T19:42:33.451Z"
      },
      {
        "duration": 14,
        "start_time": "2022-12-17T19:42:34.152Z"
      },
      {
        "duration": 25,
        "start_time": "2022-12-17T19:42:44.492Z"
      },
      {
        "duration": 26,
        "start_time": "2022-12-17T19:42:45.093Z"
      },
      {
        "duration": 21,
        "start_time": "2022-12-17T19:53:17.255Z"
      },
      {
        "duration": 4,
        "start_time": "2022-12-17T20:07:10.875Z"
      },
      {
        "duration": 178,
        "start_time": "2022-12-17T20:08:40.163Z"
      },
      {
        "duration": 6,
        "start_time": "2022-12-17T20:09:43.465Z"
      },
      {
        "duration": 7,
        "start_time": "2022-12-17T20:09:47.478Z"
      },
      {
        "duration": 8,
        "start_time": "2022-12-17T20:10:17.094Z"
      },
      {
        "duration": 4,
        "start_time": "2022-12-17T20:10:17.659Z"
      },
      {
        "duration": 4,
        "start_time": "2022-12-17T20:10:30.199Z"
      },
      {
        "duration": 14,
        "start_time": "2022-12-17T20:10:47.065Z"
      },
      {
        "duration": 23,
        "start_time": "2022-12-17T20:10:48.256Z"
      },
      {
        "duration": 431,
        "start_time": "2022-12-17T20:12:00.678Z"
      },
      {
        "duration": 124,
        "start_time": "2022-12-17T20:12:01.111Z"
      },
      {
        "duration": 23,
        "start_time": "2022-12-17T20:12:01.236Z"
      },
      {
        "duration": 7,
        "start_time": "2022-12-17T20:12:01.262Z"
      },
      {
        "duration": 26,
        "start_time": "2022-12-17T20:12:01.271Z"
      },
      {
        "duration": 10,
        "start_time": "2022-12-17T20:12:01.299Z"
      },
      {
        "duration": 27,
        "start_time": "2022-12-17T20:12:01.311Z"
      },
      {
        "duration": 6,
        "start_time": "2022-12-17T20:12:01.340Z"
      },
      {
        "duration": 11,
        "start_time": "2022-12-17T20:12:01.348Z"
      },
      {
        "duration": 22,
        "start_time": "2022-12-17T20:12:01.361Z"
      },
      {
        "duration": 12,
        "start_time": "2022-12-17T20:12:01.384Z"
      },
      {
        "duration": 8,
        "start_time": "2022-12-17T20:12:01.398Z"
      },
      {
        "duration": 24,
        "start_time": "2022-12-17T20:12:01.407Z"
      },
      {
        "duration": 18,
        "start_time": "2022-12-17T20:12:01.433Z"
      },
      {
        "duration": 6,
        "start_time": "2022-12-17T20:12:01.453Z"
      },
      {
        "duration": 20,
        "start_time": "2022-12-17T20:12:01.460Z"
      },
      {
        "duration": 16,
        "start_time": "2022-12-17T20:12:01.482Z"
      },
      {
        "duration": 10,
        "start_time": "2022-12-17T20:12:01.500Z"
      },
      {
        "duration": 6,
        "start_time": "2022-12-17T20:12:01.512Z"
      },
      {
        "duration": 10,
        "start_time": "2022-12-17T20:12:01.520Z"
      },
      {
        "duration": 10,
        "start_time": "2022-12-17T20:12:01.532Z"
      },
      {
        "duration": 38,
        "start_time": "2022-12-17T20:12:01.543Z"
      },
      {
        "duration": 13,
        "start_time": "2022-12-17T20:12:01.583Z"
      },
      {
        "duration": 9,
        "start_time": "2022-12-17T20:12:01.597Z"
      },
      {
        "duration": 24,
        "start_time": "2022-12-17T20:12:01.607Z"
      },
      {
        "duration": 8,
        "start_time": "2022-12-17T20:20:38.853Z"
      },
      {
        "duration": 25,
        "start_time": "2022-12-17T20:26:44.688Z"
      },
      {
        "duration": 26,
        "start_time": "2022-12-17T20:27:50.882Z"
      },
      {
        "duration": 5,
        "start_time": "2022-12-17T20:39:52.838Z"
      },
      {
        "duration": 23,
        "start_time": "2022-12-17T20:40:21.265Z"
      },
      {
        "duration": 23,
        "start_time": "2022-12-17T20:41:07.447Z"
      },
      {
        "duration": 50,
        "start_time": "2022-12-17T20:50:15.376Z"
      },
      {
        "duration": 5,
        "start_time": "2022-12-17T20:50:22.322Z"
      },
      {
        "duration": 12,
        "start_time": "2022-12-17T20:50:28.968Z"
      },
      {
        "duration": 9,
        "start_time": "2022-12-17T20:50:46.337Z"
      },
      {
        "duration": 3,
        "start_time": "2022-12-17T20:51:56.022Z"
      },
      {
        "duration": 9,
        "start_time": "2022-12-17T20:52:04.988Z"
      },
      {
        "duration": 444,
        "start_time": "2022-12-17T20:52:16.550Z"
      },
      {
        "duration": 127,
        "start_time": "2022-12-17T20:52:16.996Z"
      },
      {
        "duration": 22,
        "start_time": "2022-12-17T20:52:17.125Z"
      },
      {
        "duration": 8,
        "start_time": "2022-12-17T20:52:17.148Z"
      },
      {
        "duration": 18,
        "start_time": "2022-12-17T20:52:17.158Z"
      },
      {
        "duration": 10,
        "start_time": "2022-12-17T20:52:17.178Z"
      },
      {
        "duration": 23,
        "start_time": "2022-12-17T20:52:17.190Z"
      },
      {
        "duration": 5,
        "start_time": "2022-12-17T20:52:17.215Z"
      },
      {
        "duration": 8,
        "start_time": "2022-12-17T20:52:17.222Z"
      },
      {
        "duration": 13,
        "start_time": "2022-12-17T20:52:17.232Z"
      },
      {
        "duration": 11,
        "start_time": "2022-12-17T20:52:17.246Z"
      },
      {
        "duration": 6,
        "start_time": "2022-12-17T20:52:17.278Z"
      },
      {
        "duration": 23,
        "start_time": "2022-12-17T20:52:17.286Z"
      },
      {
        "duration": 15,
        "start_time": "2022-12-17T20:52:17.312Z"
      },
      {
        "duration": 5,
        "start_time": "2022-12-17T20:52:17.329Z"
      },
      {
        "duration": 10,
        "start_time": "2022-12-17T20:52:17.335Z"
      },
      {
        "duration": 41,
        "start_time": "2022-12-17T20:52:17.347Z"
      },
      {
        "duration": 11,
        "start_time": "2022-12-17T20:52:17.390Z"
      },
      {
        "duration": 5,
        "start_time": "2022-12-17T20:52:17.403Z"
      },
      {
        "duration": 12,
        "start_time": "2022-12-17T20:52:17.410Z"
      },
      {
        "duration": 13,
        "start_time": "2022-12-17T20:52:17.423Z"
      },
      {
        "duration": 39,
        "start_time": "2022-12-17T20:52:17.438Z"
      },
      {
        "duration": 6,
        "start_time": "2022-12-17T20:52:17.479Z"
      },
      {
        "duration": 7,
        "start_time": "2022-12-17T20:52:17.487Z"
      },
      {
        "duration": 29,
        "start_time": "2022-12-17T20:52:17.496Z"
      },
      {
        "duration": 24,
        "start_time": "2022-12-17T20:52:17.526Z"
      },
      {
        "duration": 31,
        "start_time": "2022-12-17T20:52:17.551Z"
      },
      {
        "duration": 26,
        "start_time": "2022-12-17T20:52:17.583Z"
      },
      {
        "duration": 16,
        "start_time": "2022-12-17T20:52:56.626Z"
      },
      {
        "duration": 7,
        "start_time": "2022-12-17T20:53:35.421Z"
      },
      {
        "duration": 13,
        "start_time": "2022-12-17T20:53:40.215Z"
      },
      {
        "duration": 10,
        "start_time": "2022-12-17T20:54:02.556Z"
      },
      {
        "duration": 4,
        "start_time": "2022-12-17T20:57:00.563Z"
      },
      {
        "duration": 27,
        "start_time": "2022-12-17T20:57:07.769Z"
      },
      {
        "duration": 57,
        "start_time": "2022-12-17T23:01:27.255Z"
      },
      {
        "duration": 44,
        "start_time": "2022-12-17T23:01:38.269Z"
      },
      {
        "duration": 43,
        "start_time": "2022-12-17T23:02:04.829Z"
      },
      {
        "duration": 426,
        "start_time": "2022-12-17T23:02:12.233Z"
      },
      {
        "duration": 5,
        "start_time": "2022-12-17T23:11:08.320Z"
      },
      {
        "duration": 15,
        "start_time": "2022-12-17T23:11:10.944Z"
      },
      {
        "duration": 11,
        "start_time": "2022-12-17T23:11:33.779Z"
      },
      {
        "duration": 15,
        "start_time": "2022-12-17T23:12:01.244Z"
      },
      {
        "duration": 11,
        "start_time": "2022-12-17T23:12:32.141Z"
      },
      {
        "duration": 13,
        "start_time": "2022-12-17T23:12:38.617Z"
      },
      {
        "duration": 423,
        "start_time": "2022-12-17T23:12:54.064Z"
      },
      {
        "duration": 128,
        "start_time": "2022-12-17T23:12:54.488Z"
      },
      {
        "duration": 22,
        "start_time": "2022-12-17T23:12:54.618Z"
      },
      {
        "duration": 8,
        "start_time": "2022-12-17T23:12:54.642Z"
      },
      {
        "duration": 19,
        "start_time": "2022-12-17T23:12:54.652Z"
      },
      {
        "duration": 10,
        "start_time": "2022-12-17T23:12:54.672Z"
      },
      {
        "duration": 23,
        "start_time": "2022-12-17T23:12:54.684Z"
      },
      {
        "duration": 6,
        "start_time": "2022-12-17T23:12:54.709Z"
      },
      {
        "duration": 7,
        "start_time": "2022-12-17T23:12:54.716Z"
      },
      {
        "duration": 11,
        "start_time": "2022-12-17T23:12:54.725Z"
      },
      {
        "duration": 10,
        "start_time": "2022-12-17T23:12:54.737Z"
      },
      {
        "duration": 32,
        "start_time": "2022-12-17T23:12:54.748Z"
      },
      {
        "duration": 13,
        "start_time": "2022-12-17T23:12:54.782Z"
      },
      {
        "duration": 15,
        "start_time": "2022-12-17T23:12:54.797Z"
      },
      {
        "duration": 5,
        "start_time": "2022-12-17T23:12:54.814Z"
      },
      {
        "duration": 9,
        "start_time": "2022-12-17T23:12:54.820Z"
      },
      {
        "duration": 15,
        "start_time": "2022-12-17T23:12:54.830Z"
      },
      {
        "duration": 37,
        "start_time": "2022-12-17T23:12:54.846Z"
      },
      {
        "duration": 5,
        "start_time": "2022-12-17T23:12:54.885Z"
      },
      {
        "duration": 10,
        "start_time": "2022-12-17T23:12:54.891Z"
      },
      {
        "duration": 9,
        "start_time": "2022-12-17T23:12:54.903Z"
      },
      {
        "duration": 9,
        "start_time": "2022-12-17T23:12:54.914Z"
      },
      {
        "duration": 10,
        "start_time": "2022-12-17T23:12:54.925Z"
      },
      {
        "duration": 7,
        "start_time": "2022-12-17T23:12:54.936Z"
      },
      {
        "duration": 27,
        "start_time": "2022-12-17T23:12:54.977Z"
      },
      {
        "duration": 24,
        "start_time": "2022-12-17T23:12:55.006Z"
      },
      {
        "duration": 46,
        "start_time": "2022-12-17T23:12:55.032Z"
      },
      {
        "duration": 21,
        "start_time": "2022-12-17T23:12:55.082Z"
      },
      {
        "duration": 4,
        "start_time": "2022-12-17T23:12:55.105Z"
      },
      {
        "duration": 32,
        "start_time": "2022-12-17T23:12:55.111Z"
      },
      {
        "duration": 8,
        "start_time": "2022-12-17T23:13:37.241Z"
      },
      {
        "duration": 5,
        "start_time": "2022-12-17T23:22:41.563Z"
      },
      {
        "duration": 65,
        "start_time": "2022-12-17T23:23:03.653Z"
      },
      {
        "duration": 6,
        "start_time": "2022-12-17T23:23:19.369Z"
      },
      {
        "duration": 5,
        "start_time": "2022-12-17T23:23:42.792Z"
      },
      {
        "duration": 6,
        "start_time": "2022-12-17T23:24:13.015Z"
      },
      {
        "duration": 14,
        "start_time": "2022-12-17T23:36:05.326Z"
      },
      {
        "duration": 119,
        "start_time": "2022-12-17T23:36:13.736Z"
      },
      {
        "duration": 424,
        "start_time": "2022-12-17T23:36:21.348Z"
      },
      {
        "duration": 124,
        "start_time": "2022-12-17T23:36:21.775Z"
      },
      {
        "duration": 21,
        "start_time": "2022-12-17T23:36:21.901Z"
      },
      {
        "duration": 12,
        "start_time": "2022-12-17T23:36:21.923Z"
      },
      {
        "duration": 31,
        "start_time": "2022-12-17T23:36:21.937Z"
      },
      {
        "duration": 10,
        "start_time": "2022-12-17T23:36:21.970Z"
      },
      {
        "duration": 29,
        "start_time": "2022-12-17T23:36:21.982Z"
      },
      {
        "duration": 6,
        "start_time": "2022-12-17T23:36:22.013Z"
      },
      {
        "duration": 16,
        "start_time": "2022-12-17T23:36:22.021Z"
      },
      {
        "duration": 9,
        "start_time": "2022-12-17T23:36:22.039Z"
      },
      {
        "duration": 11,
        "start_time": "2022-12-17T23:36:22.049Z"
      },
      {
        "duration": 4,
        "start_time": "2022-12-17T23:36:22.061Z"
      },
      {
        "duration": 12,
        "start_time": "2022-12-17T23:36:22.077Z"
      },
      {
        "duration": 13,
        "start_time": "2022-12-17T23:36:22.092Z"
      },
      {
        "duration": 4,
        "start_time": "2022-12-17T23:36:22.107Z"
      },
      {
        "duration": 17,
        "start_time": "2022-12-17T23:36:22.113Z"
      },
      {
        "duration": 16,
        "start_time": "2022-12-17T23:36:22.132Z"
      },
      {
        "duration": 33,
        "start_time": "2022-12-17T23:36:22.150Z"
      },
      {
        "duration": 4,
        "start_time": "2022-12-17T23:36:22.184Z"
      },
      {
        "duration": 10,
        "start_time": "2022-12-17T23:36:22.190Z"
      },
      {
        "duration": 9,
        "start_time": "2022-12-17T23:36:22.202Z"
      },
      {
        "duration": 9,
        "start_time": "2022-12-17T23:36:22.213Z"
      },
      {
        "duration": 9,
        "start_time": "2022-12-17T23:36:22.223Z"
      },
      {
        "duration": 7,
        "start_time": "2022-12-17T23:36:22.233Z"
      },
      {
        "duration": 49,
        "start_time": "2022-12-17T23:36:22.241Z"
      },
      {
        "duration": 23,
        "start_time": "2022-12-17T23:36:22.292Z"
      },
      {
        "duration": 5,
        "start_time": "2022-12-17T23:36:22.316Z"
      },
      {
        "duration": 16,
        "start_time": "2022-12-17T23:36:22.323Z"
      },
      {
        "duration": 3,
        "start_time": "2022-12-17T23:36:22.341Z"
      },
      {
        "duration": 51,
        "start_time": "2022-12-17T23:36:22.346Z"
      },
      {
        "duration": 371,
        "start_time": "2022-12-17T23:38:12.024Z"
      },
      {
        "duration": 125,
        "start_time": "2022-12-17T23:38:12.397Z"
      },
      {
        "duration": 20,
        "start_time": "2022-12-17T23:38:12.524Z"
      },
      {
        "duration": 7,
        "start_time": "2022-12-17T23:38:12.546Z"
      },
      {
        "duration": 19,
        "start_time": "2022-12-17T23:38:12.555Z"
      },
      {
        "duration": 12,
        "start_time": "2022-12-17T23:38:12.576Z"
      },
      {
        "duration": 23,
        "start_time": "2022-12-17T23:38:12.589Z"
      },
      {
        "duration": 5,
        "start_time": "2022-12-17T23:38:12.614Z"
      },
      {
        "duration": 8,
        "start_time": "2022-12-17T23:38:12.620Z"
      },
      {
        "duration": 9,
        "start_time": "2022-12-17T23:38:12.630Z"
      },
      {
        "duration": 37,
        "start_time": "2022-12-17T23:38:12.641Z"
      },
      {
        "duration": 7,
        "start_time": "2022-12-17T23:38:12.680Z"
      },
      {
        "duration": 11,
        "start_time": "2022-12-17T23:38:12.688Z"
      },
      {
        "duration": 17,
        "start_time": "2022-12-17T23:38:12.700Z"
      },
      {
        "duration": 15,
        "start_time": "2022-12-17T23:38:12.719Z"
      },
      {
        "duration": 5,
        "start_time": "2022-12-17T23:38:12.736Z"
      },
      {
        "duration": 11,
        "start_time": "2022-12-17T23:38:12.742Z"
      },
      {
        "duration": 39,
        "start_time": "2022-12-17T23:38:12.754Z"
      },
      {
        "duration": 11,
        "start_time": "2022-12-17T23:38:12.794Z"
      },
      {
        "duration": 5,
        "start_time": "2022-12-17T23:38:12.806Z"
      },
      {
        "duration": 11,
        "start_time": "2022-12-17T23:38:12.813Z"
      },
      {
        "duration": 10,
        "start_time": "2022-12-17T23:38:12.825Z"
      },
      {
        "duration": 11,
        "start_time": "2022-12-17T23:38:12.837Z"
      },
      {
        "duration": 33,
        "start_time": "2022-12-17T23:38:12.850Z"
      },
      {
        "duration": 8,
        "start_time": "2022-12-17T23:38:12.885Z"
      },
      {
        "duration": 29,
        "start_time": "2022-12-17T23:38:12.895Z"
      },
      {
        "duration": 29,
        "start_time": "2022-12-17T23:38:12.926Z"
      },
      {
        "duration": 23,
        "start_time": "2022-12-17T23:38:12.958Z"
      },
      {
        "duration": 18,
        "start_time": "2022-12-17T23:38:12.983Z"
      },
      {
        "duration": 4,
        "start_time": "2022-12-17T23:38:13.002Z"
      },
      {
        "duration": 29,
        "start_time": "2022-12-17T23:38:13.007Z"
      },
      {
        "duration": 67,
        "start_time": "2022-12-17T23:41:06.713Z"
      },
      {
        "duration": 367,
        "start_time": "2022-12-17T23:45:20.235Z"
      },
      {
        "duration": 128,
        "start_time": "2022-12-17T23:45:20.604Z"
      },
      {
        "duration": 23,
        "start_time": "2022-12-17T23:45:20.734Z"
      },
      {
        "duration": 8,
        "start_time": "2022-12-17T23:45:20.758Z"
      },
      {
        "duration": 28,
        "start_time": "2022-12-17T23:45:20.769Z"
      },
      {
        "duration": 17,
        "start_time": "2022-12-17T23:45:20.799Z"
      },
      {
        "duration": 29,
        "start_time": "2022-12-17T23:45:20.817Z"
      },
      {
        "duration": 6,
        "start_time": "2022-12-17T23:45:20.848Z"
      },
      {
        "duration": 17,
        "start_time": "2022-12-17T23:45:20.856Z"
      },
      {
        "duration": 21,
        "start_time": "2022-12-17T23:45:20.875Z"
      },
      {
        "duration": 34,
        "start_time": "2022-12-17T23:45:20.898Z"
      },
      {
        "duration": 76,
        "start_time": "2022-12-17T23:45:20.934Z"
      },
      {
        "duration": 0,
        "start_time": "2022-12-17T23:45:21.012Z"
      },
      {
        "duration": 0,
        "start_time": "2022-12-17T23:45:21.013Z"
      },
      {
        "duration": 11,
        "start_time": "2022-12-17T23:46:59.144Z"
      },
      {
        "duration": 12,
        "start_time": "2022-12-17T23:47:09.017Z"
      },
      {
        "duration": 7,
        "start_time": "2022-12-17T23:48:34.037Z"
      },
      {
        "duration": 13,
        "start_time": "2022-12-17T23:49:02.210Z"
      },
      {
        "duration": 36,
        "start_time": "2022-12-17T23:51:28.976Z"
      },
      {
        "duration": 17,
        "start_time": "2022-12-17T23:52:28.093Z"
      },
      {
        "duration": 17,
        "start_time": "2022-12-17T23:53:21.610Z"
      },
      {
        "duration": 8,
        "start_time": "2022-12-17T23:55:01.075Z"
      },
      {
        "duration": 9,
        "start_time": "2022-12-17T23:55:08.600Z"
      },
      {
        "duration": 16,
        "start_time": "2022-12-18T00:01:21.017Z"
      },
      {
        "duration": 11,
        "start_time": "2022-12-18T00:01:30.094Z"
      },
      {
        "duration": 9,
        "start_time": "2022-12-18T00:05:10.089Z"
      },
      {
        "duration": 17,
        "start_time": "2022-12-18T00:05:20.240Z"
      },
      {
        "duration": 23,
        "start_time": "2022-12-18T00:05:58.289Z"
      },
      {
        "duration": 4,
        "start_time": "2022-12-18T00:06:45.093Z"
      },
      {
        "duration": 21,
        "start_time": "2022-12-18T00:07:02.395Z"
      },
      {
        "duration": 47,
        "start_time": "2022-12-18T00:17:18.492Z"
      },
      {
        "duration": 74,
        "start_time": "2022-12-18T00:20:05.759Z"
      },
      {
        "duration": 49,
        "start_time": "2022-12-18T00:25:17.393Z"
      },
      {
        "duration": 47,
        "start_time": "2022-12-18T00:26:08.135Z"
      },
      {
        "duration": 3,
        "start_time": "2022-12-18T00:28:51.978Z"
      },
      {
        "duration": 3,
        "start_time": "2022-12-18T00:29:13.713Z"
      },
      {
        "duration": 43,
        "start_time": "2022-12-18T00:29:24.889Z"
      },
      {
        "duration": 10,
        "start_time": "2022-12-18T00:30:16.266Z"
      },
      {
        "duration": 28,
        "start_time": "2022-12-18T00:30:35.267Z"
      },
      {
        "duration": 23,
        "start_time": "2022-12-18T00:32:12.940Z"
      },
      {
        "duration": 18,
        "start_time": "2022-12-18T00:32:52.459Z"
      },
      {
        "duration": 6,
        "start_time": "2022-12-18T00:33:30.997Z"
      },
      {
        "duration": 13,
        "start_time": "2022-12-18T00:33:48.128Z"
      },
      {
        "duration": 66,
        "start_time": "2022-12-18T00:35:24.120Z"
      },
      {
        "duration": 63,
        "start_time": "2022-12-18T00:35:33.302Z"
      },
      {
        "duration": 4,
        "start_time": "2022-12-18T00:35:47.396Z"
      },
      {
        "duration": 9,
        "start_time": "2022-12-18T00:35:53.669Z"
      },
      {
        "duration": 5,
        "start_time": "2022-12-18T00:36:32.057Z"
      },
      {
        "duration": 5,
        "start_time": "2022-12-18T00:36:38.427Z"
      },
      {
        "duration": 5,
        "start_time": "2022-12-18T00:38:06.695Z"
      },
      {
        "duration": 8,
        "start_time": "2022-12-18T00:38:15.340Z"
      },
      {
        "duration": 396,
        "start_time": "2022-12-18T00:38:24.293Z"
      },
      {
        "duration": 127,
        "start_time": "2022-12-18T00:38:24.691Z"
      },
      {
        "duration": 23,
        "start_time": "2022-12-18T00:38:24.820Z"
      },
      {
        "duration": 23,
        "start_time": "2022-12-18T00:38:24.844Z"
      },
      {
        "duration": 33,
        "start_time": "2022-12-18T00:38:24.870Z"
      },
      {
        "duration": 14,
        "start_time": "2022-12-18T00:38:24.905Z"
      },
      {
        "duration": 41,
        "start_time": "2022-12-18T00:38:24.921Z"
      },
      {
        "duration": 15,
        "start_time": "2022-12-18T00:38:24.963Z"
      },
      {
        "duration": 33,
        "start_time": "2022-12-18T00:38:24.979Z"
      },
      {
        "duration": 20,
        "start_time": "2022-12-18T00:38:25.014Z"
      },
      {
        "duration": 45,
        "start_time": "2022-12-18T00:38:25.036Z"
      },
      {
        "duration": 24,
        "start_time": "2022-12-18T00:38:25.083Z"
      },
      {
        "duration": 35,
        "start_time": "2022-12-18T00:38:25.109Z"
      },
      {
        "duration": 43,
        "start_time": "2022-12-18T00:38:25.147Z"
      },
      {
        "duration": 16,
        "start_time": "2022-12-18T00:38:25.192Z"
      },
      {
        "duration": 39,
        "start_time": "2022-12-18T00:38:25.209Z"
      },
      {
        "duration": 21,
        "start_time": "2022-12-18T00:38:25.249Z"
      },
      {
        "duration": 16,
        "start_time": "2022-12-18T00:38:25.272Z"
      },
      {
        "duration": 16,
        "start_time": "2022-12-18T00:38:25.290Z"
      },
      {
        "duration": 3,
        "start_time": "2022-12-18T00:38:25.308Z"
      },
      {
        "duration": 46,
        "start_time": "2022-12-18T00:38:25.313Z"
      },
      {
        "duration": 3,
        "start_time": "2022-12-18T00:38:25.360Z"
      },
      {
        "duration": 6,
        "start_time": "2022-12-18T00:38:25.365Z"
      },
      {
        "duration": 41,
        "start_time": "2022-12-18T00:38:25.372Z"
      },
      {
        "duration": 27,
        "start_time": "2022-12-18T00:38:25.415Z"
      },
      {
        "duration": 37,
        "start_time": "2022-12-18T00:38:25.444Z"
      },
      {
        "duration": 17,
        "start_time": "2022-12-18T00:38:25.483Z"
      },
      {
        "duration": 9,
        "start_time": "2022-12-18T00:38:25.503Z"
      },
      {
        "duration": 19,
        "start_time": "2022-12-18T00:38:25.514Z"
      },
      {
        "duration": 94,
        "start_time": "2022-12-18T00:38:25.535Z"
      },
      {
        "duration": 5,
        "start_time": "2022-12-18T00:38:25.631Z"
      },
      {
        "duration": 6,
        "start_time": "2022-12-18T00:38:25.638Z"
      },
      {
        "duration": 7,
        "start_time": "2022-12-18T00:38:25.646Z"
      },
      {
        "duration": 10,
        "start_time": "2022-12-18T00:38:25.678Z"
      },
      {
        "duration": 6,
        "start_time": "2022-12-18T00:38:25.690Z"
      },
      {
        "duration": 35,
        "start_time": "2022-12-18T00:38:25.698Z"
      },
      {
        "duration": 27,
        "start_time": "2022-12-18T00:39:55.142Z"
      },
      {
        "duration": 67,
        "start_time": "2022-12-18T00:42:10.407Z"
      },
      {
        "duration": 830,
        "start_time": "2022-12-18T00:43:33.714Z"
      },
      {
        "duration": 29,
        "start_time": "2022-12-18T00:43:39.753Z"
      },
      {
        "duration": 5,
        "start_time": "2022-12-18T00:44:34.191Z"
      },
      {
        "duration": 26,
        "start_time": "2022-12-18T00:44:36.429Z"
      },
      {
        "duration": 4,
        "start_time": "2022-12-18T00:44:40.639Z"
      },
      {
        "duration": 13,
        "start_time": "2022-12-18T00:44:52.163Z"
      },
      {
        "duration": 31,
        "start_time": "2022-12-18T00:45:54.409Z"
      },
      {
        "duration": 51,
        "start_time": "2022-12-18T00:50:09.379Z"
      },
      {
        "duration": 18,
        "start_time": "2022-12-18T00:50:26.346Z"
      },
      {
        "duration": 417,
        "start_time": "2022-12-18T00:52:42.178Z"
      },
      {
        "duration": 128,
        "start_time": "2022-12-18T00:52:42.597Z"
      },
      {
        "duration": 23,
        "start_time": "2022-12-18T00:52:42.726Z"
      },
      {
        "duration": 12,
        "start_time": "2022-12-18T00:52:42.751Z"
      },
      {
        "duration": 20,
        "start_time": "2022-12-18T00:52:42.766Z"
      },
      {
        "duration": 12,
        "start_time": "2022-12-18T00:52:42.787Z"
      },
      {
        "duration": 24,
        "start_time": "2022-12-18T00:52:42.800Z"
      },
      {
        "duration": 5,
        "start_time": "2022-12-18T00:52:42.826Z"
      },
      {
        "duration": 5,
        "start_time": "2022-12-18T00:52:42.833Z"
      },
      {
        "duration": 8,
        "start_time": "2022-12-18T00:52:42.840Z"
      },
      {
        "duration": 19,
        "start_time": "2022-12-18T00:52:42.877Z"
      },
      {
        "duration": 14,
        "start_time": "2022-12-18T00:52:42.898Z"
      },
      {
        "duration": 17,
        "start_time": "2022-12-18T00:52:42.913Z"
      },
      {
        "duration": 54,
        "start_time": "2022-12-18T00:52:42.934Z"
      },
      {
        "duration": 17,
        "start_time": "2022-12-18T00:52:42.989Z"
      },
      {
        "duration": 16,
        "start_time": "2022-12-18T00:52:43.008Z"
      },
      {
        "duration": 13,
        "start_time": "2022-12-18T00:52:43.025Z"
      },
      {
        "duration": 44,
        "start_time": "2022-12-18T00:52:43.040Z"
      },
      {
        "duration": 20,
        "start_time": "2022-12-18T00:52:43.086Z"
      },
      {
        "duration": 4,
        "start_time": "2022-12-18T00:52:43.107Z"
      },
      {
        "duration": 30,
        "start_time": "2022-12-18T00:52:43.112Z"
      },
      {
        "duration": 5,
        "start_time": "2022-12-18T00:52:43.143Z"
      },
      {
        "duration": 30,
        "start_time": "2022-12-18T00:52:43.149Z"
      },
      {
        "duration": 43,
        "start_time": "2022-12-18T00:52:43.181Z"
      },
      {
        "duration": 27,
        "start_time": "2022-12-18T00:52:43.226Z"
      },
      {
        "duration": 35,
        "start_time": "2022-12-18T00:52:43.255Z"
      },
      {
        "duration": 27,
        "start_time": "2022-12-18T00:52:43.292Z"
      },
      {
        "duration": 5,
        "start_time": "2022-12-18T00:52:43.321Z"
      },
      {
        "duration": 18,
        "start_time": "2022-12-18T00:52:43.328Z"
      },
      {
        "duration": 95,
        "start_time": "2022-12-18T00:52:43.348Z"
      },
      {
        "duration": 6,
        "start_time": "2022-12-18T00:52:43.444Z"
      },
      {
        "duration": 21,
        "start_time": "2022-12-18T00:52:43.451Z"
      },
      {
        "duration": 14,
        "start_time": "2022-12-18T00:52:43.477Z"
      },
      {
        "duration": 11,
        "start_time": "2022-12-18T00:52:43.493Z"
      },
      {
        "duration": 30,
        "start_time": "2022-12-18T00:52:43.506Z"
      },
      {
        "duration": 677,
        "start_time": "2022-12-18T00:52:43.538Z"
      },
      {
        "duration": 30,
        "start_time": "2022-12-18T00:52:44.217Z"
      },
      {
        "duration": 5,
        "start_time": "2022-12-18T00:52:44.249Z"
      },
      {
        "duration": 53,
        "start_time": "2022-12-18T00:52:44.255Z"
      },
      {
        "duration": 3,
        "start_time": "2022-12-18T00:52:44.310Z"
      },
      {
        "duration": 22,
        "start_time": "2022-12-18T00:52:44.317Z"
      },
      {
        "duration": 107,
        "start_time": "2022-12-18T00:52:44.341Z"
      },
      {
        "duration": 18,
        "start_time": "2022-12-18T00:52:57.396Z"
      },
      {
        "duration": 17,
        "start_time": "2022-12-18T00:54:23.939Z"
      },
      {
        "duration": 12,
        "start_time": "2022-12-18T00:58:45.762Z"
      },
      {
        "duration": 739,
        "start_time": "2022-12-18T00:58:54.348Z"
      },
      {
        "duration": 14,
        "start_time": "2022-12-18T00:59:21.758Z"
      },
      {
        "duration": 12,
        "start_time": "2022-12-18T00:59:36.527Z"
      },
      {
        "duration": 12,
        "start_time": "2022-12-18T01:00:34.058Z"
      },
      {
        "duration": 170,
        "start_time": "2022-12-18T01:01:03.463Z"
      },
      {
        "duration": 139,
        "start_time": "2022-12-18T01:01:24.353Z"
      },
      {
        "duration": 159,
        "start_time": "2022-12-18T01:01:45.220Z"
      },
      {
        "duration": 193,
        "start_time": "2022-12-18T01:02:12.099Z"
      },
      {
        "duration": 5,
        "start_time": "2022-12-18T01:02:32.336Z"
      },
      {
        "duration": 246,
        "start_time": "2022-12-18T01:03:36.774Z"
      },
      {
        "duration": 11,
        "start_time": "2022-12-18T01:04:57.057Z"
      },
      {
        "duration": 8,
        "start_time": "2022-12-18T01:05:21.997Z"
      },
      {
        "duration": 10,
        "start_time": "2022-12-18T01:05:26.137Z"
      },
      {
        "duration": 269,
        "start_time": "2022-12-18T01:05:53.739Z"
      },
      {
        "duration": 211,
        "start_time": "2022-12-18T01:06:02.837Z"
      },
      {
        "duration": 287,
        "start_time": "2022-12-18T01:06:12.467Z"
      },
      {
        "duration": 281,
        "start_time": "2022-12-18T01:06:24.129Z"
      },
      {
        "duration": 246,
        "start_time": "2022-12-18T01:06:32.413Z"
      },
      {
        "duration": 231,
        "start_time": "2022-12-18T01:06:40.169Z"
      },
      {
        "duration": 10,
        "start_time": "2022-12-18T01:23:49.133Z"
      },
      {
        "duration": 164,
        "start_time": "2022-12-18T01:25:00.715Z"
      },
      {
        "duration": 12,
        "start_time": "2022-12-18T01:25:19.071Z"
      },
      {
        "duration": 11,
        "start_time": "2022-12-18T01:25:43.485Z"
      },
      {
        "duration": 441,
        "start_time": "2022-12-18T11:39:05.943Z"
      },
      {
        "duration": 152,
        "start_time": "2022-12-18T11:39:06.389Z"
      },
      {
        "duration": 41,
        "start_time": "2022-12-18T11:39:06.544Z"
      },
      {
        "duration": 11,
        "start_time": "2022-12-18T11:39:06.593Z"
      },
      {
        "duration": 20,
        "start_time": "2022-12-18T11:39:06.606Z"
      },
      {
        "duration": 10,
        "start_time": "2022-12-18T11:39:06.628Z"
      },
      {
        "duration": 39,
        "start_time": "2022-12-18T11:39:06.640Z"
      },
      {
        "duration": 11,
        "start_time": "2022-12-18T11:39:06.684Z"
      },
      {
        "duration": 6,
        "start_time": "2022-12-18T11:39:06.697Z"
      },
      {
        "duration": 7,
        "start_time": "2022-12-18T11:39:06.705Z"
      },
      {
        "duration": 19,
        "start_time": "2022-12-18T11:39:06.713Z"
      },
      {
        "duration": 11,
        "start_time": "2022-12-18T11:39:06.734Z"
      },
      {
        "duration": 53,
        "start_time": "2022-12-18T11:39:06.746Z"
      },
      {
        "duration": 35,
        "start_time": "2022-12-18T11:39:06.802Z"
      },
      {
        "duration": 25,
        "start_time": "2022-12-18T11:39:06.839Z"
      },
      {
        "duration": 48,
        "start_time": "2022-12-18T11:39:06.868Z"
      },
      {
        "duration": 12,
        "start_time": "2022-12-18T11:39:06.918Z"
      },
      {
        "duration": 26,
        "start_time": "2022-12-18T11:39:06.932Z"
      },
      {
        "duration": 52,
        "start_time": "2022-12-18T11:39:06.960Z"
      },
      {
        "duration": 23,
        "start_time": "2022-12-18T11:39:07.014Z"
      },
      {
        "duration": 54,
        "start_time": "2022-12-18T11:39:07.040Z"
      },
      {
        "duration": 14,
        "start_time": "2022-12-18T11:39:07.096Z"
      },
      {
        "duration": 8,
        "start_time": "2022-12-18T11:39:07.112Z"
      },
      {
        "duration": 53,
        "start_time": "2022-12-18T11:39:07.122Z"
      },
      {
        "duration": 36,
        "start_time": "2022-12-18T11:39:07.180Z"
      },
      {
        "duration": 20,
        "start_time": "2022-12-18T11:39:07.218Z"
      },
      {
        "duration": 42,
        "start_time": "2022-12-18T11:39:07.241Z"
      },
      {
        "duration": 11,
        "start_time": "2022-12-18T11:39:07.284Z"
      },
      {
        "duration": 15,
        "start_time": "2022-12-18T11:39:07.297Z"
      },
      {
        "duration": 88,
        "start_time": "2022-12-18T11:39:07.314Z"
      },
      {
        "duration": 5,
        "start_time": "2022-12-18T11:39:07.403Z"
      },
      {
        "duration": 7,
        "start_time": "2022-12-18T11:39:07.410Z"
      },
      {
        "duration": 8,
        "start_time": "2022-12-18T11:39:07.419Z"
      },
      {
        "duration": 37,
        "start_time": "2022-12-18T11:39:07.429Z"
      },
      {
        "duration": 45,
        "start_time": "2022-12-18T11:39:07.470Z"
      },
      {
        "duration": 704,
        "start_time": "2022-12-18T11:39:07.517Z"
      },
      {
        "duration": 48,
        "start_time": "2022-12-18T11:39:08.223Z"
      },
      {
        "duration": 5,
        "start_time": "2022-12-18T11:39:08.278Z"
      },
      {
        "duration": 28,
        "start_time": "2022-12-18T11:39:08.285Z"
      },
      {
        "duration": 4,
        "start_time": "2022-12-18T11:39:08.315Z"
      },
      {
        "duration": 12,
        "start_time": "2022-12-18T11:39:08.324Z"
      },
      {
        "duration": 19,
        "start_time": "2022-12-18T11:39:08.357Z"
      },
      {
        "duration": 180,
        "start_time": "2022-12-18T11:39:08.386Z"
      },
      {
        "duration": 137,
        "start_time": "2022-12-18T11:39:08.573Z"
      },
      {
        "duration": 183,
        "start_time": "2022-12-18T11:39:08.712Z"
      },
      {
        "duration": 11,
        "start_time": "2022-12-18T11:39:08.897Z"
      },
      {
        "duration": 327,
        "start_time": "2022-12-18T11:39:08.910Z"
      },
      {
        "duration": 22,
        "start_time": "2022-12-18T11:39:09.239Z"
      },
      {
        "duration": 284,
        "start_time": "2022-12-18T11:39:09.263Z"
      },
      {
        "duration": 237,
        "start_time": "2022-12-18T11:39:09.549Z"
      },
      {
        "duration": 317,
        "start_time": "2022-12-18T11:39:09.787Z"
      },
      {
        "duration": 318,
        "start_time": "2022-12-18T11:39:10.106Z"
      },
      {
        "duration": 279,
        "start_time": "2022-12-18T11:39:10.426Z"
      },
      {
        "duration": 279,
        "start_time": "2022-12-18T11:39:10.706Z"
      },
      {
        "duration": 19,
        "start_time": "2022-12-18T11:40:40.745Z"
      },
      {
        "duration": 432,
        "start_time": "2022-12-18T12:07:40.938Z"
      },
      {
        "duration": 223,
        "start_time": "2022-12-18T12:07:41.372Z"
      },
      {
        "duration": 21,
        "start_time": "2022-12-18T12:07:41.597Z"
      },
      {
        "duration": 7,
        "start_time": "2022-12-18T12:07:41.620Z"
      },
      {
        "duration": 17,
        "start_time": "2022-12-18T12:07:41.628Z"
      },
      {
        "duration": 9,
        "start_time": "2022-12-18T12:07:41.646Z"
      },
      {
        "duration": 24,
        "start_time": "2022-12-18T12:07:41.656Z"
      },
      {
        "duration": 32,
        "start_time": "2022-12-18T12:07:41.681Z"
      },
      {
        "duration": 5,
        "start_time": "2022-12-18T12:07:41.714Z"
      },
      {
        "duration": 8,
        "start_time": "2022-12-18T12:07:41.722Z"
      },
      {
        "duration": 24,
        "start_time": "2022-12-18T12:07:41.732Z"
      },
      {
        "duration": 18,
        "start_time": "2022-12-18T12:07:41.758Z"
      },
      {
        "duration": 43,
        "start_time": "2022-12-18T12:07:41.777Z"
      },
      {
        "duration": 39,
        "start_time": "2022-12-18T12:07:41.822Z"
      },
      {
        "duration": 17,
        "start_time": "2022-12-18T12:07:41.862Z"
      },
      {
        "duration": 38,
        "start_time": "2022-12-18T12:07:41.881Z"
      },
      {
        "duration": 17,
        "start_time": "2022-12-18T12:07:41.921Z"
      },
      {
        "duration": 18,
        "start_time": "2022-12-18T12:07:41.939Z"
      },
      {
        "duration": 18,
        "start_time": "2022-12-18T12:07:41.958Z"
      },
      {
        "duration": 3,
        "start_time": "2022-12-18T12:07:41.978Z"
      },
      {
        "duration": 20,
        "start_time": "2022-12-18T12:07:42.012Z"
      },
      {
        "duration": 6,
        "start_time": "2022-12-18T12:07:42.033Z"
      },
      {
        "duration": 7,
        "start_time": "2022-12-18T12:07:42.040Z"
      },
      {
        "duration": 44,
        "start_time": "2022-12-18T12:07:42.049Z"
      },
      {
        "duration": 42,
        "start_time": "2022-12-18T12:07:42.095Z"
      },
      {
        "duration": 25,
        "start_time": "2022-12-18T12:07:42.139Z"
      },
      {
        "duration": 21,
        "start_time": "2022-12-18T12:07:42.166Z"
      },
      {
        "duration": 6,
        "start_time": "2022-12-18T12:07:42.214Z"
      },
      {
        "duration": 13,
        "start_time": "2022-12-18T12:07:42.221Z"
      },
      {
        "duration": 80,
        "start_time": "2022-12-18T12:07:42.236Z"
      },
      {
        "duration": 5,
        "start_time": "2022-12-18T12:07:42.318Z"
      },
      {
        "duration": 7,
        "start_time": "2022-12-18T12:07:42.325Z"
      },
      {
        "duration": 6,
        "start_time": "2022-12-18T12:07:42.334Z"
      },
      {
        "duration": 11,
        "start_time": "2022-12-18T12:07:42.342Z"
      },
      {
        "duration": 29,
        "start_time": "2022-12-18T12:07:42.354Z"
      },
      {
        "duration": 809,
        "start_time": "2022-12-18T12:07:42.412Z"
      },
      {
        "duration": 29,
        "start_time": "2022-12-18T12:07:43.223Z"
      },
      {
        "duration": 6,
        "start_time": "2022-12-18T12:07:43.254Z"
      },
      {
        "duration": 51,
        "start_time": "2022-12-18T12:07:43.262Z"
      },
      {
        "duration": 4,
        "start_time": "2022-12-18T12:07:43.316Z"
      },
      {
        "duration": 21,
        "start_time": "2022-12-18T12:07:43.322Z"
      },
      {
        "duration": 13,
        "start_time": "2022-12-18T12:07:43.345Z"
      },
      {
        "duration": 182,
        "start_time": "2022-12-18T12:07:43.359Z"
      },
      {
        "duration": 146,
        "start_time": "2022-12-18T12:07:43.543Z"
      },
      {
        "duration": 175,
        "start_time": "2022-12-18T12:07:43.691Z"
      },
      {
        "duration": 9,
        "start_time": "2022-12-18T12:07:43.868Z"
      },
      {
        "duration": 348,
        "start_time": "2022-12-18T12:07:43.879Z"
      },
      {
        "duration": 9,
        "start_time": "2022-12-18T12:07:44.229Z"
      },
      {
        "duration": 268,
        "start_time": "2022-12-18T12:07:44.240Z"
      },
      {
        "duration": 237,
        "start_time": "2022-12-18T12:07:44.511Z"
      },
      {
        "duration": 326,
        "start_time": "2022-12-18T12:07:44.750Z"
      },
      {
        "duration": 302,
        "start_time": "2022-12-18T12:07:45.078Z"
      },
      {
        "duration": 269,
        "start_time": "2022-12-18T12:07:45.382Z"
      },
      {
        "duration": 262,
        "start_time": "2022-12-18T12:07:45.653Z"
      },
      {
        "duration": 270,
        "start_time": "2022-12-18T12:08:01.611Z"
      },
      {
        "duration": 236,
        "start_time": "2022-12-18T12:08:11.114Z"
      },
      {
        "duration": 327,
        "start_time": "2022-12-18T12:08:14.138Z"
      },
      {
        "duration": 280,
        "start_time": "2022-12-18T12:08:18.126Z"
      },
      {
        "duration": 273,
        "start_time": "2022-12-18T12:08:23.147Z"
      },
      {
        "duration": 48,
        "start_time": "2022-12-18T12:09:21.560Z"
      },
      {
        "duration": 10,
        "start_time": "2022-12-18T12:10:19.308Z"
      },
      {
        "duration": 201,
        "start_time": "2022-12-18T12:10:46.311Z"
      },
      {
        "duration": 182,
        "start_time": "2022-12-18T12:10:59.311Z"
      },
      {
        "duration": 163,
        "start_time": "2022-12-18T12:11:14.633Z"
      },
      {
        "duration": 26,
        "start_time": "2022-12-18T12:12:50.977Z"
      },
      {
        "duration": 43,
        "start_time": "2022-12-18T12:14:48.480Z"
      },
      {
        "duration": 50,
        "start_time": "2022-12-18T12:17:00.323Z"
      },
      {
        "duration": 57,
        "start_time": "2022-12-18T12:19:55.373Z"
      },
      {
        "duration": 19,
        "start_time": "2022-12-18T12:20:52.293Z"
      },
      {
        "duration": 15,
        "start_time": "2022-12-18T12:20:59.605Z"
      },
      {
        "duration": 11,
        "start_time": "2022-12-18T12:23:22.009Z"
      },
      {
        "duration": 6,
        "start_time": "2022-12-18T12:36:43.631Z"
      },
      {
        "duration": 7,
        "start_time": "2022-12-18T12:36:53.474Z"
      },
      {
        "duration": 32,
        "start_time": "2022-12-18T12:37:02.911Z"
      },
      {
        "duration": 34,
        "start_time": "2022-12-18T12:38:21.215Z"
      },
      {
        "duration": 86,
        "start_time": "2022-12-18T13:00:51.224Z"
      },
      {
        "duration": 174,
        "start_time": "2022-12-18T13:01:11.035Z"
      },
      {
        "duration": 8,
        "start_time": "2022-12-18T13:01:42.824Z"
      },
      {
        "duration": 6,
        "start_time": "2022-12-18T13:01:47.076Z"
      },
      {
        "duration": 9,
        "start_time": "2022-12-18T13:02:36.783Z"
      },
      {
        "duration": 198,
        "start_time": "2022-12-18T13:02:47.530Z"
      },
      {
        "duration": 427,
        "start_time": "2024-05-09T10:04:38.758Z"
      },
      {
        "duration": 127,
        "start_time": "2024-05-09T10:04:39.981Z"
      },
      {
        "duration": 22,
        "start_time": "2024-05-09T10:04:42.478Z"
      },
      {
        "duration": 7,
        "start_time": "2024-05-09T10:04:48.886Z"
      },
      {
        "duration": 17,
        "start_time": "2024-05-09T10:04:52.266Z"
      }
    ],
    "colab": {
      "provenance": [],
      "include_colab_link": true
    },
    "kernelspec": {
      "display_name": "Python 3 (ipykernel)",
      "language": "python",
      "name": "python3"
    },
    "language_info": {
      "codemirror_mode": {
        "name": "ipython",
        "version": 3
      },
      "file_extension": ".py",
      "mimetype": "text/x-python",
      "name": "python",
      "nbconvert_exporter": "python",
      "pygments_lexer": "ipython3",
      "version": "3.9.5"
    },
    "toc": {
      "base_numbering": 1,
      "nav_menu": {},
      "number_sections": true,
      "sideBar": true,
      "skip_h1_title": true,
      "title_cell": "Table of Contents",
      "title_sidebar": "Contents",
      "toc_cell": false,
      "toc_position": {
        "height": "calc(100% - 180px)",
        "left": "10px",
        "top": "150px",
        "width": "375.391px"
      },
      "toc_section_display": true,
      "toc_window_display": false
    }
  },
  "nbformat": 4,
  "nbformat_minor": 0
}